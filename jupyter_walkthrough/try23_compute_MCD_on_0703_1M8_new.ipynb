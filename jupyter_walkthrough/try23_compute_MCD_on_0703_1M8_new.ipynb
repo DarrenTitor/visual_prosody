{
 "cells": [
  {
   "cell_type": "code",
   "execution_count": 15,
   "id": "ccb3215e-19c4-4ca7-94d2-630a5f7da3c3",
   "metadata": {},
   "outputs": [],
   "source": [
    "import os, sys, glob, shutil\n",
    "import argparse\n",
    "import json\n",
    "import yaml\n",
    "import numpy as np\n",
    "from pprint import pprint\n",
    "import os.path as op\n",
    "import torch\n",
    "import yaml\n",
    "import torch.nn as nn\n",
    "from torch.utils.data import DataLoader\n",
    "from torch.utils.tensorboard import SummaryWriter\n",
    "from scipy.io import wavfile\n",
    "from matplotlib import pyplot as plt\n",
    "from tqdm.notebook import tqdm\n",
    "import torch.nn.functional as F\n",
    "import torchaudio\n",
    "import argparse\n",
    "import fnmatch\n",
    "import logging\n",
    "import multiprocessing as mp\n",
    "from typing import Dict, List, Tuple\n",
    "\n",
    "import librosa\n",
    "import pysptk\n",
    "import pyworld as pw\n",
    "import soundfile as sf\n",
    "from fastdtw import fastdtw\n",
    "from scipy import spatial"
   ]
  },
  {
   "cell_type": "code",
   "execution_count": 16,
   "id": "08cb3a98-7ff4-4df6-bf23-862a59675bbe",
   "metadata": {},
   "outputs": [
    {
     "name": "stdout",
     "output_type": "stream",
     "text": [
      "D:\\Schoolwork\\TERM 3\\WORK\\visual_prosody\n"
     ]
    }
   ],
   "source": [
    "%cd \"D:\\Schoolwork\\TERM 3\\WORK\\visual_prosody\""
   ]
  },
  {
   "cell_type": "markdown",
   "id": "fc87f3f0-d384-49e6-80ff-f8ca2cd56121",
   "metadata": {},
   "source": [
    "# MCD on train"
   ]
  },
  {
   "cell_type": "code",
   "execution_count": 17,
   "id": "a27c76f7-2775-4833-a6e7-7842c608ec77",
   "metadata": {},
   "outputs": [],
   "source": [
    "split_txt_train_path = r'.\\preprocessed_data\\Ego4D_final_v6\\train.txt'\n",
    "train_uids = []\n",
    "with open(split_txt_train_path) as file:\n",
    "    for line in file:\n",
    "        # print(line.split('|')[0])\n",
    "        train_uids.append(line.split('|')[0])"
   ]
  },
  {
   "cell_type": "code",
   "execution_count": 18,
   "id": "fcf4be2c-8c46-4eb5-aad3-b0fed4720b3a",
   "metadata": {},
   "outputs": [
    {
     "data": {
      "text/plain": [
       "27292"
      ]
     },
     "execution_count": 18,
     "metadata": {},
     "output_type": "execute_result"
    }
   ],
   "source": [
    "len(train_uids)"
   ]
  },
  {
   "cell_type": "code",
   "execution_count": 19,
   "id": "c173be23-94a6-498d-83d5-180e1d323f02",
   "metadata": {},
   "outputs": [],
   "source": [
    "recon_folder = r'.\\output\\0703a\\result\\Ego4D_final_v6\\train\\wav\\reconstructed'\n",
    "syn_folder = r'.\\output\\0703a\\result\\Ego4D_final_v6\\train\\wav\\synthesized'\n",
    "gt_folder = r'.\\raw_data\\Ego4D_final_v6\\train\\Ego4D_final_v6'"
   ]
  },
  {
   "cell_type": "code",
   "execution_count": 21,
   "id": "1598c9fd-6365-4c0e-8943-0e5d28f04dd3",
   "metadata": {},
   "outputs": [
    {
     "data": {
      "application/vnd.jupyter.widget-view+json": {
       "model_id": "159635717fed4ab8b16a144e2daadb7c",
       "version_major": 2,
       "version_minor": 0
      },
      "text/plain": [
       "  0%|          | 0/27292 [00:00<?, ?it/s]"
      ]
     },
     "metadata": {},
     "output_type": "display_data"
    },
    {
     "name": "stdout",
     "output_type": "stream",
     "text": [
      "CPU times: total: 2h 23min 24s\n",
      "Wall time: 2h 38min 25s\n"
     ]
    }
   ],
   "source": [
    "%%time\n",
    "\n",
    "def sptk_extract(\n",
    "    x: np.ndarray,\n",
    "    fs: int,\n",
    "    n_fft: int = 512,\n",
    "    n_shift: int = 256,\n",
    "    mcep_dim: int = 25,\n",
    "    mcep_alpha: float = 0.41,\n",
    "    is_padding: bool = False,\n",
    ") -> np.ndarray:\n",
    "    \"\"\"Extract SPTK-based mel-cepstrum.\n",
    "\n",
    "    Args:\n",
    "        x (ndarray): 1D waveform array.\n",
    "        fs (int): Sampling rate\n",
    "        n_fft (int): FFT length in point (default=512).\n",
    "        n_shift (int): Shift length in point (default=256).\n",
    "        mcep_dim (int): Dimension of mel-cepstrum (default=25).\n",
    "        mcep_alpha (float): All pass filter coefficient (default=0.41).\n",
    "        is_padding (bool): Whether to pad the end of signal (default=False).\n",
    "\n",
    "    Returns:\n",
    "        ndarray: Mel-cepstrum with the size (N, n_fft).\n",
    "\n",
    "    \"\"\"\n",
    "    # perform padding\n",
    "    if is_padding:\n",
    "        n_pad = n_fft - (len(x) - n_fft) % n_shift\n",
    "        x = np.pad(x, (0, n_pad), \"reflect\")\n",
    "\n",
    "    # get number of frames\n",
    "    n_frame = (len(x) - n_fft) // n_shift + 1\n",
    "\n",
    "    # get window function\n",
    "    win = pysptk.sptk.hamming(n_fft)\n",
    "\n",
    "    # check mcep and alpha\n",
    "    if mcep_dim is None or mcep_alpha is None:\n",
    "        mcep_dim, mcep_alpha = _get_best_mcep_params(fs)\n",
    "\n",
    "    # calculate spectrogram\n",
    "    mcep = [\n",
    "        pysptk.mcep(\n",
    "            x[n_shift * i : n_shift * i + n_fft] * win,\n",
    "            mcep_dim,\n",
    "            mcep_alpha,\n",
    "            eps=1e-6,\n",
    "            etype=1,\n",
    "        )\n",
    "        for i in range(n_frame)\n",
    "    ]\n",
    "\n",
    "    return np.stack(mcep)\n",
    "\n",
    "\n",
    "def _get_best_mcep_params(fs: int) -> Tuple[int, float]:\n",
    "    if fs == 16000:\n",
    "        return 23, 0.42\n",
    "    elif fs == 22050:\n",
    "        return 34, 0.45\n",
    "    elif fs == 24000:\n",
    "        return 34, 0.46\n",
    "    elif fs == 44100:\n",
    "        return 39, 0.53\n",
    "    elif fs == 48000:\n",
    "        return 39, 0.55\n",
    "    else:\n",
    "        raise ValueError(f\"Not found the setting for {fs}.\")\n",
    "\n",
    "\n",
    "\n",
    "\n",
    "\n",
    "uids = []\n",
    "MCDs_recon = []\n",
    "for uid in tqdm(train_uids):\n",
    "    uids.append(uid)\n",
    "    gen_x, gen_fs = sf.read(op.join(recon_folder, f\"{uid}.wav\"), dtype=\"int16\")\n",
    "    gt_x, gt_fs = sf.read(op.join(gt_folder, f\"{uid}.wav\"), dtype=\"int16\")\n",
    "    # print(gen_fs, gt_fs)\n",
    "    fs = gen_fs\n",
    "    if gen_fs != gt_fs:\n",
    "        gt_x = librosa.resample(gt_x.astype(float), orig_sr=gt_fs, target_sr=gen_fs)\n",
    "\n",
    "    # extract ground truth and converted features\n",
    "    gen_mcep = sptk_extract(\n",
    "        x=gen_x,\n",
    "        fs=fs,\n",
    "        n_fft=512,\n",
    "        n_shift=256,\n",
    "        mcep_dim=None,\n",
    "        mcep_alpha=None,\n",
    "    )\n",
    "    gt_mcep = sptk_extract(\n",
    "        x=gt_x,\n",
    "        fs=fs,\n",
    "        n_fft=512,\n",
    "        n_shift=256,\n",
    "        mcep_dim=None,\n",
    "        mcep_alpha=None,\n",
    "    )\n",
    "    \n",
    "    # DTW\n",
    "    _, path = fastdtw(gen_mcep, gt_mcep, dist=spatial.distance.euclidean)\n",
    "    twf = np.array(path).T\n",
    "    gen_mcep_dtw = gen_mcep[twf[0]]\n",
    "    gt_mcep_dtw = gt_mcep[twf[1]]\n",
    "\n",
    "    # MCD\n",
    "    diff2sum = np.sum((gen_mcep_dtw - gt_mcep_dtw) ** 2, 1)\n",
    "    mcd = np.mean(10.0 / np.log(10.0) * np.sqrt(2 * diff2sum), 0)\n",
    "    result = mcd\n",
    "    MCDs_recon.append(result)"
   ]
  },
  {
   "cell_type": "code",
   "execution_count": 22,
   "id": "5887b597-043b-4adb-bc58-f43d88fc7451",
   "metadata": {},
   "outputs": [
    {
     "data": {
      "application/vnd.jupyter.widget-view+json": {
       "model_id": "3b3e5a9b3a2f4ea8ab0d506b8eb46089",
       "version_major": 2,
       "version_minor": 0
      },
      "text/plain": [
       "  0%|          | 0/27292 [00:00<?, ?it/s]"
      ]
     },
     "metadata": {},
     "output_type": "display_data"
    },
    {
     "name": "stdout",
     "output_type": "stream",
     "text": [
      "CPU times: total: 2h 19min 46s\n",
      "Wall time: 2h 30min 16s\n"
     ]
    }
   ],
   "source": [
    "%%time\n",
    "\n",
    "def sptk_extract(\n",
    "    x: np.ndarray,\n",
    "    fs: int,\n",
    "    n_fft: int = 512,\n",
    "    n_shift: int = 256,\n",
    "    mcep_dim: int = 25,\n",
    "    mcep_alpha: float = 0.41,\n",
    "    is_padding: bool = False,\n",
    ") -> np.ndarray:\n",
    "    \"\"\"Extract SPTK-based mel-cepstrum.\n",
    "\n",
    "    Args:\n",
    "        x (ndarray): 1D waveform array.\n",
    "        fs (int): Sampling rate\n",
    "        n_fft (int): FFT length in point (default=512).\n",
    "        n_shift (int): Shift length in point (default=256).\n",
    "        mcep_dim (int): Dimension of mel-cepstrum (default=25).\n",
    "        mcep_alpha (float): All pass filter coefficient (default=0.41).\n",
    "        is_padding (bool): Whether to pad the end of signal (default=False).\n",
    "\n",
    "    Returns:\n",
    "        ndarray: Mel-cepstrum with the size (N, n_fft).\n",
    "\n",
    "    \"\"\"\n",
    "    # perform padding\n",
    "    if is_padding:\n",
    "        n_pad = n_fft - (len(x) - n_fft) % n_shift\n",
    "        x = np.pad(x, (0, n_pad), \"reflect\")\n",
    "\n",
    "    # get number of frames\n",
    "    n_frame = (len(x) - n_fft) // n_shift + 1\n",
    "\n",
    "    # get window function\n",
    "    win = pysptk.sptk.hamming(n_fft)\n",
    "\n",
    "    # check mcep and alpha\n",
    "    if mcep_dim is None or mcep_alpha is None:\n",
    "        mcep_dim, mcep_alpha = _get_best_mcep_params(fs)\n",
    "\n",
    "    # calculate spectrogram\n",
    "    mcep = [\n",
    "        pysptk.mcep(\n",
    "            x[n_shift * i : n_shift * i + n_fft] * win,\n",
    "            mcep_dim,\n",
    "            mcep_alpha,\n",
    "            eps=1e-6,\n",
    "            etype=1,\n",
    "        )\n",
    "        for i in range(n_frame)\n",
    "    ]\n",
    "\n",
    "    return np.stack(mcep)\n",
    "\n",
    "\n",
    "def _get_best_mcep_params(fs: int) -> Tuple[int, float]:\n",
    "    if fs == 16000:\n",
    "        return 23, 0.42\n",
    "    elif fs == 22050:\n",
    "        return 34, 0.45\n",
    "    elif fs == 24000:\n",
    "        return 34, 0.46\n",
    "    elif fs == 44100:\n",
    "        return 39, 0.53\n",
    "    elif fs == 48000:\n",
    "        return 39, 0.55\n",
    "    else:\n",
    "        raise ValueError(f\"Not found the setting for {fs}.\")\n",
    "\n",
    "\n",
    "\n",
    "\n",
    "\n",
    "uids = []\n",
    "MCDs_gt = []\n",
    "for uid in tqdm(train_uids):\n",
    "    uids.append(uid)\n",
    "    gen_x, gen_fs = sf.read(op.join(syn_folder, f\"{uid}.wav\"), dtype=\"int16\")\n",
    "    gt_x, gt_fs = sf.read(op.join(gt_folder, f\"{uid}.wav\"), dtype=\"int16\")\n",
    "    # print(gen_fs, gt_fs)\n",
    "    fs = gen_fs\n",
    "    if gen_fs != gt_fs:\n",
    "        gt_x = librosa.resample(gt_x.astype(float), orig_sr=gt_fs, target_sr=gen_fs)\n",
    "\n",
    "    # extract ground truth and converted features\n",
    "    gen_mcep = sptk_extract(\n",
    "        x=gen_x,\n",
    "        fs=fs,\n",
    "        n_fft=512,\n",
    "        n_shift=256,\n",
    "        mcep_dim=None,\n",
    "        mcep_alpha=None,\n",
    "    )\n",
    "    gt_mcep = sptk_extract(\n",
    "        x=gt_x,\n",
    "        fs=fs,\n",
    "        n_fft=512,\n",
    "        n_shift=256,\n",
    "        mcep_dim=None,\n",
    "        mcep_alpha=None,\n",
    "    )\n",
    "    \n",
    "    # DTW\n",
    "    _, path = fastdtw(gen_mcep, gt_mcep, dist=spatial.distance.euclidean)\n",
    "    twf = np.array(path).T\n",
    "    gen_mcep_dtw = gen_mcep[twf[0]]\n",
    "    gt_mcep_dtw = gt_mcep[twf[1]]\n",
    "\n",
    "    # MCD\n",
    "    diff2sum = np.sum((gen_mcep_dtw - gt_mcep_dtw) ** 2, 1)\n",
    "    mcd = np.mean(10.0 / np.log(10.0) * np.sqrt(2 * diff2sum), 0)\n",
    "    result = mcd\n",
    "    MCDs_gt.append(result)"
   ]
  },
  {
   "cell_type": "code",
   "execution_count": 24,
   "id": "7bef698d-2bcc-4c9d-9588-2e06a5298252",
   "metadata": {},
   "outputs": [],
   "source": [
    "import pandas as pd\n",
    "v6_mcd_df = pd.DataFrame({\n",
    "    'uid': uids,\n",
    "    'MCD_recon': MCDs_recon,\n",
    "    'MCD_gt': MCDs_gt,\n",
    "})"
   ]
  },
  {
   "cell_type": "code",
   "execution_count": 25,
   "id": "97c82080-ea9b-4452-a0e8-d4c277d3536b",
   "metadata": {},
   "outputs": [],
   "source": [
    "v6_mcd_df.to_csv(r\".\\jupyter_walkthrough\\metrics\\MCD_0703a_1M4_train_new.csv\")"
   ]
  },
  {
   "cell_type": "code",
   "execution_count": 26,
   "id": "341f63e4-b474-40fc-8284-2340f426b511",
   "metadata": {},
   "outputs": [
    {
     "name": "stdout",
     "output_type": "stream",
     "text": [
      "MCDs_recon mean on 0703a_1M4_train: 6.216004815657436\n",
      "MCDs_recon std on 0703a_1M4_train: 1.9483218658869703\n",
      "MCDs_gt mean on 0703a_1M4_train: 7.510086980942805\n",
      "MCDs_gt std on 0703a_1M4_train: 1.621730248844869\n"
     ]
    }
   ],
   "source": [
    "print(f\"MCDs_recon mean on 0703a_1M4_train: {torch.tensor(MCDs_recon).mean()}\")\n",
    "print(f\"MCDs_recon std on 0703a_1M4_train: {torch.tensor(MCDs_recon).std()}\")\n",
    "\n",
    "print(f\"MCDs_gt mean on 0703a_1M4_train: {torch.tensor(MCDs_gt).mean()}\")\n",
    "print(f\"MCDs_gt std on 0703a_1M4_train: {torch.tensor(MCDs_gt).std()}\")"
   ]
  },
  {
   "cell_type": "code",
   "execution_count": 27,
   "id": "4342c504-0b61-4e71-9b52-887f01bdb113",
   "metadata": {},
   "outputs": [
    {
     "data": {
      "text/html": [
       "<div>\n",
       "<style scoped>\n",
       "    .dataframe tbody tr th:only-of-type {\n",
       "        vertical-align: middle;\n",
       "    }\n",
       "\n",
       "    .dataframe tbody tr th {\n",
       "        vertical-align: top;\n",
       "    }\n",
       "\n",
       "    .dataframe thead th {\n",
       "        text-align: right;\n",
       "    }\n",
       "</style>\n",
       "<table border=\"1\" class=\"dataframe\">\n",
       "  <thead>\n",
       "    <tr style=\"text-align: right;\">\n",
       "      <th></th>\n",
       "      <th>uid</th>\n",
       "      <th>MCD_recon</th>\n",
       "      <th>MCD_gt</th>\n",
       "    </tr>\n",
       "  </thead>\n",
       "  <tbody>\n",
       "    <tr>\n",
       "      <th>18705</th>\n",
       "      <td>628b9cba-d4e9-477a-b2cb-44207a9afd6c</td>\n",
       "      <td>3.022329</td>\n",
       "      <td>4.958812</td>\n",
       "    </tr>\n",
       "    <tr>\n",
       "      <th>11980</th>\n",
       "      <td>1009fdc3-d5fa-49a3-981b-f94d06a18e3f</td>\n",
       "      <td>3.217786</td>\n",
       "      <td>4.339374</td>\n",
       "    </tr>\n",
       "    <tr>\n",
       "      <th>20493</th>\n",
       "      <td>26dbb6c0-58ed-44e9-9b70-e556cc1b1802</td>\n",
       "      <td>3.234197</td>\n",
       "      <td>5.359722</td>\n",
       "    </tr>\n",
       "    <tr>\n",
       "      <th>10224</th>\n",
       "      <td>1f581e26-3aec-4f07-880f-a53dc14e4ea4</td>\n",
       "      <td>3.244544</td>\n",
       "      <td>4.674834</td>\n",
       "    </tr>\n",
       "    <tr>\n",
       "      <th>13950</th>\n",
       "      <td>5999682b-da38-4a18-a0b5-41ce5ccf4300</td>\n",
       "      <td>3.290473</td>\n",
       "      <td>4.888488</td>\n",
       "    </tr>\n",
       "  </tbody>\n",
       "</table>\n",
       "</div>"
      ],
      "text/plain": [
       "                                        uid  MCD_recon    MCD_gt\n",
       "18705  628b9cba-d4e9-477a-b2cb-44207a9afd6c   3.022329  4.958812\n",
       "11980  1009fdc3-d5fa-49a3-981b-f94d06a18e3f   3.217786  4.339374\n",
       "20493  26dbb6c0-58ed-44e9-9b70-e556cc1b1802   3.234197  5.359722\n",
       "10224  1f581e26-3aec-4f07-880f-a53dc14e4ea4   3.244544  4.674834\n",
       "13950  5999682b-da38-4a18-a0b5-41ce5ccf4300   3.290473  4.888488"
      ]
     },
     "execution_count": 27,
     "metadata": {},
     "output_type": "execute_result"
    }
   ],
   "source": [
    "v6_mcd_df.nsmallest(5, 'MCD_recon')"
   ]
  },
  {
   "cell_type": "code",
   "execution_count": 28,
   "id": "31fc668d-f766-4ee3-9a08-40d64919c8e3",
   "metadata": {
    "scrolled": true
   },
   "outputs": [
    {
     "data": {
      "text/html": [
       "<div>\n",
       "<style scoped>\n",
       "    .dataframe tbody tr th:only-of-type {\n",
       "        vertical-align: middle;\n",
       "    }\n",
       "\n",
       "    .dataframe tbody tr th {\n",
       "        vertical-align: top;\n",
       "    }\n",
       "\n",
       "    .dataframe thead th {\n",
       "        text-align: right;\n",
       "    }\n",
       "</style>\n",
       "<table border=\"1\" class=\"dataframe\">\n",
       "  <thead>\n",
       "    <tr style=\"text-align: right;\">\n",
       "      <th></th>\n",
       "      <th>uid</th>\n",
       "      <th>MCD_recon</th>\n",
       "      <th>MCD_gt</th>\n",
       "    </tr>\n",
       "  </thead>\n",
       "  <tbody>\n",
       "    <tr>\n",
       "      <th>12063</th>\n",
       "      <td>54bdedf1-45c0-495c-82ff-151d9e59c037</td>\n",
       "      <td>23.131395</td>\n",
       "      <td>23.283965</td>\n",
       "    </tr>\n",
       "    <tr>\n",
       "      <th>4272</th>\n",
       "      <td>54ffc6f5-6c59-481c-87e4-122e8dac82a9</td>\n",
       "      <td>23.008096</td>\n",
       "      <td>21.002178</td>\n",
       "    </tr>\n",
       "    <tr>\n",
       "      <th>3325</th>\n",
       "      <td>0dfe7ee4-945f-451c-ad09-0cfb8cf755cb</td>\n",
       "      <td>22.705428</td>\n",
       "      <td>22.235879</td>\n",
       "    </tr>\n",
       "    <tr>\n",
       "      <th>16451</th>\n",
       "      <td>0ca4e349-c203-476b-bdde-672f7074386d</td>\n",
       "      <td>22.557707</td>\n",
       "      <td>23.699070</td>\n",
       "    </tr>\n",
       "    <tr>\n",
       "      <th>12214</th>\n",
       "      <td>5f421cca-532f-4991-b094-1006b34a510e</td>\n",
       "      <td>21.926005</td>\n",
       "      <td>22.033782</td>\n",
       "    </tr>\n",
       "  </tbody>\n",
       "</table>\n",
       "</div>"
      ],
      "text/plain": [
       "                                        uid  MCD_recon     MCD_gt\n",
       "12063  54bdedf1-45c0-495c-82ff-151d9e59c037  23.131395  23.283965\n",
       "4272   54ffc6f5-6c59-481c-87e4-122e8dac82a9  23.008096  21.002178\n",
       "3325   0dfe7ee4-945f-451c-ad09-0cfb8cf755cb  22.705428  22.235879\n",
       "16451  0ca4e349-c203-476b-bdde-672f7074386d  22.557707  23.699070\n",
       "12214  5f421cca-532f-4991-b094-1006b34a510e  21.926005  22.033782"
      ]
     },
     "execution_count": 28,
     "metadata": {},
     "output_type": "execute_result"
    }
   ],
   "source": [
    "v6_mcd_df.nlargest(5, 'MCD_recon')"
   ]
  },
  {
   "cell_type": "code",
   "execution_count": null,
   "id": "13746add-bf17-47c4-a854-2df8d038ac6b",
   "metadata": {},
   "outputs": [],
   "source": []
  },
  {
   "cell_type": "code",
   "execution_count": null,
   "id": "a676dba0-5947-43e5-b421-50bb7fa9c086",
   "metadata": {},
   "outputs": [],
   "source": []
  },
  {
   "cell_type": "code",
   "execution_count": null,
   "id": "c7494bf2-378d-4ee9-b1dc-65e8c770161e",
   "metadata": {},
   "outputs": [],
   "source": []
  },
  {
   "cell_type": "code",
   "execution_count": null,
   "id": "309250f9-fb06-4f95-a59b-e15485f10a66",
   "metadata": {},
   "outputs": [],
   "source": []
  },
  {
   "cell_type": "code",
   "execution_count": null,
   "id": "d1d81e42-61c2-49ac-b13a-9f996a6ffee9",
   "metadata": {},
   "outputs": [],
   "source": []
  },
  {
   "cell_type": "code",
   "execution_count": null,
   "id": "aa313820-e194-43c0-9eff-c732f49cc7ee",
   "metadata": {},
   "outputs": [],
   "source": []
  },
  {
   "cell_type": "code",
   "execution_count": null,
   "id": "8cd7abc1-aefd-4722-abfb-666870766028",
   "metadata": {},
   "outputs": [],
   "source": []
  },
  {
   "cell_type": "code",
   "execution_count": null,
   "id": "6a7527eb-7317-44fe-91ed-ff019ab41dd2",
   "metadata": {},
   "outputs": [],
   "source": []
  }
 ],
 "metadata": {
  "kernelspec": {
   "display_name": "Python 3 (ipykernel)",
   "language": "python",
   "name": "python3"
  },
  "language_info": {
   "codemirror_mode": {
    "name": "ipython",
    "version": 3
   },
   "file_extension": ".py",
   "mimetype": "text/x-python",
   "name": "python",
   "nbconvert_exporter": "python",
   "pygments_lexer": "ipython3",
   "version": "3.11.3"
  }
 },
 "nbformat": 4,
 "nbformat_minor": 5
}
