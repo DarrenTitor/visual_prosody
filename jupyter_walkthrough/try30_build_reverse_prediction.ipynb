{
 "cells": [
  {
   "cell_type": "code",
   "execution_count": 1,
   "id": "a2719411-39dc-4e3c-b2eb-5da33456334e",
   "metadata": {},
   "outputs": [],
   "source": [
    "%matplotlib inline\n",
    "\n",
    "import os, sys, glob, shutil\n",
    "import torch\n",
    "import torch.nn as nn\n",
    "import numpy as np\n",
    "import pandas as pd\n",
    "import argparse\n",
    "import yaml\n",
    "import json\n",
    "import torchaudio\n",
    "import matplotlib\n",
    "import matplotlib.pyplot as plt\n",
    "pd.set_option(\"display.max_columns\", None)\n",
    "import pyworld as pw\n",
    "from tqdm.notebook import tqdm\n"
   ]
  },
  {
   "cell_type": "code",
   "execution_count": 2,
   "id": "2ac78d92-0fc6-4bfd-9c6f-68d80023963e",
   "metadata": {},
   "outputs": [
    {
     "name": "stdout",
     "output_type": "stream",
     "text": [
      "D:\\Schoolwork\\TERM 3\\WORK\\visual_prosody\n"
     ]
    }
   ],
   "source": [
    "%cd \"D:\\Schoolwork\\TERM 3\\WORK\\visual_prosody\""
   ]
  },
  {
   "cell_type": "code",
   "execution_count": 3,
   "id": "f06da535-9db3-4998-a76d-9b14980f2f9a",
   "metadata": {},
   "outputs": [],
   "source": [
    "def expand(values, durations):\n",
    "    out = list()\n",
    "    for value, d in zip(values, durations):\n",
    "        out += [value] * max(0, int(d))\n",
    "    return np.array(out)"
   ]
  },
  {
   "cell_type": "code",
   "execution_count": 4,
   "id": "6f76633a-2412-4c87-abfc-28802347ba0a",
   "metadata": {},
   "outputs": [],
   "source": [
    "parser = argparse.ArgumentParser()\n",
    "parser.add_argument(\"--restore_step\", type=int, default=0)\n",
    "parser.add_argument(\n",
    "    \"-p\",\n",
    "    \"--preprocess_config\",\n",
    "    type=str,\n",
    "    required=True,\n",
    "    help=\"path to preprocess.yaml\",\n",
    ")\n",
    "parser.add_argument(\n",
    "    \"-m\", \"--model_config\", type=str, required=True, help=\"path to model.yaml\"\n",
    ")\n",
    "parser.add_argument(\n",
    "    \"-t\", \"--train_config\", type=str, required=True, help=\"path to train.yaml\"\n",
    ")\n",
    "\n",
    "argString = '-p ./config/Ego4D_final_v6/0726a_preprocess.yaml -m ./config/Ego4D_final_v6/0726a_model.yaml -t ./config/Ego4D_final_v6/0726a_train.yaml'\n",
    "# args = parser.parse_args()\n",
    "args = parser.parse_args(argString.split())"
   ]
  },
  {
   "cell_type": "code",
   "execution_count": 5,
   "id": "814c66f6-b6f8-4cea-b9fb-740cb1a694e9",
   "metadata": {},
   "outputs": [],
   "source": [
    "from utils.model import get_model, get_vocoder, get_param_num\n",
    "from utils.tools import to_device, log, synth_one_sample\n",
    "from model import FastSpeech2Loss\n",
    "from dataset import Dataset, VideoDataset\n",
    "from utils.auto_tqdm import tqdm\n",
    "from evaluate import evaluate\n",
    "\n",
    "from torch.utils.data import DataLoader\n",
    "from torch.utils.tensorboard import SummaryWriter\n",
    "device = torch.device(\"cuda\" if torch.cuda.is_available() else \"cpu\")"
   ]
  },
  {
   "cell_type": "code",
   "execution_count": 6,
   "id": "fb772375-71e4-4aa2-b389-2e5aa201dbbd",
   "metadata": {},
   "outputs": [],
   "source": [
    "config = yaml.load(open(args.preprocess_config, \"r\"), Loader=yaml.FullLoader)\n",
    "\n",
    "# Read Config\n",
    "preprocess_config = yaml.load(\n",
    "    open(args.preprocess_config, \"r\"), Loader=yaml.FullLoader\n",
    ")\n",
    "model_config = yaml.load(open(args.model_config, \"r\"), Loader=yaml.FullLoader)\n",
    "train_config = yaml.load(open(args.train_config, \"r\"), Loader=yaml.FullLoader)\n",
    "configs = (preprocess_config, model_config, train_config)"
   ]
  },
  {
   "cell_type": "code",
   "execution_count": 7,
   "id": "c7f6c540-fd09-4f44-862a-39d0b64aaa21",
   "metadata": {},
   "outputs": [
    {
     "name": "stdout",
     "output_type": "stream",
     "text": [
      "Prepare training ...\n"
     ]
    }
   ],
   "source": [
    "print(\"Prepare training ...\")\n",
    "preprocess_config, model_config, train_config = configs"
   ]
  },
  {
   "cell_type": "code",
   "execution_count": 8,
   "id": "8bc992d1-aba4-4142-830d-ce9695c4ee18",
   "metadata": {},
   "outputs": [],
   "source": [
    "n_history_vecs = preprocess_config['preprocessing']['video_info']['n_history_vecs']\n",
    "video_fps = preprocess_config['preprocessing']['video_info']['video_fps']\n",
    "feature_window_size = preprocess_config['preprocessing']['video_info']['feature_window_size']\n",
    "feature_stride = preprocess_config['preprocessing']['video_info']['feature_stride']\n",
    "audio_hop_size = 256\n",
    "audio_sample_rate = 22050"
   ]
  },
  {
   "cell_type": "code",
   "execution_count": 9,
   "id": "6c8dc78d-f4f3-499d-b321-ce6af408ad07",
   "metadata": {},
   "outputs": [],
   "source": [
    "with open(\n",
    "    os.path.join(preprocess_config[\"path\"][\"preprocessed_path\"], \"stats.json\")\n",
    ") as f:\n",
    "    stats = json.load(f)\n",
    "    stats = stats[\"pitch\"] + stats[\"energy\"]"
   ]
  },
  {
   "cell_type": "code",
   "execution_count": 10,
   "id": "1809f5d8-5eca-4f1a-8737-50fdaab7b8ad",
   "metadata": {},
   "outputs": [],
   "source": [
    "(\n",
    "    p_min, p_max, p_mean, p_std, \n",
    "    e_min, e_max, e_mean, e_std,\n",
    ") = stats"
   ]
  },
  {
   "cell_type": "code",
   "execution_count": 11,
   "id": "6312f90f-f94a-4fb8-82df-92c5ca25d902",
   "metadata": {},
   "outputs": [],
   "source": [
    "split_txt_train_path = f\"{preprocess_config['path']['preprocessed_path']}/train.txt\"\n",
    "train_uids = []\n",
    "with open(split_txt_train_path) as file:\n",
    "    for line in file:\n",
    "        # print(line.split('|')[0])\n",
    "        train_uids.append(line.split('|')[0])"
   ]
  },
  {
   "cell_type": "code",
   "execution_count": 12,
   "id": "77163425-7a4f-489b-b034-f9716dcf3b2b",
   "metadata": {},
   "outputs": [],
   "source": [
    "split_txt_val_path = f\"{preprocess_config['path']['preprocessed_path']}/val.txt\"\n",
    "val_uids = []\n",
    "with open(split_txt_val_path) as file:\n",
    "    for line in file:\n",
    "        # print(line.split('|')[0])\n",
    "        val_uids.append(line.split('|')[0])"
   ]
  },
  {
   "cell_type": "code",
   "execution_count": 13,
   "id": "1bdc5603-a636-461d-a96a-ce586e7bc161",
   "metadata": {},
   "outputs": [],
   "source": [
    "def compute_deltas_with_last_zero(tensor):\n",
    "    shifted_tensor = np.roll(tensor, shift=-1, axis=-1)\n",
    "    deltas = shifted_tensor - tensor\n",
    "    # Set the last element in each row to 0\n",
    "    deltas[..., -1] = 0\n",
    "    return deltas"
   ]
  },
  {
   "cell_type": "markdown",
   "id": "d3618a87-3279-4c05-a24e-8491490696a9",
   "metadata": {},
   "source": [
    "## train"
   ]
  },
  {
   "cell_type": "code",
   "execution_count": 14,
   "id": "81e0c2d5-325e-457e-8201-591d5fa0fce8",
   "metadata": {},
   "outputs": [],
   "source": [
    "train_df = pd.read_csv(f\"./Data/Ego4D_final_v6/final_dataset_v6/utterances_final_train_v6.csv\")"
   ]
  },
  {
   "cell_type": "code",
   "execution_count": 15,
   "id": "43f51891-61c4-4e73-8fcb-31229c2c9830",
   "metadata": {
    "scrolled": true
   },
   "outputs": [
    {
     "name": "stdout",
     "output_type": "stream",
     "text": [
      "<class 'pandas.core.frame.DataFrame'>\n",
      "RangeIndex: 30553 entries, 0 to 30552\n",
      "Data columns (total 7 columns):\n",
      " #   Column            Non-Null Count  Dtype  \n",
      "---  ------            --------------  -----  \n",
      " 0   utterance_id      30553 non-null  object \n",
      " 1   video_id          30553 non-null  object \n",
      " 2   person_id         30553 non-null  int64  \n",
      " 3   video_start_time  30553 non-null  float64\n",
      " 4   video_end_time    30553 non-null  float64\n",
      " 5   transcription     30553 non-null  object \n",
      " 6   sample_duration   30553 non-null  float64\n",
      "dtypes: float64(3), int64(1), object(3)\n",
      "memory usage: 1.6+ MB\n"
     ]
    }
   ],
   "source": [
    "train_df.info()"
   ]
  },
  {
   "cell_type": "code",
   "execution_count": 16,
   "id": "92cf8eb9-3079-4ad6-9438-4888142d553f",
   "metadata": {},
   "outputs": [
    {
     "name": "stdout",
     "output_type": "stream",
     "text": [
      "634b2f0d-2cca-4bc6-bb13-905c0c2748e7\n"
     ]
    },
    {
     "data": {
      "image/png": "[encoded data removed]",
      "text/plain": [
       "<Figure size 640x480 with 1 Axes>"
      ]
     },
     "metadata": {},
     "output_type": "display_data"
    }
   ],
   "source": [
    "%matplotlib inline\n",
    "uid = train_uids[0]\n",
    "pitch_path = f'./preprocessed_data/Ego4D_final_v6/pitch/train/Ego4D_final_v6-pitch-{uid}.npy'\n",
    "energy_path = f'./preprocessed_data/Ego4D_final_v6/energy/train/Ego4D_final_v6-energy-{uid}.npy'\n",
    "duration_path = f'./preprocessed_data/Ego4D_final_v6/duration/train/Ego4D_final_v6-duration-{uid}.npy'\n",
    "wav_path = f\"./raw_data/Ego4D_final_v6/train/Ego4D_final_v6/{uid}.wav\"\n",
    "video_emb_path = f'./preprocessed_data/Ego4D_final_v6/video_embedding/train/{uid}.npy'\n",
    "print(uid)\n",
    "p_array = np.load(pitch_path)\n",
    "e_array = np.load(energy_path)\n",
    "d_array = np.load(duration_path)\n",
    "p_array = p_array * p_std + p_mean\n",
    "e_array = e_array * e_std + e_mean\n",
    "p_seq = expand(p_array, d_array)\n",
    "e_seq = expand(e_array, d_array)\n",
    "wav, _ = torchaudio.load(wav_path)\n",
    "p, t = pw.dio(\n",
    "    wav.reshape(-1).numpy().astype(np.float64),\n",
    "    22050,\n",
    "    frame_period=256 / 22050 * 1000, # ms, windowsize = 256 samples\n",
    ")\n",
    "p = pw.stonemask(wav.reshape(-1).numpy().astype(np.float64),\n",
    "                     p, t, 22050)\n",
    "plt.plot(p_seq)\n",
    "plt.plot(compute_deltas_with_last_zero(p_seq))\n",
    "plt.plot(e_seq)\n",
    "plt.plot(compute_deltas_with_last_zero(e_seq))\n",
    "# plt.plot(p)\n",
    "idxs = np.arange(p_seq.shape[0])\n",
    "plt.xticks(idxs, labels=[f'{idx*256/22050:.2f}' if idx%5==0 else '' for idx in idxs], rotation=45)\n",
    "plt.show()"
   ]
  },
  {
   "cell_type": "code",
   "execution_count": 17,
   "id": "8db000c2-ecab-4902-9e1e-0dcd7f33e258",
   "metadata": {},
   "outputs": [],
   "source": [
    "# vid = train_df[train_df['utterance_id']==uid]['video_id'].values[0]\n",
    "# video_start_time = vid = train_df[train_df['utterance_id']==uid]['video_start_time'].values[0]"
   ]
  },
  {
   "cell_type": "code",
   "execution_count": 18,
   "id": "da1bcbd5-f09b-45ad-b592-5c2ce8abe899",
   "metadata": {},
   "outputs": [
    {
     "name": "stdout",
     "output_type": "stream",
     "text": [
      "CPU times: total: 0 ns\n",
      "Wall time: 0 ns\n"
     ]
    },
    {
     "data": {
      "application/vnd.jupyter.widget-view+json": {
       "model_id": "f6650117850b4c28b509b18f6303d651",
       "version_major": 2,
       "version_minor": 0
      },
      "text/plain": [
       "  0%|          | 0/27292 [00:00<?, ?it/s]"
      ]
     },
     "metadata": {},
     "output_type": "display_data"
    },
    {
     "name": "stdout",
     "output_type": "stream",
     "text": [
      "Complete.\n",
      "Skipped 53664 embeddings.\n"
     ]
    }
   ],
   "source": [
    "%time\n",
    "\n",
    "uids = []\n",
    "vids = []\n",
    "embedding_video_start_times = []\n",
    "embedding_seq_nohistory_idxs = []\n",
    "avg_pitchs = []\n",
    "avg_pitch_deltas = []\n",
    "avg_energys = []\n",
    "avg_energy_deltas = []\n",
    "pitch_means = []\n",
    "pitch_stds = []\n",
    "energy_means = []\n",
    "energy_stds = []\n",
    "embeddings = []\n",
    "\n",
    "skipped_counter = 0\n",
    "\n",
    "\n",
    "\n",
    "\n",
    "\n",
    "\n",
    "\n",
    "for uid in tqdm(train_uids):\n",
    "    pitch_path = f'./preprocessed_data/Ego4D_final_v6/pitch/train/Ego4D_final_v6-pitch-{uid}.npy'\n",
    "    energy_path = f'./preprocessed_data/Ego4D_final_v6/energy/train/Ego4D_final_v6-energy-{uid}.npy'\n",
    "    duration_path = f'./preprocessed_data/Ego4D_final_v6/duration/train/Ego4D_final_v6-duration-{uid}.npy'\n",
    "    wav_path = f\"./raw_data/Ego4D_final_v6/train/Ego4D_final_v6/{uid}.wav\"\n",
    "    video_emb_path = f'./preprocessed_data/Ego4D_final_v6/video_embedding/train/{uid}.npy'\n",
    "    p_array = np.load(pitch_path)\n",
    "    e_array = np.load(energy_path)\n",
    "    d_array = np.load(duration_path)\n",
    "    # 注意这里没有还原，依然是normalized的状态\n",
    "    # p_array = p_array * p_std + p_mean\n",
    "    # e_array = e_array * e_std + e_mean\n",
    "    p_seq = expand(p_array, d_array)\n",
    "    e_seq = expand(e_array, d_array)\n",
    "    p_delta_seq = compute_deltas_with_last_zero(p_seq)\n",
    "    e_delta_seq = compute_deltas_with_last_zero(e_seq)\n",
    "\n",
    "    video_emb = np.load(video_emb_path)\n",
    "    vid = train_df[train_df['utterance_id']==uid]['video_id'].values[0]\n",
    "    video_start_time = vid = train_df[train_df['utterance_id']==uid]['video_start_time'].values[0]\n",
    "\n",
    "    for vidx in range(n_history_vecs, video_emb.shape[0]):\n",
    "        # print(uid)\n",
    "        # print('vidx: ', vidx)\n",
    "        vemb_start_time = (vidx - n_history_vecs) * feature_stride / video_fps\n",
    "        vemb_end_time = ((vidx - n_history_vecs) * feature_stride + feature_window_size) / video_fps\n",
    "        # print(f\"{vemb_start_time}->{vemb_end_time}\")\n",
    "        embedding_video_start_time = video_start_time + vemb_start_time\n",
    "        audio_start_frame = vemb_start_time * audio_sample_rate\n",
    "        audio_end_frame = vemb_end_time * audio_sample_rate\n",
    "        audio_seq_start_idx = int(audio_start_frame//audio_hop_size)\n",
    "        audio_seq_end_idx = int(audio_end_frame//audio_hop_size)\n",
    "        # print(f\"{audio_seq_start_idx}->{audio_seq_end_idx}\")\n",
    "        # print(video_emb[vidx].shape)\n",
    "\n",
    "        if p_seq[audio_seq_start_idx:audio_seq_end_idx].shape[0] == 0:\n",
    "            audio_seq_end_idx += 1\n",
    "            \n",
    "        if p_seq[audio_seq_start_idx:audio_seq_end_idx].shape[0] == 0:\n",
    "            skipped_counter += 1\n",
    "            continue\n",
    "\n",
    "\n",
    "        \n",
    "\n",
    "        avg_pitch = p_seq[audio_seq_start_idx:audio_seq_end_idx].mean()\n",
    "        avg_pitch_delta = p_delta_seq[audio_seq_start_idx:audio_seq_end_idx].mean()\n",
    "        avg_energy = e_seq[audio_seq_start_idx:audio_seq_end_idx].mean()\n",
    "        avg_energy_delta = e_delta_seq[audio_seq_start_idx:audio_seq_end_idx].mean()\n",
    "        \n",
    "        uids.append(uid)\n",
    "        vids.append(vid)\n",
    "        embedding_video_start_times.append(embedding_video_start_time)\n",
    "        embedding_seq_nohistory_idxs.append(vidx)\n",
    "        avg_pitchs.append(avg_pitch)\n",
    "        avg_pitch_deltas.append(avg_pitch_delta)\n",
    "        avg_energys.append(avg_energy)\n",
    "        avg_energy_deltas.append(avg_energy_delta)\n",
    "        pitch_means.append(p_mean)\n",
    "        pitch_stds.append(p_std)\n",
    "        energy_means.append(e_mean)\n",
    "        energy_stds.append(e_std)\n",
    "        embeddings.append(video_emb[vidx])\n",
    "        \n",
    "print('Complete.')\n",
    "print(f'Skipped {skipped_counter} embeddings.')"
   ]
  },
  {
   "cell_type": "code",
   "execution_count": 19,
   "id": "3b792c5a-8f39-4087-a87e-ea7efdf21d62",
   "metadata": {},
   "outputs": [],
   "source": [
    "train_reverse_df = pd.DataFrame(\n",
    "    {\n",
    "        'uid': uids,\n",
    "        'vid': vids,\n",
    "        'embedding_video_start_time': embedding_video_start_times,\n",
    "        'embedding_seq_nohistory_idx': embedding_seq_nohistory_idxs,\n",
    "        'avg_pitch': avg_pitchs,\n",
    "        'avg_pitch_delta': avg_pitch_deltas,\n",
    "        'avg_energy': avg_energys,\n",
    "        'avg_energy_delta': avg_energy_deltas,\n",
    "        'pitch_mean': pitch_means,\n",
    "        'pitch_std': pitch_stds,\n",
    "        'energy_mean': energy_means,\n",
    "        'energy_std': energy_stds,\n",
    "    }\n",
    ")\n",
    "train_cat_df = pd.concat([train_reverse_df, pd.DataFrame(np.array(embeddings))], axis=1)"
   ]
  },
  {
   "cell_type": "code",
   "execution_count": 20,
   "id": "54239da3-8199-4423-8bee-8c07330074b8",
   "metadata": {},
   "outputs": [],
   "source": [
    "train_cat_df.to_csv('./jupyter_walkthrough/side_exp/video_to_prosody_v6_train.csv', index=None)"
   ]
  },
  {
   "cell_type": "code",
   "execution_count": null,
   "id": "2afedba4-8180-4438-80be-eaa97df66d76",
   "metadata": {},
   "outputs": [],
   "source": []
  },
  {
   "cell_type": "code",
   "execution_count": null,
   "id": "72ebc670-e926-4101-8001-cfa37bcbc343",
   "metadata": {},
   "outputs": [],
   "source": []
  },
  {
   "cell_type": "code",
   "execution_count": null,
   "id": "cc6ae6ec-9329-4bec-a589-749e50c843f1",
   "metadata": {},
   "outputs": [],
   "source": []
  },
  {
   "cell_type": "markdown",
   "id": "282db7b2-d742-45d7-ad05-5c84d30dc689",
   "metadata": {},
   "source": [
    "## val"
   ]
  },
  {
   "cell_type": "code",
   "execution_count": 21,
   "id": "f823b064-2481-4aca-b5ac-84460579e362",
   "metadata": {},
   "outputs": [],
   "source": [
    "val_df = pd.read_csv(f\"./Data/Ego4D_final_v6/final_dataset_v6/utterances_final_val_v6.csv\")"
   ]
  },
  {
   "cell_type": "code",
   "execution_count": 22,
   "id": "cc15bac3-bcb5-458b-956d-268b5a404bce",
   "metadata": {
    "scrolled": true
   },
   "outputs": [
    {
     "name": "stdout",
     "output_type": "stream",
     "text": [
      "<class 'pandas.core.frame.DataFrame'>\n",
      "RangeIndex: 3046 entries, 0 to 3045\n",
      "Data columns (total 7 columns):\n",
      " #   Column            Non-Null Count  Dtype  \n",
      "---  ------            --------------  -----  \n",
      " 0   utterance_id      3046 non-null   object \n",
      " 1   video_id          3046 non-null   object \n",
      " 2   person_id         3046 non-null   float64\n",
      " 3   video_start_time  3046 non-null   float64\n",
      " 4   video_end_time    3046 non-null   float64\n",
      " 5   transcription     3046 non-null   object \n",
      " 6   sample_duration   3046 non-null   float64\n",
      "dtypes: float64(4), object(3)\n",
      "memory usage: 166.7+ KB\n"
     ]
    }
   ],
   "source": [
    "val_df.info()"
   ]
  },
  {
   "cell_type": "code",
   "execution_count": 23,
   "id": "993056ef-710c-482b-be29-bc528f8c2f69",
   "metadata": {},
   "outputs": [
    {
     "name": "stdout",
     "output_type": "stream",
     "text": [
      "9d58583c-20de-439d-b1cd-9c2265bdedd8\n"
     ]
    },
    {
     "data": {
      "image/png": "[encoded data removed]",
      "text/plain": [
       "<Figure size 640x480 with 1 Axes>"
      ]
     },
     "metadata": {},
     "output_type": "display_data"
    }
   ],
   "source": [
    "%matplotlib inline\n",
    "uid = val_uids[0]\n",
    "pitch_path = f'./preprocessed_data/Ego4D_final_v6/pitch/val/Ego4D_final_v6-pitch-{uid}.npy'\n",
    "energy_path = f'./preprocessed_data/Ego4D_final_v6/energy/val/Ego4D_final_v6-energy-{uid}.npy'\n",
    "duration_path = f'./preprocessed_data/Ego4D_final_v6/duration/val/Ego4D_final_v6-duration-{uid}.npy'\n",
    "wav_path = f\"./raw_data/Ego4D_final_v6/val/Ego4D_final_v6/{uid}.wav\"\n",
    "video_emb_path = f'./preprocessed_data/Ego4D_final_v6/video_embedding/val/{uid}.npy'\n",
    "print(uid)\n",
    "p_array = np.load(pitch_path)\n",
    "e_array = np.load(energy_path)\n",
    "d_array = np.load(duration_path)\n",
    "p_array = p_array * p_std + p_mean\n",
    "e_array = e_array * e_std + e_mean\n",
    "p_seq = expand(p_array, d_array)\n",
    "e_seq = expand(e_array, d_array)\n",
    "wav, _ = torchaudio.load(wav_path)\n",
    "p, t = pw.dio(\n",
    "    wav.reshape(-1).numpy().astype(np.float64),\n",
    "    22050,\n",
    "    frame_period=256 / 22050 * 1000, # ms, windowsize = 256 samples\n",
    ")\n",
    "p = pw.stonemask(wav.reshape(-1).numpy().astype(np.float64),\n",
    "                     p, t, 22050)\n",
    "plt.plot(p_seq)\n",
    "plt.plot(compute_deltas_with_last_zero(p_seq))\n",
    "plt.plot(e_seq)\n",
    "plt.plot(compute_deltas_with_last_zero(e_seq))\n",
    "# plt.plot(p)\n",
    "idxs = np.arange(p_seq.shape[0])\n",
    "plt.xticks(idxs, labels=[f'{idx*256/22050:.2f}' if idx%5==0 else '' for idx in idxs], rotation=45)\n",
    "plt.show()"
   ]
  },
  {
   "cell_type": "code",
   "execution_count": 24,
   "id": "4505ac5b-e318-47a7-9eb4-fa10053b331c",
   "metadata": {},
   "outputs": [],
   "source": [
    "# vid = train_df[train_df['utterance_id']==uid]['video_id'].values[0]\n",
    "# video_start_time = vid = train_df[train_df['utterance_id']==uid]['video_start_time'].values[0]"
   ]
  },
  {
   "cell_type": "code",
   "execution_count": 25,
   "id": "a7ce8729-66e1-40e6-a5a0-0ad30b36ed1b",
   "metadata": {},
   "outputs": [
    {
     "name": "stdout",
     "output_type": "stream",
     "text": [
      "CPU times: total: 0 ns\n",
      "Wall time: 0 ns\n"
     ]
    },
    {
     "data": {
      "application/vnd.jupyter.widget-view+json": {
       "model_id": "5803a06a930e452bbd661c0b88f2586f",
       "version_major": 2,
       "version_minor": 0
      },
      "text/plain": [
       "  0%|          | 0/2772 [00:00<?, ?it/s]"
      ]
     },
     "metadata": {},
     "output_type": "display_data"
    },
    {
     "name": "stdout",
     "output_type": "stream",
     "text": [
      "Complete.\n",
      "Skipped 4886 embeddings.\n"
     ]
    }
   ],
   "source": [
    "%time\n",
    "\n",
    "uids = []\n",
    "vids = []\n",
    "embedding_video_start_times = []\n",
    "embedding_seq_nohistory_idxs = []\n",
    "avg_pitchs = []\n",
    "avg_pitch_deltas = []\n",
    "avg_energys = []\n",
    "avg_energy_deltas = []\n",
    "pitch_means = []\n",
    "pitch_stds = []\n",
    "energy_means = []\n",
    "energy_stds = []\n",
    "embeddings = []\n",
    "skipped_counter = 0\n",
    "\n",
    "\n",
    "\n",
    "\n",
    "\n",
    "\n",
    "\n",
    "for uid in tqdm(val_uids):\n",
    "    pitch_path = f'./preprocessed_data/Ego4D_final_v6/pitch/val/Ego4D_final_v6-pitch-{uid}.npy'\n",
    "    energy_path = f'./preprocessed_data/Ego4D_final_v6/energy/val/Ego4D_final_v6-energy-{uid}.npy'\n",
    "    duration_path = f'./preprocessed_data/Ego4D_final_v6/duration/val/Ego4D_final_v6-duration-{uid}.npy'\n",
    "    wav_path = f\"./raw_data/Ego4D_final_v6/val/Ego4D_final_v6/{uid}.wav\"\n",
    "    video_emb_path = f'./preprocessed_data/Ego4D_final_v6/video_embedding/val/{uid}.npy'\n",
    "    p_array = np.load(pitch_path)\n",
    "    e_array = np.load(energy_path)\n",
    "    d_array = np.load(duration_path)\n",
    "    # 注意这里没有还原，依然是normalized的状态\n",
    "    # p_array = p_array * p_std + p_mean\n",
    "    # e_array = e_array * e_std + e_mean\n",
    "    p_seq = expand(p_array, d_array)\n",
    "    e_seq = expand(e_array, d_array)\n",
    "    p_delta_seq = compute_deltas_with_last_zero(p_seq)\n",
    "    e_delta_seq = compute_deltas_with_last_zero(e_seq)\n",
    "\n",
    "    video_emb = np.load(video_emb_path)\n",
    "    vid = val_df[val_df['utterance_id']==uid]['video_id'].values[0]\n",
    "    video_start_time = vid = val_df[val_df['utterance_id']==uid]['video_start_time'].values[0]\n",
    "\n",
    "    for vidx in range(n_history_vecs, video_emb.shape[0]):\n",
    "        # print(uid)\n",
    "        # print('vidx: ', vidx)\n",
    "        vemb_start_time = (vidx - n_history_vecs) * feature_stride / video_fps\n",
    "        vemb_end_time = ((vidx - n_history_vecs) * feature_stride + feature_window_size) / video_fps\n",
    "        # print(f\"{vemb_start_time}->{vemb_end_time}\")\n",
    "        embedding_video_start_time = video_start_time + vemb_start_time\n",
    "        audio_start_frame = vemb_start_time * audio_sample_rate\n",
    "        audio_end_frame = vemb_end_time * audio_sample_rate\n",
    "        audio_seq_start_idx = int(audio_start_frame//audio_hop_size)\n",
    "        audio_seq_end_idx = int(audio_end_frame//audio_hop_size)\n",
    "        # print(f\"{audio_seq_start_idx}->{audio_seq_end_idx}\")\n",
    "        # print(video_emb[vidx].shape)\n",
    "\n",
    "        if p_seq[audio_seq_start_idx:audio_seq_end_idx].shape[0] == 0:\n",
    "            audio_seq_end_idx += 1\n",
    "            \n",
    "        if p_seq[audio_seq_start_idx:audio_seq_end_idx].shape[0] == 0:\n",
    "            skipped_counter += 1\n",
    "            continue\n",
    "\n",
    "\n",
    "        \n",
    "\n",
    "        avg_pitch = p_seq[audio_seq_start_idx:audio_seq_end_idx].mean()\n",
    "        avg_pitch_delta = p_delta_seq[audio_seq_start_idx:audio_seq_end_idx].mean()\n",
    "        avg_energy = e_seq[audio_seq_start_idx:audio_seq_end_idx].mean()\n",
    "        avg_energy_delta = e_delta_seq[audio_seq_start_idx:audio_seq_end_idx].mean()\n",
    "        \n",
    "        uids.append(uid)\n",
    "        vids.append(vid)\n",
    "        embedding_video_start_times.append(embedding_video_start_time)\n",
    "        embedding_seq_nohistory_idxs.append(vidx)\n",
    "        avg_pitchs.append(avg_pitch)\n",
    "        avg_pitch_deltas.append(avg_pitch_delta)\n",
    "        avg_energys.append(avg_energy)\n",
    "        avg_energy_deltas.append(avg_energy_delta)\n",
    "        pitch_means.append(p_mean)\n",
    "        pitch_stds.append(p_std)\n",
    "        energy_means.append(e_mean)\n",
    "        energy_stds.append(e_std)\n",
    "        embeddings.append(video_emb[vidx])\n",
    "        \n",
    "print('Complete.')\n",
    "print(f'Skipped {skipped_counter} embeddings.')"
   ]
  },
  {
   "cell_type": "code",
   "execution_count": 26,
   "id": "2b3d9dbc-0e64-48df-af7e-bffec539a3f9",
   "metadata": {},
   "outputs": [],
   "source": [
    "val_reverse_df = pd.DataFrame(\n",
    "    {\n",
    "        'uid': uids,\n",
    "        'vid': vids,\n",
    "        'embedding_video_start_time': embedding_video_start_times,\n",
    "        'embedding_seq_nohistory_idx': embedding_seq_nohistory_idxs,\n",
    "        'avg_pitch': avg_pitchs,\n",
    "        'avg_pitch_delta': avg_pitch_deltas,\n",
    "        'avg_energy': avg_energys,\n",
    "        'avg_energy_delta': avg_energy_deltas,\n",
    "        'pitch_mean': pitch_means,\n",
    "        'pitch_std': pitch_stds,\n",
    "        'energy_mean': energy_means,\n",
    "        'energy_std': energy_stds,\n",
    "    }\n",
    ")\n",
    "val_cat_df = pd.concat([val_reverse_df, pd.DataFrame(np.array(embeddings))], axis=1)"
   ]
  },
  {
   "cell_type": "code",
   "execution_count": 27,
   "id": "bd37172d-6a5f-4b6b-afb5-6de95b2b6a05",
   "metadata": {},
   "outputs": [],
   "source": [
    "val_cat_df.to_csv('./jupyter_walkthrough/side_exp/video_to_prosody_v6_val.csv', index=None)"
   ]
  },
  {
   "cell_type": "code",
   "execution_count": null,
   "id": "5c529cee-689d-4aa9-b9c1-778978f58772",
   "metadata": {},
   "outputs": [],
   "source": []
  },
  {
   "cell_type": "code",
   "execution_count": 30,
   "id": "1a4510ed-db48-49fa-86f0-956b18bb91a1",
   "metadata": {},
   "outputs": [
    {
     "data": {
      "text/plain": [
       "(118201, 1548)"
      ]
     },
     "execution_count": 30,
     "metadata": {},
     "output_type": "execute_result"
    }
   ],
   "source": [
    "train_cat_df.shape"
   ]
  },
  {
   "cell_type": "code",
   "execution_count": 30,
   "id": "2fa6705b-18b6-428d-a9f8-f6d35e4c4ac4",
   "metadata": {},
   "outputs": [
    {
     "data": {
      "text/plain": [
       "(9566, 1536)"
      ]
     },
     "execution_count": 30,
     "metadata": {},
     "output_type": "execute_result"
    }
   ],
   "source": [
    "np.array(embeddings).shape"
   ]
  },
  {
   "cell_type": "code",
   "execution_count": 37,
   "id": "6f7dc623-a9cc-46f2-a19b-d02c8976211c",
   "metadata": {},
   "outputs": [],
   "source": [
    "cat = pd.concat([val_reverse_df, pd.DataFrame(np.array(embeddings))], axis=1)"
   ]
  },
  {
   "cell_type": "code",
   "execution_count": 38,
   "id": "1206c7e8-8763-4398-94f6-bf9dbe451c44",
   "metadata": {},
   "outputs": [
    {
     "data": {
      "text/plain": [
       "(9566, 1549)"
      ]
     },
     "execution_count": 38,
     "metadata": {},
     "output_type": "execute_result"
    }
   ],
   "source": [
    "cat.shape"
   ]
  },
  {
   "cell_type": "code",
   "execution_count": null,
   "id": "b6606bb9-e9c3-4f86-8d36-9d6c0e506d97",
   "metadata": {},
   "outputs": [],
   "source": []
  },
  {
   "cell_type": "code",
   "execution_count": null,
   "id": "7d56797b-f5ae-47ed-9d09-727b5b2b0ad5",
   "metadata": {},
   "outputs": [],
   "source": []
  },
  {
   "cell_type": "code",
   "execution_count": null,
   "id": "6066592a-eb23-4902-a144-631d4c8e3e5e",
   "metadata": {},
   "outputs": [],
   "source": []
  },
  {
   "cell_type": "code",
   "execution_count": null,
   "id": "a98a8565-7adb-4460-a148-735a099306e2",
   "metadata": {},
   "outputs": [],
   "source": []
  },
  {
   "cell_type": "code",
   "execution_count": null,
   "id": "10e57887-3358-43fa-a1c9-e0dfffa698f7",
   "metadata": {},
   "outputs": [],
   "source": []
  },
  {
   "cell_type": "code",
   "execution_count": null,
   "id": "6c92eab0-307f-4687-8523-e62ba94b7818",
   "metadata": {},
   "outputs": [],
   "source": []
  },
  {
   "cell_type": "code",
   "execution_count": null,
   "id": "03a36187-da80-4579-9caa-a4225a168f13",
   "metadata": {},
   "outputs": [],
   "source": []
  },
  {
   "cell_type": "code",
   "execution_count": null,
   "id": "4802ad1f-2c87-42bf-91ea-cbfa539a505c",
   "metadata": {},
   "outputs": [],
   "source": []
  },
  {
   "cell_type": "code",
   "execution_count": null,
   "id": "d98f262b-8d8d-418f-9e3f-48042ef3410d",
   "metadata": {},
   "outputs": [],
   "source": []
  }
 ],
 "metadata": {
  "kernelspec": {
   "display_name": "Python 3 (ipykernel)",
   "language": "python",
   "name": "python3"
  },
  "language_info": {
   "codemirror_mode": {
    "name": "ipython",
    "version": 3
   },
   "file_extension": ".py",
   "mimetype": "text/x-python",
   "name": "python",
   "nbconvert_exporter": "python",
   "pygments_lexer": "ipython3",
   "version": "3.11.3"
  }
 },
 "nbformat": 4,
 "nbformat_minor": 5
}
