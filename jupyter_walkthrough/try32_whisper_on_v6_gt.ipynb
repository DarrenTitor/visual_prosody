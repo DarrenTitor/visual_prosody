{
 "cells": [
  {
   "cell_type": "code",
   "execution_count": 1,
   "id": "37ed0a88-f81a-44c7-801c-a5ae118d1fb8",
   "metadata": {},
   "outputs": [],
   "source": [
    "from werpy_weighted import werpy\n",
    "import whisper\n",
    "from whisper.tokenizer import get_tokenizer"
   ]
  },
  {
   "cell_type": "code",
   "execution_count": 2,
   "id": "7f62aa84-6763-46d6-a5bd-fa1737d9e60f",
   "metadata": {},
   "outputs": [
    {
     "name": "stdout",
     "output_type": "stream",
     "text": [
      "D:\\Schoolwork\\TERM 3\\WORK\\visual_prosody\n"
     ]
    }
   ],
   "source": [
    "%cd \"D:\\Schoolwork\\TERM 3\\WORK\\visual_prosody\""
   ]
  },
  {
   "cell_type": "code",
   "execution_count": 3,
   "id": "dec3ce9d-5173-41b4-a784-2acf788024ab",
   "metadata": {},
   "outputs": [],
   "source": [
    "import os, sys, glob, shutil\n",
    "import argparse\n",
    "import json\n",
    "import yaml\n",
    "import numpy as np\n",
    "from pprint import pprint\n",
    "import logging\n",
    "import os\n",
    "import os.path as op\n",
    "\n",
    "import torch\n",
    "import torch.nn.functional as F\n",
    "import numpy as np\n",
    "import torchaudio\n",
    "import pandas as pd\n",
    "from tqdm.notebook import tqdm"
   ]
  },
  {
   "cell_type": "code",
   "execution_count": null,
   "id": "8c6245a1-85d3-4418-8b1d-f1a6becaa5c6",
   "metadata": {},
   "outputs": [],
   "source": []
  },
  {
   "cell_type": "code",
   "execution_count": null,
   "id": "6e3d4f62-779a-4929-8286-df3300d84de1",
   "metadata": {},
   "outputs": [],
   "source": []
  },
  {
   "cell_type": "code",
   "execution_count": null,
   "id": "072b1e10-87dd-4b42-acad-cc9147918506",
   "metadata": {},
   "outputs": [],
   "source": []
  },
  {
   "cell_type": "code",
   "execution_count": null,
   "id": "8d2ce66b-8377-42f4-b1ef-f505c257608b",
   "metadata": {},
   "outputs": [],
   "source": []
  },
  {
   "cell_type": "code",
   "execution_count": null,
   "id": "b5db33aa-f124-40d5-8bc7-30fe41e5cfc6",
   "metadata": {},
   "outputs": [],
   "source": []
  },
  {
   "cell_type": "markdown",
   "id": "53a5476a-0121-4a45-834e-3728bba29717",
   "metadata": {},
   "source": [
    "# v6"
   ]
  },
  {
   "cell_type": "code",
   "execution_count": 4,
   "id": "d90d5378-2dfc-4e9b-80c3-670263fdd503",
   "metadata": {},
   "outputs": [],
   "source": [
    "tokenizer = get_tokenizer(multilingual=False)  # use multilingual=True if using multilingual model\n",
    "number_tokens = [\n",
    "    i \n",
    "    for i in range(tokenizer.eot)\n",
    "    if all(c in \"0123456789\" for c in tokenizer.decode([i]).removeprefix(\" \"))\n",
    "]"
   ]
  },
  {
   "cell_type": "code",
   "execution_count": 5,
   "id": "e57ae116-eedd-4b55-b1e7-7a39c95f4703",
   "metadata": {},
   "outputs": [],
   "source": [
    "device = torch.device(\"cuda\" if torch.cuda.is_available() else \"cpu\")\n",
    "\n",
    "whisper_model = whisper.load_model('base.en').to(device)"
   ]
  },
  {
   "cell_type": "code",
   "execution_count": 6,
   "id": "38389f5d-9225-4cd2-8c70-1582a0abccaf",
   "metadata": {},
   "outputs": [],
   "source": [
    "split_txt_train_path = r'.\\preprocessed_data\\Ego4D_final_v6\\train.txt'\n",
    "train_uids = []\n",
    "gt_transcripts_dict = {}\n",
    "with open(split_txt_train_path) as file:\n",
    "    for line in file:\n",
    "        # print(line.split('|')[0])\n",
    "        train_uids.append(line.split('|')[0])\n",
    "        gt_transcripts_dict[line.split('|')[0]] = line.split('|')[-1]"
   ]
  },
  {
   "cell_type": "code",
   "execution_count": 7,
   "id": "c4364409-a095-4d8e-bee5-0e18e936c045",
   "metadata": {},
   "outputs": [
    {
     "data": {
      "text/plain": [
       "27292"
      ]
     },
     "execution_count": 7,
     "metadata": {},
     "output_type": "execute_result"
    }
   ],
   "source": [
    "len(train_uids)"
   ]
  },
  {
   "cell_type": "code",
   "execution_count": 8,
   "id": "fce9d6b8-fae6-46ff-b7b0-0a4cc4869830",
   "metadata": {},
   "outputs": [],
   "source": [
    "gt_folder = r'.\\raw_data\\Ego4D_final_v6\\train\\Ego4D_final_v6'"
   ]
  },
  {
   "cell_type": "code",
   "execution_count": 9,
   "id": "40cec763-56d2-471a-9571-866f1fe7e232",
   "metadata": {},
   "outputs": [
    {
     "data": {
      "application/vnd.jupyter.widget-view+json": {
       "model_id": "146168526b444b8a9c6b278767145e98",
       "version_major": 2,
       "version_minor": 0
      },
      "text/plain": [
       "  0%|          | 0/27292 [00:00<?, ?it/s]"
      ]
     },
     "metadata": {},
     "output_type": "display_data"
    },
    {
     "ename": "KeyboardInterrupt",
     "evalue": "",
     "output_type": "error",
     "traceback": [
      "\u001b[1;31m---------------------------------------------------------------------------\u001b[0m",
      "\u001b[1;31mKeyboardInterrupt\u001b[0m                         Traceback (most recent call last)",
      "File \u001b[1;32m<timed exec>:7\u001b[0m\n",
      "File \u001b[1;32mD:\\Programs\\Python\\Python311\\Lib\\site-packages\\whisper\\transcribe.py:229\u001b[0m, in \u001b[0;36mtranscribe\u001b[1;34m(model, audio, verbose, temperature, compression_ratio_threshold, logprob_threshold, no_speech_threshold, condition_on_previous_text, initial_prompt, word_timestamps, prepend_punctuations, append_punctuations, **decode_options)\u001b[0m\n\u001b[0;32m    226\u001b[0m mel_segment \u001b[38;5;241m=\u001b[39m pad_or_trim(mel_segment, N_FRAMES)\u001b[38;5;241m.\u001b[39mto(model\u001b[38;5;241m.\u001b[39mdevice)\u001b[38;5;241m.\u001b[39mto(dtype)\n\u001b[0;32m    228\u001b[0m decode_options[\u001b[38;5;124m\"\u001b[39m\u001b[38;5;124mprompt\u001b[39m\u001b[38;5;124m\"\u001b[39m] \u001b[38;5;241m=\u001b[39m all_tokens[prompt_reset_since:]\n\u001b[1;32m--> 229\u001b[0m result: DecodingResult \u001b[38;5;241m=\u001b[39m \u001b[43mdecode_with_fallback\u001b[49m\u001b[43m(\u001b[49m\u001b[43mmel_segment\u001b[49m\u001b[43m)\u001b[49m\n\u001b[0;32m    230\u001b[0m tokens \u001b[38;5;241m=\u001b[39m torch\u001b[38;5;241m.\u001b[39mtensor(result\u001b[38;5;241m.\u001b[39mtokens)\n\u001b[0;32m    232\u001b[0m \u001b[38;5;28;01mif\u001b[39;00m no_speech_threshold \u001b[38;5;129;01mis\u001b[39;00m \u001b[38;5;129;01mnot\u001b[39;00m \u001b[38;5;28;01mNone\u001b[39;00m:\n\u001b[0;32m    233\u001b[0m     \u001b[38;5;66;03m# no voice activity check\u001b[39;00m\n",
      "File \u001b[1;32mD:\\Programs\\Python\\Python311\\Lib\\site-packages\\whisper\\transcribe.py:164\u001b[0m, in \u001b[0;36mtranscribe.<locals>.decode_with_fallback\u001b[1;34m(segment)\u001b[0m\n\u001b[0;32m    161\u001b[0m     kwargs\u001b[38;5;241m.\u001b[39mpop(\u001b[38;5;124m\"\u001b[39m\u001b[38;5;124mbest_of\u001b[39m\u001b[38;5;124m\"\u001b[39m, \u001b[38;5;28;01mNone\u001b[39;00m)\n\u001b[0;32m    163\u001b[0m options \u001b[38;5;241m=\u001b[39m DecodingOptions(\u001b[38;5;241m*\u001b[39m\u001b[38;5;241m*\u001b[39mkwargs, temperature\u001b[38;5;241m=\u001b[39mt)\n\u001b[1;32m--> 164\u001b[0m decode_result \u001b[38;5;241m=\u001b[39m \u001b[43mmodel\u001b[49m\u001b[38;5;241;43m.\u001b[39;49m\u001b[43mdecode\u001b[49m\u001b[43m(\u001b[49m\u001b[43msegment\u001b[49m\u001b[43m,\u001b[49m\u001b[43m \u001b[49m\u001b[43moptions\u001b[49m\u001b[43m)\u001b[49m\n\u001b[0;32m    166\u001b[0m needs_fallback \u001b[38;5;241m=\u001b[39m \u001b[38;5;28;01mFalse\u001b[39;00m\n\u001b[0;32m    167\u001b[0m \u001b[38;5;28;01mif\u001b[39;00m (\n\u001b[0;32m    168\u001b[0m     compression_ratio_threshold \u001b[38;5;129;01mis\u001b[39;00m \u001b[38;5;129;01mnot\u001b[39;00m \u001b[38;5;28;01mNone\u001b[39;00m\n\u001b[0;32m    169\u001b[0m     \u001b[38;5;129;01mand\u001b[39;00m decode_result\u001b[38;5;241m.\u001b[39mcompression_ratio \u001b[38;5;241m>\u001b[39m compression_ratio_threshold\n\u001b[0;32m    170\u001b[0m ):\n",
      "File \u001b[1;32mD:\\Programs\\Python\\Python311\\Lib\\site-packages\\torch\\utils\\_contextlib.py:115\u001b[0m, in \u001b[0;36mcontext_decorator.<locals>.decorate_context\u001b[1;34m(*args, **kwargs)\u001b[0m\n\u001b[0;32m    112\u001b[0m \u001b[38;5;129m@functools\u001b[39m\u001b[38;5;241m.\u001b[39mwraps(func)\n\u001b[0;32m    113\u001b[0m \u001b[38;5;28;01mdef\u001b[39;00m \u001b[38;5;21mdecorate_context\u001b[39m(\u001b[38;5;241m*\u001b[39margs, \u001b[38;5;241m*\u001b[39m\u001b[38;5;241m*\u001b[39mkwargs):\n\u001b[0;32m    114\u001b[0m     \u001b[38;5;28;01mwith\u001b[39;00m ctx_factory():\n\u001b[1;32m--> 115\u001b[0m         \u001b[38;5;28;01mreturn\u001b[39;00m \u001b[43mfunc\u001b[49m\u001b[43m(\u001b[49m\u001b[38;5;241;43m*\u001b[39;49m\u001b[43margs\u001b[49m\u001b[43m,\u001b[49m\u001b[43m \u001b[49m\u001b[38;5;241;43m*\u001b[39;49m\u001b[38;5;241;43m*\u001b[39;49m\u001b[43mkwargs\u001b[49m\u001b[43m)\u001b[49m\n",
      "File \u001b[1;32mD:\\Programs\\Python\\Python311\\Lib\\site-packages\\whisper\\decoding.py:811\u001b[0m, in \u001b[0;36mdecode\u001b[1;34m(model, mel, options, **kwargs)\u001b[0m\n\u001b[0;32m    808\u001b[0m \u001b[38;5;28;01mif\u001b[39;00m kwargs:\n\u001b[0;32m    809\u001b[0m     options \u001b[38;5;241m=\u001b[39m replace(options, \u001b[38;5;241m*\u001b[39m\u001b[38;5;241m*\u001b[39mkwargs)\n\u001b[1;32m--> 811\u001b[0m result \u001b[38;5;241m=\u001b[39m \u001b[43mDecodingTask\u001b[49m\u001b[43m(\u001b[49m\u001b[43mmodel\u001b[49m\u001b[43m,\u001b[49m\u001b[43m \u001b[49m\u001b[43moptions\u001b[49m\u001b[43m)\u001b[49m\u001b[38;5;241;43m.\u001b[39;49m\u001b[43mrun\u001b[49m\u001b[43m(\u001b[49m\u001b[43mmel\u001b[49m\u001b[43m)\u001b[49m\n\u001b[0;32m    813\u001b[0m \u001b[38;5;28;01mreturn\u001b[39;00m result[\u001b[38;5;241m0\u001b[39m] \u001b[38;5;28;01mif\u001b[39;00m single \u001b[38;5;28;01melse\u001b[39;00m result\n",
      "File \u001b[1;32mD:\\Programs\\Python\\Python311\\Lib\\site-packages\\torch\\utils\\_contextlib.py:115\u001b[0m, in \u001b[0;36mcontext_decorator.<locals>.decorate_context\u001b[1;34m(*args, **kwargs)\u001b[0m\n\u001b[0;32m    112\u001b[0m \u001b[38;5;129m@functools\u001b[39m\u001b[38;5;241m.\u001b[39mwraps(func)\n\u001b[0;32m    113\u001b[0m \u001b[38;5;28;01mdef\u001b[39;00m \u001b[38;5;21mdecorate_context\u001b[39m(\u001b[38;5;241m*\u001b[39margs, \u001b[38;5;241m*\u001b[39m\u001b[38;5;241m*\u001b[39mkwargs):\n\u001b[0;32m    114\u001b[0m     \u001b[38;5;28;01mwith\u001b[39;00m ctx_factory():\n\u001b[1;32m--> 115\u001b[0m         \u001b[38;5;28;01mreturn\u001b[39;00m \u001b[43mfunc\u001b[49m\u001b[43m(\u001b[49m\u001b[38;5;241;43m*\u001b[39;49m\u001b[43margs\u001b[49m\u001b[43m,\u001b[49m\u001b[43m \u001b[49m\u001b[38;5;241;43m*\u001b[39;49m\u001b[38;5;241;43m*\u001b[39;49m\u001b[43mkwargs\u001b[49m\u001b[43m)\u001b[49m\n",
      "File \u001b[1;32mD:\\Programs\\Python\\Python311\\Lib\\site-packages\\whisper\\decoding.py:720\u001b[0m, in \u001b[0;36mDecodingTask.run\u001b[1;34m(self, mel)\u001b[0m\n\u001b[0;32m    710\u001b[0m     \u001b[38;5;28;01mreturn\u001b[39;00m [\n\u001b[0;32m    711\u001b[0m         DecodingResult(\n\u001b[0;32m    712\u001b[0m             audio_features\u001b[38;5;241m=\u001b[39mfeatures, language\u001b[38;5;241m=\u001b[39mlanguage, language_probs\u001b[38;5;241m=\u001b[39mprobs\n\u001b[1;32m   (...)\u001b[0m\n\u001b[0;32m    716\u001b[0m         )\n\u001b[0;32m    717\u001b[0m     ]\n\u001b[0;32m    719\u001b[0m \u001b[38;5;66;03m# repeat the audio & text tensors by the group size, for beam search or best-of-n sampling\u001b[39;00m\n\u001b[1;32m--> 720\u001b[0m audio_features \u001b[38;5;241m=\u001b[39m \u001b[43maudio_features\u001b[49m\u001b[38;5;241;43m.\u001b[39;49m\u001b[43mrepeat_interleave\u001b[49m\u001b[43m(\u001b[49m\u001b[38;5;28;43mself\u001b[39;49m\u001b[38;5;241;43m.\u001b[39;49m\u001b[43mn_group\u001b[49m\u001b[43m,\u001b[49m\u001b[43m \u001b[49m\u001b[43mdim\u001b[49m\u001b[38;5;241;43m=\u001b[39;49m\u001b[38;5;241;43m0\u001b[39;49m\u001b[43m)\u001b[49m\n\u001b[0;32m    721\u001b[0m tokens \u001b[38;5;241m=\u001b[39m tokens\u001b[38;5;241m.\u001b[39mrepeat_interleave(\u001b[38;5;28mself\u001b[39m\u001b[38;5;241m.\u001b[39mn_group, dim\u001b[38;5;241m=\u001b[39m\u001b[38;5;241m0\u001b[39m)\u001b[38;5;241m.\u001b[39mto(audio_features\u001b[38;5;241m.\u001b[39mdevice)\n\u001b[0;32m    723\u001b[0m \u001b[38;5;66;03m# call the main sampling loop\u001b[39;00m\n",
      "\u001b[1;31mKeyboardInterrupt\u001b[0m: "
     ]
    }
   ],
   "source": [
    "%%time\n",
    "uids = []\n",
    "whisper_transcripts = []\n",
    "gt_transcripts = []\n",
    "\n",
    "for uid in tqdm(train_uids):\n",
    "    uids.append(uid)\n",
    "    output = whisper_model.transcribe(\n",
    "            op.join(gt_folder, f\"{uid}.wav\"),\n",
    "            suppress_tokens=[-1] + number_tokens,\n",
    "    )\n",
    "    whisper_transcript = output[\"text\"]\n",
    "    gt_transcript = gt_transcripts_dict[uid]\n",
    "\n",
    "    whisper_transcripts.append(whisper_transcript)\n",
    "    gt_transcripts.append(gt_transcript)\n"
   ]
  },
  {
   "cell_type": "code",
   "execution_count": 10,
   "id": "1f866eff-ecc0-4854-aae8-746304b4f637",
   "metadata": {},
   "outputs": [
    {
     "ename": "ValueError",
     "evalue": "All arrays must be of the same length",
     "output_type": "error",
     "traceback": [
      "\u001b[1;31m---------------------------------------------------------------------------\u001b[0m",
      "\u001b[1;31mValueError\u001b[0m                                Traceback (most recent call last)",
      "Cell \u001b[1;32mIn[10], line 1\u001b[0m\n\u001b[1;32m----> 1\u001b[0m whisper_df_v6gt_train \u001b[38;5;241m=\u001b[39m \u001b[43mpd\u001b[49m\u001b[38;5;241;43m.\u001b[39;49m\u001b[43mDataFrame\u001b[49m\u001b[43m(\u001b[49m\u001b[43m{\u001b[49m\n\u001b[0;32m      2\u001b[0m \u001b[43m    \u001b[49m\u001b[38;5;124;43m'\u001b[39;49m\u001b[38;5;124;43muid\u001b[39;49m\u001b[38;5;124;43m'\u001b[39;49m\u001b[43m:\u001b[49m\u001b[43m \u001b[49m\u001b[43muids\u001b[49m\u001b[43m,\u001b[49m\n\u001b[0;32m      3\u001b[0m \u001b[43m    \u001b[49m\u001b[38;5;124;43m'\u001b[39;49m\u001b[38;5;124;43mwhisper_transcripts\u001b[39;49m\u001b[38;5;124;43m'\u001b[39;49m\u001b[43m:\u001b[49m\u001b[43m \u001b[49m\u001b[43mwhisper_transcripts\u001b[49m\u001b[43m,\u001b[49m\n\u001b[0;32m      4\u001b[0m \u001b[43m    \u001b[49m\u001b[38;5;124;43m'\u001b[39;49m\u001b[38;5;124;43mgt_transcripts\u001b[39;49m\u001b[38;5;124;43m'\u001b[39;49m\u001b[43m:\u001b[49m\u001b[43m \u001b[49m\u001b[43mgt_transcripts\u001b[49m\u001b[43m,\u001b[49m\n\u001b[0;32m      5\u001b[0m \u001b[43m}\u001b[49m\u001b[43m)\u001b[49m\n",
      "File \u001b[1;32mD:\\Programs\\Python\\Python311\\Lib\\site-packages\\pandas\\core\\frame.py:709\u001b[0m, in \u001b[0;36mDataFrame.__init__\u001b[1;34m(self, data, index, columns, dtype, copy)\u001b[0m\n\u001b[0;32m    703\u001b[0m     mgr \u001b[38;5;241m=\u001b[39m \u001b[38;5;28mself\u001b[39m\u001b[38;5;241m.\u001b[39m_init_mgr(\n\u001b[0;32m    704\u001b[0m         data, axes\u001b[38;5;241m=\u001b[39m{\u001b[38;5;124m\"\u001b[39m\u001b[38;5;124mindex\u001b[39m\u001b[38;5;124m\"\u001b[39m: index, \u001b[38;5;124m\"\u001b[39m\u001b[38;5;124mcolumns\u001b[39m\u001b[38;5;124m\"\u001b[39m: columns}, dtype\u001b[38;5;241m=\u001b[39mdtype, copy\u001b[38;5;241m=\u001b[39mcopy\n\u001b[0;32m    705\u001b[0m     )\n\u001b[0;32m    707\u001b[0m \u001b[38;5;28;01melif\u001b[39;00m \u001b[38;5;28misinstance\u001b[39m(data, \u001b[38;5;28mdict\u001b[39m):\n\u001b[0;32m    708\u001b[0m     \u001b[38;5;66;03m# GH#38939 de facto copy defaults to False only in non-dict cases\u001b[39;00m\n\u001b[1;32m--> 709\u001b[0m     mgr \u001b[38;5;241m=\u001b[39m \u001b[43mdict_to_mgr\u001b[49m\u001b[43m(\u001b[49m\u001b[43mdata\u001b[49m\u001b[43m,\u001b[49m\u001b[43m \u001b[49m\u001b[43mindex\u001b[49m\u001b[43m,\u001b[49m\u001b[43m \u001b[49m\u001b[43mcolumns\u001b[49m\u001b[43m,\u001b[49m\u001b[43m \u001b[49m\u001b[43mdtype\u001b[49m\u001b[38;5;241;43m=\u001b[39;49m\u001b[43mdtype\u001b[49m\u001b[43m,\u001b[49m\u001b[43m \u001b[49m\u001b[43mcopy\u001b[49m\u001b[38;5;241;43m=\u001b[39;49m\u001b[43mcopy\u001b[49m\u001b[43m,\u001b[49m\u001b[43m \u001b[49m\u001b[43mtyp\u001b[49m\u001b[38;5;241;43m=\u001b[39;49m\u001b[43mmanager\u001b[49m\u001b[43m)\u001b[49m\n\u001b[0;32m    710\u001b[0m \u001b[38;5;28;01melif\u001b[39;00m \u001b[38;5;28misinstance\u001b[39m(data, ma\u001b[38;5;241m.\u001b[39mMaskedArray):\n\u001b[0;32m    711\u001b[0m     \u001b[38;5;28;01mfrom\u001b[39;00m \u001b[38;5;21;01mnumpy\u001b[39;00m\u001b[38;5;21;01m.\u001b[39;00m\u001b[38;5;21;01mma\u001b[39;00m \u001b[38;5;28;01mimport\u001b[39;00m mrecords\n",
      "File \u001b[1;32mD:\\Programs\\Python\\Python311\\Lib\\site-packages\\pandas\\core\\internals\\construction.py:481\u001b[0m, in \u001b[0;36mdict_to_mgr\u001b[1;34m(data, index, columns, dtype, typ, copy)\u001b[0m\n\u001b[0;32m    477\u001b[0m     \u001b[38;5;28;01melse\u001b[39;00m:\n\u001b[0;32m    478\u001b[0m         \u001b[38;5;66;03m# dtype check to exclude e.g. range objects, scalars\u001b[39;00m\n\u001b[0;32m    479\u001b[0m         arrays \u001b[38;5;241m=\u001b[39m [x\u001b[38;5;241m.\u001b[39mcopy() \u001b[38;5;28;01mif\u001b[39;00m \u001b[38;5;28mhasattr\u001b[39m(x, \u001b[38;5;124m\"\u001b[39m\u001b[38;5;124mdtype\u001b[39m\u001b[38;5;124m\"\u001b[39m) \u001b[38;5;28;01melse\u001b[39;00m x \u001b[38;5;28;01mfor\u001b[39;00m x \u001b[38;5;129;01min\u001b[39;00m arrays]\n\u001b[1;32m--> 481\u001b[0m \u001b[38;5;28;01mreturn\u001b[39;00m \u001b[43marrays_to_mgr\u001b[49m\u001b[43m(\u001b[49m\u001b[43marrays\u001b[49m\u001b[43m,\u001b[49m\u001b[43m \u001b[49m\u001b[43mcolumns\u001b[49m\u001b[43m,\u001b[49m\u001b[43m \u001b[49m\u001b[43mindex\u001b[49m\u001b[43m,\u001b[49m\u001b[43m \u001b[49m\u001b[43mdtype\u001b[49m\u001b[38;5;241;43m=\u001b[39;49m\u001b[43mdtype\u001b[49m\u001b[43m,\u001b[49m\u001b[43m \u001b[49m\u001b[43mtyp\u001b[49m\u001b[38;5;241;43m=\u001b[39;49m\u001b[43mtyp\u001b[49m\u001b[43m,\u001b[49m\u001b[43m \u001b[49m\u001b[43mconsolidate\u001b[49m\u001b[38;5;241;43m=\u001b[39;49m\u001b[43mcopy\u001b[49m\u001b[43m)\u001b[49m\n",
      "File \u001b[1;32mD:\\Programs\\Python\\Python311\\Lib\\site-packages\\pandas\\core\\internals\\construction.py:115\u001b[0m, in \u001b[0;36marrays_to_mgr\u001b[1;34m(arrays, columns, index, dtype, verify_integrity, typ, consolidate)\u001b[0m\n\u001b[0;32m    112\u001b[0m \u001b[38;5;28;01mif\u001b[39;00m verify_integrity:\n\u001b[0;32m    113\u001b[0m     \u001b[38;5;66;03m# figure out the index, if necessary\u001b[39;00m\n\u001b[0;32m    114\u001b[0m     \u001b[38;5;28;01mif\u001b[39;00m index \u001b[38;5;129;01mis\u001b[39;00m \u001b[38;5;28;01mNone\u001b[39;00m:\n\u001b[1;32m--> 115\u001b[0m         index \u001b[38;5;241m=\u001b[39m \u001b[43m_extract_index\u001b[49m\u001b[43m(\u001b[49m\u001b[43marrays\u001b[49m\u001b[43m)\u001b[49m\n\u001b[0;32m    116\u001b[0m     \u001b[38;5;28;01melse\u001b[39;00m:\n\u001b[0;32m    117\u001b[0m         index \u001b[38;5;241m=\u001b[39m ensure_index(index)\n",
      "File \u001b[1;32mD:\\Programs\\Python\\Python311\\Lib\\site-packages\\pandas\\core\\internals\\construction.py:655\u001b[0m, in \u001b[0;36m_extract_index\u001b[1;34m(data)\u001b[0m\n\u001b[0;32m    653\u001b[0m lengths \u001b[38;5;241m=\u001b[39m \u001b[38;5;28mlist\u001b[39m(\u001b[38;5;28mset\u001b[39m(raw_lengths))\n\u001b[0;32m    654\u001b[0m \u001b[38;5;28;01mif\u001b[39;00m \u001b[38;5;28mlen\u001b[39m(lengths) \u001b[38;5;241m>\u001b[39m \u001b[38;5;241m1\u001b[39m:\n\u001b[1;32m--> 655\u001b[0m     \u001b[38;5;28;01mraise\u001b[39;00m \u001b[38;5;167;01mValueError\u001b[39;00m(\u001b[38;5;124m\"\u001b[39m\u001b[38;5;124mAll arrays must be of the same length\u001b[39m\u001b[38;5;124m\"\u001b[39m)\n\u001b[0;32m    657\u001b[0m \u001b[38;5;28;01mif\u001b[39;00m have_dicts:\n\u001b[0;32m    658\u001b[0m     \u001b[38;5;28;01mraise\u001b[39;00m \u001b[38;5;167;01mValueError\u001b[39;00m(\n\u001b[0;32m    659\u001b[0m         \u001b[38;5;124m\"\u001b[39m\u001b[38;5;124mMixing dicts with non-Series may lead to ambiguous ordering.\u001b[39m\u001b[38;5;124m\"\u001b[39m\n\u001b[0;32m    660\u001b[0m     )\n",
      "\u001b[1;31mValueError\u001b[0m: All arrays must be of the same length"
     ]
    }
   ],
   "source": [
    "whisper_df_v6gt_train = pd.DataFrame({\n",
    "    'uid': uids,\n",
    "    'whisper_transcripts': whisper_transcripts,\n",
    "    'gt_transcripts': gt_transcripts,\n",
    "})"
   ]
  },
  {
   "cell_type": "code",
   "execution_count": null,
   "id": "65c82c3c-cf85-419a-ae0f-05c842bb2199",
   "metadata": {},
   "outputs": [],
   "source": [
    "whisper_df_v6gt_train.head()"
   ]
  },
  {
   "cell_type": "code",
   "execution_count": null,
   "id": "3b9221ad-f056-47e3-8ff7-f4d8064776e0",
   "metadata": {},
   "outputs": [],
   "source": [
    "whisper_df_v6gt_train.to_csv(r\".\\jupyter_walkthrough\\metrics\\whisper_df_v6gt_train.csv\", index=False)"
   ]
  },
  {
   "cell_type": "code",
   "execution_count": null,
   "id": "4842dda6-e380-4554-8494-e35dce418b1c",
   "metadata": {},
   "outputs": [],
   "source": []
  },
  {
   "cell_type": "code",
   "execution_count": null,
   "id": "a3209e11-8cd8-48e1-b0b9-397d7800fcbe",
   "metadata": {},
   "outputs": [],
   "source": []
  },
  {
   "cell_type": "code",
   "execution_count": 6,
   "id": "e13e62cf-98b8-4d40-891b-8ae055516d53",
   "metadata": {},
   "outputs": [],
   "source": [
    "split_txt_val_path = r'.\\preprocessed_data\\Ego4D_final_v6\\val.txt'\n",
    "val_uids = []\n",
    "gt_transcripts_dict = {}\n",
    "with open(split_txt_val_path) as file:\n",
    "    for line in file:\n",
    "        # print(line.split('|')[0])\n",
    "        val_uids.append(line.split('|')[0])\n",
    "        gt_transcripts_dict[line.split('|')[0]] = line.split('|')[-1]"
   ]
  },
  {
   "cell_type": "code",
   "execution_count": 7,
   "id": "8b275e06-1985-4625-ac07-755dacab663f",
   "metadata": {},
   "outputs": [
    {
     "data": {
      "text/plain": [
       "2772"
      ]
     },
     "execution_count": 7,
     "metadata": {},
     "output_type": "execute_result"
    }
   ],
   "source": [
    "len(val_uids)"
   ]
  },
  {
   "cell_type": "code",
   "execution_count": 8,
   "id": "2b4d88b5-8d46-4a7c-837b-e6862d40b1bc",
   "metadata": {},
   "outputs": [],
   "source": [
    "gt_folder = r'.\\raw_data\\Ego4D_final_v6\\val\\Ego4D_final_v6'"
   ]
  },
  {
   "cell_type": "code",
   "execution_count": 9,
   "id": "b5729f13-d984-4540-aa7c-63086cdf80be",
   "metadata": {},
   "outputs": [
    {
     "data": {
      "application/vnd.jupyter.widget-view+json": {
       "model_id": "0b5619263a7d4d9f9fea11faef457990",
       "version_major": 2,
       "version_minor": 0
      },
      "text/plain": [
       "  0%|          | 0/2772 [00:00<?, ?it/s]"
      ]
     },
     "metadata": {},
     "output_type": "display_data"
    },
    {
     "name": "stdout",
     "output_type": "stream",
     "text": [
      "CPU times: total: 1h 2min 17s\n",
      "Wall time: 25min 25s\n"
     ]
    }
   ],
   "source": [
    "%%time\n",
    "uids = []\n",
    "whisper_transcripts = []\n",
    "gt_transcripts = []\n",
    "\n",
    "for uid in tqdm(val_uids):\n",
    "    uids.append(uid)\n",
    "    output = whisper_model.transcribe(\n",
    "            op.join(gt_folder, f\"{uid}.wav\"),\n",
    "            suppress_tokens=[-1] + number_tokens,\n",
    "    )\n",
    "    whisper_transcript = output[\"text\"]\n",
    "    gt_transcript = gt_transcripts_dict[uid]\n",
    "\n",
    "    whisper_transcripts.append(whisper_transcript)\n",
    "    gt_transcripts.append(gt_transcript)\n"
   ]
  },
  {
   "cell_type": "code",
   "execution_count": 10,
   "id": "4a8a1be8-363c-49c7-bf21-ec3511a7958d",
   "metadata": {},
   "outputs": [],
   "source": [
    "whisper_df_v6gt_val = pd.DataFrame({\n",
    "    'uid': uids,\n",
    "    'whisper_transcripts': whisper_transcripts,\n",
    "    'gt_transcripts': gt_transcripts,\n",
    "})"
   ]
  },
  {
   "cell_type": "code",
   "execution_count": 11,
   "id": "8a25ed99-390a-4d78-8224-65e460a6abb5",
   "metadata": {},
   "outputs": [
    {
     "data": {
      "text/html": [
       "<div>\n",
       "<style scoped>\n",
       "    .dataframe tbody tr th:only-of-type {\n",
       "        vertical-align: middle;\n",
       "    }\n",
       "\n",
       "    .dataframe tbody tr th {\n",
       "        vertical-align: top;\n",
       "    }\n",
       "\n",
       "    .dataframe thead th {\n",
       "        text-align: right;\n",
       "    }\n",
       "</style>\n",
       "<table border=\"1\" class=\"dataframe\">\n",
       "  <thead>\n",
       "    <tr style=\"text-align: right;\">\n",
       "      <th></th>\n",
       "      <th>uid</th>\n",
       "      <th>whisper_transcripts</th>\n",
       "      <th>gt_transcripts</th>\n",
       "    </tr>\n",
       "  </thead>\n",
       "  <tbody>\n",
       "    <tr>\n",
       "      <th>0</th>\n",
       "      <td>9d58583c-20de-439d-b1cd-9c2265bdedd8</td>\n",
       "      <td>What?</td>\n",
       "      <td>what \\n</td>\n",
       "    </tr>\n",
       "    <tr>\n",
       "      <th>1</th>\n",
       "      <td>4a506707-52ea-493e-98c4-f667e3222d44</td>\n",
       "      <td>Pretty shit, to be honest.</td>\n",
       "      <td>pretty shit to be honest \\n</td>\n",
       "    </tr>\n",
       "    <tr>\n",
       "      <th>2</th>\n",
       "      <td>0b67f942-6ebf-403d-aff0-f4e5d62d3140</td>\n",
       "      <td>One of them together.</td>\n",
       "      <td>oh when you nail them together they won't be ...</td>\n",
       "    </tr>\n",
       "    <tr>\n",
       "      <th>3</th>\n",
       "      <td>c237c6d5-f413-4e25-82e2-af7b408d390a</td>\n",
       "      <td>No, no, I'm certainly. As if there were right...</td>\n",
       "      <td>no not necessary cuz if they're warped right ...</td>\n",
       "    </tr>\n",
       "    <tr>\n",
       "      <th>4</th>\n",
       "      <td>b8ed5cf9-b8ff-4da3-a764-a59020b85277</td>\n",
       "      <td>See the dots and there.</td>\n",
       "      <td>or we could just use the \\n</td>\n",
       "    </tr>\n",
       "  </tbody>\n",
       "</table>\n",
       "</div>"
      ],
      "text/plain": [
       "                                    uid   \n",
       "0  9d58583c-20de-439d-b1cd-9c2265bdedd8  \\\n",
       "1  4a506707-52ea-493e-98c4-f667e3222d44   \n",
       "2  0b67f942-6ebf-403d-aff0-f4e5d62d3140   \n",
       "3  c237c6d5-f413-4e25-82e2-af7b408d390a   \n",
       "4  b8ed5cf9-b8ff-4da3-a764-a59020b85277   \n",
       "\n",
       "                                 whisper_transcripts   \n",
       "0                                              What?  \\\n",
       "1                         Pretty shit, to be honest.   \n",
       "2                              One of them together.   \n",
       "3   No, no, I'm certainly. As if there were right...   \n",
       "4                            See the dots and there.   \n",
       "\n",
       "                                      gt_transcripts  \n",
       "0                                            what \\n  \n",
       "1                        pretty shit to be honest \\n  \n",
       "2   oh when you nail them together they won't be ...  \n",
       "3   no not necessary cuz if they're warped right ...  \n",
       "4                        or we could just use the \\n  "
      ]
     },
     "execution_count": 11,
     "metadata": {},
     "output_type": "execute_result"
    }
   ],
   "source": [
    "whisper_df_v6gt_val.head()"
   ]
  },
  {
   "cell_type": "code",
   "execution_count": 12,
   "id": "4c1fb99f-6d3d-4e0b-bc6e-34bb9f67f5da",
   "metadata": {},
   "outputs": [],
   "source": [
    "whisper_df_v6gt_val.to_csv(r\".\\jupyter_walkthrough\\metrics\\whisper_df_v6gt_val.csv\", index=False)"
   ]
  },
  {
   "cell_type": "code",
   "execution_count": null,
   "id": "250d78b3-2b15-40b9-bfa4-cb738aa49075",
   "metadata": {},
   "outputs": [],
   "source": []
  },
  {
   "cell_type": "code",
   "execution_count": null,
   "id": "67cb655f-4690-4c24-8322-437eaee619d3",
   "metadata": {},
   "outputs": [],
   "source": []
  },
  {
   "cell_type": "code",
   "execution_count": null,
   "id": "e6b0db20-187b-4960-86bd-d9964c8d37cc",
   "metadata": {},
   "outputs": [],
   "source": []
  },
  {
   "cell_type": "code",
   "execution_count": null,
   "id": "88d3d0e9-3738-4be9-8bcb-1b06897ef6d2",
   "metadata": {},
   "outputs": [],
   "source": []
  },
  {
   "cell_type": "code",
   "execution_count": null,
   "id": "8d644e52-03d4-4e7b-82be-8b3ad3a88b37",
   "metadata": {},
   "outputs": [],
   "source": []
  },
  {
   "cell_type": "code",
   "execution_count": null,
   "id": "69d0ab9f-c158-4da9-b9f3-62e81e32a0ab",
   "metadata": {},
   "outputs": [],
   "source": []
  },
  {
   "cell_type": "code",
   "execution_count": null,
   "id": "1437a5b4-65f0-4410-8736-9c4de29819db",
   "metadata": {},
   "outputs": [],
   "source": []
  },
  {
   "cell_type": "code",
   "execution_count": null,
   "id": "3ac7d201-1241-4227-b6c4-ffea041266a5",
   "metadata": {},
   "outputs": [],
   "source": []
  },
  {
   "cell_type": "code",
   "execution_count": null,
   "id": "3815b667-836c-4cbc-a8ca-63446e829af4",
   "metadata": {},
   "outputs": [],
   "source": []
  },
  {
   "cell_type": "code",
   "execution_count": null,
   "id": "6c906e53-467e-4055-b20b-7d38b1aeeefa",
   "metadata": {},
   "outputs": [],
   "source": []
  },
  {
   "cell_type": "code",
   "execution_count": null,
   "id": "1e4e0a96-940b-43ab-b6bb-25b00b009477",
   "metadata": {},
   "outputs": [],
   "source": []
  },
  {
   "cell_type": "code",
   "execution_count": null,
   "id": "b59134d3-e1de-41d5-a5ec-46f847af170c",
   "metadata": {},
   "outputs": [],
   "source": []
  },
  {
   "cell_type": "code",
   "execution_count": null,
   "id": "769e5ec9-8bd0-49c9-a159-50436d4e89cc",
   "metadata": {},
   "outputs": [],
   "source": []
  },
  {
   "cell_type": "code",
   "execution_count": null,
   "id": "ec4e9b02-1cd8-43d8-bd10-bd1cb045cb19",
   "metadata": {},
   "outputs": [],
   "source": []
  },
  {
   "cell_type": "code",
   "execution_count": null,
   "id": "c5d34c33-2086-4e03-83ca-31f75db96906",
   "metadata": {},
   "outputs": [],
   "source": []
  },
  {
   "cell_type": "code",
   "execution_count": null,
   "id": "f2277f02-f798-4f3c-81e3-d0a60e7935bb",
   "metadata": {},
   "outputs": [],
   "source": []
  },
  {
   "cell_type": "code",
   "execution_count": null,
   "id": "229c5c1e-a0e0-4034-b5fb-fc2af861ecd7",
   "metadata": {},
   "outputs": [],
   "source": []
  },
  {
   "cell_type": "code",
   "execution_count": null,
   "id": "c6af9c94-3c48-4cb6-be3f-a9f3e1f167e9",
   "metadata": {},
   "outputs": [],
   "source": []
  },
  {
   "cell_type": "code",
   "execution_count": null,
   "id": "9a1596a6-f43f-43ed-a6a6-27249f2ab5a0",
   "metadata": {},
   "outputs": [],
   "source": []
  },
  {
   "cell_type": "code",
   "execution_count": null,
   "id": "9b86c005-e52b-4df1-8540-6aac929817b1",
   "metadata": {},
   "outputs": [],
   "source": []
  },
  {
   "cell_type": "code",
   "execution_count": null,
   "id": "2ca0845c-17da-44a7-894d-3240b4fc7ffb",
   "metadata": {},
   "outputs": [],
   "source": []
  },
  {
   "cell_type": "code",
   "execution_count": null,
   "id": "e58c0da3-add4-4c30-8fd0-0fe1174ce096",
   "metadata": {},
   "outputs": [],
   "source": []
  },
  {
   "cell_type": "code",
   "execution_count": null,
   "id": "c3def2c3-ebe7-40c4-8616-929e380df2d0",
   "metadata": {},
   "outputs": [],
   "source": []
  },
  {
   "cell_type": "code",
   "execution_count": 38,
   "id": "f141cca6-0930-422d-96d2-5c028a88f2df",
   "metadata": {},
   "outputs": [],
   "source": [
    "import pandas as pd\n",
    "whisper_df_v5gt = pd.read_csv(r\".\\jupyter_walkthrough\\metrics\\whisper_df_v5gt.csv\")"
   ]
  },
  {
   "cell_type": "code",
   "execution_count": 39,
   "id": "82fa4b9d-cd79-42fa-a8cf-2a5a9a7927b9",
   "metadata": {},
   "outputs": [],
   "source": [
    "whisper_df_v5gt = whisper_df_v5gt.dropna()"
   ]
  },
  {
   "cell_type": "code",
   "execution_count": 40,
   "id": "2e35d493-0e62-4937-8552-a386e961f6f5",
   "metadata": {},
   "outputs": [],
   "source": [
    "normalized_ref = werpy.normalize(\n",
    "    whisper_df_v5gt['gt_transcripts'].values.tolist(),\n",
    ")\n",
    "normalized_hypo = werpy.normalize(\n",
    "    whisper_df_v5gt['whisper_transcripts'].values.tolist(),\n",
    ")"
   ]
  },
  {
   "cell_type": "code",
   "execution_count": 41,
   "id": "7b1ca55b-cb29-4ba4-a8c0-38e43a0c84c1",
   "metadata": {},
   "outputs": [
    {
     "data": {
      "text/plain": [
       "'what'"
      ]
     },
     "execution_count": 41,
     "metadata": {},
     "output_type": "execute_result"
    }
   ],
   "source": [
    "normalized_ref[0]"
   ]
  },
  {
   "cell_type": "code",
   "execution_count": 42,
   "id": "2a3b29d9-a647-44e1-91b6-7467582df340",
   "metadata": {},
   "outputs": [
    {
     "data": {
      "text/plain": [
       "'whats'"
      ]
     },
     "execution_count": 42,
     "metadata": {},
     "output_type": "execute_result"
    }
   ],
   "source": [
    "normalized_hypo[0]"
   ]
  },
  {
   "cell_type": "code",
   "execution_count": 43,
   "id": "4baf2a0e-e625-4630-8a4d-ce1e06161394",
   "metadata": {},
   "outputs": [
    {
     "name": "stdout",
     "output_type": "stream",
     "text": [
      "CPU times: total: 141 ms\n",
      "Wall time: 189 ms\n"
     ]
    },
    {
     "data": {
      "text/html": [
       "<div>\n",
       "<style scoped>\n",
       "    .dataframe tbody tr th:only-of-type {\n",
       "        vertical-align: middle;\n",
       "    }\n",
       "\n",
       "    .dataframe tbody tr th {\n",
       "        vertical-align: top;\n",
       "    }\n",
       "\n",
       "    .dataframe thead th {\n",
       "        text-align: right;\n",
       "    }\n",
       "</style>\n",
       "<table border=\"1\" class=\"dataframe\">\n",
       "  <thead>\n",
       "    <tr style=\"text-align: right;\">\n",
       "      <th></th>\n",
       "      <th>wer</th>\n",
       "      <th>ld</th>\n",
       "      <th>m</th>\n",
       "      <th>insertions</th>\n",
       "      <th>deletions</th>\n",
       "      <th>substitutions</th>\n",
       "      <th>inserted_words</th>\n",
       "      <th>deleted_words</th>\n",
       "      <th>substituted_words</th>\n",
       "    </tr>\n",
       "  </thead>\n",
       "  <tbody>\n",
       "    <tr>\n",
       "      <th>0</th>\n",
       "      <td>4.000000</td>\n",
       "      <td>4</td>\n",
       "      <td>1</td>\n",
       "      <td>0</td>\n",
       "      <td>0</td>\n",
       "      <td>1</td>\n",
       "      <td>[]</td>\n",
       "      <td>[]</td>\n",
       "      <td>[(what, whats)]</td>\n",
       "    </tr>\n",
       "    <tr>\n",
       "      <th>1</th>\n",
       "      <td>0.000000</td>\n",
       "      <td>0</td>\n",
       "      <td>5</td>\n",
       "      <td>0</td>\n",
       "      <td>0</td>\n",
       "      <td>0</td>\n",
       "      <td>[]</td>\n",
       "      <td>[]</td>\n",
       "      <td>[]</td>\n",
       "    </tr>\n",
       "    <tr>\n",
       "      <th>2</th>\n",
       "      <td>3.083333</td>\n",
       "      <td>37</td>\n",
       "      <td>12</td>\n",
       "      <td>0</td>\n",
       "      <td>7</td>\n",
       "      <td>4</td>\n",
       "      <td>[]</td>\n",
       "      <td>[oh, they, wont, be, as, hard, right]</td>\n",
       "      <td>[(when, good), (you, morning), (nail, and), (t...</td>\n",
       "    </tr>\n",
       "    <tr>\n",
       "      <th>3</th>\n",
       "      <td>0.611111</td>\n",
       "      <td>11</td>\n",
       "      <td>18</td>\n",
       "      <td>0</td>\n",
       "      <td>1</td>\n",
       "      <td>2</td>\n",
       "      <td>[]</td>\n",
       "      <td>[no]</td>\n",
       "      <td>[(necessary, necessarily), (cuz, because)]</td>\n",
       "    </tr>\n",
       "    <tr>\n",
       "      <th>4</th>\n",
       "      <td>3.800000</td>\n",
       "      <td>19</td>\n",
       "      <td>5</td>\n",
       "      <td>0</td>\n",
       "      <td>1</td>\n",
       "      <td>4</td>\n",
       "      <td>[]</td>\n",
       "      <td>[stand]</td>\n",
       "      <td>[(them, that), (all, can), (down, reflect), (f...</td>\n",
       "    </tr>\n",
       "    <tr>\n",
       "      <th>...</th>\n",
       "      <td>...</td>\n",
       "      <td>...</td>\n",
       "      <td>...</td>\n",
       "      <td>...</td>\n",
       "      <td>...</td>\n",
       "      <td>...</td>\n",
       "      <td>...</td>\n",
       "      <td>...</td>\n",
       "      <td>...</td>\n",
       "    </tr>\n",
       "    <tr>\n",
       "      <th>2665</th>\n",
       "      <td>0.166667</td>\n",
       "      <td>7</td>\n",
       "      <td>42</td>\n",
       "      <td>1</td>\n",
       "      <td>0</td>\n",
       "      <td>1</td>\n",
       "      <td>[player]</td>\n",
       "      <td>[]</td>\n",
       "      <td>[(a, the)]</td>\n",
       "    </tr>\n",
       "    <tr>\n",
       "      <th>2666</th>\n",
       "      <td>2.960784</td>\n",
       "      <td>151</td>\n",
       "      <td>51</td>\n",
       "      <td>0</td>\n",
       "      <td>49</td>\n",
       "      <td>1</td>\n",
       "      <td>[]</td>\n",
       "      <td>[id, read, the, instructions, to, you, right, ...</td>\n",
       "      <td>[(first, like)]</td>\n",
       "    </tr>\n",
       "    <tr>\n",
       "      <th>2667</th>\n",
       "      <td>0.339286</td>\n",
       "      <td>19</td>\n",
       "      <td>56</td>\n",
       "      <td>0</td>\n",
       "      <td>5</td>\n",
       "      <td>1</td>\n",
       "      <td>[]</td>\n",
       "      <td>[a, and, so, on, and]</td>\n",
       "      <td>[(then, when)]</td>\n",
       "    </tr>\n",
       "    <tr>\n",
       "      <th>2668</th>\n",
       "      <td>0.750000</td>\n",
       "      <td>30</td>\n",
       "      <td>40</td>\n",
       "      <td>10</td>\n",
       "      <td>0</td>\n",
       "      <td>0</td>\n",
       "      <td>[dukkid, dont, accept, ahh, dukk, nikr, nikr, ...</td>\n",
       "      <td>[]</td>\n",
       "      <td>[]</td>\n",
       "    </tr>\n",
       "    <tr>\n",
       "      <th>2669</th>\n",
       "      <td>0.789474</td>\n",
       "      <td>30</td>\n",
       "      <td>38</td>\n",
       "      <td>5</td>\n",
       "      <td>1</td>\n",
       "      <td>3</td>\n",
       "      <td>[you, know, so, kind, of]</td>\n",
       "      <td>[its]</td>\n",
       "      <td>[(can, cant), (than, like), (a, that)]</td>\n",
       "    </tr>\n",
       "  </tbody>\n",
       "</table>\n",
       "<p>2670 rows × 9 columns</p>\n",
       "</div>"
      ],
      "text/plain": [
       "           wer   ld   m  insertions  deletions  substitutions   \n",
       "0     4.000000    4   1           0          0              1  \\\n",
       "1     0.000000    0   5           0          0              0   \n",
       "2     3.083333   37  12           0          7              4   \n",
       "3     0.611111   11  18           0          1              2   \n",
       "4     3.800000   19   5           0          1              4   \n",
       "...        ...  ...  ..         ...        ...            ...   \n",
       "2665  0.166667    7  42           1          0              1   \n",
       "2666  2.960784  151  51           0         49              1   \n",
       "2667  0.339286   19  56           0          5              1   \n",
       "2668  0.750000   30  40          10          0              0   \n",
       "2669  0.789474   30  38           5          1              3   \n",
       "\n",
       "                                         inserted_words   \n",
       "0                                                    []  \\\n",
       "1                                                    []   \n",
       "2                                                    []   \n",
       "3                                                    []   \n",
       "4                                                    []   \n",
       "...                                                 ...   \n",
       "2665                                           [player]   \n",
       "2666                                                 []   \n",
       "2667                                                 []   \n",
       "2668  [dukkid, dont, accept, ahh, dukk, nikr, nikr, ...   \n",
       "2669                          [you, know, so, kind, of]   \n",
       "\n",
       "                                          deleted_words   \n",
       "0                                                    []  \\\n",
       "1                                                    []   \n",
       "2                 [oh, they, wont, be, as, hard, right]   \n",
       "3                                                  [no]   \n",
       "4                                               [stand]   \n",
       "...                                                 ...   \n",
       "2665                                                 []   \n",
       "2666  [id, read, the, instructions, to, you, right, ...   \n",
       "2667                              [a, and, so, on, and]   \n",
       "2668                                                 []   \n",
       "2669                                              [its]   \n",
       "\n",
       "                                      substituted_words  \n",
       "0                                       [(what, whats)]  \n",
       "1                                                    []  \n",
       "2     [(when, good), (you, morning), (nail, and), (t...  \n",
       "3            [(necessary, necessarily), (cuz, because)]  \n",
       "4     [(them, that), (all, can), (down, reflect), (f...  \n",
       "...                                                 ...  \n",
       "2665                                         [(a, the)]  \n",
       "2666                                    [(first, like)]  \n",
       "2667                                     [(then, when)]  \n",
       "2668                                                 []  \n",
       "2669             [(can, cant), (than, like), (a, that)]  \n",
       "\n",
       "[2670 rows x 9 columns]"
      ]
     },
     "execution_count": 43,
     "metadata": {},
     "output_type": "execute_result"
    }
   ],
   "source": [
    "%%time\n",
    "summary = werpy.summary(normalized_ref, normalized_hypo)\n",
    "summary"
   ]
  },
  {
   "cell_type": "code",
   "execution_count": 44,
   "id": "a6a64944-468f-4dd2-b06b-0f7cbc977c5d",
   "metadata": {},
   "outputs": [],
   "source": [
    "I = summary['insertions'].sum()\n",
    "D = summary['deletions'].sum()\n",
    "S = summary['substitutions'].sum()\n",
    "M = summary['m'].sum()"
   ]
  },
  {
   "cell_type": "code",
   "execution_count": 45,
   "id": "8fda5152-59ab-4698-b840-42bfb1e55b0d",
   "metadata": {},
   "outputs": [],
   "source": [
    "summary.to_csv(r\".\\jupyter_walkthrough\\metrics\\v5gt_wer_summary.csv\", index=False)"
   ]
  },
  {
   "cell_type": "code",
   "execution_count": 46,
   "id": "472ef653-34c8-4140-b041-0fde820fa7f1",
   "metadata": {},
   "outputs": [],
   "source": [
    "wer = (I + D + S) / M"
   ]
  },
  {
   "cell_type": "code",
   "execution_count": 47,
   "id": "c2c020ef-1e19-4dbc-856d-f9b026ff09a8",
   "metadata": {},
   "outputs": [
    {
     "name": "stdout",
     "output_type": "stream",
     "text": [
      "wer: 0.6610960757780785\n"
     ]
    }
   ],
   "source": [
    "print(f\"wer: {wer}\")"
   ]
  },
  {
   "cell_type": "code",
   "execution_count": 48,
   "id": "32e5d449-7ea4-4241-8310-26ef3cf823ae",
   "metadata": {},
   "outputs": [
    {
     "name": "stdout",
     "output_type": "stream",
     "text": [
      "I, D, S, M: (2875, 2097, 4799, 14780)\n"
     ]
    }
   ],
   "source": [
    "print(f\"I, D, S, M: {I, D, S, M}\")"
   ]
  },
  {
   "cell_type": "code",
   "execution_count": 49,
   "id": "d2c7c838-3b20-4010-b859-fb9e6ff22e3b",
   "metadata": {},
   "outputs": [
    {
     "name": "stdout",
     "output_type": "stream",
     "text": [
      "I/M, D/M, S/M: (0.19451962110960758, 0.1418809201623816, 0.3246955345060893)\n"
     ]
    }
   ],
   "source": [
    "print(f\"I/M, D/M, S/M: {I/M, D/M, S/M}\")"
   ]
  }
 ],
 "metadata": {
  "kernelspec": {
   "display_name": "Python 3 (ipykernel)",
   "language": "python",
   "name": "python3"
  },
  "language_info": {
   "codemirror_mode": {
    "name": "ipython",
    "version": 3
   },
   "file_extension": ".py",
   "mimetype": "text/x-python",
   "name": "python",
   "nbconvert_exporter": "python",
   "pygments_lexer": "ipython3",
   "version": "3.11.3"
  }
 },
 "nbformat": 4,
 "nbformat_minor": 5
}
