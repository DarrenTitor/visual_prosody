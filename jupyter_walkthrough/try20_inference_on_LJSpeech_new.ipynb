{
 "cells": [
  {
   "cell_type": "code",
   "execution_count": 2,
   "id": "f91261d2-180f-4b40-b0bd-75bd68914e05",
   "metadata": {},
   "outputs": [],
   "source": [
    "import os, sys, glob, shutil\n",
    "import argparse\n",
    "import json\n",
    "import yaml\n",
    "import numpy as np\n",
    "from pprint import pprint\n",
    "\n",
    "import torch\n",
    "import yaml\n",
    "import torch.nn as nn\n",
    "from torch.utils.data import DataLoader\n",
    "from torch.utils.tensorboard import SummaryWriter\n",
    "from scipy.io import wavfile\n",
    "from matplotlib import pyplot as plt\n",
    "from tqdm.notebook import tqdm"
   ]
  },
  {
   "cell_type": "code",
   "execution_count": 5,
   "id": "e1fa4dd6-1494-478b-9972-1dd3fe4864f6",
   "metadata": {},
   "outputs": [
    {
     "name": "stdout",
     "output_type": "stream",
     "text": [
      "D:\\Schoolwork\\TERM 3\\WORK\\visual_prosody\n"
     ]
    }
   ],
   "source": [
    "%cd \"D:\\Schoolwork\\TERM 3\\WORK\\visual_prosody\""
   ]
  },
  {
   "cell_type": "code",
   "execution_count": 6,
   "id": "8f021319-7cfa-4b2e-9a25-460885f128d7",
   "metadata": {},
   "outputs": [],
   "source": [
    "import os, sys, glob, shutil\n",
    "import os.path as op\n",
    "import argparse\n",
    "import json\n",
    "import yaml\n",
    "import numpy as np\n",
    "import pandas as pd\n",
    "from pprint import pprint\n",
    "import os.path as op\n",
    "\n",
    "import torch\n",
    "import torch.nn.functional as F\n",
    "import torchaudio\n",
    "from tqdm.notebook import tqdm"
   ]
  },
  {
   "cell_type": "code",
   "execution_count": 7,
   "id": "efbb2ec3-0a55-46f4-80bd-bb2fd0024f77",
   "metadata": {},
   "outputs": [],
   "source": [
    "import argparse\n",
    "import fnmatch\n",
    "import logging\n",
    "import multiprocessing as mp\n",
    "from typing import Dict, List, Tuple\n",
    "\n",
    "import librosa\n",
    "import pysptk\n",
    "import pyworld as pw\n",
    "import soundfile as sf\n",
    "from fastdtw import fastdtw\n",
    "from scipy import spatial"
   ]
  },
  {
   "cell_type": "code",
   "execution_count": 8,
   "id": "970cf3bb-8d95-4249-ad6b-01158f772d66",
   "metadata": {},
   "outputs": [],
   "source": [
    "split_txt_val_path = r'.\\preprocessed_data\\LJSpeech\\val.txt'\n",
    "val_uids = []\n",
    "with open(split_txt_val_path) as file:\n",
    "    for line in file:\n",
    "        # print(line.split('|')[0])\n",
    "        val_uids.append(line.split('|')[0])"
   ]
  },
  {
   "cell_type": "code",
   "execution_count": 9,
   "id": "6fead04a-b714-4518-a902-c6d2336d4eb8",
   "metadata": {},
   "outputs": [
    {
     "data": {
      "text/plain": [
       "512"
      ]
     },
     "execution_count": 9,
     "metadata": {},
     "output_type": "execute_result"
    }
   ],
   "source": [
    "len(val_uids)"
   ]
  },
  {
   "cell_type": "code",
   "execution_count": null,
   "id": "4bd7c930-1962-4acc-9bdb-47d9f5338e16",
   "metadata": {},
   "outputs": [],
   "source": []
  },
  {
   "cell_type": "markdown",
   "id": "aee9edd6-2bfa-429a-bab0-d61d19d894c3",
   "metadata": {},
   "source": [
    "# MCD"
   ]
  },
  {
   "cell_type": "code",
   "execution_count": 10,
   "id": "b6e48943-cb22-4335-8d49-2b6c5f0ab0ef",
   "metadata": {},
   "outputs": [],
   "source": [
    "recon_folder = r'.\\output\\0629lj\\result\\LJSpeech\\wav\\reconstructed'\n",
    "syn_folder = r'.\\output\\0629lj\\result\\LJSpeech\\wav\\synthesized'\n",
    "gt_folder = r'.\\Data\\LJSpeech-1.1\\wavs'"
   ]
  },
  {
   "cell_type": "code",
   "execution_count": 11,
   "id": "4a55554f-13dc-4210-8e13-04156872084a",
   "metadata": {},
   "outputs": [
    {
     "data": {
      "application/vnd.jupyter.widget-view+json": {
       "model_id": "29950843c8eb4a4898ba7c740a9aade2",
       "version_major": 2,
       "version_minor": 0
      },
      "text/plain": [
       "  0%|          | 0/512 [00:00<?, ?it/s]"
      ]
     },
     "metadata": {},
     "output_type": "display_data"
    },
    {
     "name": "stdout",
     "output_type": "stream",
     "text": [
      "CPU times: total: 6min 43s\n",
      "Wall time: 8min 32s\n"
     ]
    }
   ],
   "source": [
    "%%time\n",
    "\n",
    "def sptk_extract(\n",
    "    x: np.ndarray,\n",
    "    fs: int,\n",
    "    n_fft: int = 512,\n",
    "    n_shift: int = 256,\n",
    "    mcep_dim: int = 25,\n",
    "    mcep_alpha: float = 0.41,\n",
    "    is_padding: bool = False,\n",
    ") -> np.ndarray:\n",
    "    \"\"\"Extract SPTK-based mel-cepstrum.\n",
    "\n",
    "    Args:\n",
    "        x (ndarray): 1D waveform array.\n",
    "        fs (int): Sampling rate\n",
    "        n_fft (int): FFT length in point (default=512).\n",
    "        n_shift (int): Shift length in point (default=256).\n",
    "        mcep_dim (int): Dimension of mel-cepstrum (default=25).\n",
    "        mcep_alpha (float): All pass filter coefficient (default=0.41).\n",
    "        is_padding (bool): Whether to pad the end of signal (default=False).\n",
    "\n",
    "    Returns:\n",
    "        ndarray: Mel-cepstrum with the size (N, n_fft).\n",
    "\n",
    "    \"\"\"\n",
    "    # perform padding\n",
    "    if is_padding:\n",
    "        n_pad = n_fft - (len(x) - n_fft) % n_shift\n",
    "        x = np.pad(x, (0, n_pad), \"reflect\")\n",
    "\n",
    "    # get number of frames\n",
    "    n_frame = (len(x) - n_fft) // n_shift + 1\n",
    "\n",
    "    # get window function\n",
    "    win = pysptk.sptk.hamming(n_fft)\n",
    "\n",
    "    # check mcep and alpha\n",
    "    if mcep_dim is None or mcep_alpha is None:\n",
    "        mcep_dim, mcep_alpha = _get_best_mcep_params(fs)\n",
    "\n",
    "    # calculate spectrogram\n",
    "    mcep = [\n",
    "        pysptk.mcep(\n",
    "            x[n_shift * i : n_shift * i + n_fft] * win,\n",
    "            mcep_dim,\n",
    "            mcep_alpha,\n",
    "            eps=1e-6,\n",
    "            etype=1,\n",
    "        )\n",
    "        for i in range(n_frame)\n",
    "    ]\n",
    "\n",
    "    return np.stack(mcep)\n",
    "\n",
    "\n",
    "def _get_best_mcep_params(fs: int) -> Tuple[int, float]:\n",
    "    if fs == 16000:\n",
    "        return 23, 0.42\n",
    "    elif fs == 22050:\n",
    "        return 34, 0.45\n",
    "    elif fs == 24000:\n",
    "        return 34, 0.46\n",
    "    elif fs == 44100:\n",
    "        return 39, 0.53\n",
    "    elif fs == 48000:\n",
    "        return 39, 0.55\n",
    "    else:\n",
    "        raise ValueError(f\"Not found the setting for {fs}.\")\n",
    "\n",
    "\n",
    "\n",
    "\n",
    "\n",
    "uids = []\n",
    "MCDs_recon = []\n",
    "for uid in tqdm(val_uids):\n",
    "    uids.append(uid)\n",
    "    gen_x, gen_fs = sf.read(op.join(recon_folder, f\"{uid}.wav\"), dtype=\"int16\")\n",
    "    gt_x, gt_fs = sf.read(op.join(gt_folder, f\"{uid}.wav\"), dtype=\"int16\")\n",
    "    # print(gen_fs, gt_fs)\n",
    "    fs = gen_fs\n",
    "    if gen_fs != gt_fs:\n",
    "        gt_x = librosa.resample(gt_x.astype(float), orig_sr=gt_fs, target_sr=gen_fs)\n",
    "\n",
    "    # extract ground truth and converted features\n",
    "    gen_mcep = sptk_extract(\n",
    "        x=gen_x,\n",
    "        fs=fs,\n",
    "        n_fft=512,\n",
    "        n_shift=256,\n",
    "        mcep_dim=None,\n",
    "        mcep_alpha=None,\n",
    "    )\n",
    "    gt_mcep = sptk_extract(\n",
    "        x=gt_x,\n",
    "        fs=fs,\n",
    "        n_fft=512,\n",
    "        n_shift=256,\n",
    "        mcep_dim=None,\n",
    "        mcep_alpha=None,\n",
    "    )\n",
    "    \n",
    "    # DTW\n",
    "    _, path = fastdtw(gen_mcep, gt_mcep, dist=spatial.distance.euclidean)\n",
    "    twf = np.array(path).T\n",
    "    gen_mcep_dtw = gen_mcep[twf[0]]\n",
    "    gt_mcep_dtw = gt_mcep[twf[1]]\n",
    "\n",
    "    # MCD\n",
    "    diff2sum = np.sum((gen_mcep_dtw - gt_mcep_dtw) ** 2, 1)\n",
    "    mcd = np.mean(10.0 / np.log(10.0) * np.sqrt(2 * diff2sum), 0)\n",
    "    result = mcd\n",
    "    MCDs_recon.append(result)"
   ]
  },
  {
   "cell_type": "code",
   "execution_count": 12,
   "id": "95d78749-b442-417d-864c-d454672d0d28",
   "metadata": {},
   "outputs": [
    {
     "data": {
      "application/vnd.jupyter.widget-view+json": {
       "model_id": "035048c5c7fe457b8a87564e500a7a0c",
       "version_major": 2,
       "version_minor": 0
      },
      "text/plain": [
       "  0%|          | 0/512 [00:00<?, ?it/s]"
      ]
     },
     "metadata": {},
     "output_type": "display_data"
    },
    {
     "name": "stdout",
     "output_type": "stream",
     "text": [
      "CPU times: total: 7min\n",
      "Wall time: 8min 17s\n"
     ]
    }
   ],
   "source": [
    "%%time\n",
    "\n",
    "def sptk_extract(\n",
    "    x: np.ndarray,\n",
    "    fs: int,\n",
    "    n_fft: int = 512,\n",
    "    n_shift: int = 256,\n",
    "    mcep_dim: int = 25,\n",
    "    mcep_alpha: float = 0.41,\n",
    "    is_padding: bool = False,\n",
    ") -> np.ndarray:\n",
    "    \"\"\"Extract SPTK-based mel-cepstrum.\n",
    "\n",
    "    Args:\n",
    "        x (ndarray): 1D waveform array.\n",
    "        fs (int): Sampling rate\n",
    "        n_fft (int): FFT length in point (default=512).\n",
    "        n_shift (int): Shift length in point (default=256).\n",
    "        mcep_dim (int): Dimension of mel-cepstrum (default=25).\n",
    "        mcep_alpha (float): All pass filter coefficient (default=0.41).\n",
    "        is_padding (bool): Whether to pad the end of signal (default=False).\n",
    "\n",
    "    Returns:\n",
    "        ndarray: Mel-cepstrum with the size (N, n_fft).\n",
    "\n",
    "    \"\"\"\n",
    "    # perform padding\n",
    "    if is_padding:\n",
    "        n_pad = n_fft - (len(x) - n_fft) % n_shift\n",
    "        x = np.pad(x, (0, n_pad), \"reflect\")\n",
    "\n",
    "    # get number of frames\n",
    "    n_frame = (len(x) - n_fft) // n_shift + 1\n",
    "\n",
    "    # get window function\n",
    "    win = pysptk.sptk.hamming(n_fft)\n",
    "\n",
    "    # check mcep and alpha\n",
    "    if mcep_dim is None or mcep_alpha is None:\n",
    "        mcep_dim, mcep_alpha = _get_best_mcep_params(fs)\n",
    "\n",
    "    # calculate spectrogram\n",
    "    mcep = [\n",
    "        pysptk.mcep(\n",
    "            x[n_shift * i : n_shift * i + n_fft] * win,\n",
    "            mcep_dim,\n",
    "            mcep_alpha,\n",
    "            eps=1e-6,\n",
    "            etype=1,\n",
    "        )\n",
    "        for i in range(n_frame)\n",
    "    ]\n",
    "\n",
    "    return np.stack(mcep)\n",
    "\n",
    "\n",
    "def _get_best_mcep_params(fs: int) -> Tuple[int, float]:\n",
    "    if fs == 16000:\n",
    "        return 23, 0.42\n",
    "    elif fs == 22050:\n",
    "        return 34, 0.45\n",
    "    elif fs == 24000:\n",
    "        return 34, 0.46\n",
    "    elif fs == 44100:\n",
    "        return 39, 0.53\n",
    "    elif fs == 48000:\n",
    "        return 39, 0.55\n",
    "    else:\n",
    "        raise ValueError(f\"Not found the setting for {fs}.\")\n",
    "\n",
    "\n",
    "\n",
    "\n",
    "\n",
    "uids = []\n",
    "MCDs_gt = []\n",
    "for uid in tqdm(val_uids):\n",
    "    uids.append(uid)\n",
    "    gen_x, gen_fs = sf.read(op.join(syn_folder, f\"{uid}.wav\"), dtype=\"int16\")\n",
    "    gt_x, gt_fs = sf.read(op.join(gt_folder, f\"{uid}.wav\"), dtype=\"int16\")\n",
    "    # print(gen_fs, gt_fs)\n",
    "    fs = gen_fs\n",
    "    if gen_fs != gt_fs:\n",
    "        gt_x = librosa.resample(gt_x.astype(float), orig_sr=gt_fs, target_sr=gen_fs)\n",
    "\n",
    "    # extract ground truth and converted features\n",
    "    gen_mcep = sptk_extract(\n",
    "        x=gen_x,\n",
    "        fs=fs,\n",
    "        n_fft=512,\n",
    "        n_shift=256,\n",
    "        mcep_dim=None,\n",
    "        mcep_alpha=None,\n",
    "    )\n",
    "    gt_mcep = sptk_extract(\n",
    "        x=gt_x,\n",
    "        fs=fs,\n",
    "        n_fft=512,\n",
    "        n_shift=256,\n",
    "        mcep_dim=None,\n",
    "        mcep_alpha=None,\n",
    "    )\n",
    "    \n",
    "    # DTW\n",
    "    _, path = fastdtw(gen_mcep, gt_mcep, dist=spatial.distance.euclidean)\n",
    "    twf = np.array(path).T\n",
    "    gen_mcep_dtw = gen_mcep[twf[0]]\n",
    "    gt_mcep_dtw = gt_mcep[twf[1]]\n",
    "\n",
    "    # MCD\n",
    "    diff2sum = np.sum((gen_mcep_dtw - gt_mcep_dtw) ** 2, 1)\n",
    "    mcd = np.mean(10.0 / np.log(10.0) * np.sqrt(2 * diff2sum), 0)\n",
    "    result = mcd\n",
    "    MCDs_gt.append(result)"
   ]
  },
  {
   "cell_type": "code",
   "execution_count": 13,
   "id": "264c4aed-5485-4e97-997d-2fd574805dca",
   "metadata": {},
   "outputs": [],
   "source": [
    "lj_mcd_df = pd.DataFrame({\n",
    "    'uid': uids,\n",
    "    'MCD_recon': MCDs_recon,\n",
    "    'MCD_gt': MCDs_gt,\n",
    "})"
   ]
  },
  {
   "cell_type": "code",
   "execution_count": 14,
   "id": "6efafafe-a13b-44fe-bf5b-8766cf7265c9",
   "metadata": {},
   "outputs": [],
   "source": [
    "lj_mcd_df.to_csv(r\".\\jupyter_walkthrough\\metrics\\MCD_LJ_new.csv\")"
   ]
  },
  {
   "cell_type": "code",
   "execution_count": 15,
   "id": "89679d64-fde2-4efe-aa4c-ec7107025b28",
   "metadata": {},
   "outputs": [
    {
     "name": "stdout",
     "output_type": "stream",
     "text": [
      "MCDs_recon mean on LJSpeech: 5.215392116976927\n",
      "MCDs_recon std on LJSpeech: 0.8072952880161278\n",
      "MCDs_gt mean on LJSpeech: 6.059602374745914\n",
      "MCDs_gt std on LJSpeech: 0.6979434652293569\n"
     ]
    }
   ],
   "source": [
    "print(f\"MCDs_recon mean on LJSpeech: {np.nanmean(MCDs_recon)}\")\n",
    "print(f\"MCDs_recon std on LJSpeech: {np.nanstd(MCDs_recon)}\")\n",
    "\n",
    "print(f\"MCDs_gt mean on LJSpeech: {np.nanmean(MCDs_gt)}\")\n",
    "print(f\"MCDs_gt std on LJSpeech: {np.nanstd(MCDs_gt)}\")"
   ]
  },
  {
   "cell_type": "code",
   "execution_count": null,
   "id": "76161010-7ec7-430c-85f7-35a7d34a22af",
   "metadata": {},
   "outputs": [],
   "source": []
  }
 ],
 "metadata": {
  "kernelspec": {
   "display_name": "Python 3 (ipykernel)",
   "language": "python",
   "name": "python3"
  },
  "language_info": {
   "codemirror_mode": {
    "name": "ipython",
    "version": 3
   },
   "file_extension": ".py",
   "mimetype": "text/x-python",
   "name": "python",
   "nbconvert_exporter": "python",
   "pygments_lexer": "ipython3",
   "version": "3.11.3"
  }
 },
 "nbformat": 4,
 "nbformat_minor": 5
}
