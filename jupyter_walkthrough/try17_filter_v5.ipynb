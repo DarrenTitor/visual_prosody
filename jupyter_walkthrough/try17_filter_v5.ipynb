{
 "cells": [
  {
   "cell_type": "code",
   "execution_count": 2,
   "id": "8956bec5-5b20-4023-ac3f-2211f615d3ea",
   "metadata": {},
   "outputs": [],
   "source": [
    "import os, sys, glob, shutil\n",
    "import argparse\n",
    "import json\n",
    "import yaml\n",
    "import numpy as np\n",
    "import pandas as pd\n",
    "import matplotlib.pyplot as plt\n",
    "import seaborn as sns\n",
    "from tqdm.notebook import tqdm\n",
    "from pprint import pprint\n",
    "import torchaudio\n",
    "import torch\n",
    "from IPython.display import Audio, display"
   ]
  },
  {
   "cell_type": "code",
   "execution_count": 3,
   "id": "6443da05-eebc-40de-ab99-cd3ff17f6698",
   "metadata": {},
   "outputs": [
    {
     "name": "stdout",
     "output_type": "stream",
     "text": [
      "D:\\Schoolwork\\TERM 3\\WORK\\visual_prosody\n"
     ]
    }
   ],
   "source": [
    "%cd \"D:\\Schoolwork\\TERM 3\\WORK\\visual_prosody\""
   ]
  },
  {
   "cell_type": "code",
   "execution_count": 4,
   "id": "b1de9e42-536b-491c-b1e5-479a104d0d40",
   "metadata": {},
   "outputs": [],
   "source": [
    "val_mcdv5_df = pd.read_csv(r\".\\jupyter_walkthrough\\metrics\\MCD_0707a_1M2.csv\")\n",
    "train_mcdv5_df = pd.read_csv(r\".\\jupyter_walkthrough\\metrics\\MCD_0707a_1M2_train.csv\")"
   ]
  },
  {
   "cell_type": "code",
   "execution_count": 5,
   "id": "938ad507-1b4d-4023-9637-268022cab96f",
   "metadata": {},
   "outputs": [
    {
     "data": {
      "text/html": [
       "<div>\n",
       "<style scoped>\n",
       "    .dataframe tbody tr th:only-of-type {\n",
       "        vertical-align: middle;\n",
       "    }\n",
       "\n",
       "    .dataframe tbody tr th {\n",
       "        vertical-align: top;\n",
       "    }\n",
       "\n",
       "    .dataframe thead th {\n",
       "        text-align: right;\n",
       "    }\n",
       "</style>\n",
       "<table border=\"1\" class=\"dataframe\">\n",
       "  <thead>\n",
       "    <tr style=\"text-align: right;\">\n",
       "      <th></th>\n",
       "      <th>Unnamed: 0</th>\n",
       "      <th>uid</th>\n",
       "      <th>MCD_recon</th>\n",
       "      <th>MCD_gt</th>\n",
       "    </tr>\n",
       "  </thead>\n",
       "  <tbody>\n",
       "    <tr>\n",
       "      <th>0</th>\n",
       "      <td>0</td>\n",
       "      <td>9d58583c-20de-439d-b1cd-9c2265bdedd8</td>\n",
       "      <td>14.045307</td>\n",
       "      <td>14.892075</td>\n",
       "    </tr>\n",
       "    <tr>\n",
       "      <th>1</th>\n",
       "      <td>1</td>\n",
       "      <td>4a506707-52ea-493e-98c4-f667e3222d44</td>\n",
       "      <td>12.540949</td>\n",
       "      <td>12.594531</td>\n",
       "    </tr>\n",
       "    <tr>\n",
       "      <th>2</th>\n",
       "      <td>2</td>\n",
       "      <td>0b67f942-6ebf-403d-aff0-f4e5d62d3140</td>\n",
       "      <td>15.673298</td>\n",
       "      <td>15.701769</td>\n",
       "    </tr>\n",
       "    <tr>\n",
       "      <th>3</th>\n",
       "      <td>3</td>\n",
       "      <td>c237c6d5-f413-4e25-82e2-af7b408d390a</td>\n",
       "      <td>14.850937</td>\n",
       "      <td>16.558865</td>\n",
       "    </tr>\n",
       "    <tr>\n",
       "      <th>4</th>\n",
       "      <td>4</td>\n",
       "      <td>22a8a78a-caea-4aa2-be9c-4e02e0d88009</td>\n",
       "      <td>17.308480</td>\n",
       "      <td>14.423147</td>\n",
       "    </tr>\n",
       "    <tr>\n",
       "      <th>...</th>\n",
       "      <td>...</td>\n",
       "      <td>...</td>\n",
       "      <td>...</td>\n",
       "      <td>...</td>\n",
       "    </tr>\n",
       "    <tr>\n",
       "      <th>2710</th>\n",
       "      <td>2710</td>\n",
       "      <td>254a40cd-e43a-4e53-a2ee-02562f48b5a4</td>\n",
       "      <td>16.169212</td>\n",
       "      <td>16.108126</td>\n",
       "    </tr>\n",
       "    <tr>\n",
       "      <th>2711</th>\n",
       "      <td>2711</td>\n",
       "      <td>e031ca4f-8b3d-47ca-a5ff-1d58a6e8c5dc</td>\n",
       "      <td>15.510704</td>\n",
       "      <td>16.611559</td>\n",
       "    </tr>\n",
       "    <tr>\n",
       "      <th>2712</th>\n",
       "      <td>2712</td>\n",
       "      <td>24af5529-539a-4e90-8a8d-5857b4b0267e</td>\n",
       "      <td>18.995192</td>\n",
       "      <td>19.762993</td>\n",
       "    </tr>\n",
       "    <tr>\n",
       "      <th>2713</th>\n",
       "      <td>2713</td>\n",
       "      <td>76bae6d4-4a4b-450f-a35d-2172d747d64b</td>\n",
       "      <td>14.728410</td>\n",
       "      <td>15.998575</td>\n",
       "    </tr>\n",
       "    <tr>\n",
       "      <th>2714</th>\n",
       "      <td>2714</td>\n",
       "      <td>5abf07cd-2c1f-4e71-b7c5-1c4e8693d55c</td>\n",
       "      <td>14.305868</td>\n",
       "      <td>14.935339</td>\n",
       "    </tr>\n",
       "  </tbody>\n",
       "</table>\n",
       "<p>2715 rows × 4 columns</p>\n",
       "</div>"
      ],
      "text/plain": [
       "      Unnamed: 0                                   uid  MCD_recon     MCD_gt\n",
       "0              0  9d58583c-20de-439d-b1cd-9c2265bdedd8  14.045307  14.892075\n",
       "1              1  4a506707-52ea-493e-98c4-f667e3222d44  12.540949  12.594531\n",
       "2              2  0b67f942-6ebf-403d-aff0-f4e5d62d3140  15.673298  15.701769\n",
       "3              3  c237c6d5-f413-4e25-82e2-af7b408d390a  14.850937  16.558865\n",
       "4              4  22a8a78a-caea-4aa2-be9c-4e02e0d88009  17.308480  14.423147\n",
       "...          ...                                   ...        ...        ...\n",
       "2710        2710  254a40cd-e43a-4e53-a2ee-02562f48b5a4  16.169212  16.108126\n",
       "2711        2711  e031ca4f-8b3d-47ca-a5ff-1d58a6e8c5dc  15.510704  16.611559\n",
       "2712        2712  24af5529-539a-4e90-8a8d-5857b4b0267e  18.995192  19.762993\n",
       "2713        2713  76bae6d4-4a4b-450f-a35d-2172d747d64b  14.728410  15.998575\n",
       "2714        2714  5abf07cd-2c1f-4e71-b7c5-1c4e8693d55c  14.305868  14.935339\n",
       "\n",
       "[2715 rows x 4 columns]"
      ]
     },
     "execution_count": 5,
     "metadata": {},
     "output_type": "execute_result"
    }
   ],
   "source": [
    "val_mcdv5_df"
   ]
  },
  {
   "cell_type": "code",
   "execution_count": 6,
   "id": "bcfc4297-22f0-47be-9b4e-8237c6bfb278",
   "metadata": {},
   "outputs": [],
   "source": [
    "train_df = pd.read_csv(r\".\\Data\\Ego4D_final_v5\\final_dataset_v5\\utterances_final_train_v5.csv\")\n",
    "val_df = pd.read_csv(r\".\\Data\\Ego4D_final_v5\\final_dataset_v5\\utterances_final_val_v5.csv\")"
   ]
  },
  {
   "cell_type": "code",
   "execution_count": 7,
   "id": "765a1f9b-669d-4bd0-8a04-edb5bf3b766a",
   "metadata": {},
   "outputs": [
    {
     "name": "stdout",
     "output_type": "stream",
     "text": [
      "<class 'pandas.core.frame.DataFrame'>\n",
      "RangeIndex: 30532 entries, 0 to 30531\n",
      "Data columns (total 7 columns):\n",
      " #   Column            Non-Null Count  Dtype  \n",
      "---  ------            --------------  -----  \n",
      " 0   utterance_id      30532 non-null  object \n",
      " 1   video_id          30532 non-null  object \n",
      " 2   person_id         30532 non-null  int64  \n",
      " 3   video_start_time  30532 non-null  float64\n",
      " 4   video_end_time    30532 non-null  float64\n",
      " 5   transcription     30532 non-null  object \n",
      " 6   sample_duration   30532 non-null  float64\n",
      "dtypes: float64(3), int64(1), object(3)\n",
      "memory usage: 1.6+ MB\n"
     ]
    }
   ],
   "source": [
    "train_df.info()"
   ]
  },
  {
   "cell_type": "code",
   "execution_count": 8,
   "id": "4fed5355-e5cf-4872-88e5-1806bc17c9ec",
   "metadata": {},
   "outputs": [
    {
     "name": "stdout",
     "output_type": "stream",
     "text": [
      "<class 'pandas.core.frame.DataFrame'>\n",
      "RangeIndex: 28010 entries, 0 to 28009\n",
      "Data columns (total 4 columns):\n",
      " #   Column      Non-Null Count  Dtype  \n",
      "---  ------      --------------  -----  \n",
      " 0   Unnamed: 0  28010 non-null  int64  \n",
      " 1   uid         28010 non-null  object \n",
      " 2   MCD_recon   28010 non-null  float64\n",
      " 3   MCD_gt      28010 non-null  float64\n",
      "dtypes: float64(2), int64(1), object(1)\n",
      "memory usage: 875.4+ KB\n"
     ]
    }
   ],
   "source": [
    "train_mcdv5_df.info()"
   ]
  },
  {
   "cell_type": "code",
   "execution_count": 9,
   "id": "c385293d-87ba-4284-ae39-ddf4fa3a1e3a",
   "metadata": {},
   "outputs": [],
   "source": [
    "train_merged_df = pd.merge(train_mcdv5_df, train_df, left_on='uid', right_on='utterance_id')"
   ]
  },
  {
   "cell_type": "code",
   "execution_count": 10,
   "id": "3d13b724-b5a6-45f5-8b5a-1712df5bb538",
   "metadata": {},
   "outputs": [],
   "source": [
    "val_merged_df = pd.merge(val_mcdv5_df, val_df, left_on='uid', right_on='utterance_id')"
   ]
  },
  {
   "cell_type": "code",
   "execution_count": 11,
   "id": "e7139d51-db78-4e06-8bf9-d2e282a5ba66",
   "metadata": {},
   "outputs": [
    {
     "data": {
      "text/plain": [
       "(28010, 11)"
      ]
     },
     "execution_count": 11,
     "metadata": {},
     "output_type": "execute_result"
    }
   ],
   "source": [
    "train_merged_df.shape"
   ]
  },
  {
   "cell_type": "code",
   "execution_count": 12,
   "id": "ed0fe58e-9871-4001-9e24-0fd5751531ac",
   "metadata": {},
   "outputs": [
    {
     "data": {
      "text/html": [
       "<div>\n",
       "<style scoped>\n",
       "    .dataframe tbody tr th:only-of-type {\n",
       "        vertical-align: middle;\n",
       "    }\n",
       "\n",
       "    .dataframe tbody tr th {\n",
       "        vertical-align: top;\n",
       "    }\n",
       "\n",
       "    .dataframe thead th {\n",
       "        text-align: right;\n",
       "    }\n",
       "</style>\n",
       "<table border=\"1\" class=\"dataframe\">\n",
       "  <thead>\n",
       "    <tr style=\"text-align: right;\">\n",
       "      <th></th>\n",
       "      <th>Unnamed: 0</th>\n",
       "      <th>uid</th>\n",
       "      <th>MCD_recon</th>\n",
       "      <th>MCD_gt</th>\n",
       "      <th>utterance_id</th>\n",
       "      <th>video_id</th>\n",
       "      <th>person_id</th>\n",
       "      <th>video_start_time</th>\n",
       "      <th>video_end_time</th>\n",
       "      <th>transcription</th>\n",
       "      <th>sample_duration</th>\n",
       "    </tr>\n",
       "  </thead>\n",
       "  <tbody>\n",
       "    <tr>\n",
       "      <th>0</th>\n",
       "      <td>0</td>\n",
       "      <td>634b2f0d-2cca-4bc6-bb13-905c0c2748e7</td>\n",
       "      <td>10.467250</td>\n",
       "      <td>7.184698</td>\n",
       "      <td>634b2f0d-2cca-4bc6-bb13-905c0c2748e7</td>\n",
       "      <td>733ac083-1962-46c3-9a46-1efee74fee90</td>\n",
       "      <td>1</td>\n",
       "      <td>91.070698</td>\n",
       "      <td>93.692908</td>\n",
       "      <td>I feel like that's what we'll do</td>\n",
       "      <td>2.622222</td>\n",
       "    </tr>\n",
       "    <tr>\n",
       "      <th>1</th>\n",
       "      <td>1</td>\n",
       "      <td>e3a4152c-2cf4-44da-991f-b980fd5cdceb</td>\n",
       "      <td>8.997789</td>\n",
       "      <td>9.469486</td>\n",
       "      <td>e3a4152c-2cf4-44da-991f-b980fd5cdceb</td>\n",
       "      <td>733ac083-1962-46c3-9a46-1efee74fee90</td>\n",
       "      <td>1</td>\n",
       "      <td>95.923618</td>\n",
       "      <td>96.388238</td>\n",
       "      <td>because then</td>\n",
       "      <td>0.464626</td>\n",
       "    </tr>\n",
       "    <tr>\n",
       "      <th>2</th>\n",
       "      <td>2</td>\n",
       "      <td>247e3a78-fa9e-43c5-acb2-5755a17766cb</td>\n",
       "      <td>12.233850</td>\n",
       "      <td>12.511398</td>\n",
       "      <td>247e3a78-fa9e-43c5-acb2-5755a17766cb</td>\n",
       "      <td>733ac083-1962-46c3-9a46-1efee74fee90</td>\n",
       "      <td>1</td>\n",
       "      <td>99.422698</td>\n",
       "      <td>101.545048</td>\n",
       "      <td>alright  coming together remember when I said</td>\n",
       "      <td>2.122404</td>\n",
       "    </tr>\n",
       "    <tr>\n",
       "      <th>3</th>\n",
       "      <td>3</td>\n",
       "      <td>7b143212-b828-4231-8ffd-49ab808bb1cc</td>\n",
       "      <td>9.416233</td>\n",
       "      <td>14.096297</td>\n",
       "      <td>7b143212-b828-4231-8ffd-49ab808bb1cc</td>\n",
       "      <td>733ac083-1962-46c3-9a46-1efee74fee90</td>\n",
       "      <td>1</td>\n",
       "      <td>104.976808</td>\n",
       "      <td>108.766698</td>\n",
       "      <td>did you like the private like bag packing thr...</td>\n",
       "      <td>3.789887</td>\n",
       "    </tr>\n",
       "    <tr>\n",
       "      <th>4</th>\n",
       "      <td>4</td>\n",
       "      <td>4e7f3fd2-a6dd-40bd-8b88-87b1016f3422</td>\n",
       "      <td>7.149843</td>\n",
       "      <td>7.543718</td>\n",
       "      <td>4e7f3fd2-a6dd-40bd-8b88-87b1016f3422</td>\n",
       "      <td>733ac083-1962-46c3-9a46-1efee74fee90</td>\n",
       "      <td>0</td>\n",
       "      <td>107.565918</td>\n",
       "      <td>108.143188</td>\n",
       "      <td>umm hmm</td>\n",
       "      <td>0.577324</td>\n",
       "    </tr>\n",
       "    <tr>\n",
       "      <th>...</th>\n",
       "      <td>...</td>\n",
       "      <td>...</td>\n",
       "      <td>...</td>\n",
       "      <td>...</td>\n",
       "      <td>...</td>\n",
       "      <td>...</td>\n",
       "      <td>...</td>\n",
       "      <td>...</td>\n",
       "      <td>...</td>\n",
       "      <td>...</td>\n",
       "      <td>...</td>\n",
       "    </tr>\n",
       "    <tr>\n",
       "      <th>28005</th>\n",
       "      <td>28005</td>\n",
       "      <td>3d67beda-585b-476d-88d6-c01b64d290b2</td>\n",
       "      <td>9.285407</td>\n",
       "      <td>10.148004</td>\n",
       "      <td>3d67beda-585b-476d-88d6-c01b64d290b2</td>\n",
       "      <td>f1d57e76-ed92-463c-be15-0bf82440644a</td>\n",
       "      <td>-1</td>\n",
       "      <td>545.777125</td>\n",
       "      <td>559.767125</td>\n",
       "      <td>l  takes a  vertex test the  skinning approac...</td>\n",
       "      <td>13.989977</td>\n",
       "    </tr>\n",
       "    <tr>\n",
       "      <th>28006</th>\n",
       "      <td>28006</td>\n",
       "      <td>beb205c5-72a3-4505-b66e-2502bb0a6a23</td>\n",
       "      <td>7.695923</td>\n",
       "      <td>11.192709</td>\n",
       "      <td>beb205c5-72a3-4505-b66e-2502bb0a6a23</td>\n",
       "      <td>f1d57e76-ed92-463c-be15-0bf82440644a</td>\n",
       "      <td>-1</td>\n",
       "      <td>559.767125</td>\n",
       "      <td>575.487125</td>\n",
       "      <td>of  um six thousand eight hundred and ninety ...</td>\n",
       "      <td>15.720000</td>\n",
       "    </tr>\n",
       "    <tr>\n",
       "      <th>28007</th>\n",
       "      <td>28007</td>\n",
       "      <td>dd74afef-4887-43f0-8ad2-81a2820f3891</td>\n",
       "      <td>8.107717</td>\n",
       "      <td>9.159638</td>\n",
       "      <td>dd74afef-4887-43f0-8ad2-81a2820f3891</td>\n",
       "      <td>43811320-8b7b-418a-8fc3-414ceeef1ed8</td>\n",
       "      <td>2</td>\n",
       "      <td>1502.177361</td>\n",
       "      <td>1516.367361</td>\n",
       "      <td>the realistic three d model of the human body...</td>\n",
       "      <td>14.189977</td>\n",
       "    </tr>\n",
       "    <tr>\n",
       "      <th>28008</th>\n",
       "      <td>28008</td>\n",
       "      <td>a47374fb-18c4-46a9-bf67-76aa4d81ffb8</td>\n",
       "      <td>8.039507</td>\n",
       "      <td>9.702147</td>\n",
       "      <td>a47374fb-18c4-46a9-bf67-76aa4d81ffb8</td>\n",
       "      <td>43811320-8b7b-418a-8fc3-414ceeef1ed8</td>\n",
       "      <td>2</td>\n",
       "      <td>1516.367361</td>\n",
       "      <td>1532.267361</td>\n",
       "      <td>uh  it's  totally compatible  with your list...</td>\n",
       "      <td>15.900000</td>\n",
       "    </tr>\n",
       "    <tr>\n",
       "      <th>28009</th>\n",
       "      <td>28009</td>\n",
       "      <td>acec4b25-77f9-4cfe-a01d-c084e35fb6e3</td>\n",
       "      <td>8.672912</td>\n",
       "      <td>9.811604</td>\n",
       "      <td>acec4b25-77f9-4cfe-a01d-c084e35fb6e3</td>\n",
       "      <td>43811320-8b7b-418a-8fc3-414ceeef1ed8</td>\n",
       "      <td>2</td>\n",
       "      <td>1532.267361</td>\n",
       "      <td>1550.916048</td>\n",
       "      <td>skinny approach that  uses  corrective blend ...</td>\n",
       "      <td>18.648662</td>\n",
       "    </tr>\n",
       "  </tbody>\n",
       "</table>\n",
       "<p>28010 rows × 11 columns</p>\n",
       "</div>"
      ],
      "text/plain": [
       "       Unnamed: 0                                   uid  MCD_recon     MCD_gt   \n",
       "0               0  634b2f0d-2cca-4bc6-bb13-905c0c2748e7  10.467250   7.184698  \\\n",
       "1               1  e3a4152c-2cf4-44da-991f-b980fd5cdceb   8.997789   9.469486   \n",
       "2               2  247e3a78-fa9e-43c5-acb2-5755a17766cb  12.233850  12.511398   \n",
       "3               3  7b143212-b828-4231-8ffd-49ab808bb1cc   9.416233  14.096297   \n",
       "4               4  4e7f3fd2-a6dd-40bd-8b88-87b1016f3422   7.149843   7.543718   \n",
       "...           ...                                   ...        ...        ...   \n",
       "28005       28005  3d67beda-585b-476d-88d6-c01b64d290b2   9.285407  10.148004   \n",
       "28006       28006  beb205c5-72a3-4505-b66e-2502bb0a6a23   7.695923  11.192709   \n",
       "28007       28007  dd74afef-4887-43f0-8ad2-81a2820f3891   8.107717   9.159638   \n",
       "28008       28008  a47374fb-18c4-46a9-bf67-76aa4d81ffb8   8.039507   9.702147   \n",
       "28009       28009  acec4b25-77f9-4cfe-a01d-c084e35fb6e3   8.672912   9.811604   \n",
       "\n",
       "                               utterance_id   \n",
       "0      634b2f0d-2cca-4bc6-bb13-905c0c2748e7  \\\n",
       "1      e3a4152c-2cf4-44da-991f-b980fd5cdceb   \n",
       "2      247e3a78-fa9e-43c5-acb2-5755a17766cb   \n",
       "3      7b143212-b828-4231-8ffd-49ab808bb1cc   \n",
       "4      4e7f3fd2-a6dd-40bd-8b88-87b1016f3422   \n",
       "...                                     ...   \n",
       "28005  3d67beda-585b-476d-88d6-c01b64d290b2   \n",
       "28006  beb205c5-72a3-4505-b66e-2502bb0a6a23   \n",
       "28007  dd74afef-4887-43f0-8ad2-81a2820f3891   \n",
       "28008  a47374fb-18c4-46a9-bf67-76aa4d81ffb8   \n",
       "28009  acec4b25-77f9-4cfe-a01d-c084e35fb6e3   \n",
       "\n",
       "                                   video_id  person_id  video_start_time   \n",
       "0      733ac083-1962-46c3-9a46-1efee74fee90          1         91.070698  \\\n",
       "1      733ac083-1962-46c3-9a46-1efee74fee90          1         95.923618   \n",
       "2      733ac083-1962-46c3-9a46-1efee74fee90          1         99.422698   \n",
       "3      733ac083-1962-46c3-9a46-1efee74fee90          1        104.976808   \n",
       "4      733ac083-1962-46c3-9a46-1efee74fee90          0        107.565918   \n",
       "...                                     ...        ...               ...   \n",
       "28005  f1d57e76-ed92-463c-be15-0bf82440644a         -1        545.777125   \n",
       "28006  f1d57e76-ed92-463c-be15-0bf82440644a         -1        559.767125   \n",
       "28007  43811320-8b7b-418a-8fc3-414ceeef1ed8          2       1502.177361   \n",
       "28008  43811320-8b7b-418a-8fc3-414ceeef1ed8          2       1516.367361   \n",
       "28009  43811320-8b7b-418a-8fc3-414ceeef1ed8          2       1532.267361   \n",
       "\n",
       "       video_end_time                                      transcription   \n",
       "0           93.692908                  I feel like that's what we'll do   \\\n",
       "1           96.388238                                      because then    \n",
       "2          101.545048     alright  coming together remember when I said    \n",
       "3          108.766698   did you like the private like bag packing thr...   \n",
       "4          108.143188                                           umm hmm    \n",
       "...               ...                                                ...   \n",
       "28005      559.767125   l  takes a  vertex test the  skinning approac...   \n",
       "28006      575.487125   of  um six thousand eight hundred and ninety ...   \n",
       "28007     1516.367361   the realistic three d model of the human body...   \n",
       "28008     1532.267361    uh  it's  totally compatible  with your list...   \n",
       "28009     1550.916048   skinny approach that  uses  corrective blend ...   \n",
       "\n",
       "       sample_duration  \n",
       "0             2.622222  \n",
       "1             0.464626  \n",
       "2             2.122404  \n",
       "3             3.789887  \n",
       "4             0.577324  \n",
       "...                ...  \n",
       "28005        13.989977  \n",
       "28006        15.720000  \n",
       "28007        14.189977  \n",
       "28008        15.900000  \n",
       "28009        18.648662  \n",
       "\n",
       "[28010 rows x 11 columns]"
      ]
     },
     "execution_count": 12,
     "metadata": {},
     "output_type": "execute_result"
    }
   ],
   "source": [
    "train_merged_df"
   ]
  },
  {
   "cell_type": "code",
   "execution_count": 13,
   "id": "6a735861-e22e-4411-a388-f36b147fc228",
   "metadata": {},
   "outputs": [
    {
     "data": {
      "text/plain": [
       "21.561015885613504"
      ]
     },
     "execution_count": 13,
     "metadata": {},
     "output_type": "execute_result"
    }
   ],
   "source": [
    "train_merged_df['sample_duration'].sum() / 3600"
   ]
  },
  {
   "cell_type": "code",
   "execution_count": 14,
   "id": "8a9481be-e534-4f21-aada-13ebddcf256f",
   "metadata": {},
   "outputs": [
    {
     "data": {
      "text/plain": [
       "20.583693146888386"
      ]
     },
     "execution_count": 14,
     "metadata": {},
     "output_type": "execute_result"
    }
   ],
   "source": [
    "train_merged_df[train_merged_df['MCD_recon'] < 12.5]['sample_duration'].sum() / 3600"
   ]
  },
  {
   "cell_type": "code",
   "execution_count": 15,
   "id": "9c225691-69f8-4003-9e90-377dffec9cd7",
   "metadata": {},
   "outputs": [
    {
     "data": {
      "text/plain": [
       "21.53307849584278"
      ]
     },
     "execution_count": 15,
     "metadata": {},
     "output_type": "execute_result"
    }
   ],
   "source": [
    "train_merged_df[train_merged_df['sample_duration'] > 0.3]['sample_duration'].sum() / 3600"
   ]
  },
  {
   "cell_type": "code",
   "execution_count": 16,
   "id": "407f338f-9a46-4155-a1a2-3d2004978018",
   "metadata": {},
   "outputs": [
    {
     "data": {
      "text/plain": [
       "21.561015885613504"
      ]
     },
     "execution_count": 16,
     "metadata": {},
     "output_type": "execute_result"
    }
   ],
   "source": [
    "train_merged_df['sample_duration'].sum() / 3600"
   ]
  },
  {
   "cell_type": "code",
   "execution_count": 17,
   "id": "032cc662-36c0-42b1-9b8b-cf2c900de4ca",
   "metadata": {},
   "outputs": [
    {
     "data": {
      "text/plain": [
       "1.6363121693121694"
      ]
     },
     "execution_count": 17,
     "metadata": {},
     "output_type": "execute_result"
    }
   ],
   "source": [
    "val_merged_df[val_merged_df['MCD_recon'] < 20]['sample_duration'].sum() / 3600"
   ]
  },
  {
   "cell_type": "code",
   "execution_count": 18,
   "id": "4ecb18fc-9586-49c2-8ada-646f3a509d5a",
   "metadata": {},
   "outputs": [
    {
     "data": {
      "text/plain": [
       "1.7211409926933736"
      ]
     },
     "execution_count": 18,
     "metadata": {},
     "output_type": "execute_result"
    }
   ],
   "source": [
    "val_merged_df[val_merged_df['sample_duration'] > 0.3]['sample_duration'].sum() / 3600"
   ]
  },
  {
   "cell_type": "code",
   "execution_count": 19,
   "id": "eb31a762-40a7-425b-a3e3-ee9ab235b004",
   "metadata": {},
   "outputs": [
    {
     "data": {
      "text/plain": [
       "1.6363121693121694"
      ]
     },
     "execution_count": 19,
     "metadata": {},
     "output_type": "execute_result"
    }
   ],
   "source": [
    "val_merged_df[val_merged_df['MCD_recon'] < 20]['sample_duration'].sum() / 3600"
   ]
  },
  {
   "cell_type": "code",
   "execution_count": null,
   "id": "6d990897-29fa-4829-ab2a-2469fc1a26e5",
   "metadata": {},
   "outputs": [],
   "source": []
  },
  {
   "cell_type": "code",
   "execution_count": null,
   "id": "42fc9173-cd62-4cd2-96d2-2f104a478fbe",
   "metadata": {},
   "outputs": [],
   "source": []
  },
  {
   "cell_type": "code",
   "execution_count": 20,
   "id": "6c3e49b7-013b-4490-828f-7c37757dcfa5",
   "metadata": {},
   "outputs": [
    {
     "data": {
      "text/plain": [
       "20.55661002771479"
      ]
     },
     "execution_count": 20,
     "metadata": {},
     "output_type": "execute_result"
    }
   ],
   "source": [
    "train_merged_df = train_merged_df[train_merged_df['sample_duration'] > 0.3]\n",
    "train_merged_df = train_merged_df[train_merged_df['MCD_recon'] < 12.5]\n",
    "train_merged_df['sample_duration'].sum() / 3600"
   ]
  },
  {
   "cell_type": "code",
   "execution_count": 21,
   "id": "3d8af183-b81d-4caa-a837-52aaa7ad9ef0",
   "metadata": {},
   "outputs": [
    {
     "data": {
      "text/plain": [
       "1.6328237213403882"
      ]
     },
     "execution_count": 21,
     "metadata": {},
     "output_type": "execute_result"
    }
   ],
   "source": [
    "val_merged_df = val_merged_df[val_merged_df['sample_duration'] > 0.3]\n",
    "val_merged_df = val_merged_df[val_merged_df['MCD_recon'] < 20]\n",
    "val_merged_df['sample_duration'].sum() / 3600"
   ]
  },
  {
   "cell_type": "code",
   "execution_count": 22,
   "id": "0ff4e2a6-fba6-4bc6-a3f1-1934f7841b0f",
   "metadata": {},
   "outputs": [],
   "source": [
    "train_merged_df.drop(columns=['Unnamed: 0'], inplace=True)\n",
    "val_merged_df.drop(columns=['Unnamed: 0'], inplace=True)"
   ]
  },
  {
   "cell_type": "code",
   "execution_count": null,
   "id": "584088e3-f9c0-447c-a848-13035300f188",
   "metadata": {},
   "outputs": [],
   "source": []
  },
  {
   "cell_type": "code",
   "execution_count": null,
   "id": "e4c0790a-f4be-4b40-a762-c438e6544b16",
   "metadata": {},
   "outputs": [],
   "source": []
  },
  {
   "cell_type": "code",
   "execution_count": 23,
   "id": "2d14f66d-bd09-4e2d-945f-a02193b9d01a",
   "metadata": {},
   "outputs": [
    {
     "data": {
      "text/plain": [
       "<Axes: ylabel='Frequency'>"
      ]
     },
     "execution_count": 23,
     "metadata": {},
     "output_type": "execute_result"
    },
    {
     "data": {
      "image/png": "[encoded data removed]",
      "text/plain": [
       "<Figure size 640x480 with 1 Axes>"
      ]
     },
     "metadata": {},
     "output_type": "display_data"
    }
   ],
   "source": [
    "train_merged_df[train_merged_df['MCD_recon'] < 12.5]['sample_duration'].plot(kind='hist', bins=30)"
   ]
  },
  {
   "cell_type": "code",
   "execution_count": 24,
   "id": "21869fcf-3ed9-4d32-bf86-63b9f3232739",
   "metadata": {},
   "outputs": [
    {
     "data": {
      "text/plain": [
       "<Axes: ylabel='Frequency'>"
      ]
     },
     "execution_count": 24,
     "metadata": {},
     "output_type": "execute_result"
    },
    {
     "data": {
      "image/png": "[encoded data removed]",
      "text/plain": [
       "<Figure size 640x480 with 1 Axes>"
      ]
     },
     "metadata": {},
     "output_type": "display_data"
    }
   ],
   "source": [
    "train_merged_df[train_merged_df['MCD_recon'] > 12.5]['sample_duration'].plot(kind='hist', bins=30)"
   ]
  },
  {
   "cell_type": "code",
   "execution_count": 25,
   "id": "c7806b73-0807-4e79-8f8b-457127db6213",
   "metadata": {},
   "outputs": [],
   "source": [
    "def display_gt_audio_v56(uid, split):\n",
    "    sampled_uid = uid\n",
    "    # print(f\"uid: {sampled_uid}\")\n",
    "    if split == 'train':\n",
    "        wav_path = os.path.join(r\".\\raw_data\\Ego4D_final_v5\\train\\Ego4D_final_v5\", f\"{sampled_uid}.wav\")\n",
    "        wav_path_v6 = os.path.join(r\".\\raw_data\\Ego4D_final_6\\train\\Ego4D_final_v6\", f\"{sampled_uid}.wav\")\n",
    "    elif split == 'val':\n",
    "        wav_path = os.path.join(r\".\\raw_data\\Ego4D_final_v5\\val\\Ego4D_final_v5\", f\"{sampled_uid}.wav\")\n",
    "        wav_path_v6 = os.path.join(r\".\\raw_data\\Ego4D_final_v6\\val\\Ego4D_final_v6\", f\"{sampled_uid}.wav\")\n",
    "    display(Audio(filename=wav_path, rate=22050))\n",
    "    try:\n",
    "        display(Audio(filename=wav_path_v5, rate=22050))\n",
    "    except:\n",
    "        print('v6 not exist')"
   ]
  },
  {
   "cell_type": "code",
   "execution_count": 26,
   "id": "437a59bc-dbbb-47d6-b4b6-c1d85089f55f",
   "metadata": {
    "scrolled": true
   },
   "outputs": [],
   "source": [
    "selection = train_merged_df[train_merged_df['sample_duration'] < 0.3].head(20)\n",
    "split = 'train'\n",
    "for uid, mcd, text in zip(selection['uid'].values, selection['MCD_recon'].values, selection['transcription'].values):\n",
    "    print(f\"UID: {uid}\")\n",
    "    print(f\"###  MCD: {mcd}\")\n",
    "    print(f\"###  TEXT: {text}\")\n",
    "    display_gt_audio_v56(uid=uid, split=split)\n"
   ]
  },
  {
   "cell_type": "code",
   "execution_count": 27,
   "id": "880cbf6c-140d-4cdb-abe9-9a753d5f0e7d",
   "metadata": {},
   "outputs": [
    {
     "data": {
      "text/plain": [
       "<Axes: ylabel='Frequency'>"
      ]
     },
     "execution_count": 27,
     "metadata": {},
     "output_type": "execute_result"
    },
    {
     "data": {
      "image/png": "[encoded data removed]",
      "text/plain": [
       "<Figure size 640x480 with 1 Axes>"
      ]
     },
     "metadata": {},
     "output_type": "display_data"
    }
   ],
   "source": [
    "train_merged_df[train_merged_df['sample_duration'] > 0.5]['MCD_recon'].plot(kind='hist', bins=30)"
   ]
  },
  {
   "cell_type": "code",
   "execution_count": null,
   "id": "cc49347f-fa5b-46a6-9033-8f6c6f66ccf4",
   "metadata": {},
   "outputs": [],
   "source": []
  },
  {
   "cell_type": "code",
   "execution_count": 28,
   "id": "48fda669-a509-4505-bea0-50316405c332",
   "metadata": {},
   "outputs": [],
   "source": [
    "train_merged_df = train_merged_df.rename(columns={'uid': 'utterance_id'})\n",
    "val_merged_df = val_merged_df.rename(columns={'uid': 'utterance_id'})"
   ]
  },
  {
   "cell_type": "code",
   "execution_count": 29,
   "id": "0a25b516-e5df-4bb3-aedb-bcac51e54127",
   "metadata": {},
   "outputs": [],
   "source": [
    "train_merged_df.to_csv(r'./jupyter_walkthrough/for_dataset/utterances_final_train_v7.csv', index=False)\n",
    "val_merged_df.to_csv(r'./jupyter_walkthrough/for_dataset/utterances_final_val_v7.csv', index=False)"
   ]
  },
  {
   "cell_type": "code",
   "execution_count": null,
   "id": "34a984e5-f725-4c72-8ced-eaee41caff91",
   "metadata": {},
   "outputs": [],
   "source": []
  }
 ],
 "metadata": {
  "kernelspec": {
   "display_name": "Python 3 (ipykernel)",
   "language": "python",
   "name": "python3"
  },
  "language_info": {
   "codemirror_mode": {
    "name": "ipython",
    "version": 3
   },
   "file_extension": ".py",
   "mimetype": "text/x-python",
   "name": "python",
   "nbconvert_exporter": "python",
   "pygments_lexer": "ipython3",
   "version": "3.11.3"
  }
 },
 "nbformat": 4,
 "nbformat_minor": 5
}
