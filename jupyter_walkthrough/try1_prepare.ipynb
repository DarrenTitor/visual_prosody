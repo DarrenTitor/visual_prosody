{
 "cells": [
  {
   "cell_type": "code",
   "execution_count": 3,
   "id": "38ec5f9a-b0cc-4ae0-89d5-088841a7cf58",
   "metadata": {},
   "outputs": [],
   "source": [
    "import argparse\n",
    "import yaml"
   ]
  },
  {
   "cell_type": "code",
   "execution_count": 11,
   "id": "c9bb11f6-59ab-475a-83b3-f0efc5dcd38d",
   "metadata": {},
   "outputs": [],
   "source": [
    "import os, sys\n",
    "# add root working folder into path so that we can import abs paths in jupyter\n",
    "dir2 = os.path.abspath('')\n",
    "dir1 = os.path.dirname(dir2)\n",
    "if not dir1 in sys.path: sys.path.append(dir1)"
   ]
  },
  {
   "cell_type": "code",
   "execution_count": 12,
   "id": "28df00a3-2ed4-4d1b-a909-530f857dae9c",
   "metadata": {},
   "outputs": [],
   "source": [
    "# /processor/ljspeech.py\n",
    "import os\n",
    "import librosa\n",
    "import numpy as np\n",
    "from scipy.io import wavfile\n",
    "from tqdm import tqdm\n",
    "from text import _clean_text"
   ]
  },
  {
   "cell_type": "code",
   "execution_count": 16,
   "id": "bcc93c1f-4548-4c52-927d-7c5795aeeeed",
   "metadata": {},
   "outputs": [],
   "source": [
    "parser = argparse.ArgumentParser()\n",
    "parser.add_argument(\"config\", type=str, help=\"path to preprocess.yaml\")\n",
    "\n",
    "argString = '../config/LJSpeech/preprocess.yaml'\n",
    "# args = parser.parse_args()\n",
    "args = parser.parse_args(argString.split())\n",
    "config = yaml.load(open(args.config, \"r\"), Loader=yaml.FullLoader)"
   ]
  },
  {
   "cell_type": "code",
   "execution_count": 17,
   "id": "968cec82-44be-4015-aae3-b870827cd40a",
   "metadata": {},
   "outputs": [
    {
     "data": {
      "text/plain": [
       "{'dataset': 'LJSpeech',\n",
       " 'path': {'corpus_path': '/home/ming/Data/LJSpeech-1.1',\n",
       "  'lexicon_path': 'lexicon/librispeech-lexicon.txt',\n",
       "  'raw_path': './raw_data/LJSpeech',\n",
       "  'preprocessed_path': './preprocessed_data/LJSpeech'},\n",
       " 'preprocessing': {'val_size': 512,\n",
       "  'text': {'text_cleaners': ['english_cleaners'], 'language': 'en'},\n",
       "  'audio': {'sampling_rate': 22050, 'max_wav_value': 32768.0},\n",
       "  'stft': {'filter_length': 1024, 'hop_length': 256, 'win_length': 1024},\n",
       "  'mel': {'n_mel_channels': 80, 'mel_fmin': 0, 'mel_fmax': 8000},\n",
       "  'pitch': {'feature': 'phoneme_level', 'normalization': True},\n",
       "  'energy': {'feature': 'phoneme_level', 'normalization': True}}}"
      ]
     },
     "execution_count": 17,
     "metadata": {},
     "output_type": "execute_result"
    }
   ],
   "source": [
    "config"
   ]
  },
  {
   "cell_type": "code",
   "execution_count": 18,
   "id": "c0e48874-f98a-4755-9275-9cf9a876b2fd",
   "metadata": {},
   "outputs": [],
   "source": [
    "def prepare_align(config):\n",
    "    in_dir = config[\"path\"][\"corpus_path\"]\n",
    "    out_dir = config[\"path\"][\"raw_path\"]\n",
    "    sampling_rate = config[\"preprocessing\"][\"audio\"][\"sampling_rate\"]\n",
    "    max_wav_value = config[\"preprocessing\"][\"audio\"][\"max_wav_value\"]\n",
    "    cleaners = config[\"preprocessing\"][\"text\"][\"text_cleaners\"]\n",
    "    speaker = \"LJSpeech\"\n",
    "    with open(os.path.join(in_dir, \"metadata.csv\"), encoding=\"utf-8\") as f:\n",
    "        for line in tqdm(f):\n",
    "            parts = line.strip().split(\"|\")\n",
    "            base_name = parts[0]\n",
    "            text = parts[2]\n",
    "            text = _clean_text(text, cleaners)\n",
    "\n",
    "            wav_path = os.path.join(in_dir, \"wavs\", \"{}.wav\".format(base_name))\n",
    "            if os.path.exists(wav_path):\n",
    "                os.makedirs(os.path.join(out_dir, speaker), exist_ok=True)\n",
    "                wav, _ = librosa.load(wav_path, sampling_rate)\n",
    "                wav = wav / max(abs(wav)) * max_wav_value\n",
    "                wavfile.write(\n",
    "                    os.path.join(out_dir, speaker, \"{}.wav\".format(base_name)),\n",
    "                    sampling_rate,\n",
    "                    wav.astype(np.int16),\n",
    "                )\n",
    "                with open(\n",
    "                    os.path.join(out_dir, speaker, \"{}.lab\".format(base_name)),\n",
    "                    \"w\",\n",
    "                ) as f1:\n",
    "                    f1.write(text)"
   ]
  },
  {
   "cell_type": "code",
   "execution_count": 19,
   "id": "bf1988f0-9126-40d7-9c6e-a66c0056219a",
   "metadata": {},
   "outputs": [],
   "source": [
    "in_dir = config[\"path\"][\"corpus_path\"]\n",
    "out_dir = config[\"path\"][\"raw_path\"]"
   ]
  },
  {
   "cell_type": "code",
   "execution_count": 20,
   "id": "5d3e2ef7-542f-4c46-8832-b1db12c08621",
   "metadata": {},
   "outputs": [
    {
     "data": {
      "text/plain": [
       "'/home/ming/Data/LJSpeech-1.1'"
      ]
     },
     "execution_count": 20,
     "metadata": {},
     "output_type": "execute_result"
    }
   ],
   "source": [
    "in_dir"
   ]
  },
  {
   "cell_type": "code",
   "execution_count": 21,
   "id": "ceee6528-756b-4e2b-927e-fb0111da0ac7",
   "metadata": {},
   "outputs": [
    {
     "data": {
      "text/plain": [
       "'./raw_data/LJSpeech'"
      ]
     },
     "execution_count": 21,
     "metadata": {},
     "output_type": "execute_result"
    }
   ],
   "source": [
    "out_dir"
   ]
  },
  {
   "cell_type": "code",
   "execution_count": 23,
   "id": "3b53fb60-17bf-4740-a015-6bbc266ced0c",
   "metadata": {},
   "outputs": [],
   "source": [
    "in_dir = '../Data/LJSpeech-1.1'"
   ]
  },
  {
   "cell_type": "code",
   "execution_count": 24,
   "id": "1ae2a76a-a05e-4bfd-ac17-5771dd03a466",
   "metadata": {},
   "outputs": [],
   "source": [
    "sampling_rate = config[\"preprocessing\"][\"audio\"][\"sampling_rate\"]\n",
    "max_wav_value = config[\"preprocessing\"][\"audio\"][\"max_wav_value\"]"
   ]
  },
  {
   "cell_type": "code",
   "execution_count": 25,
   "id": "2a8085c4-0e93-4055-98c9-eef6ec92906b",
   "metadata": {},
   "outputs": [],
   "source": [
    "cleaners = config[\"preprocessing\"][\"text\"][\"text_cleaners\"]"
   ]
  },
  {
   "cell_type": "code",
   "execution_count": 27,
   "id": "7f9416b0-7775-4390-bd1f-625a8b83164b",
   "metadata": {},
   "outputs": [],
   "source": [
    "speaker = \"LJSpeech\""
   ]
  },
  {
   "cell_type": "code",
   "execution_count": 36,
   "id": "12f11894-63c1-44bc-a295-b6e64fd0866d",
   "metadata": {},
   "outputs": [
    {
     "name": "stderr",
     "output_type": "stream",
     "text": [
      "13100it [01:48, 121.21it/s]\n"
     ]
    }
   ],
   "source": [
    "with open(os.path.join(in_dir, \"metadata.csv\"), encoding=\"utf-8\") as f:\n",
    "    for line in tqdm(f):\n",
    "        parts = line.strip().split(\"|\")\n",
    "        # print(parts)\n",
    "        base_name = parts[0]\n",
    "        text = parts[2]\n",
    "        text = _clean_text(text, cleaners)\n",
    "\n",
    "        wav_path = os.path.join(in_dir, \"wavs\", \"{}.wav\".format(base_name))\n",
    "        if os.path.exists(wav_path):\n",
    "            # print(wav_path)\n",
    "            os.makedirs(os.path.join(out_dir, speaker), exist_ok=True)\n",
    "            wav, _ = librosa.load(wav_path)\n",
    "            wav = wav / max(abs(wav)) * max_wav_value\n",
    "            \n",
    "            wavfile.write(\n",
    "                os.path.join(out_dir, speaker, \"{}.wav\".format(base_name)),\n",
    "                sampling_rate,\n",
    "                wav.astype(np.int16),\n",
    "            )\n",
    "            with open(\n",
    "                os.path.join(out_dir, speaker, \"{}.lab\".format(base_name)),\n",
    "                \"w\",\n",
    "            ) as f1:\n",
    "                f1.write(text)\n",
    "        # break"
   ]
  },
  {
   "cell_type": "code",
   "execution_count": null,
   "id": "b604a2da-55c6-42b0-9af0-5ea5c9143cab",
   "metadata": {},
   "outputs": [],
   "source": []
  },
  {
   "cell_type": "code",
   "execution_count": null,
   "id": "a882a912-5af4-44d9-ace0-0534864e1c5b",
   "metadata": {},
   "outputs": [],
   "source": [
    "# 接下来对ego4d进行preprocess"
   ]
  },
  {
   "cell_type": "code",
   "execution_count": 42,
   "id": "6c301383-e309-44ad-b32a-8d259bd3117c",
   "metadata": {},
   "outputs": [],
   "source": [
    "parser = argparse.ArgumentParser()\n",
    "parser.add_argument(\"config\", type=str, help=\"path to preprocess.yaml\")\n",
    "\n",
    "argString = '../config/Ego4D_final_v2/preprocess.yaml'\n",
    "# args = parser.parse_args()\n",
    "args = parser.parse_args(argString.split())\n",
    "config = yaml.load(open(args.config, \"r\"), Loader=yaml.FullLoader)"
   ]
  },
  {
   "cell_type": "code",
   "execution_count": 43,
   "id": "80267a16-0015-4f6e-b461-58ba4e7aac39",
   "metadata": {},
   "outputs": [
    {
     "data": {
      "text/plain": [
       "{'dataset': 'Ego4D_final_v2',\n",
       " 'path': {'corpus_path': './Data/Ego4D_final_v2/final_dataset_v2',\n",
       "  'lexicon_path': 'lexicon/librispeech-lexicon.txt',\n",
       "  'raw_path': './raw_data/Ego4D_final_v2',\n",
       "  'preprocessed_path': './preprocessed_data/Ego4D_final_v2',\n",
       "  'transcript_train_path': './Data/Ego4D_final_v2/final_dataset_v2/utterances_final_train_v2.csv',\n",
       "  'transcript_val_path': './Data/Ego4D_final_v2/final_dataset_v2/utterances_final_val_v2.csv'},\n",
       " 'preprocessing': {'val_size': 512,\n",
       "  'text': {'text_cleaners': ['english_cleaners'], 'language': 'en'},\n",
       "  'audio': {'sampling_rate': 16000, 'max_wav_value': 32768.0},\n",
       "  'stft': {'filter_length': 1024, 'hop_length': 256, 'win_length': 1024},\n",
       "  'mel': {'n_mel_channels': 80, 'mel_fmin': 0, 'mel_fmax': 8000},\n",
       "  'pitch': {'feature': 'phoneme_level', 'normalization': True},\n",
       "  'energy': {'feature': 'phoneme_level', 'normalization': True}}}"
      ]
     },
     "execution_count": 43,
     "metadata": {},
     "output_type": "execute_result"
    }
   ],
   "source": [
    "config"
   ]
  },
  {
   "cell_type": "code",
   "execution_count": 48,
   "id": "4b317072-b896-4831-b279-e35239d8590a",
   "metadata": {},
   "outputs": [],
   "source": [
    "in_dir = f\".{config['path']['corpus_path']}\"\n",
    "out_dir = f\".{config['path']['raw_path']}\"\n",
    "sampling_rate = config[\"preprocessing\"][\"audio\"][\"sampling_rate\"]\n",
    "max_wav_value = config[\"preprocessing\"][\"audio\"][\"max_wav_value\"]\n",
    "# cleaners = config[\"preprocessing\"][\"text\"][\"text_cleaners\"]\n",
    "speaker = \"Ego4D_final_v2\"\n",
    "transcript_train_path = f\".{config['path']['transcript_train_path']}\"\n",
    "transcript_val_path = f\".{config['path']['transcript_val_path']}\""
   ]
  },
  {
   "cell_type": "code",
   "execution_count": 49,
   "id": "bbcc5b03-be99-4327-ba46-6678a18aa28c",
   "metadata": {},
   "outputs": [],
   "source": [
    "import pandas as pd"
   ]
  },
  {
   "cell_type": "code",
   "execution_count": 50,
   "id": "f57ec569-1c67-4ffe-8a00-4f5acf373b87",
   "metadata": {},
   "outputs": [
    {
     "name": "stdout",
     "output_type": "stream",
     "text": [
      "Index(['utterance_id', 'video_id', 'person_id', 'video_start_time',\n",
      "       'video_end_time', 'transcription', 'sample_duration'],\n",
      "      dtype='object')\n"
     ]
    }
   ],
   "source": [
    "train_df = pd.read_csv(transcript_train_path)\n",
    "print(train_df.columns)"
   ]
  },
  {
   "cell_type": "code",
   "execution_count": 52,
   "id": "c513cfab-1606-46ab-bacc-c2caf01e2d35",
   "metadata": {},
   "outputs": [
    {
     "data": {
      "text/plain": [
       "'../Data/Ego4D_final_v2/final_dataset_v2'"
      ]
     },
     "execution_count": 52,
     "metadata": {},
     "output_type": "execute_result"
    }
   ],
   "source": [
    "in_dir"
   ]
  },
  {
   "cell_type": "code",
   "execution_count": 53,
   "id": "99ccee72-a545-4212-a3c1-6ffc3f963f74",
   "metadata": {},
   "outputs": [
    {
     "data": {
      "text/plain": [
       "'../raw_data/Ego4D_final_v2'"
      ]
     },
     "execution_count": 53,
     "metadata": {},
     "output_type": "execute_result"
    }
   ],
   "source": [
    "out_dir"
   ]
  },
  {
   "cell_type": "code",
   "execution_count": 61,
   "id": "fc9da253-d4a7-40cf-b4f0-1b76ecefa4ec",
   "metadata": {},
   "outputs": [
    {
     "name": "stderr",
     "output_type": "stream",
     "text": [
      "4208it [00:16, 261.80it/s]\n"
     ]
    },
    {
     "ename": "KeyboardInterrupt",
     "evalue": "",
     "output_type": "error",
     "traceback": [
      "\u001b[1;31m---------------------------------------------------------------------------\u001b[0m",
      "\u001b[1;31mKeyboardInterrupt\u001b[0m                         Traceback (most recent call last)",
      "Cell \u001b[1;32mIn [61], line 6\u001b[0m\n\u001b[0;32m      4\u001b[0m text \u001b[38;5;241m=\u001b[39m _clean_text(text, cleaners)\n\u001b[0;32m      5\u001b[0m wav_path \u001b[38;5;241m=\u001b[39m os\u001b[38;5;241m.\u001b[39mpath\u001b[38;5;241m.\u001b[39mjoin(in_dir, \u001b[38;5;124m\"\u001b[39m\u001b[38;5;124mtrain\u001b[39m\u001b[38;5;124m\"\u001b[39m, \u001b[38;5;124mf\u001b[39m\u001b[38;5;124m\"\u001b[39m\u001b[38;5;132;01m{\u001b[39;00muid\u001b[38;5;132;01m}\u001b[39;00m\u001b[38;5;124m.wav\u001b[39m\u001b[38;5;124m\"\u001b[39m)\n\u001b[1;32m----> 6\u001b[0m \u001b[38;5;28;01mif\u001b[39;00m \u001b[43mos\u001b[49m\u001b[38;5;241;43m.\u001b[39;49m\u001b[43mpath\u001b[49m\u001b[38;5;241;43m.\u001b[39;49m\u001b[43mexists\u001b[49m\u001b[43m(\u001b[49m\u001b[43mwav_path\u001b[49m\u001b[43m)\u001b[49m:\n\u001b[0;32m      7\u001b[0m     os\u001b[38;5;241m.\u001b[39mmakedirs(os\u001b[38;5;241m.\u001b[39mpath\u001b[38;5;241m.\u001b[39mjoin(out_dir, speaker), exist_ok\u001b[38;5;241m=\u001b[39m\u001b[38;5;28;01mTrue\u001b[39;00m)\n\u001b[0;32m      8\u001b[0m     wav, _ \u001b[38;5;241m=\u001b[39m librosa\u001b[38;5;241m.\u001b[39mload(wav_path, sr\u001b[38;5;241m=\u001b[39m\u001b[38;5;28;01mNone\u001b[39;00m)\n",
      "File \u001b[1;32mD:\\Program_CS\\Python\\Python39\\lib\\genericpath.py:19\u001b[0m, in \u001b[0;36mexists\u001b[1;34m(path)\u001b[0m\n\u001b[0;32m     17\u001b[0m \u001b[38;5;124;03m\"\"\"Test whether a path exists.  Returns False for broken symbolic links\"\"\"\u001b[39;00m\n\u001b[0;32m     18\u001b[0m \u001b[38;5;28;01mtry\u001b[39;00m:\n\u001b[1;32m---> 19\u001b[0m     \u001b[43mos\u001b[49m\u001b[38;5;241;43m.\u001b[39;49m\u001b[43mstat\u001b[49m\u001b[43m(\u001b[49m\u001b[43mpath\u001b[49m\u001b[43m)\u001b[49m\n\u001b[0;32m     20\u001b[0m \u001b[38;5;28;01mexcept\u001b[39;00m (\u001b[38;5;167;01mOSError\u001b[39;00m, \u001b[38;5;167;01mValueError\u001b[39;00m):\n\u001b[0;32m     21\u001b[0m     \u001b[38;5;28;01mreturn\u001b[39;00m \u001b[38;5;28;01mFalse\u001b[39;00m\n",
      "\u001b[1;31mKeyboardInterrupt\u001b[0m: "
     ]
    }
   ],
   "source": [
    "for idx, row in tqdm(train_df.iterrows()):\n",
    "    uid = row['utterance_id']\n",
    "    text = row['transcription']\n",
    "    text = _clean_text(text, cleaners)\n",
    "    wav_path = os.path.join(in_dir, \"train\", f\"{uid}.wav\")\n",
    "    if os.path.exists(wav_path):\n",
    "        os.makedirs(os.path.join(out_dir, speaker), exist_ok=True)\n",
    "        wav, _ = librosa.load(wav_path, sr=None)\n",
    "        # print(wav_path)\n",
    "        # print(wav.shape)\n",
    "        # print(_)\n",
    "        wav = wav / max(abs(wav)) * max_wav_value\n",
    "        wavfile.write(\n",
    "            os.path.join(out_dir, speaker, f\"{uid}.wav\"),\n",
    "            sampling_rate,\n",
    "            wav.astype(np.int16),\n",
    "        )\n",
    "        with open(os.path.join(out_dir, speaker, f\"{uid}.lab\"), \"w\",) as f1:\n",
    "            f1.write(text)\n",
    "    # break"
   ]
  },
  {
   "cell_type": "code",
   "execution_count": null,
   "id": "aeb2ef07-1d92-4143-844d-2582e7170d06",
   "metadata": {},
   "outputs": [],
   "source": []
  },
  {
   "cell_type": "code",
   "execution_count": null,
   "id": "c19c263a-4d23-4e9b-abcd-af49131f1d46",
   "metadata": {},
   "outputs": [],
   "source": []
  },
  {
   "cell_type": "code",
   "execution_count": null,
   "id": "c2390a9f-c9af-48e1-b7bf-24ce6301f90c",
   "metadata": {},
   "outputs": [],
   "source": []
  },
  {
   "cell_type": "code",
   "execution_count": null,
   "id": "937d290e-5a63-4cda-b071-690ec66bb4d6",
   "metadata": {},
   "outputs": [],
   "source": []
  }
 ],
 "metadata": {
  "kernelspec": {
   "display_name": "Python 3 (ipykernel)",
   "language": "python",
   "name": "python3"
  },
  "language_info": {
   "codemirror_mode": {
    "name": "ipython",
    "version": 3
   },
   "file_extension": ".py",
   "mimetype": "text/x-python",
   "name": "python",
   "nbconvert_exporter": "python",
   "pygments_lexer": "ipython3",
   "version": "3.9.13"
  }
 },
 "nbformat": 4,
 "nbformat_minor": 5
}
