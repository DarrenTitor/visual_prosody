{
 "cells": [
  {
   "cell_type": "code",
   "execution_count": 1,
   "id": "64d8d559-8f84-47f9-93b0-f8ca9b57ddaf",
   "metadata": {},
   "outputs": [],
   "source": [
    "import os, sys, glob, shutil\n",
    "import argparse\n",
    "import json\n",
    "import yaml\n",
    "import numpy as np\n",
    "from pprint import pprint\n",
    "\n",
    "import torch\n",
    "import yaml\n",
    "import torch.nn as nn\n",
    "from torch.utils.data import DataLoader\n",
    "from torch.utils.tensorboard import SummaryWriter\n",
    "from scipy.io import wavfile\n",
    "from matplotlib import pyplot as plt"
   ]
  },
  {
   "cell_type": "code",
   "execution_count": 2,
   "id": "98334bb1-21e4-4ce1-8500-b08d2bd2a7a1",
   "metadata": {},
   "outputs": [],
   "source": [
    "# from utils.auto_tqdm import tqdm"
   ]
  },
  {
   "cell_type": "code",
   "execution_count": 3,
   "id": "9eacc6d9-7261-4567-865a-91ca3fc6802e",
   "metadata": {},
   "outputs": [
    {
     "name": "stdout",
     "output_type": "stream",
     "text": [
      "D:\\Schoolwork\\TERM 3\\WORK\\visual_prosody\n"
     ]
    }
   ],
   "source": [
    "%cd \"D:\\Schoolwork\\TERM 3\\WORK\\visual_prosody\""
   ]
  },
  {
   "cell_type": "code",
   "execution_count": 38,
   "id": "bfa52b9b-985d-4831-89c6-7e2cf3e838cb",
   "metadata": {},
   "outputs": [],
   "source": [
    "# 下面这块用于把LJSpeech的preprocessed data分到train和val两个文件夹中\n",
    "# 只需执行一次"
   ]
  },
  {
   "cell_type": "code",
   "execution_count": 12,
   "id": "5431bd10-a059-4f51-adc4-908d7df2de9b",
   "metadata": {},
   "outputs": [],
   "source": [
    "split_txt_train_path = r'.\\preprocessed_data\\LJSpeech\\train.txt'\n",
    "train_uids = []\n",
    "with open(split_txt_train_path) as file:\n",
    "    for line in file:\n",
    "        # print(line.split('|')[0])\n",
    "        train_uids.append(line.split('|')[0])\n",
    "\n",
    "split_txt_val_path = r'.\\preprocessed_data\\LJSpeech\\val.txt'\n",
    "val_uids = []\n",
    "with open(split_txt_val_path) as file:\n",
    "    for line in file:\n",
    "        # print(line.split('|')[0])\n",
    "        val_uids.append(line.split('|')[0])"
   ]
  },
  {
   "cell_type": "code",
   "execution_count": 12,
   "id": "6c838b86-f2af-41b9-b99b-f2569874e543",
   "metadata": {},
   "outputs": [],
   "source": [
    "split_txt_train_path = r'.\\preprocessed_data\\LJSpeech\\train.txt'\n",
    "train_uids = []\n",
    "with open(split_txt_train_path) as file:\n",
    "    for line in file:\n",
    "        # print(line.split('|')[0])\n",
    "        train_uids.append(line.split('|')[0])\n",
    "\n",
    "split_txt_val_path = r'.\\preprocessed_data\\LJSpeech\\val.txt'\n",
    "val_uids = []\n",
    "with open(split_txt_val_path) as file:\n",
    "    for line in file:\n",
    "        # print(line.split('|')[0])\n",
    "        val_uids.append(line.split('|')[0])"
   ]
  },
  {
   "cell_type": "code",
   "execution_count": 13,
   "id": "770e48c9-d056-45eb-b831-9da7b0daf794",
   "metadata": {},
   "outputs": [
    {
     "name": "stdout",
     "output_type": "stream",
     "text": [
      "12588\n",
      "512\n"
     ]
    }
   ],
   "source": [
    "print(len(train_uids))\n",
    "print(len(val_uids))"
   ]
  },
  {
   "cell_type": "code",
   "execution_count": 15,
   "id": "1b7c0a63-a788-45a5-8489-aa63fb565fc1",
   "metadata": {},
   "outputs": [],
   "source": [
    "!mkdir .\\preprocessed_data\\LJSpeech\\duration\\train\n",
    "!mkdir .\\preprocessed_data\\LJSpeech\\duration\\val"
   ]
  },
  {
   "cell_type": "code",
   "execution_count": 19,
   "id": "94eec25e-9227-49d9-b07b-9534984c94f2",
   "metadata": {},
   "outputs": [],
   "source": [
    "for uid in tqdm(train_uids):\n",
    "    source_path = rf\".\\preprocessed_data\\LJSpeech\\duration\\LJSpeech-duration-{uid}.npy\"\n",
    "    target_path = rf\".\\preprocessed_data\\LJSpeech\\duration\\train\\LJSpeech-duration-{uid}.npy\"\n",
    "    shutil.move(source_path, target_path)"
   ]
  },
  {
   "cell_type": "code",
   "execution_count": 21,
   "id": "3ae1e3ea-331f-4617-9523-a1d872406c97",
   "metadata": {},
   "outputs": [
    {
     "data": {
      "application/vnd.jupyter.widget-view+json": {
       "model_id": "80bbbc23ce914e4aa80f60163aa4834c",
       "version_major": 2,
       "version_minor": 0
      },
      "text/plain": [
       "  0%|          | 0/512 [00:00<?, ?it/s]"
      ]
     },
     "metadata": {},
     "output_type": "display_data"
    }
   ],
   "source": [
    "for uid in tqdm(val_uids):\n",
    "    source_path = rf\".\\preprocessed_data\\LJSpeech\\duration\\LJSpeech-duration-{uid}.npy\"\n",
    "    target_path = rf\".\\preprocessed_data\\LJSpeech\\duration\\val\\LJSpeech-duration-{uid}.npy\"\n",
    "    shutil.move(source_path, target_path)"
   ]
  },
  {
   "cell_type": "code",
   "execution_count": 23,
   "id": "ebe74393-0434-45df-89de-79e2970fad3d",
   "metadata": {},
   "outputs": [],
   "source": [
    "!mkdir .\\preprocessed_data\\LJSpeech\\energy\\train\n",
    "!mkdir .\\preprocessed_data\\LJSpeech\\energy\\val"
   ]
  },
  {
   "cell_type": "code",
   "execution_count": 24,
   "id": "44e2381e-9424-4272-a52f-ad51bfc51d6d",
   "metadata": {},
   "outputs": [
    {
     "data": {
      "application/vnd.jupyter.widget-view+json": {
       "model_id": "489c96ff9a5d4d21ad764d7033ec4698",
       "version_major": 2,
       "version_minor": 0
      },
      "text/plain": [
       "  0%|          | 0/512 [00:00<?, ?it/s]"
      ]
     },
     "metadata": {},
     "output_type": "display_data"
    }
   ],
   "source": [
    "for uid in tqdm(train_uids):\n",
    "    source_path = rf\".\\preprocessed_data\\LJSpeech\\energy\\LJSpeech-energy-{uid}.npy\"\n",
    "    target_path = rf\".\\preprocessed_data\\LJSpeech\\energy\\train\\LJSpeech-energy-{uid}.npy\"\n",
    "    shutil.move(source_path, target_path)\n",
    "\n",
    "for uid in tqdm(val_uids):\n",
    "    source_path = rf\".\\preprocessed_data\\LJSpeech\\energy\\LJSpeech-energy-{uid}.npy\"\n",
    "    target_path = rf\".\\preprocessed_data\\LJSpeech\\energy\\val\\LJSpeech-energy-{uid}.npy\"\n",
    "    shutil.move(source_path, target_path)"
   ]
  },
  {
   "cell_type": "code",
   "execution_count": 46,
   "id": "eea2128d-0a98-4ad0-8950-5622a200f985",
   "metadata": {},
   "outputs": [],
   "source": [
    "!mkdir .\\preprocessed_data\\LJSpeech\\pitch\\train\n",
    "!mkdir .\\preprocessed_data\\LJSpeech\\pitch\\val"
   ]
  },
  {
   "cell_type": "code",
   "execution_count": 47,
   "id": "9e44f22d-97e7-48f3-8b11-a392b36d5bfa",
   "metadata": {},
   "outputs": [
    {
     "data": {
      "application/vnd.jupyter.widget-view+json": {
       "model_id": "6805ea2f5e644671a6740247ee043c35",
       "version_major": 2,
       "version_minor": 0
      },
      "text/plain": [
       "  0%|          | 0/12588 [00:00<?, ?it/s]"
      ]
     },
     "metadata": {},
     "output_type": "display_data"
    },
    {
     "data": {
      "application/vnd.jupyter.widget-view+json": {
       "model_id": "acfdb9edcc614272bcb9b075b7aceef8",
       "version_major": 2,
       "version_minor": 0
      },
      "text/plain": [
       "  0%|          | 0/512 [00:00<?, ?it/s]"
      ]
     },
     "metadata": {},
     "output_type": "display_data"
    }
   ],
   "source": [
    "for uid in tqdm(train_uids):\n",
    "    source_path = rf\".\\preprocessed_data\\LJSpeech\\pitch\\LJSpeech-pitch-{uid}.npy\"\n",
    "    target_path = rf\".\\preprocessed_data\\LJSpeech\\pitch\\train\\LJSpeech-pitch-{uid}.npy\"\n",
    "    shutil.move(source_path, target_path)\n",
    "\n",
    "for uid in tqdm(val_uids):\n",
    "    source_path = rf\".\\preprocessed_data\\LJSpeech\\pitch\\LJSpeech-pitch-{uid}.npy\"\n",
    "    target_path = rf\".\\preprocessed_data\\LJSpeech\\pitch\\val\\LJSpeech-pitch-{uid}.npy\"\n",
    "    shutil.move(source_path, target_path)"
   ]
  },
  {
   "cell_type": "code",
   "execution_count": 25,
   "id": "5bf5b5ed-6f5e-46ba-ab4d-1367fd1d210d",
   "metadata": {},
   "outputs": [],
   "source": [
    "!mkdir .\\preprocessed_data\\LJSpeech\\mel\\train\n",
    "!mkdir .\\preprocessed_data\\LJSpeech\\mel\\val"
   ]
  },
  {
   "cell_type": "code",
   "execution_count": 26,
   "id": "2f92677d-681a-4f63-8acd-697a6ede8b3d",
   "metadata": {},
   "outputs": [
    {
     "data": {
      "application/vnd.jupyter.widget-view+json": {
       "model_id": "7e6365c9cbc74ce0b57590ab5529fec1",
       "version_major": 2,
       "version_minor": 0
      },
      "text/plain": [
       "  0%|          | 0/12588 [00:00<?, ?it/s]"
      ]
     },
     "metadata": {},
     "output_type": "display_data"
    },
    {
     "data": {
      "application/vnd.jupyter.widget-view+json": {
       "model_id": "6a3cd90761bc49a5acbd590d6f4bc020",
       "version_major": 2,
       "version_minor": 0
      },
      "text/plain": [
       "  0%|          | 0/512 [00:00<?, ?it/s]"
      ]
     },
     "metadata": {},
     "output_type": "display_data"
    }
   ],
   "source": [
    "for uid in tqdm(train_uids):\n",
    "    source_path = rf\".\\preprocessed_data\\LJSpeech\\mel\\LJSpeech-mel-{uid}.npy\"\n",
    "    target_path = rf\".\\preprocessed_data\\LJSpeech\\mel\\train\\LJSpeech-mel-{uid}.npy\"\n",
    "    shutil.move(source_path, target_path)\n",
    "\n",
    "for uid in tqdm(val_uids):\n",
    "    source_path = rf\".\\preprocessed_data\\LJSpeech\\mel\\LJSpeech-mel-{uid}.npy\"\n",
    "    target_path = rf\".\\preprocessed_data\\LJSpeech\\mel\\val\\LJSpeech-mel-{uid}.npy\"\n",
    "    shutil.move(source_path, target_path)"
   ]
  },
  {
   "cell_type": "code",
   "execution_count": 29,
   "id": "04134aec-e177-445e-8687-4961cb310aa3",
   "metadata": {},
   "outputs": [],
   "source": [
    "!mkdir .\\preprocessed_data\\LJSpeech\\TextGrid\\train\n",
    "!mkdir .\\preprocessed_data\\LJSpeech\\TextGrid\\val\n",
    "!mkdir .\\preprocessed_data\\LJSpeech\\TextGrid\\train\\LJSpeech\n",
    "!mkdir .\\preprocessed_data\\LJSpeech\\TextGrid\\val\\LJSpeech"
   ]
  },
  {
   "cell_type": "code",
   "execution_count": 30,
   "id": "0b82cf62-0e27-46a8-a421-47eead46290a",
   "metadata": {},
   "outputs": [
    {
     "data": {
      "application/vnd.jupyter.widget-view+json": {
       "model_id": "ae096015688a47899439f0ad444d678d",
       "version_major": 2,
       "version_minor": 0
      },
      "text/plain": [
       "  0%|          | 0/12588 [00:00<?, ?it/s]"
      ]
     },
     "metadata": {},
     "output_type": "display_data"
    },
    {
     "data": {
      "application/vnd.jupyter.widget-view+json": {
       "model_id": "1ee0d904d9b84d5891d4d610d5a9fa84",
       "version_major": 2,
       "version_minor": 0
      },
      "text/plain": [
       "  0%|          | 0/512 [00:00<?, ?it/s]"
      ]
     },
     "metadata": {},
     "output_type": "display_data"
    }
   ],
   "source": [
    "for uid in tqdm(train_uids):\n",
    "    source_path = rf\".\\preprocessed_data\\LJSpeech\\TextGrid\\LJSpeech\\{uid}.TextGrid\"\n",
    "    target_path = rf\".\\preprocessed_data\\LJSpeech\\TextGrid\\train\\LJSpeech\\{uid}.TextGrid\"\n",
    "    shutil.move(source_path, target_path)\n",
    "\n",
    "for uid in tqdm(val_uids):\n",
    "    source_path = rf\".\\preprocessed_data\\LJSpeech\\TextGrid\\LJSpeech\\{uid}.TextGrid\"\n",
    "    target_path = rf\".\\preprocessed_data\\LJSpeech\\TextGrid\\val\\LJSpeech\\{uid}.TextGrid\"\n",
    "    shutil.move(source_path, target_path)"
   ]
  },
  {
   "cell_type": "code",
   "execution_count": null,
   "id": "8a7e92b0-e461-4b0b-bba3-25f6027262a1",
   "metadata": {},
   "outputs": [],
   "source": []
  },
  {
   "cell_type": "code",
   "execution_count": null,
   "id": "21f325f9-a174-4b46-a080-0e77a0a6b60a",
   "metadata": {},
   "outputs": [],
   "source": []
  },
  {
   "cell_type": "code",
   "execution_count": null,
   "id": "1e5a72a3-4c2b-4626-a9d7-30b203013b0b",
   "metadata": {},
   "outputs": [],
   "source": []
  },
  {
   "cell_type": "code",
   "execution_count": null,
   "id": "24bc8bdd-d43b-4fe2-889f-e0fee53f561f",
   "metadata": {},
   "outputs": [],
   "source": []
  },
  {
   "cell_type": "code",
   "execution_count": null,
   "id": "181ce495-e30f-4e60-971e-81546defc790",
   "metadata": {},
   "outputs": [],
   "source": []
  },
  {
   "cell_type": "code",
   "execution_count": null,
   "id": "8e9b78ef-60ba-43a9-819f-ad3a4402203c",
   "metadata": {},
   "outputs": [],
   "source": []
  },
  {
   "cell_type": "code",
   "execution_count": null,
   "id": "96278ef3-c905-4208-ba60-0f248a9ca822",
   "metadata": {},
   "outputs": [],
   "source": []
  },
  {
   "cell_type": "code",
   "execution_count": null,
   "id": "a1419dda-c6fa-408d-b1ea-fdcbe49bb92b",
   "metadata": {},
   "outputs": [],
   "source": []
  },
  {
   "cell_type": "code",
   "execution_count": 4,
   "id": "77269245-a14e-4713-805d-f8bb5f0e4ab8",
   "metadata": {},
   "outputs": [],
   "source": [
    "from utils.model import get_model, get_vocoder, get_param_num, vocoder_infer\n",
    "from utils.tools import to_device, log, synth_one_sample, expand, plot_mel\n",
    "from model import FastSpeech2Loss\n",
    "from dataset import Dataset\n",
    "from utils.auto_tqdm import tqdm\n",
    "\n",
    "from evaluate import evaluate"
   ]
  },
  {
   "cell_type": "code",
   "execution_count": 5,
   "id": "bb824442-f53a-49d8-acc9-cd4a6291041d",
   "metadata": {},
   "outputs": [],
   "source": [
    "device = torch.device(\"cuda\" if torch.cuda.is_available() else \"cpu\")"
   ]
  },
  {
   "cell_type": "code",
   "execution_count": 6,
   "id": "65cf05ed-17bf-4b39-afbc-78eb0b851045",
   "metadata": {},
   "outputs": [],
   "source": [
    "parser = argparse.ArgumentParser()\n",
    "parser.add_argument(\"--restore_step\", type=int, default=0)\n",
    "parser.add_argument(\n",
    "    \"-p\",\n",
    "    \"--preprocess_config\",\n",
    "    type=str,\n",
    "    required=True,\n",
    "    help=\"path to preprocess.yaml\",\n",
    ")\n",
    "parser.add_argument(\n",
    "    \"-m\", \"--model_config\", type=str, required=True, help=\"path to model.yaml\"\n",
    ")\n",
    "parser.add_argument(\n",
    "    \"-t\", \"--train_config\", type=str, required=True, help=\"path to train.yaml\"\n",
    ")\n",
    "\n",
    "argString = '-p ./config/LJSpeech/0629_preprocess.yaml -m ./config/LJSpeech/0629_model.yaml -t ./config/LJSpeech/train.yaml'\n",
    "# args = parser.parse_args()\n",
    "args = parser.parse_args(argString.split())"
   ]
  },
  {
   "cell_type": "code",
   "execution_count": 7,
   "id": "9ec536df-8b84-4685-a322-e26221b73017",
   "metadata": {},
   "outputs": [
    {
     "name": "stdout",
     "output_type": "stream",
     "text": [
      "Namespace(restore_step=0, preprocess_config='./config/LJSpeech/0629_preprocess.yaml', model_config='./config/LJSpeech/0629_model.yaml', train_config='./config/LJSpeech/train.yaml')\n"
     ]
    }
   ],
   "source": [
    "pprint(args)"
   ]
  },
  {
   "cell_type": "code",
   "execution_count": 8,
   "id": "fbdae12a-f8eb-4ae0-be01-55a55e07f0a6",
   "metadata": {},
   "outputs": [],
   "source": [
    "# Read Config\n",
    "preprocess_config = yaml.load(\n",
    "    open(args.preprocess_config, \"r\"), Loader=yaml.FullLoader\n",
    ")\n",
    "model_config = yaml.load(open(args.model_config, \"r\"), Loader=yaml.FullLoader)\n",
    "train_config = yaml.load(open(args.train_config, \"r\"), Loader=yaml.FullLoader)\n",
    "configs = (preprocess_config, model_config, train_config)"
   ]
  },
  {
   "cell_type": "code",
   "execution_count": 9,
   "id": "0f13f577-b9c8-4ad2-a634-55a70d040cde",
   "metadata": {},
   "outputs": [
    {
     "name": "stdout",
     "output_type": "stream",
     "text": [
      "Prepare training ...\n"
     ]
    }
   ],
   "source": [
    "print(\"Prepare training ...\")\n",
    "\n",
    "preprocess_config, model_config, train_config = configs"
   ]
  },
  {
   "cell_type": "code",
   "execution_count": 27,
   "id": "f0549bc9-52a7-4951-92ed-5059f0ab17ad",
   "metadata": {},
   "outputs": [],
   "source": [
    "ckpt_path = r'./config/LJSpeech/900000.pth.tar'\n",
    "ckpt = torch.load(ckpt_path)"
   ]
  },
  {
   "cell_type": "code",
   "execution_count": 29,
   "id": "c8c62618-ef41-4a15-a751-9c9c318bb28b",
   "metadata": {},
   "outputs": [
    {
     "name": "stdout",
     "output_type": "stream",
     "text": [
      "=> Not using speaker embeddings.\n",
      "False\n",
      "None\n",
      "Number of FastSpeech2 Parameters: 35159745\n"
     ]
    }
   ],
   "source": [
    "# Prepare model\n",
    "model, optimizer = get_model(args, configs, device, train=True)\n",
    "model.load_state_dict(ckpt[\"model\"], strict=False)\n",
    "model.to(device)\n",
    "model = nn.DataParallel(model)\n",
    "num_param = get_param_num(model)\n",
    "Loss = FastSpeech2Loss(preprocess_config, model_config).to(device)\n",
    "print(\"Number of FastSpeech2 Parameters:\", num_param)"
   ]
  },
  {
   "cell_type": "code",
   "execution_count": 30,
   "id": "eed0aabb-f43c-4284-8475-3a38695a55b1",
   "metadata": {},
   "outputs": [
    {
     "name": "stdout",
     "output_type": "stream",
     "text": [
      "Removing weight norm...\n"
     ]
    }
   ],
   "source": [
    "# Load vocoder\n",
    "vocoder = get_vocoder(model_config, device)"
   ]
  },
  {
   "cell_type": "code",
   "execution_count": 31,
   "id": "ec0d160f-c4e4-48cc-b763-7114bc95391a",
   "metadata": {},
   "outputs": [
    {
     "name": "stdout",
     "output_type": "stream",
     "text": [
      "\n"
     ]
    }
   ],
   "source": [
    "step = args.restore_step + 1\n",
    "model.eval()\n",
    "print()"
   ]
  },
  {
   "cell_type": "code",
   "execution_count": 32,
   "id": "69db3413-764e-49c9-a804-f82f47fd7261",
   "metadata": {},
   "outputs": [],
   "source": [
    "dataset = Dataset(\n",
    "    \"val.txt\", 'val', preprocess_config, train_config, sort=False, drop_last=False\n",
    ")"
   ]
  },
  {
   "cell_type": "code",
   "execution_count": 33,
   "id": "b5a1f7d5-db84-4d5f-a80f-359d51a36d37",
   "metadata": {},
   "outputs": [],
   "source": [
    "batch_size = train_config[\"optimizer\"][\"batch_size\"]"
   ]
  },
  {
   "cell_type": "code",
   "execution_count": 34,
   "id": "2646d25d-8b89-4b0b-8461-e37f957ab146",
   "metadata": {},
   "outputs": [],
   "source": [
    "loader = DataLoader(\n",
    "        dataset,\n",
    "        batch_size=batch_size,\n",
    "        shuffle=False,\n",
    "        collate_fn=dataset.collate_fn,\n",
    "    )\n",
    "# Get loss function\n",
    "Loss = FastSpeech2Loss(preprocess_config, model_config).to(device)"
   ]
  },
  {
   "cell_type": "code",
   "execution_count": 35,
   "id": "7a236aa5-e39d-415c-8845-fcacf7f41fb3",
   "metadata": {},
   "outputs": [
    {
     "data": {
      "text/plain": [
       "'./output/0629lj/result/LJSpeech\\\\plots'"
      ]
     },
     "execution_count": 35,
     "metadata": {},
     "output_type": "execute_result"
    }
   ],
   "source": [
    "os.path.join(train_config['path']['result_path'], 'plots')"
   ]
  },
  {
   "cell_type": "code",
   "execution_count": 36,
   "id": "35b651f6-4aff-45b7-a580-cdbd695f9740",
   "metadata": {},
   "outputs": [],
   "source": [
    "# => batch:\n",
    "# return (\n",
    "#     ids,\n",
    "#     raw_texts,\n",
    "#     speakers,\n",
    "#     texts,\n",
    "#     text_lens,\n",
    "#     max(text_lens),\n",
    "#     mels,\n",
    "#     mel_lens,\n",
    "#     max(mel_lens),\n",
    "#     pitches,\n",
    "#     energies,\n",
    "#     durations,\n",
    "#     speaker_embeddings,\n",
    "# )\n",
    "# [12] 对应speaker embedding\n",
    "\n",
    "\n",
    "# => model output / prediction\n",
    "# return (\n",
    "#     output,\n",
    "#     postnet_output,\n",
    "#     p_predictions,\n",
    "#     e_predictions,\n",
    "#     log_d_predictions,\n",
    "#     d_rounded,\n",
    "#     src_masks,\n",
    "#     mel_masks,\n",
    "#     src_lens,\n",
    "#     mel_lens,\n",
    "# )\n",
    "output_plot_path = os.path.join(train_config['path']['result_path'], 'plot')\n",
    "output_mel_syn_path = os.path.join(train_config['path']['result_path'], 'mel', 'syn')\n",
    "output_mel_gt_path = os.path.join(train_config['path']['result_path'], 'mel', 'gt')\n",
    "output_wav_syn_path = os.path.join(train_config['path']['result_path'], 'wav', 'synthesized')\n",
    "output_wav_rec_path = os.path.join(train_config['path']['result_path'], 'wav', 'reconstructed')\n",
    "os.makedirs(output_plot_path, exist_ok=True)\n",
    "os.makedirs(output_mel_syn_path, exist_ok=True)\n",
    "os.makedirs(output_mel_gt_path, exist_ok=True)\n",
    "os.makedirs(output_wav_syn_path, exist_ok=True)\n",
    "os.makedirs(output_wav_rec_path, exist_ok=True)"
   ]
  },
  {
   "cell_type": "code",
   "execution_count": 39,
   "id": "c0db3412-aebb-44f6-8b62-a6172a9255f9",
   "metadata": {},
   "outputs": [
    {
     "data": {
      "application/vnd.jupyter.widget-view+json": {
       "model_id": "be0a00e6d847466b81f77bfb4811c3c0",
       "version_major": 2,
       "version_minor": 0
      },
      "text/plain": [
       "  0%|          | 0/32 [00:00<?, ?it/s]"
      ]
     },
     "metadata": {},
     "output_type": "display_data"
    }
   ],
   "source": [
    "for batchs in tqdm(loader):\n",
    "    for targets in batchs:\n",
    "        targets = to_device(targets, device)\n",
    "        with torch.no_grad():\n",
    "            predictions = model(*(targets[2:]))\n",
    "        basenames = targets[0]\n",
    "        for i in range(len(predictions[0])):\n",
    "            basename = basenames[i]\n",
    "            src_len = predictions[8][i].item()\n",
    "            mel_len = predictions[9][i].item()\n",
    "            mel_prediction = predictions[1][i, :mel_len].detach().transpose(0, 1)\n",
    "            mel_target = targets[6][i, :mel_len].detach().transpose(0, 1)\n",
    "\n",
    "            torch.save(mel_prediction.cpu(), os.path.join(output_mel_syn_path, f\"{basename}.pt\"))\n",
    "            torch.save(mel_target.cpu(), os.path.join(output_mel_gt_path, f\"{basename}.pt\"))\n",
    "            \n",
    "            \n",
    "            duration = predictions[5][i, :src_len].detach().cpu().numpy()\n",
    "            if preprocess_config[\"preprocessing\"][\"pitch\"][\"feature\"] == \"phoneme_level\":\n",
    "                pitch = predictions[2][i, :src_len].detach().cpu().numpy()\n",
    "                pitch = expand(pitch, duration)\n",
    "            else:\n",
    "                pitch = predictions[2][i, :mel_len].detach().cpu().numpy()\n",
    "            if preprocess_config[\"preprocessing\"][\"energy\"][\"feature\"] == \"phoneme_level\":\n",
    "                energy = predictions[3][i, :src_len].detach().cpu().numpy()\n",
    "                energy = expand(energy, duration)\n",
    "            else:\n",
    "                energy = predictions[3][i, :mel_len].detach().cpu().numpy()\n",
    "\n",
    "            with open(os.path.join(preprocess_config[\"path\"][\"preprocessed_path\"], \n",
    "                                   \"stats.json\")) as f:\n",
    "                stats = json.load(f)\n",
    "                stats = stats[\"pitch\"] + stats[\"energy\"][:2]\n",
    "                                       \n",
    "            fig = plot_mel(\n",
    "                [\n",
    "                    (mel_prediction.cpu().numpy(), pitch, energy),\n",
    "                    (mel_target.cpu().numpy(), pitch, energy),\n",
    "                ],\n",
    "                stats,\n",
    "                [\"Synthetized Spectrogram\", \"Ground-Truth Spectrogram\"],\n",
    "            )\n",
    "            ### TODO: change to svg\n",
    "            plt.savefig(os.path.join(output_plot_path, f\"{basename}.png\"))\n",
    "            plt.close()\n",
    "\n",
    "        # from .model import vocoder_infer\n",
    "\n",
    "        mel_predictions = predictions[1].transpose(1, 2)\n",
    "        mel_targets = targets[6].transpose(1, 2)\n",
    "        \n",
    "        lengths = predictions[9] * preprocess_config[\"preprocessing\"][\"stft\"][\"hop_length\"]\n",
    "        wav_predictions = vocoder_infer(\n",
    "            mel_predictions, vocoder, model_config, preprocess_config, lengths=lengths\n",
    "        )\n",
    "        wav_targets = vocoder_infer(\n",
    "        mel_targets, vocoder, model_config, preprocess_config, lengths=lengths\n",
    "    )\n",
    "    \n",
    "        sampling_rate = preprocess_config[\"preprocessing\"][\"audio\"][\"sampling_rate\"]\n",
    "        for wav, basename in zip(wav_predictions, basenames):\n",
    "            wavfile.write(os.path.join(output_wav_syn_path, f\"{basename}.wav\"), sampling_rate, wav)\n",
    "        for wav, basename in zip(wav_targets, basenames):\n",
    "            wavfile.write(os.path.join(output_wav_rec_path, f\"{basename}.wav\"), sampling_rate, wav)\n",
    "\n",
    "        \n",
    "    #     break\n",
    "    # break"
   ]
  },
  {
   "cell_type": "code",
   "execution_count": null,
   "id": "48ca11ed-df8b-454c-8ec2-e00e4ae6e9a1",
   "metadata": {},
   "outputs": [],
   "source": []
  },
  {
   "cell_type": "code",
   "execution_count": null,
   "id": "e1a7cc16-16f8-4b87-892b-37d1d033a81c",
   "metadata": {},
   "outputs": [],
   "source": []
  },
  {
   "cell_type": "code",
   "execution_count": null,
   "id": "31da9865-8d6e-4781-b919-82fe88ed0b71",
   "metadata": {},
   "outputs": [],
   "source": []
  },
  {
   "cell_type": "code",
   "execution_count": null,
   "id": "236b2626-fc15-43de-9a74-493eb444bdcc",
   "metadata": {},
   "outputs": [],
   "source": []
  },
  {
   "cell_type": "code",
   "execution_count": null,
   "id": "015ed550-936d-454a-9248-07759371561e",
   "metadata": {},
   "outputs": [],
   "source": []
  },
  {
   "cell_type": "code",
   "execution_count": null,
   "id": "ef2d6e5b-3be8-4e38-9fc7-39959c7c6e83",
   "metadata": {},
   "outputs": [],
   "source": []
  }
 ],
 "metadata": {
  "kernelspec": {
   "display_name": "Python 3 (ipykernel)",
   "language": "python",
   "name": "python3"
  },
  "language_info": {
   "codemirror_mode": {
    "name": "ipython",
    "version": 3
   },
   "file_extension": ".py",
   "mimetype": "text/x-python",
   "name": "python",
   "nbconvert_exporter": "python",
   "pygments_lexer": "ipython3",
   "version": "3.11.3"
  }
 },
 "nbformat": 4,
 "nbformat_minor": 5
}
