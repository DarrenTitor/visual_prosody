{
 "cells": [
  {
   "cell_type": "code",
   "execution_count": 1,
   "id": "e26a8743-aa62-46d2-93c6-bb852a26a541",
   "metadata": {},
   "outputs": [],
   "source": [
    "import os, sys\n",
    "# add root working folder into path so that we can import abs paths in jupyter\n",
    "dir2 = os.path.abspath('')\n",
    "dir1 = os.path.dirname(dir2)\n",
    "if not dir1 in sys.path: sys.path.append(dir1)"
   ]
  },
  {
   "cell_type": "code",
   "execution_count": 2,
   "id": "0dd95bfa-6bda-4d76-8e4c-fdcc7265ae81",
   "metadata": {},
   "outputs": [],
   "source": [
    "import argparse\n",
    "import yaml\n",
    "from preprocessor.preprocessor import Preprocessor"
   ]
  },
  {
   "cell_type": "code",
   "execution_count": null,
   "id": "9456f402-4fa9-4dd0-9c3a-c0789c939ce3",
   "metadata": {},
   "outputs": [],
   "source": []
  },
  {
   "cell_type": "code",
   "execution_count": null,
   "id": "378c8ccc-fefc-4e82-8455-34ce98b20ef9",
   "metadata": {},
   "outputs": [],
   "source": []
  },
  {
   "cell_type": "code",
   "execution_count": 3,
   "id": "4aca073d-6ca6-4726-b1c5-aaa407317928",
   "metadata": {
    "collapsed": true,
    "jupyter": {
     "outputs_hidden": true
    }
   },
   "outputs": [
    {
     "ename": "KeyError",
     "evalue": "'splits'",
     "output_type": "error",
     "traceback": [
      "\u001b[1;31m---------------------------------------------------------------------------\u001b[0m",
      "\u001b[1;31mKeyError\u001b[0m                                  Traceback (most recent call last)",
      "Cell \u001b[1;32mIn [3], line 9\u001b[0m\n\u001b[0;32m      6\u001b[0m args \u001b[38;5;241m=\u001b[39m parser\u001b[38;5;241m.\u001b[39mparse_args(argString\u001b[38;5;241m.\u001b[39msplit())\n\u001b[0;32m      7\u001b[0m config \u001b[38;5;241m=\u001b[39m yaml\u001b[38;5;241m.\u001b[39mload(\u001b[38;5;28mopen\u001b[39m(args\u001b[38;5;241m.\u001b[39mconfig, \u001b[38;5;124m\"\u001b[39m\u001b[38;5;124mr\u001b[39m\u001b[38;5;124m\"\u001b[39m), Loader\u001b[38;5;241m=\u001b[39myaml\u001b[38;5;241m.\u001b[39mFullLoader)\n\u001b[1;32m----> 9\u001b[0m preprocessor \u001b[38;5;241m=\u001b[39m \u001b[43mPreprocessor\u001b[49m\u001b[43m(\u001b[49m\u001b[43mconfig\u001b[49m\u001b[43m)\u001b[49m\n",
      "File \u001b[1;32mD:\\Schoolwork\\TERM 3\\WORK\\visual_prosody\\preprocessor\\preprocessor.py:25\u001b[0m, in \u001b[0;36mPreprocessor.__init__\u001b[1;34m(self, config)\u001b[0m\n\u001b[0;32m     22\u001b[0m \u001b[38;5;28mself\u001b[39m\u001b[38;5;241m.\u001b[39msampling_rate \u001b[38;5;241m=\u001b[39m config[\u001b[38;5;124m\"\u001b[39m\u001b[38;5;124mpreprocessing\u001b[39m\u001b[38;5;124m\"\u001b[39m][\u001b[38;5;124m\"\u001b[39m\u001b[38;5;124maudio\u001b[39m\u001b[38;5;124m\"\u001b[39m][\u001b[38;5;124m\"\u001b[39m\u001b[38;5;124msampling_rate\u001b[39m\u001b[38;5;124m\"\u001b[39m]\n\u001b[0;32m     23\u001b[0m \u001b[38;5;28mself\u001b[39m\u001b[38;5;241m.\u001b[39mhop_length \u001b[38;5;241m=\u001b[39m config[\u001b[38;5;124m\"\u001b[39m\u001b[38;5;124mpreprocessing\u001b[39m\u001b[38;5;124m\"\u001b[39m][\u001b[38;5;124m\"\u001b[39m\u001b[38;5;124mstft\u001b[39m\u001b[38;5;124m\"\u001b[39m][\u001b[38;5;124m\"\u001b[39m\u001b[38;5;124mhop_length\u001b[39m\u001b[38;5;124m\"\u001b[39m]\n\u001b[1;32m---> 25\u001b[0m \u001b[38;5;28mself\u001b[39m\u001b[38;5;241m.\u001b[39msplits \u001b[38;5;241m=\u001b[39m \u001b[43mconfig\u001b[49m\u001b[43m[\u001b[49m\u001b[38;5;124;43m\"\u001b[39;49m\u001b[38;5;124;43mpreprocessing\u001b[39;49m\u001b[38;5;124;43m\"\u001b[39;49m\u001b[43m]\u001b[49m\u001b[43m[\u001b[49m\u001b[38;5;124;43m\"\u001b[39;49m\u001b[38;5;124;43msplits\u001b[39;49m\u001b[38;5;124;43m\"\u001b[39;49m\u001b[43m]\u001b[49m\n\u001b[0;32m     27\u001b[0m \u001b[38;5;28;01massert\u001b[39;00m config[\u001b[38;5;124m\"\u001b[39m\u001b[38;5;124mpreprocessing\u001b[39m\u001b[38;5;124m\"\u001b[39m][\u001b[38;5;124m\"\u001b[39m\u001b[38;5;124mpitch\u001b[39m\u001b[38;5;124m\"\u001b[39m][\u001b[38;5;124m\"\u001b[39m\u001b[38;5;124mfeature\u001b[39m\u001b[38;5;124m\"\u001b[39m] \u001b[38;5;129;01min\u001b[39;00m [\n\u001b[0;32m     28\u001b[0m     \u001b[38;5;124m\"\u001b[39m\u001b[38;5;124mphoneme_level\u001b[39m\u001b[38;5;124m\"\u001b[39m,\n\u001b[0;32m     29\u001b[0m     \u001b[38;5;124m\"\u001b[39m\u001b[38;5;124mframe_level\u001b[39m\u001b[38;5;124m\"\u001b[39m,\n\u001b[0;32m     30\u001b[0m ]\n\u001b[0;32m     31\u001b[0m \u001b[38;5;28;01massert\u001b[39;00m config[\u001b[38;5;124m\"\u001b[39m\u001b[38;5;124mpreprocessing\u001b[39m\u001b[38;5;124m\"\u001b[39m][\u001b[38;5;124m\"\u001b[39m\u001b[38;5;124menergy\u001b[39m\u001b[38;5;124m\"\u001b[39m][\u001b[38;5;124m\"\u001b[39m\u001b[38;5;124mfeature\u001b[39m\u001b[38;5;124m\"\u001b[39m] \u001b[38;5;129;01min\u001b[39;00m [\n\u001b[0;32m     32\u001b[0m     \u001b[38;5;124m\"\u001b[39m\u001b[38;5;124mphoneme_level\u001b[39m\u001b[38;5;124m\"\u001b[39m,\n\u001b[0;32m     33\u001b[0m     \u001b[38;5;124m\"\u001b[39m\u001b[38;5;124mframe_level\u001b[39m\u001b[38;5;124m\"\u001b[39m,\n\u001b[0;32m     34\u001b[0m ]\n",
      "\u001b[1;31mKeyError\u001b[0m: 'splits'"
     ]
    }
   ],
   "source": [
    "parser = argparse.ArgumentParser()\n",
    "parser.add_argument(\"config\", type=str, help=\"path to preprocess.yaml\")\n",
    "\n",
    "argString = '../config/LJSpeech/preprocess.yaml'\n",
    "# args = parser.parse_args()\n",
    "args = parser.parse_args(argString.split())\n",
    "config = yaml.load(open(args.config, \"r\"), Loader=yaml.FullLoader)\n",
    "\n",
    "preprocessor = Preprocessor(config)"
   ]
  },
  {
   "cell_type": "code",
   "execution_count": null,
   "id": "3fad0a95-791f-4997-8795-775404791064",
   "metadata": {},
   "outputs": [],
   "source": [
    "preprocessor.in_dir = f\".{config['path']['raw_path']}\"\n",
    "preprocessor.out_dir = f\".{config['path']['preprocessed_path']}\""
   ]
  },
  {
   "cell_type": "code",
   "execution_count": null,
   "id": "d7f06e0b-238e-487a-9baf-60cb6d1ee599",
   "metadata": {},
   "outputs": [],
   "source": [
    "os.makedirs((os.path.join(preprocessor.out_dir, \"mel\")), exist_ok=True)\n",
    "os.makedirs((os.path.join(preprocessor.out_dir, \"pitch\")), exist_ok=True)\n",
    "os.makedirs((os.path.join(preprocessor.out_dir, \"energy\")), exist_ok=True)\n",
    "os.makedirs((os.path.join(preprocessor.out_dir, \"duration\")), exist_ok=True)"
   ]
  },
  {
   "cell_type": "code",
   "execution_count": null,
   "id": "52756a06-b04c-4de8-9c5d-202a3f19a8e9",
   "metadata": {},
   "outputs": [],
   "source": [
    "import os\n",
    "import random\n",
    "import json\n",
    "\n",
    "import tgt\n",
    "import librosa\n",
    "import numpy as np\n",
    "import pyworld as pw\n",
    "from scipy.interpolate import interp1d\n",
    "from sklearn.preprocessing import StandardScaler\n",
    "from tqdm import tqdm\n",
    "\n",
    "import audio as Audio"
   ]
  },
  {
   "cell_type": "code",
   "execution_count": null,
   "id": "fe86f2da-35f1-44f2-9830-fdb78065864a",
   "metadata": {},
   "outputs": [],
   "source": [
    "out = list()\n",
    "n_frames = 0\n",
    "pitch_scaler = StandardScaler()\n",
    "energy_scaler = StandardScaler()"
   ]
  },
  {
   "cell_type": "code",
   "execution_count": null,
   "id": "e99e92a8-c25d-425c-9b04-e52bf718d2eb",
   "metadata": {},
   "outputs": [],
   "source": [
    "speakers = {}\n",
    "for i, speaker in enumerate(tqdm(os.listdir(preprocessor.in_dir))):\n",
    "    speakers[speaker] = i\n",
    "    for wav_name in os.listdir(os.path.join(preprocessor.in_dir, speaker)):\n",
    "        if \".wav\" not in wav_name:\n",
    "            continue\n",
    "        print(wav_name)\n",
    "        basename = wav_name.split(\".\")[0]\n",
    "        tg_path = os.path.join(\n",
    "            preprocessor.out_dir, \"TextGrid\", speaker, \"{}.TextGrid\".format(basename)\n",
    "        )\n",
    "        if os.path.exists(tg_path):\n",
    "            ret = preprocessor.process_utterance(speaker, basename)\n",
    "            if ret is None:\n",
    "                continue\n",
    "            else:\n",
    "                info, pitch, energy, n = ret\n",
    "            out.append(info)\n",
    "        break\n",
    "print(speakers)\n"
   ]
  },
  {
   "cell_type": "code",
   "execution_count": null,
   "id": "b5a26fe3-fae2-4c68-9628-42c22d5be872",
   "metadata": {},
   "outputs": [],
   "source": [
    "len(ret)"
   ]
  },
  {
   "cell_type": "code",
   "execution_count": null,
   "id": "4e0f09d5-e465-4cbb-aa95-4cc1328034e9",
   "metadata": {},
   "outputs": [],
   "source": [
    "info, pitch, energy, n = ret"
   ]
  },
  {
   "cell_type": "code",
   "execution_count": null,
   "id": "41abc78d-120e-4a72-af00-fb59ffbe15c4",
   "metadata": {},
   "outputs": [],
   "source": [
    "info"
   ]
  },
  {
   "cell_type": "code",
   "execution_count": null,
   "id": "d82acc73-84c2-44b4-ab51-b5aa7808b810",
   "metadata": {},
   "outputs": [],
   "source": [
    "pitch.shape"
   ]
  },
  {
   "cell_type": "code",
   "execution_count": null,
   "id": "bd03a44a-95b8-4dea-9721-a3a96741b76c",
   "metadata": {},
   "outputs": [],
   "source": [
    "energy.shape"
   ]
  },
  {
   "cell_type": "code",
   "execution_count": null,
   "id": "c1b5bac6-244a-4151-85b9-f305bf84ad34",
   "metadata": {},
   "outputs": [],
   "source": [
    "n"
   ]
  },
  {
   "cell_type": "code",
   "execution_count": null,
   "id": "753f3363-6eb3-4442-a430-4bb8277047eb",
   "metadata": {},
   "outputs": [],
   "source": [
    "preprocessor.build_from_path()"
   ]
  },
  {
   "cell_type": "code",
   "execution_count": null,
   "id": "18eba46f-40e3-4969-a898-668db7258c6f",
   "metadata": {},
   "outputs": [],
   "source": []
  },
  {
   "cell_type": "code",
   "execution_count": null,
   "id": "ce3c48ca-f411-4d11-b70f-51b6126cc97e",
   "metadata": {},
   "outputs": [],
   "source": []
  },
  {
   "cell_type": "code",
   "execution_count": null,
   "id": "40ac79bb-bf3a-4ce8-8a57-f0f7bc68e193",
   "metadata": {},
   "outputs": [],
   "source": []
  },
  {
   "cell_type": "code",
   "execution_count": null,
   "id": "edc46199-83d8-4059-a296-d7c323c7724e",
   "metadata": {},
   "outputs": [],
   "source": []
  },
  {
   "cell_type": "code",
   "execution_count": null,
   "id": "9e67049e-3d57-4615-a208-8c205e1892d4",
   "metadata": {},
   "outputs": [],
   "source": []
  },
  {
   "cell_type": "code",
   "execution_count": 1,
   "id": "e17ef735-9ca6-4561-9474-50436740aa35",
   "metadata": {},
   "outputs": [],
   "source": [
    "import os, sys\n",
    "# add root working folder into path so that we can import abs paths in jupyter\n",
    "dir2 = os.path.abspath('')\n",
    "dir1 = os.path.dirname(dir2)\n",
    "if not dir1 in sys.path: sys.path.append(dir1)"
   ]
  },
  {
   "cell_type": "code",
   "execution_count": 2,
   "id": "2b6a0692-d03a-496d-8694-79485cd7f929",
   "metadata": {},
   "outputs": [],
   "source": [
    "import argparse\n",
    "import yaml\n",
    "from preprocessor.preprocessor import Preprocessor"
   ]
  },
  {
   "cell_type": "code",
   "execution_count": 3,
   "id": "aab62dea-d73d-44e7-bea9-86a63092d621",
   "metadata": {},
   "outputs": [],
   "source": [
    "parser = argparse.ArgumentParser()\n",
    "parser.add_argument(\"config\", type=str, help=\"path to preprocess.yaml\")\n",
    "\n",
    "argString = '../config/Ego4D_final_v2/preprocess.yaml'\n",
    "# args = parser.parse_args()\n",
    "args = parser.parse_args(argString.split())\n",
    "config = yaml.load(open(args.config, \"r\"), Loader=yaml.FullLoader)\n",
    "\n",
    "preprocessor = Preprocessor(config)"
   ]
  },
  {
   "cell_type": "code",
   "execution_count": 4,
   "id": "71234387-c91a-4852-8ecb-0e9ae5777f18",
   "metadata": {},
   "outputs": [
    {
     "data": {
      "text/plain": [
       "['train', 'val']"
      ]
     },
     "execution_count": 4,
     "metadata": {},
     "output_type": "execute_result"
    }
   ],
   "source": [
    "preprocessor.in_dir = f\".{config['path']['raw_path']}\"\n",
    "preprocessor.out_dir = f\".{config['path']['preprocessed_path']}\"\n",
    "preprocessor.splits"
   ]
  },
  {
   "cell_type": "code",
   "execution_count": 5,
   "id": "d458d663-a545-449a-89bf-8a7bc0f8c217",
   "metadata": {},
   "outputs": [
    {
     "name": "stdout",
     "output_type": "stream",
     "text": [
      "Processing train Data ...\n"
     ]
    },
    {
     "data": {
      "application/vnd.jupyter.widget-view+json": {
       "model_id": "cbc0140def5d4cc9a5f7420edbf1172b",
       "version_major": 2,
       "version_minor": 0
      },
      "text/plain": [
       "  0%|          | 0/1 [00:00<?, ?it/s]"
      ]
     },
     "metadata": {},
     "output_type": "display_data"
    },
    {
     "data": {
      "application/vnd.jupyter.widget-view+json": {
       "model_id": "44a233cefe7f4736841d18ea654416e7",
       "version_major": 2,
       "version_minor": 0
      },
      "text/plain": [
       "  0%|          | 0/52418 [00:00<?, ?it/s]"
      ]
     },
     "metadata": {},
     "output_type": "display_data"
    },
    {
     "name": "stdout",
     "output_type": "stream",
     "text": [
      "Computing statistic quantities ...\n",
      "Total time: 17.848177777777778 hours\n",
      "Processing val Data ...\n"
     ]
    },
    {
     "data": {
      "application/vnd.jupyter.widget-view+json": {
       "model_id": "5260ff2944ab4f048a5c75d26e81cd6d",
       "version_major": 2,
       "version_minor": 0
      },
      "text/plain": [
       "  0%|          | 0/1 [00:00<?, ?it/s]"
      ]
     },
     "metadata": {},
     "output_type": "display_data"
    },
    {
     "data": {
      "application/vnd.jupyter.widget-view+json": {
       "model_id": "d8754f4cf2bc4cde97de08116e2c3bb2",
       "version_major": 2,
       "version_minor": 0
      },
      "text/plain": [
       "  0%|          | 0/5118 [00:00<?, ?it/s]"
      ]
     },
     "metadata": {},
     "output_type": "display_data"
    },
    {
     "name": "stdout",
     "output_type": "stream",
     "text": [
      "Computing statistic quantities ...\n",
      "Total time: 1.3731688888888889 hours\n"
     ]
    }
   ],
   "source": [
    "preprocessor.build_from_trainval_path()"
   ]
  },
  {
   "cell_type": "code",
   "execution_count": 6,
   "id": "b2b8f082-20cf-4d8d-b5a1-b5d907943222",
   "metadata": {},
   "outputs": [],
   "source": [
    "shell = get_ipython().__class__.__name__"
   ]
  },
  {
   "cell_type": "code",
   "execution_count": 7,
   "id": "c2dffc62-ffec-4606-9abb-8c55236195df",
   "metadata": {},
   "outputs": [
    {
     "data": {
      "text/plain": [
       "'ZMQInteractiveShell'"
      ]
     },
     "execution_count": 7,
     "metadata": {},
     "output_type": "execute_result"
    }
   ],
   "source": [
    "shell"
   ]
  },
  {
   "cell_type": "code",
   "execution_count": 6,
   "id": "5ad14049-60aa-4f25-a167-06dd8b0404ae",
   "metadata": {},
   "outputs": [],
   "source": [
    "import pandas as pd"
   ]
  },
  {
   "cell_type": "code",
   "execution_count": 9,
   "id": "5b16b0ce-839f-4f44-8dcb-e81dbdc7d259",
   "metadata": {},
   "outputs": [],
   "source": [
    "train_df = pd.read_csv('../Data/Ego4D_final_v2/final_dataset_v2/utterances_final_train_v2.csv')"
   ]
  },
  {
   "cell_type": "code",
   "execution_count": 10,
   "id": "e242c5c4-42cf-49e3-b37d-fed98f91c43e",
   "metadata": {},
   "outputs": [
    {
     "data": {
      "text/plain": [
       "19.92001732638889"
      ]
     },
     "execution_count": 10,
     "metadata": {},
     "output_type": "execute_result"
    }
   ],
   "source": [
    "train_df['sample_duration'].sum() / 3600"
   ]
  },
  {
   "cell_type": "code",
   "execution_count": null,
   "id": "f720c694-e53f-4f66-8b4d-c1d8019c3fb9",
   "metadata": {},
   "outputs": [],
   "source": []
  },
  {
   "cell_type": "code",
   "execution_count": null,
   "id": "07163b76-73e5-4153-a1c7-301538cfe127",
   "metadata": {},
   "outputs": [],
   "source": []
  },
  {
   "cell_type": "code",
   "execution_count": null,
   "id": "1c0db77c-cbf1-4f57-96d3-48526089759f",
   "metadata": {},
   "outputs": [],
   "source": []
  },
  {
   "cell_type": "code",
   "execution_count": null,
   "id": "7fd85f2a-3732-4f92-ad36-1806732693d3",
   "metadata": {},
   "outputs": [],
   "source": []
  }
 ],
 "metadata": {
  "kernelspec": {
   "display_name": "Python 3 (ipykernel)",
   "language": "python",
   "name": "python3"
  },
  "language_info": {
   "codemirror_mode": {
    "name": "ipython",
    "version": 3
   },
   "file_extension": ".py",
   "mimetype": "text/x-python",
   "name": "python",
   "nbconvert_exporter": "python",
   "pygments_lexer": "ipython3",
   "version": "3.11.3"
  }
 },
 "nbformat": 4,
 "nbformat_minor": 5
}
