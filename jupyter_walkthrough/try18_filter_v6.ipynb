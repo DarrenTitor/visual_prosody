{
 "cells": [
  {
   "cell_type": "code",
   "execution_count": 18,
   "id": "97c8af41-21bd-4e3e-83a8-fad5fc442fdb",
   "metadata": {},
   "outputs": [],
   "source": [
    "import os, sys, glob, shutil\n",
    "import argparse\n",
    "import json\n",
    "import yaml\n",
    "import numpy as np\n",
    "import pandas as pd\n",
    "import matplotlib.pyplot as plt\n",
    "import seaborn as sns\n",
    "from tqdm.notebook import tqdm\n",
    "from pprint import pprint\n",
    "import torchaudio\n",
    "import torch\n",
    "from IPython.display import Audio, display"
   ]
  },
  {
   "cell_type": "code",
   "execution_count": 19,
   "id": "4b4688df-a268-429d-b4aa-5cedfd55b638",
   "metadata": {},
   "outputs": [
    {
     "name": "stdout",
     "output_type": "stream",
     "text": [
      "D:\\Schoolwork\\TERM 3\\WORK\\visual_prosody\n"
     ]
    }
   ],
   "source": [
    "%cd \"D:\\Schoolwork\\TERM 3\\WORK\\visual_prosody\""
   ]
  },
  {
   "cell_type": "code",
   "execution_count": 20,
   "id": "696a7609-ffdf-4463-b74e-a683c13e8a80",
   "metadata": {},
   "outputs": [],
   "source": [
    "val_mcdv6_df = pd.read_csv(r\".\\jupyter_walkthrough\\metrics\\MCD_0703a_1M4.csv\")\n",
    "train_mcdv6_df = pd.read_csv(r\".\\jupyter_walkthrough\\metrics\\MCD_0703a_1M4_train.csv\")"
   ]
  },
  {
   "cell_type": "code",
   "execution_count": 21,
   "id": "5d03147c-e95f-4093-b73d-8c901d17d2e0",
   "metadata": {},
   "outputs": [],
   "source": [
    "train_df = pd.read_csv(r\".\\Data\\Ego4D_final_v6\\final_dataset_v6\\utterances_final_train_v6.csv\")\n",
    "val_df = pd.read_csv(r\".\\Data\\Ego4D_final_v6\\final_dataset_v6\\utterances_final_val_v6.csv\")"
   ]
  },
  {
   "cell_type": "code",
   "execution_count": 22,
   "id": "ba3cd564-3ff1-4b8a-aebb-f6fc4c140f41",
   "metadata": {},
   "outputs": [],
   "source": [
    "train_merged_df = pd.merge(train_mcdv6_df, train_df, left_on='uid', right_on='utterance_id')"
   ]
  },
  {
   "cell_type": "code",
   "execution_count": 23,
   "id": "8466d4e7-ef7b-4adf-98e5-b6e114c5daf8",
   "metadata": {},
   "outputs": [],
   "source": [
    "val_merged_df = pd.merge(val_mcdv6_df, val_df, left_on='uid', right_on='utterance_id')"
   ]
  },
  {
   "cell_type": "code",
   "execution_count": 24,
   "id": "34b788d1-5df9-43dc-8c36-9115c0aa2b11",
   "metadata": {},
   "outputs": [
    {
     "data": {
      "text/plain": [
       "(27292, 11)"
      ]
     },
     "execution_count": 24,
     "metadata": {},
     "output_type": "execute_result"
    }
   ],
   "source": [
    "train_merged_df.shape"
   ]
  },
  {
   "cell_type": "code",
   "execution_count": 25,
   "id": "377ad7a1-3ca7-4e78-8014-59ae5a0b2ba4",
   "metadata": {},
   "outputs": [
    {
     "data": {
      "text/plain": [
       "21.431857923910304"
      ]
     },
     "execution_count": 25,
     "metadata": {},
     "output_type": "execute_result"
    }
   ],
   "source": [
    "train_merged_df['sample_duration'].sum() / 3600"
   ]
  },
  {
   "cell_type": "code",
   "execution_count": null,
   "id": "a47002a7-be10-4273-86c6-188f73ce947c",
   "metadata": {},
   "outputs": [],
   "source": []
  },
  {
   "cell_type": "code",
   "execution_count": 26,
   "id": "f6b7c4be-3675-43b6-8e6c-d9030eede5f1",
   "metadata": {},
   "outputs": [
    {
     "data": {
      "text/plain": [
       "20.939101549508692"
      ]
     },
     "execution_count": 26,
     "metadata": {},
     "output_type": "execute_result"
    }
   ],
   "source": [
    "train_merged_df = train_merged_df[train_merged_df['sample_duration'] > 0.3]\n",
    "train_merged_df = train_merged_df[train_merged_df['MCD_recon'] < 10]\n",
    "train_merged_df['sample_duration'].sum() / 3600"
   ]
  },
  {
   "cell_type": "code",
   "execution_count": 27,
   "id": "b8db8102-63c6-4d69-8a57-34eb6705fad1",
   "metadata": {},
   "outputs": [
    {
     "data": {
      "text/plain": [
       "1.638477916351726"
      ]
     },
     "execution_count": 27,
     "metadata": {},
     "output_type": "execute_result"
    }
   ],
   "source": [
    "val_merged_df = val_merged_df[val_merged_df['sample_duration'] > 0.3]\n",
    "val_merged_df = val_merged_df[val_merged_df['MCD_recon'] < 17]\n",
    "val_merged_df['sample_duration'].sum() / 3600"
   ]
  },
  {
   "cell_type": "code",
   "execution_count": 28,
   "id": "167c3420-b2ad-4dca-89d6-c5319ef19f89",
   "metadata": {},
   "outputs": [],
   "source": [
    "train_merged_df.drop(columns=['Unnamed: 0'], inplace=True)\n",
    "val_merged_df.drop(columns=['Unnamed: 0'], inplace=True)"
   ]
  },
  {
   "cell_type": "code",
   "execution_count": 29,
   "id": "f3340074-4d6c-45f4-81df-9da16fe473e9",
   "metadata": {},
   "outputs": [],
   "source": [
    "train_merged_df = train_merged_df.rename(columns={'uid': 'utterance_id'})\n",
    "val_merged_df = val_merged_df.rename(columns={'uid': 'utterance_id'})"
   ]
  },
  {
   "cell_type": "code",
   "execution_count": 30,
   "id": "43bf164f-51a9-4595-aa10-3b97618055ac",
   "metadata": {},
   "outputs": [],
   "source": [
    "train_merged_df.to_csv(r'./jupyter_walkthrough/for_dataset/utterances_final_train_v8.csv', index=False)\n",
    "val_merged_df.to_csv(r'./jupyter_walkthrough/for_dataset/utterances_final_val_v8.csv', index=False)"
   ]
  },
  {
   "cell_type": "code",
   "execution_count": null,
   "id": "574fa56d-d74e-4b97-8f6d-ef44374b5df2",
   "metadata": {},
   "outputs": [],
   "source": []
  },
  {
   "cell_type": "code",
   "execution_count": null,
   "id": "665d91e8-a20c-4014-a721-4e9c831cd377",
   "metadata": {},
   "outputs": [],
   "source": []
  },
  {
   "cell_type": "code",
   "execution_count": null,
   "id": "2c1df8c7-4158-4073-836c-bcfd144cec49",
   "metadata": {},
   "outputs": [],
   "source": []
  },
  {
   "cell_type": "code",
   "execution_count": null,
   "id": "df60c5ee-1905-48f2-ad7a-fd6b44133129",
   "metadata": {},
   "outputs": [],
   "source": []
  },
  {
   "cell_type": "code",
   "execution_count": null,
   "id": "c4be2106-1032-41df-bbf4-7f23a5a3f4cb",
   "metadata": {},
   "outputs": [],
   "source": []
  }
 ],
 "metadata": {
  "kernelspec": {
   "display_name": "Python 3 (ipykernel)",
   "language": "python",
   "name": "python3"
  },
  "language_info": {
   "codemirror_mode": {
    "name": "ipython",
    "version": 3
   },
   "file_extension": ".py",
   "mimetype": "text/x-python",
   "name": "python",
   "nbconvert_exporter": "python",
   "pygments_lexer": "ipython3",
   "version": "3.11.3"
  }
 },
 "nbformat": 4,
 "nbformat_minor": 5
}
