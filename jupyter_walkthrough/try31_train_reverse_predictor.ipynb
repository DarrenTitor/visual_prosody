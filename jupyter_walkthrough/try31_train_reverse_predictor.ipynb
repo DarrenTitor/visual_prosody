{
 "cells": [
  {
   "cell_type": "code",
   "execution_count": 1,
   "id": "022d4529-c2ef-478a-90bb-75a095a690ce",
   "metadata": {},
   "outputs": [],
   "source": [
    "%matplotlib inline\n",
    "\n",
    "import os, sys, glob, shutil\n",
    "import torch\n",
    "import torch.nn as nn\n",
    "import numpy as np\n",
    "import pandas as pd\n",
    "import argparse\n",
    "import yaml\n",
    "import json\n",
    "import torchaudio\n",
    "import matplotlib\n",
    "import matplotlib.pyplot as plt\n",
    "pd.set_option(\"display.max_columns\", None)\n",
    "import pyworld as pw\n",
    "from tqdm.notebook import tqdm"
   ]
  },
  {
   "cell_type": "code",
   "execution_count": 2,
   "id": "19df6ee7-983f-4c17-bea2-024a6e8e2c35",
   "metadata": {},
   "outputs": [
    {
     "name": "stdout",
     "output_type": "stream",
     "text": [
      "D:\\Schoolwork\\TERM 3\\WORK\\visual_prosody\n"
     ]
    }
   ],
   "source": [
    "%cd \"D:\\Schoolwork\\TERM 3\\WORK\\visual_prosody\""
   ]
  },
  {
   "cell_type": "code",
   "execution_count": 3,
   "id": "a0747ca8-1f71-4c06-9608-5c73e9b33513",
   "metadata": {},
   "outputs": [],
   "source": [
    "train_df = pd.read_csv('./jupyter_walkthrough/side_exp/video_to_prosody_v6_train.csv')"
   ]
  },
  {
   "cell_type": "code",
   "execution_count": 4,
   "id": "fa4247c2-130d-4a98-930a-a6d5539898c6",
   "metadata": {},
   "outputs": [
    {
     "data": {
      "text/plain": [
       "(118201, 12)"
      ]
     },
     "execution_count": 4,
     "metadata": {},
     "output_type": "execute_result"
    }
   ],
   "source": [
    "cols = [\n",
    "    'uid', 'vid', 'embedding_video_start_time',\n",
    "    'embedding_seq_nohistory_idx', \n",
    "    'avg_pitch', 'avg_pitch_delta',\n",
    "    'avg_energy', 'avg_energy_delta', \n",
    "    'pitch_mean', 'pitch_std',\n",
    "    'energy_mean', 'energy_std']\n",
    "train_df.iloc[:, :len(cols)].shape"
   ]
  },
  {
   "cell_type": "code",
   "execution_count": 5,
   "id": "80c8ce96-9480-4971-9e50-d168f55c7b12",
   "metadata": {},
   "outputs": [
    {
     "data": {
      "text/plain": [
       "(118201, 1536)"
      ]
     },
     "execution_count": 5,
     "metadata": {},
     "output_type": "execute_result"
    }
   ],
   "source": [
    "train_df.iloc[:, len(cols):].values.shape"
   ]
  },
  {
   "cell_type": "code",
   "execution_count": 6,
   "id": "6d83f379-17cc-4b7c-b89f-f2e5886af989",
   "metadata": {},
   "outputs": [
    {
     "data": {
      "text/plain": [
       "<pandas.core.indexing._LocIndexer at 0x1dfcdbaf660>"
      ]
     },
     "execution_count": 6,
     "metadata": {},
     "output_type": "execute_result"
    }
   ],
   "source": [
    "train_df.loc"
   ]
  },
  {
   "cell_type": "code",
   "execution_count": 7,
   "id": "26b3647b-b424-4296-943d-4199cb221bb1",
   "metadata": {},
   "outputs": [],
   "source": [
    "from torch.utils.data import Dataset\n",
    "from torch.utils.data import DataLoader\n",
    "import torch.optim as optim"
   ]
  },
  {
   "cell_type": "code",
   "execution_count": 8,
   "id": "88cf8f4d-bb4c-4694-97b5-7de81b09e3b8",
   "metadata": {},
   "outputs": [],
   "source": [
    "class ReversePredictionDataset(Dataset):\n",
    "    def __init__(self, df_path, target_col):\n",
    "        self.df = pd.read_csv(df_path)\n",
    "        assert target_col in ['avg_pitch', 'avg_pitch_delta',\n",
    "        'avg_energy', 'avg_energy_delta']\n",
    "        self.target_col = target_col\n",
    "        cols = [\n",
    "        'uid', 'vid', 'embedding_video_start_time',\n",
    "        'embedding_seq_nohistory_idx', \n",
    "        'avg_pitch', 'avg_pitch_delta',\n",
    "        'avg_energy', 'avg_energy_delta', \n",
    "        'pitch_mean', 'pitch_std',\n",
    "        'energy_mean', 'energy_std']\n",
    "        self.embeddings = torch.FloatTensor(self.df.iloc[:, len(cols):].values)\n",
    "        self.df = self.df.iloc[:, :len(cols)]\n",
    "        self.targets = torch.FloatTensor(self.df[self.target_col].values)\n",
    "\n",
    "    def __len__(self):\n",
    "        return self.embeddings.shape[0]\n",
    "\n",
    "    def __getitem__(self, idx):\n",
    "        target = self.targets[idx]\n",
    "        features = self.embeddings[idx]\n",
    "\n",
    "        uid = self.df['uid'].values[idx]\n",
    "        vid = self.df['vid'].values[idx]\n",
    "        embedding_video_start_time = self.df['embedding_video_start_time'].values[idx]\n",
    "        embedding_seq_nohistory_idx = self.df['embedding_seq_nohistory_idx'].values[idx]\n",
    "        pitch_mean = self.df['pitch_mean'].values[idx]\n",
    "        pitch_std = self.df['pitch_std'].values[idx]\n",
    "        energy_mean = self.df['energy_mean'].values[idx]\n",
    "        energy_std = self.df['energy_std'].values[idx]\n",
    "\n",
    "        infos = (uid, vid, embedding_video_start_time, embedding_seq_nohistory_idx, pitch_mean, pitch_std, energy_mean, energy_std)        \n",
    "        return features, target, infos"
   ]
  },
  {
   "cell_type": "code",
   "execution_count": 9,
   "id": "5e0e7e93-7deb-4a99-8b40-4a86b955080c",
   "metadata": {},
   "outputs": [],
   "source": [
    "train_dataset_p = ReversePredictionDataset(\n",
    "    df_path='./jupyter_walkthrough/side_exp/video_to_prosody_v6_train.csv', \n",
    "    target_col='avg_pitch'\n",
    ")\n",
    "\n",
    "train_dataloader_p = DataLoader(train_dataset_p, batch_size=256, shuffle=True)\n",
    "\n",
    "val_dataset_p = ReversePredictionDataset(\n",
    "    df_path='./jupyter_walkthrough/side_exp/video_to_prosody_v6_val.csv', \n",
    "    target_col='avg_pitch'\n",
    ")\n",
    "\n",
    "val_dataloader_p = DataLoader(val_dataset_p, batch_size=64, shuffle=True)"
   ]
  },
  {
   "cell_type": "code",
   "execution_count": 10,
   "id": "c53c2966-30f7-4806-b45d-66dc1417925a",
   "metadata": {},
   "outputs": [],
   "source": [
    "train_dataset_pdelta = ReversePredictionDataset(\n",
    "    df_path='./jupyter_walkthrough/side_exp/video_to_prosody_v6_train.csv', \n",
    "    target_col='avg_pitch_delta'\n",
    ")\n",
    "\n",
    "train_dataloader_pdelta = DataLoader(train_dataset_pdelta, batch_size=256, shuffle=True)\n",
    "\n",
    "val_dataset_pdelta = ReversePredictionDataset(\n",
    "    df_path='./jupyter_walkthrough/side_exp/video_to_prosody_v6_val.csv', \n",
    "    target_col='avg_pitch_delta'\n",
    ")\n",
    "\n",
    "val_dataloader_pdelta = DataLoader(val_dataset_pdelta, batch_size=64, shuffle=True)"
   ]
  },
  {
   "cell_type": "code",
   "execution_count": 11,
   "id": "21b6314a-e7ef-4d2c-93a3-1edda0238fbc",
   "metadata": {},
   "outputs": [],
   "source": [
    "train_dataset_e = ReversePredictionDataset(\n",
    "    df_path='./jupyter_walkthrough/side_exp/video_to_prosody_v6_train.csv', \n",
    "    target_col='avg_energy'\n",
    ")\n",
    "\n",
    "train_dataloader_e = DataLoader(train_dataset_e, batch_size=256, shuffle=True)\n",
    "\n",
    "val_dataset_e = ReversePredictionDataset(\n",
    "    df_path='./jupyter_walkthrough/side_exp/video_to_prosody_v6_val.csv', \n",
    "    target_col='avg_energy'\n",
    ")\n",
    "\n",
    "val_dataloader_e = DataLoader(val_dataset_e, batch_size=64, shuffle=True)"
   ]
  },
  {
   "cell_type": "code",
   "execution_count": 12,
   "id": "d1f1a6e4-fb95-4496-91df-24afdd4e7e3e",
   "metadata": {},
   "outputs": [],
   "source": [
    "train_dataset_edelta = ReversePredictionDataset(\n",
    "    df_path='./jupyter_walkthrough/side_exp/video_to_prosody_v6_train.csv', \n",
    "    target_col='avg_energy_delta'\n",
    ")\n",
    "\n",
    "train_dataloader_edelta = DataLoader(train_dataset_edelta, batch_size=256, shuffle=True)\n",
    "\n",
    "val_dataset_edelta = ReversePredictionDataset(\n",
    "    df_path='./jupyter_walkthrough/side_exp/video_to_prosody_v6_val.csv', \n",
    "    target_col='avg_energy_delta'\n",
    ")\n",
    "\n",
    "val_dataloader_edelta = DataLoader(val_dataset_edelta, batch_size=64, shuffle=True)"
   ]
  },
  {
   "cell_type": "code",
   "execution_count": 13,
   "id": "579a93ab-aba3-44fe-84a3-309c80623531",
   "metadata": {},
   "outputs": [],
   "source": [
    "import torch.nn as nn\n",
    "import torch.nn.functional as F\n",
    "\n",
    "\n",
    "# class MLP(nn.Module):\n",
    "#     def __init__(self):\n",
    "#         super().__init__()\n",
    "#         self.fc1 = nn.Linear(1536, 16)\n",
    "#         self.fc2 = nn.Linear(16, 16)\n",
    "#         # self.fc3 = nn.Linear(256, 32)\n",
    "#         self.fc4 = nn.Linear(16, 1)\n",
    "#         self.dropout = nn.Dropout(p=0.2)\n",
    "\n",
    "#     def forward(self, x):\n",
    "#         x = self.dropout(F.relu(self.fc1(x)))\n",
    "#         # x = self.dropout(F.relu(self.fc2(x)))\n",
    "#         # x = self.dropout(F.relu(self.fc3(x)))\n",
    "#         # x = F.relu(self.fc1(x))\n",
    "#         x = F.relu(self.fc2(x))\n",
    "#         # x = F.relu(self.fc3(x))\n",
    "#         x = self.fc4(x)\n",
    "#         return x"
   ]
  },
  {
   "cell_type": "code",
   "execution_count": 14,
   "id": "a8e18bc3-8285-44bd-9248-ae6f5d542b49",
   "metadata": {},
   "outputs": [],
   "source": [
    "from torcheval.metrics import MeanSquaredError"
   ]
  },
  {
   "cell_type": "code",
   "execution_count": 15,
   "id": "ac75a33c-168c-43b1-883c-f7f793f24278",
   "metadata": {},
   "outputs": [],
   "source": [
    "def evaluate(model, val_loader, device, naive_rmse=None, model_type=None):\n",
    "    metric = nn.MSELoss(reduction='none')\n",
    "    preds_val = []\n",
    "    targets_val = []\n",
    "    model.eval()\n",
    "    model = model.to(device)\n",
    "    # for idx, data in tqdm(enumerate(val_loader)):\n",
    "    for idx, data in enumerate(val_loader):\n",
    "        # get the inputs; data is a list of [inputs, labels]\n",
    "        X_val, y_val, infos = data\n",
    "        (uid, vid, embedding_video_start_time, embedding_seq_nohistory_idx, pitch_mean, pitch_std, energy_mean, energy_std) = infos\n",
    "        \n",
    "        X_val = X_val.to(device)\n",
    "        # y_val = y_val.to(device)\n",
    "        with torch.no_grad():\n",
    "            pred_val = model(X_val)\n",
    "        preds_val.append(pred_val)\n",
    "        targets_val.append(y_val)\n",
    "    preds_val = torch.cat(preds_val).reshape(-1)\n",
    "    targets_val = torch.cat(targets_val)\n",
    "    rmses = torch.sqrt(metric(preds_val.cpu(), targets_val.cpu()))\n",
    "    # print(mses.shape)\n",
    "    print(f\"val rmse mean: {rmses.mean()}. val rmse std: {rmses.std()}. \")\n",
    "    if naive_rmse is not None:\n",
    "        if rmses.mean().item() < naive_rmse:\n",
    "            torch.save(model.state_dict(), f\"./jupyter_walkthrough/side_exp/{model_type}/model_{model_type}_{rmses.mean().item():.6f}.pth\")\n",
    "            print('Model saved.')\n",
    "    return rmses\n",
    "         "
   ]
  },
  {
   "cell_type": "code",
   "execution_count": 16,
   "id": "fe2b574d-93c0-4e46-ba2f-5686dac63159",
   "metadata": {},
   "outputs": [],
   "source": [
    "def naive_evaluate(model, train_loader, val_loader, device):\n",
    "    metric = nn.MSELoss(reduction='none')\n",
    "    preds_val = []\n",
    "    targets_val = []\n",
    "    model.eval()\n",
    "    \n",
    "    # for idx, data in tqdm(enumerate(val_loader)):\n",
    "    for idx, data in enumerate(val_loader):\n",
    "        X_val, y_val, infos = data\n",
    "        X_val = X_val.to(device)\n",
    "        targets_val.append(y_val)\n",
    "    # for idx, data in tqdm(enumerate(train_loader)):\n",
    "    for idx, data in enumerate(train_loader):\n",
    "        X_train, y_train, infos = data\n",
    "        preds_val.append(y_train)\n",
    "        \n",
    "    preds_val = torch.cat(preds_val).reshape(-1)\n",
    "    preds_val_mean = preds_val.mean()\n",
    "    targets_val = torch.cat(targets_val)\n",
    "    guesses = torch.ones_like(targets_val) * preds_val_mean\n",
    "    rmses = torch.sqrt(metric(guesses.cpu(), targets_val.cpu()))\n",
    "    # print(mses.shape)\n",
    "    print(f\"NAIVE => val rmse mean: {rmses.mean()}. val rmse std: {rmses.std()}. \")\n",
    "    return rmses"
   ]
  },
  {
   "cell_type": "code",
   "execution_count": 17,
   "id": "50761600-2262-428e-8048-ed71eaf52ac9",
   "metadata": {},
   "outputs": [],
   "source": [
    "device = torch.device(\"cuda\" if torch.cuda.is_available() else \"cpu\")"
   ]
  },
  {
   "cell_type": "code",
   "execution_count": 20,
   "id": "dbbb16e9-92e2-4db8-af07-cf4144b918bc",
   "metadata": {},
   "outputs": [],
   "source": [
    "import random\n",
    "def seed_everything(seed):\n",
    "    random.seed(seed)\n",
    "    np.random.seed(seed)\n",
    "    torch.manual_seed(seed)\n",
    "    torch.cuda.manual_seed_all(seed)"
   ]
  },
  {
   "cell_type": "code",
   "execution_count": null,
   "id": "c5256885-b982-4dff-bd1e-bf8ade477879",
   "metadata": {},
   "outputs": [],
   "source": []
  },
  {
   "cell_type": "code",
   "execution_count": null,
   "id": "3d454cea-aab2-442d-99ce-93a229ba04fc",
   "metadata": {},
   "outputs": [],
   "source": []
  },
  {
   "cell_type": "markdown",
   "id": "2e8c58f8-b285-47d6-b800-39ed7dde7c51",
   "metadata": {},
   "source": [
    "## p"
   ]
  },
  {
   "cell_type": "code",
   "execution_count": 22,
   "id": "619e3126-ad2f-4728-b743-f2181191003a",
   "metadata": {},
   "outputs": [],
   "source": [
    "# _ = naive_evaluate(model=model, train_loader=train_dataloader_p, val_loader=val_dataloader_p, device=device)"
   ]
  },
  {
   "cell_type": "code",
   "execution_count": 120,
   "id": "712cb0f4-6974-4a61-aea2-a29eb2065de0",
   "metadata": {},
   "outputs": [],
   "source": [
    "class MLP_p(nn.Module):\n",
    "    def __init__(self):\n",
    "        super().__init__()\n",
    "        self.fc1 = nn.Linear(1536, 16)\n",
    "        self.fc2 = nn.Linear(16, 16)\n",
    "        self.fc3 = nn.Linear(16, 16)\n",
    "        self.fc4 = nn.Linear(16, 1)\n",
    "        self.dropout = nn.Dropout(p=0.2)\n",
    "\n",
    "    def forward(self, x):\n",
    "        x = self.dropout(F.relu(self.fc1(x)))\n",
    "        x = self.dropout(F.relu(self.fc2(x)))\n",
    "        x = self.dropout(F.relu(self.fc3(x)))\n",
    "        # x = F.relu(self.fc1(x))\n",
    "        # x = F.relu(self.fc2(x))\n",
    "        # x = F.relu(self.fc3(x))\n",
    "        x = self.fc4(x)\n",
    "        return x"
   ]
  },
  {
   "cell_type": "code",
   "execution_count": 121,
   "id": "0e0dd633-fb49-438d-b6db-9e3bffe598e0",
   "metadata": {},
   "outputs": [],
   "source": [
    "seeds = list(range(5))"
   ]
  },
  {
   "cell_type": "code",
   "execution_count": 122,
   "id": "9afff4bb-6afb-4c30-8b96-cb859b8123c8",
   "metadata": {},
   "outputs": [
    {
     "name": "stdout",
     "output_type": "stream",
     "text": [
      "NAIVE => val rmse mean: 0.7474144697189331. val rmse std: 0.632512092590332. \n"
     ]
    },
    {
     "data": {
      "application/vnd.jupyter.widget-view+json": {
       "model_id": "8539c414dd0541b999fdf5b060d325b0",
       "version_major": 2,
       "version_minor": 0
      },
      "text/plain": [
       "0it [00:00, ?it/s]"
      ]
     },
     "metadata": {},
     "output_type": "display_data"
    },
    {
     "name": "stdout",
     "output_type": "stream",
     "text": [
      "val rmse mean: 0.7318706512451172. val rmse std: 0.6519133448600769. \n",
      "Model saved.\n"
     ]
    },
    {
     "data": {
      "application/vnd.jupyter.widget-view+json": {
       "model_id": "69c2f5b465b143aa823a5600625ff1fa",
       "version_major": 2,
       "version_minor": 0
      },
      "text/plain": [
       "0it [00:00, ?it/s]"
      ]
     },
     "metadata": {},
     "output_type": "display_data"
    },
    {
     "name": "stdout",
     "output_type": "stream",
     "text": [
      "val rmse mean: 0.7311959266662598. val rmse std: 0.6490013599395752. \n",
      "Model saved.\n"
     ]
    },
    {
     "data": {
      "application/vnd.jupyter.widget-view+json": {
       "model_id": "49ad57fff2084a57bc349d99787d77fc",
       "version_major": 2,
       "version_minor": 0
      },
      "text/plain": [
       "0it [00:00, ?it/s]"
      ]
     },
     "metadata": {},
     "output_type": "display_data"
    },
    {
     "name": "stdout",
     "output_type": "stream",
     "text": [
      "val rmse mean: 0.729971170425415. val rmse std: 0.6453739404678345. \n",
      "Model saved.\n"
     ]
    },
    {
     "data": {
      "application/vnd.jupyter.widget-view+json": {
       "model_id": "93d245a60f564e16924f75813f9a4d3b",
       "version_major": 2,
       "version_minor": 0
      },
      "text/plain": [
       "0it [00:00, ?it/s]"
      ]
     },
     "metadata": {},
     "output_type": "display_data"
    },
    {
     "name": "stdout",
     "output_type": "stream",
     "text": [
      "val rmse mean: 0.7291502356529236. val rmse std: 0.6415996551513672. \n",
      "Model saved.\n"
     ]
    },
    {
     "data": {
      "application/vnd.jupyter.widget-view+json": {
       "model_id": "59ffc66e732d42fa9372f18e97bc8008",
       "version_major": 2,
       "version_minor": 0
      },
      "text/plain": [
       "0it [00:00, ?it/s]"
      ]
     },
     "metadata": {},
     "output_type": "display_data"
    },
    {
     "name": "stdout",
     "output_type": "stream",
     "text": [
      "val rmse mean: 0.7283792495727539. val rmse std: 0.6389186382293701. \n",
      "Model saved.\n"
     ]
    },
    {
     "data": {
      "application/vnd.jupyter.widget-view+json": {
       "model_id": "63ce6ccd78324414882017c1e052065e",
       "version_major": 2,
       "version_minor": 0
      },
      "text/plain": [
       "0it [00:00, ?it/s]"
      ]
     },
     "metadata": {},
     "output_type": "display_data"
    },
    {
     "name": "stdout",
     "output_type": "stream",
     "text": [
      "val rmse mean: 0.7286017537117004. val rmse std: 0.6357318758964539. \n",
      "Model saved.\n"
     ]
    },
    {
     "data": {
      "application/vnd.jupyter.widget-view+json": {
       "model_id": "b49bb8a0c4c74f8389cf6a63fc7a3e09",
       "version_major": 2,
       "version_minor": 0
      },
      "text/plain": [
       "0it [00:00, ?it/s]"
      ]
     },
     "metadata": {},
     "output_type": "display_data"
    },
    {
     "name": "stdout",
     "output_type": "stream",
     "text": [
      "val rmse mean: 0.7287585139274597. val rmse std: 0.6332700848579407. \n",
      "Model saved.\n"
     ]
    },
    {
     "data": {
      "application/vnd.jupyter.widget-view+json": {
       "model_id": "75756b2792344621b96bb2481feb68a7",
       "version_major": 2,
       "version_minor": 0
      },
      "text/plain": [
       "0it [00:00, ?it/s]"
      ]
     },
     "metadata": {},
     "output_type": "display_data"
    },
    {
     "name": "stdout",
     "output_type": "stream",
     "text": [
      "val rmse mean: 0.7293137907981873. val rmse std: 0.6309758424758911. \n",
      "Model saved.\n"
     ]
    },
    {
     "data": {
      "application/vnd.jupyter.widget-view+json": {
       "model_id": "9a1be1e85bf64cd5b1e10176ea55a935",
       "version_major": 2,
       "version_minor": 0
      },
      "text/plain": [
       "0it [00:00, ?it/s]"
      ]
     },
     "metadata": {},
     "output_type": "display_data"
    },
    {
     "name": "stdout",
     "output_type": "stream",
     "text": [
      "val rmse mean: 0.7305730581283569. val rmse std: 0.6281024813652039. \n",
      "Model saved.\n"
     ]
    },
    {
     "data": {
      "application/vnd.jupyter.widget-view+json": {
       "model_id": "ca5d99b9a61e479ea1f122ccfc75a2e3",
       "version_major": 2,
       "version_minor": 0
      },
      "text/plain": [
       "0it [00:00, ?it/s]"
      ]
     },
     "metadata": {},
     "output_type": "display_data"
    },
    {
     "name": "stdout",
     "output_type": "stream",
     "text": [
      "val rmse mean: 0.731661319732666. val rmse std: 0.625978410243988. \n",
      "Model saved.\n"
     ]
    },
    {
     "data": {
      "application/vnd.jupyter.widget-view+json": {
       "model_id": "b29e8b6521a7426faf6e48b047881da6",
       "version_major": 2,
       "version_minor": 0
      },
      "text/plain": [
       "0it [00:00, ?it/s]"
      ]
     },
     "metadata": {},
     "output_type": "display_data"
    },
    {
     "name": "stdout",
     "output_type": "stream",
     "text": [
      "val rmse mean: 0.7320862412452698. val rmse std: 0.6245536804199219. \n",
      "Model saved.\n"
     ]
    },
    {
     "data": {
      "application/vnd.jupyter.widget-view+json": {
       "model_id": "7479b4628f954ce495600978e0dbdc30",
       "version_major": 2,
       "version_minor": 0
      },
      "text/plain": [
       "0it [00:00, ?it/s]"
      ]
     },
     "metadata": {},
     "output_type": "display_data"
    },
    {
     "name": "stdout",
     "output_type": "stream",
     "text": [
      "val rmse mean: 0.7334391474723816. val rmse std: 0.622604250907898. \n",
      "Model saved.\n"
     ]
    },
    {
     "data": {
      "application/vnd.jupyter.widget-view+json": {
       "model_id": "d966e5d0476949209e393d29aceecfb1",
       "version_major": 2,
       "version_minor": 0
      },
      "text/plain": [
       "0it [00:00, ?it/s]"
      ]
     },
     "metadata": {},
     "output_type": "display_data"
    },
    {
     "name": "stdout",
     "output_type": "stream",
     "text": [
      "val rmse mean: 0.7334688901901245. val rmse std: 0.6218924522399902. \n",
      "Model saved.\n"
     ]
    },
    {
     "data": {
      "application/vnd.jupyter.widget-view+json": {
       "model_id": "e7ae7ba9daeb4ad2ba31b7bae9fc61bf",
       "version_major": 2,
       "version_minor": 0
      },
      "text/plain": [
       "0it [00:00, ?it/s]"
      ]
     },
     "metadata": {},
     "output_type": "display_data"
    },
    {
     "name": "stdout",
     "output_type": "stream",
     "text": [
      "val rmse mean: 0.7355620861053467. val rmse std: 0.6196659803390503. \n",
      "Model saved.\n"
     ]
    },
    {
     "data": {
      "application/vnd.jupyter.widget-view+json": {
       "model_id": "dcbe360b804743e286160bd9689d43fb",
       "version_major": 2,
       "version_minor": 0
      },
      "text/plain": [
       "0it [00:00, ?it/s]"
      ]
     },
     "metadata": {},
     "output_type": "display_data"
    },
    {
     "name": "stdout",
     "output_type": "stream",
     "text": [
      "val rmse mean: 0.7360137701034546. val rmse std: 0.6189877390861511. \n",
      "Model saved.\n"
     ]
    },
    {
     "data": {
      "application/vnd.jupyter.widget-view+json": {
       "model_id": "a85c07dc4edb4bbdaad00dabe5fddcaa",
       "version_major": 2,
       "version_minor": 0
      },
      "text/plain": [
       "0it [00:00, ?it/s]"
      ]
     },
     "metadata": {},
     "output_type": "display_data"
    },
    {
     "name": "stdout",
     "output_type": "stream",
     "text": [
      "val rmse mean: 0.7377870678901672. val rmse std: 0.617317259311676. \n",
      "Model saved.\n"
     ]
    },
    {
     "data": {
      "application/vnd.jupyter.widget-view+json": {
       "model_id": "f8a5bfcc148146dcb7ef0f34f856fe8b",
       "version_major": 2,
       "version_minor": 0
      },
      "text/plain": [
       "0it [00:00, ?it/s]"
      ]
     },
     "metadata": {},
     "output_type": "display_data"
    },
    {
     "name": "stdout",
     "output_type": "stream",
     "text": [
      "val rmse mean: 0.7388415932655334. val rmse std: 0.6166622638702393. \n",
      "Model saved.\n"
     ]
    },
    {
     "data": {
      "application/vnd.jupyter.widget-view+json": {
       "model_id": "12a575deab194c8f9dad1594cd82d30d",
       "version_major": 2,
       "version_minor": 0
      },
      "text/plain": [
       "0it [00:00, ?it/s]"
      ]
     },
     "metadata": {},
     "output_type": "display_data"
    },
    {
     "name": "stdout",
     "output_type": "stream",
     "text": [
      "val rmse mean: 0.7399480938911438. val rmse std: 0.6155766844749451. \n",
      "Model saved.\n"
     ]
    },
    {
     "data": {
      "application/vnd.jupyter.widget-view+json": {
       "model_id": "15fbda9940284a1fb1e6965dce2bacdf",
       "version_major": 2,
       "version_minor": 0
      },
      "text/plain": [
       "0it [00:00, ?it/s]"
      ]
     },
     "metadata": {},
     "output_type": "display_data"
    },
    {
     "name": "stdout",
     "output_type": "stream",
     "text": [
      "val rmse mean: 0.740951418876648. val rmse std: 0.6148743629455566. \n",
      "Model saved.\n"
     ]
    },
    {
     "data": {
      "application/vnd.jupyter.widget-view+json": {
       "model_id": "9817526732c74a37a3e9d96ace28b43e",
       "version_major": 2,
       "version_minor": 0
      },
      "text/plain": [
       "0it [00:00, ?it/s]"
      ]
     },
     "metadata": {},
     "output_type": "display_data"
    },
    {
     "name": "stdout",
     "output_type": "stream",
     "text": [
      "val rmse mean: 0.7405877113342285. val rmse std: 0.6153024435043335. \n",
      "Model saved.\n",
      "Finished Training\n",
      "=== Training rmse ===\n",
      "val rmse mean: 0.669644296169281. val rmse std: 0.6131952404975891. \n",
      "=== Val rmse ===\n",
      "val rmse mean: 0.7405877113342285. val rmse std: 0.6153024435043335. \n",
      "=== ===\n"
     ]
    },
    {
     "data": {
      "application/vnd.jupyter.widget-view+json": {
       "model_id": "c9ea2e0730af47e7be6e91b3f62a6f99",
       "version_major": 2,
       "version_minor": 0
      },
      "text/plain": [
       "0it [00:00, ?it/s]"
      ]
     },
     "metadata": {},
     "output_type": "display_data"
    },
    {
     "name": "stdout",
     "output_type": "stream",
     "text": [
      "val rmse mean: 0.7252276539802551. val rmse std: 0.6648826003074646. \n",
      "Model saved.\n"
     ]
    },
    {
     "data": {
      "application/vnd.jupyter.widget-view+json": {
       "model_id": "e1375d3fa5d749a097465987b6001b60",
       "version_major": 2,
       "version_minor": 0
      },
      "text/plain": [
       "0it [00:00, ?it/s]"
      ]
     },
     "metadata": {},
     "output_type": "display_data"
    },
    {
     "name": "stdout",
     "output_type": "stream",
     "text": [
      "val rmse mean: 0.7251836657524109. val rmse std: 0.6595317721366882. \n",
      "Model saved.\n"
     ]
    },
    {
     "data": {
      "application/vnd.jupyter.widget-view+json": {
       "model_id": "315b08d0a387491fa1c8fff8ceaaaf69",
       "version_major": 2,
       "version_minor": 0
      },
      "text/plain": [
       "0it [00:00, ?it/s]"
      ]
     },
     "metadata": {},
     "output_type": "display_data"
    },
    {
     "name": "stdout",
     "output_type": "stream",
     "text": [
      "val rmse mean: 0.7245295643806458. val rmse std: 0.6544699668884277. \n",
      "Model saved.\n"
     ]
    },
    {
     "data": {
      "application/vnd.jupyter.widget-view+json": {
       "model_id": "335f4e85129f4689ad7f3eacd63daa15",
       "version_major": 2,
       "version_minor": 0
      },
      "text/plain": [
       "0it [00:00, ?it/s]"
      ]
     },
     "metadata": {},
     "output_type": "display_data"
    },
    {
     "name": "stdout",
     "output_type": "stream",
     "text": [
      "val rmse mean: 0.7235122323036194. val rmse std: 0.6503736972808838. \n",
      "Model saved.\n"
     ]
    },
    {
     "data": {
      "application/vnd.jupyter.widget-view+json": {
       "model_id": "a89edf9dcaef47aeb6f14699a30a41bb",
       "version_major": 2,
       "version_minor": 0
      },
      "text/plain": [
       "0it [00:00, ?it/s]"
      ]
     },
     "metadata": {},
     "output_type": "display_data"
    },
    {
     "name": "stdout",
     "output_type": "stream",
     "text": [
      "val rmse mean: 0.7219126224517822. val rmse std: 0.647197425365448. \n",
      "Model saved.\n"
     ]
    },
    {
     "data": {
      "application/vnd.jupyter.widget-view+json": {
       "model_id": "f3a351fc17a7435fb040e28ba6a77267",
       "version_major": 2,
       "version_minor": 0
      },
      "text/plain": [
       "0it [00:00, ?it/s]"
      ]
     },
     "metadata": {},
     "output_type": "display_data"
    },
    {
     "name": "stdout",
     "output_type": "stream",
     "text": [
      "val rmse mean: 0.72062087059021. val rmse std: 0.6439616084098816. \n",
      "Model saved.\n"
     ]
    },
    {
     "data": {
      "application/vnd.jupyter.widget-view+json": {
       "model_id": "34d9964bf2eb41b7948086dd23eeedf5",
       "version_major": 2,
       "version_minor": 0
      },
      "text/plain": [
       "0it [00:00, ?it/s]"
      ]
     },
     "metadata": {},
     "output_type": "display_data"
    },
    {
     "name": "stdout",
     "output_type": "stream",
     "text": [
      "val rmse mean: 0.7196617722511292. val rmse std: 0.6412556767463684. \n",
      "Model saved.\n"
     ]
    },
    {
     "data": {
      "application/vnd.jupyter.widget-view+json": {
       "model_id": "ef66f556c470406698bd0eb05a872974",
       "version_major": 2,
       "version_minor": 0
      },
      "text/plain": [
       "0it [00:00, ?it/s]"
      ]
     },
     "metadata": {},
     "output_type": "display_data"
    },
    {
     "name": "stdout",
     "output_type": "stream",
     "text": [
      "val rmse mean: 0.7195785641670227. val rmse std: 0.6383422017097473. \n",
      "Model saved.\n"
     ]
    },
    {
     "data": {
      "application/vnd.jupyter.widget-view+json": {
       "model_id": "df757a5044ff48c88c867b915a3c3a54",
       "version_major": 2,
       "version_minor": 0
      },
      "text/plain": [
       "0it [00:00, ?it/s]"
      ]
     },
     "metadata": {},
     "output_type": "display_data"
    },
    {
     "name": "stdout",
     "output_type": "stream",
     "text": [
      "val rmse mean: 0.7192853689193726. val rmse std: 0.636592447757721. \n",
      "Model saved.\n"
     ]
    },
    {
     "data": {
      "application/vnd.jupyter.widget-view+json": {
       "model_id": "015b67161d1345bd94dbeb8361c3caed",
       "version_major": 2,
       "version_minor": 0
      },
      "text/plain": [
       "0it [00:00, ?it/s]"
      ]
     },
     "metadata": {},
     "output_type": "display_data"
    },
    {
     "name": "stdout",
     "output_type": "stream",
     "text": [
      "val rmse mean: 0.7188939452171326. val rmse std: 0.6351108551025391. \n",
      "Model saved.\n"
     ]
    },
    {
     "data": {
      "application/vnd.jupyter.widget-view+json": {
       "model_id": "80c81687a95e4c588c5b15cde4471ecf",
       "version_major": 2,
       "version_minor": 0
      },
      "text/plain": [
       "0it [00:00, ?it/s]"
      ]
     },
     "metadata": {},
     "output_type": "display_data"
    },
    {
     "name": "stdout",
     "output_type": "stream",
     "text": [
      "val rmse mean: 0.7190883755683899. val rmse std: 0.6334655284881592. \n",
      "Model saved.\n"
     ]
    },
    {
     "data": {
      "application/vnd.jupyter.widget-view+json": {
       "model_id": "0626432acf12498f844efa028e442dcd",
       "version_major": 2,
       "version_minor": 0
      },
      "text/plain": [
       "0it [00:00, ?it/s]"
      ]
     },
     "metadata": {},
     "output_type": "display_data"
    },
    {
     "name": "stdout",
     "output_type": "stream",
     "text": [
      "val rmse mean: 0.7192310690879822. val rmse std: 0.6318931579589844. \n",
      "Model saved.\n"
     ]
    },
    {
     "data": {
      "application/vnd.jupyter.widget-view+json": {
       "model_id": "c9f61af4870b46aeb64343ddb1caa947",
       "version_major": 2,
       "version_minor": 0
      },
      "text/plain": [
       "0it [00:00, ?it/s]"
      ]
     },
     "metadata": {},
     "output_type": "display_data"
    },
    {
     "name": "stdout",
     "output_type": "stream",
     "text": [
      "val rmse mean: 0.7200547456741333. val rmse std: 0.6300033926963806. \n",
      "Model saved.\n"
     ]
    },
    {
     "data": {
      "application/vnd.jupyter.widget-view+json": {
       "model_id": "302605f3d0c9466f951e0638dfa1e74b",
       "version_major": 2,
       "version_minor": 0
      },
      "text/plain": [
       "0it [00:00, ?it/s]"
      ]
     },
     "metadata": {},
     "output_type": "display_data"
    },
    {
     "name": "stdout",
     "output_type": "stream",
     "text": [
      "val rmse mean: 0.720037043094635. val rmse std: 0.629011869430542. \n",
      "Model saved.\n"
     ]
    },
    {
     "data": {
      "application/vnd.jupyter.widget-view+json": {
       "model_id": "604a5702032047a6bcf88d3eb403532c",
       "version_major": 2,
       "version_minor": 0
      },
      "text/plain": [
       "0it [00:00, ?it/s]"
      ]
     },
     "metadata": {},
     "output_type": "display_data"
    },
    {
     "name": "stdout",
     "output_type": "stream",
     "text": [
      "val rmse mean: 0.7215543389320374. val rmse std: 0.6271418929100037. \n",
      "Model saved.\n"
     ]
    },
    {
     "data": {
      "application/vnd.jupyter.widget-view+json": {
       "model_id": "5bd02271850141598a4afe51954c8323",
       "version_major": 2,
       "version_minor": 0
      },
      "text/plain": [
       "0it [00:00, ?it/s]"
      ]
     },
     "metadata": {},
     "output_type": "display_data"
    },
    {
     "name": "stdout",
     "output_type": "stream",
     "text": [
      "val rmse mean: 0.7209637761116028. val rmse std: 0.6272441744804382. \n",
      "Model saved.\n"
     ]
    },
    {
     "data": {
      "application/vnd.jupyter.widget-view+json": {
       "model_id": "31b2a7c83d114ef7a6b40e11fbcf1109",
       "version_major": 2,
       "version_minor": 0
      },
      "text/plain": [
       "0it [00:00, ?it/s]"
      ]
     },
     "metadata": {},
     "output_type": "display_data"
    },
    {
     "name": "stdout",
     "output_type": "stream",
     "text": [
      "val rmse mean: 0.7224673628807068. val rmse std: 0.6255652904510498. \n",
      "Model saved.\n"
     ]
    },
    {
     "data": {
      "application/vnd.jupyter.widget-view+json": {
       "model_id": "c32862e36e1347be8d67af20d9849618",
       "version_major": 2,
       "version_minor": 0
      },
      "text/plain": [
       "0it [00:00, ?it/s]"
      ]
     },
     "metadata": {},
     "output_type": "display_data"
    },
    {
     "name": "stdout",
     "output_type": "stream",
     "text": [
      "val rmse mean: 0.723228931427002. val rmse std: 0.6247225999832153. \n",
      "Model saved.\n"
     ]
    },
    {
     "data": {
      "application/vnd.jupyter.widget-view+json": {
       "model_id": "7beb8a8f43d9440fb7455c23db9bcd78",
       "version_major": 2,
       "version_minor": 0
      },
      "text/plain": [
       "0it [00:00, ?it/s]"
      ]
     },
     "metadata": {},
     "output_type": "display_data"
    },
    {
     "name": "stdout",
     "output_type": "stream",
     "text": [
      "val rmse mean: 0.7236013412475586. val rmse std: 0.624291718006134. \n",
      "Model saved.\n"
     ]
    },
    {
     "data": {
      "application/vnd.jupyter.widget-view+json": {
       "model_id": "65a00aa68a0344b2b071e56fbb087179",
       "version_major": 2,
       "version_minor": 0
      },
      "text/plain": [
       "0it [00:00, ?it/s]"
      ]
     },
     "metadata": {},
     "output_type": "display_data"
    },
    {
     "name": "stdout",
     "output_type": "stream",
     "text": [
      "val rmse mean: 0.725008487701416. val rmse std: 0.6230201125144958. \n",
      "Model saved.\n",
      "Finished Training\n",
      "=== Training rmse ===\n",
      "val rmse mean: 0.6685001850128174. val rmse std: 0.6213894486427307. \n",
      "=== Val rmse ===\n",
      "val rmse mean: 0.7250085473060608. val rmse std: 0.6230201125144958. \n",
      "=== ===\n"
     ]
    },
    {
     "data": {
      "application/vnd.jupyter.widget-view+json": {
       "model_id": "f21ad4aa5ad64641ae60223678f9f24f",
       "version_major": 2,
       "version_minor": 0
      },
      "text/plain": [
       "0it [00:00, ?it/s]"
      ]
     },
     "metadata": {},
     "output_type": "display_data"
    },
    {
     "name": "stdout",
     "output_type": "stream",
     "text": [
      "val rmse mean: 0.747712254524231. val rmse std: 0.6310869455337524. \n"
     ]
    },
    {
     "data": {
      "application/vnd.jupyter.widget-view+json": {
       "model_id": "c1ec9db017e14828852a3ac6ad55a15c",
       "version_major": 2,
       "version_minor": 0
      },
      "text/plain": [
       "0it [00:00, ?it/s]"
      ]
     },
     "metadata": {},
     "output_type": "display_data"
    },
    {
     "name": "stdout",
     "output_type": "stream",
     "text": [
      "val rmse mean: 0.7466116547584534. val rmse std: 0.6295320987701416. \n",
      "Model saved.\n"
     ]
    },
    {
     "data": {
      "application/vnd.jupyter.widget-view+json": {
       "model_id": "74c7ee8d8fee4c15b94a8fce71bd6967",
       "version_major": 2,
       "version_minor": 0
      },
      "text/plain": [
       "0it [00:00, ?it/s]"
      ]
     },
     "metadata": {},
     "output_type": "display_data"
    },
    {
     "name": "stdout",
     "output_type": "stream",
     "text": [
      "val rmse mean: 0.7437228560447693. val rmse std: 0.6281276345252991. \n",
      "Model saved.\n"
     ]
    },
    {
     "data": {
      "application/vnd.jupyter.widget-view+json": {
       "model_id": "04b3412b8c93486aa7ba7ca079397119",
       "version_major": 2,
       "version_minor": 0
      },
      "text/plain": [
       "0it [00:00, ?it/s]"
      ]
     },
     "metadata": {},
     "output_type": "display_data"
    },
    {
     "name": "stdout",
     "output_type": "stream",
     "text": [
      "val rmse mean: 0.7405625581741333. val rmse std: 0.6267885565757751. \n",
      "Model saved.\n"
     ]
    },
    {
     "data": {
      "application/vnd.jupyter.widget-view+json": {
       "model_id": "e6f18fa24a9b44788ed3be941cc40833",
       "version_major": 2,
       "version_minor": 0
      },
      "text/plain": [
       "0it [00:00, ?it/s]"
      ]
     },
     "metadata": {},
     "output_type": "display_data"
    },
    {
     "name": "stdout",
     "output_type": "stream",
     "text": [
      "val rmse mean: 0.7386069297790527. val rmse std: 0.6253370642662048. \n",
      "Model saved.\n"
     ]
    },
    {
     "data": {
      "application/vnd.jupyter.widget-view+json": {
       "model_id": "59a4a81e072049d7ab1b907714660880",
       "version_major": 2,
       "version_minor": 0
      },
      "text/plain": [
       "0it [00:00, ?it/s]"
      ]
     },
     "metadata": {},
     "output_type": "display_data"
    },
    {
     "name": "stdout",
     "output_type": "stream",
     "text": [
      "val rmse mean: 0.7378149032592773. val rmse std: 0.6236087679862976. \n",
      "Model saved.\n"
     ]
    },
    {
     "data": {
      "application/vnd.jupyter.widget-view+json": {
       "model_id": "16d4cffcc4a04927ab84375d30fa35e3",
       "version_major": 2,
       "version_minor": 0
      },
      "text/plain": [
       "0it [00:00, ?it/s]"
      ]
     },
     "metadata": {},
     "output_type": "display_data"
    },
    {
     "name": "stdout",
     "output_type": "stream",
     "text": [
      "val rmse mean: 0.7382954955101013. val rmse std: 0.6209600567817688. \n",
      "Model saved.\n"
     ]
    },
    {
     "data": {
      "application/vnd.jupyter.widget-view+json": {
       "model_id": "6a022170b5ec4daa9ad36c2581e5760d",
       "version_major": 2,
       "version_minor": 0
      },
      "text/plain": [
       "0it [00:00, ?it/s]"
      ]
     },
     "metadata": {},
     "output_type": "display_data"
    },
    {
     "name": "stdout",
     "output_type": "stream",
     "text": [
      "val rmse mean: 0.7384012341499329. val rmse std: 0.6191352009773254. \n",
      "Model saved.\n"
     ]
    },
    {
     "data": {
      "application/vnd.jupyter.widget-view+json": {
       "model_id": "664896b6890d4f0386036e78c01d65d8",
       "version_major": 2,
       "version_minor": 0
      },
      "text/plain": [
       "0it [00:00, ?it/s]"
      ]
     },
     "metadata": {},
     "output_type": "display_data"
    },
    {
     "name": "stdout",
     "output_type": "stream",
     "text": [
      "val rmse mean: 0.7387171387672424. val rmse std: 0.6176059246063232. \n",
      "Model saved.\n"
     ]
    },
    {
     "data": {
      "application/vnd.jupyter.widget-view+json": {
       "model_id": "9b71d2655076445eb1dd2b1190625b6f",
       "version_major": 2,
       "version_minor": 0
      },
      "text/plain": [
       "0it [00:00, ?it/s]"
      ]
     },
     "metadata": {},
     "output_type": "display_data"
    },
    {
     "name": "stdout",
     "output_type": "stream",
     "text": [
      "val rmse mean: 0.7394947409629822. val rmse std: 0.6159790754318237. \n",
      "Model saved.\n"
     ]
    },
    {
     "data": {
      "application/vnd.jupyter.widget-view+json": {
       "model_id": "76a5d1322f8b47b5bfbeaed749f44439",
       "version_major": 2,
       "version_minor": 0
      },
      "text/plain": [
       "0it [00:00, ?it/s]"
      ]
     },
     "metadata": {},
     "output_type": "display_data"
    },
    {
     "name": "stdout",
     "output_type": "stream",
     "text": [
      "val rmse mean: 0.740289568901062. val rmse std: 0.6146208047866821. \n",
      "Model saved.\n"
     ]
    },
    {
     "data": {
      "application/vnd.jupyter.widget-view+json": {
       "model_id": "7c3834d10e014c35bca88e3d1edd6ac9",
       "version_major": 2,
       "version_minor": 0
      },
      "text/plain": [
       "0it [00:00, ?it/s]"
      ]
     },
     "metadata": {},
     "output_type": "display_data"
    },
    {
     "name": "stdout",
     "output_type": "stream",
     "text": [
      "val rmse mean: 0.741274356842041. val rmse std: 0.6132621169090271. \n",
      "Model saved.\n"
     ]
    },
    {
     "data": {
      "application/vnd.jupyter.widget-view+json": {
       "model_id": "95ccda1103f94f9a9136aaf29c2e856e",
       "version_major": 2,
       "version_minor": 0
      },
      "text/plain": [
       "0it [00:00, ?it/s]"
      ]
     },
     "metadata": {},
     "output_type": "display_data"
    },
    {
     "name": "stdout",
     "output_type": "stream",
     "text": [
      "val rmse mean: 0.7414597272872925. val rmse std: 0.6127004623413086. \n",
      "Model saved.\n"
     ]
    },
    {
     "data": {
      "application/vnd.jupyter.widget-view+json": {
       "model_id": "a0e91259d1654d2ca38e2ea4edc2c03b",
       "version_major": 2,
       "version_minor": 0
      },
      "text/plain": [
       "0it [00:00, ?it/s]"
      ]
     },
     "metadata": {},
     "output_type": "display_data"
    },
    {
     "name": "stdout",
     "output_type": "stream",
     "text": [
      "val rmse mean: 0.7439764142036438. val rmse std: 0.6105201244354248. \n",
      "Model saved.\n"
     ]
    },
    {
     "data": {
      "application/vnd.jupyter.widget-view+json": {
       "model_id": "655e961251c840e2be8ba81170fdd75e",
       "version_major": 2,
       "version_minor": 0
      },
      "text/plain": [
       "0it [00:00, ?it/s]"
      ]
     },
     "metadata": {},
     "output_type": "display_data"
    },
    {
     "name": "stdout",
     "output_type": "stream",
     "text": [
      "val rmse mean: 0.7449237108230591. val rmse std: 0.6097583174705505. \n",
      "Model saved.\n"
     ]
    },
    {
     "data": {
      "application/vnd.jupyter.widget-view+json": {
       "model_id": "762bdf39fdb54e61b43e079edd48f92c",
       "version_major": 2,
       "version_minor": 0
      },
      "text/plain": [
       "0it [00:00, ?it/s]"
      ]
     },
     "metadata": {},
     "output_type": "display_data"
    },
    {
     "name": "stdout",
     "output_type": "stream",
     "text": [
      "val rmse mean: 0.745697557926178. val rmse std: 0.6092140078544617. \n",
      "Model saved.\n"
     ]
    },
    {
     "data": {
      "application/vnd.jupyter.widget-view+json": {
       "model_id": "fbd656e6b7b74a3ab65aee29658414cd",
       "version_major": 2,
       "version_minor": 0
      },
      "text/plain": [
       "0it [00:00, ?it/s]"
      ]
     },
     "metadata": {},
     "output_type": "display_data"
    },
    {
     "name": "stdout",
     "output_type": "stream",
     "text": [
      "val rmse mean: 0.7465459704399109. val rmse std: 0.6088322401046753. \n",
      "Model saved.\n"
     ]
    },
    {
     "data": {
      "application/vnd.jupyter.widget-view+json": {
       "model_id": "eece4a3c121d4cf5b98b71f3526d3f32",
       "version_major": 2,
       "version_minor": 0
      },
      "text/plain": [
       "0it [00:00, ?it/s]"
      ]
     },
     "metadata": {},
     "output_type": "display_data"
    },
    {
     "name": "stdout",
     "output_type": "stream",
     "text": [
      "val rmse mean: 0.7463270425796509. val rmse std: 0.6091208457946777. \n",
      "Model saved.\n"
     ]
    },
    {
     "data": {
      "application/vnd.jupyter.widget-view+json": {
       "model_id": "7cdc55a11449421a8131edcf68c9b474",
       "version_major": 2,
       "version_minor": 0
      },
      "text/plain": [
       "0it [00:00, ?it/s]"
      ]
     },
     "metadata": {},
     "output_type": "display_data"
    },
    {
     "name": "stdout",
     "output_type": "stream",
     "text": [
      "val rmse mean: 0.7490369081497192. val rmse std: 0.6073753237724304. \n"
     ]
    },
    {
     "data": {
      "application/vnd.jupyter.widget-view+json": {
       "model_id": "7ee641832915490c9c9d677e7f68d548",
       "version_major": 2,
       "version_minor": 0
      },
      "text/plain": [
       "0it [00:00, ?it/s]"
      ]
     },
     "metadata": {},
     "output_type": "display_data"
    },
    {
     "name": "stdout",
     "output_type": "stream",
     "text": [
      "val rmse mean: 0.7503219842910767. val rmse std: 0.6069372296333313. \n",
      "Finished Training\n",
      "=== Training rmse ===\n",
      "val rmse mean: 0.6662001013755798. val rmse std: 0.6100900173187256. \n",
      "=== Val rmse ===\n",
      "val rmse mean: 0.7503219842910767. val rmse std: 0.6069372296333313. \n",
      "=== ===\n"
     ]
    },
    {
     "data": {
      "application/vnd.jupyter.widget-view+json": {
       "model_id": "25530691906d48cc931849e882e88afd",
       "version_major": 2,
       "version_minor": 0
      },
      "text/plain": [
       "0it [00:00, ?it/s]"
      ]
     },
     "metadata": {},
     "output_type": "display_data"
    },
    {
     "name": "stdout",
     "output_type": "stream",
     "text": [
      "val rmse mean: 0.723244309425354. val rmse std: 0.6661523580551147. \n",
      "Model saved.\n"
     ]
    },
    {
     "data": {
      "application/vnd.jupyter.widget-view+json": {
       "model_id": "f44a7522891f4a9fad64822b2269f1c0",
       "version_major": 2,
       "version_minor": 0
      },
      "text/plain": [
       "0it [00:00, ?it/s]"
      ]
     },
     "metadata": {},
     "output_type": "display_data"
    },
    {
     "name": "stdout",
     "output_type": "stream",
     "text": [
      "val rmse mean: 0.7239248752593994. val rmse std: 0.6523876190185547. \n",
      "Model saved.\n"
     ]
    },
    {
     "data": {
      "application/vnd.jupyter.widget-view+json": {
       "model_id": "f8d49e3a19f64effb18c944204d49970",
       "version_major": 2,
       "version_minor": 0
      },
      "text/plain": [
       "0it [00:00, ?it/s]"
      ]
     },
     "metadata": {},
     "output_type": "display_data"
    },
    {
     "name": "stdout",
     "output_type": "stream",
     "text": [
      "val rmse mean: 0.7240241765975952. val rmse std: 0.6451795697212219. \n",
      "Model saved.\n"
     ]
    },
    {
     "data": {
      "application/vnd.jupyter.widget-view+json": {
       "model_id": "002491889d8e49f1bd357b9bf1f1d262",
       "version_major": 2,
       "version_minor": 0
      },
      "text/plain": [
       "0it [00:00, ?it/s]"
      ]
     },
     "metadata": {},
     "output_type": "display_data"
    },
    {
     "name": "stdout",
     "output_type": "stream",
     "text": [
      "val rmse mean: 0.7251771688461304. val rmse std: 0.6395823955535889. \n",
      "Model saved.\n"
     ]
    },
    {
     "data": {
      "application/vnd.jupyter.widget-view+json": {
       "model_id": "3a2387b231dc49ec814d473efb43919d",
       "version_major": 2,
       "version_minor": 0
      },
      "text/plain": [
       "0it [00:00, ?it/s]"
      ]
     },
     "metadata": {},
     "output_type": "display_data"
    },
    {
     "name": "stdout",
     "output_type": "stream",
     "text": [
      "val rmse mean: 0.7267090678215027. val rmse std: 0.6351509094238281. \n",
      "Model saved.\n"
     ]
    },
    {
     "data": {
      "application/vnd.jupyter.widget-view+json": {
       "model_id": "55677fd94ba04b19b654cc15726c8109",
       "version_major": 2,
       "version_minor": 0
      },
      "text/plain": [
       "0it [00:00, ?it/s]"
      ]
     },
     "metadata": {},
     "output_type": "display_data"
    },
    {
     "name": "stdout",
     "output_type": "stream",
     "text": [
      "val rmse mean: 0.7284312844276428. val rmse std: 0.631682813167572. \n",
      "Model saved.\n"
     ]
    },
    {
     "data": {
      "application/vnd.jupyter.widget-view+json": {
       "model_id": "632780028aa74dd0aee39b8c6d5a16d0",
       "version_major": 2,
       "version_minor": 0
      },
      "text/plain": [
       "0it [00:00, ?it/s]"
      ]
     },
     "metadata": {},
     "output_type": "display_data"
    },
    {
     "name": "stdout",
     "output_type": "stream",
     "text": [
      "val rmse mean: 0.7297781109809875. val rmse std: 0.6290244460105896. \n",
      "Model saved.\n"
     ]
    },
    {
     "data": {
      "application/vnd.jupyter.widget-view+json": {
       "model_id": "fca62f4fe45a40be81487097751bf890",
       "version_major": 2,
       "version_minor": 0
      },
      "text/plain": [
       "0it [00:00, ?it/s]"
      ]
     },
     "metadata": {},
     "output_type": "display_data"
    },
    {
     "name": "stdout",
     "output_type": "stream",
     "text": [
      "val rmse mean: 0.7312278151512146. val rmse std: 0.6266670823097229. \n",
      "Model saved.\n"
     ]
    },
    {
     "data": {
      "application/vnd.jupyter.widget-view+json": {
       "model_id": "f350293b847344b19ea4adec55672bab",
       "version_major": 2,
       "version_minor": 0
      },
      "text/plain": [
       "0it [00:00, ?it/s]"
      ]
     },
     "metadata": {},
     "output_type": "display_data"
    },
    {
     "name": "stdout",
     "output_type": "stream",
     "text": [
      "val rmse mean: 0.7327743768692017. val rmse std: 0.6246735453605652. \n",
      "Model saved.\n"
     ]
    },
    {
     "data": {
      "application/vnd.jupyter.widget-view+json": {
       "model_id": "cdffb2dc33534cd8acce7dd4605f9ba7",
       "version_major": 2,
       "version_minor": 0
      },
      "text/plain": [
       "0it [00:00, ?it/s]"
      ]
     },
     "metadata": {},
     "output_type": "display_data"
    },
    {
     "name": "stdout",
     "output_type": "stream",
     "text": [
      "val rmse mean: 0.7344887852668762. val rmse std: 0.622744619846344. \n",
      "Model saved.\n"
     ]
    },
    {
     "data": {
      "application/vnd.jupyter.widget-view+json": {
       "model_id": "39f36b1dd7644b85ab2a6533f8b63df7",
       "version_major": 2,
       "version_minor": 0
      },
      "text/plain": [
       "0it [00:00, ?it/s]"
      ]
     },
     "metadata": {},
     "output_type": "display_data"
    },
    {
     "name": "stdout",
     "output_type": "stream",
     "text": [
      "val rmse mean: 0.7377342581748962. val rmse std: 0.6197381019592285. \n",
      "Model saved.\n"
     ]
    },
    {
     "data": {
      "application/vnd.jupyter.widget-view+json": {
       "model_id": "f1f34e2a1d044a87b02d7eb328a5e976",
       "version_major": 2,
       "version_minor": 0
      },
      "text/plain": [
       "0it [00:00, ?it/s]"
      ]
     },
     "metadata": {},
     "output_type": "display_data"
    },
    {
     "name": "stdout",
     "output_type": "stream",
     "text": [
      "val rmse mean: 0.7387055158615112. val rmse std: 0.6190845370292664. \n",
      "Model saved.\n"
     ]
    },
    {
     "data": {
      "application/vnd.jupyter.widget-view+json": {
       "model_id": "0b342255634a4bd58b5ecf32b0008c11",
       "version_major": 2,
       "version_minor": 0
      },
      "text/plain": [
       "0it [00:00, ?it/s]"
      ]
     },
     "metadata": {},
     "output_type": "display_data"
    },
    {
     "name": "stdout",
     "output_type": "stream",
     "text": [
      "val rmse mean: 0.7410793304443359. val rmse std: 0.6172196865081787. \n",
      "Model saved.\n"
     ]
    },
    {
     "data": {
      "application/vnd.jupyter.widget-view+json": {
       "model_id": "3e617b4c4b8b4ab7b2d54c6183729f9b",
       "version_major": 2,
       "version_minor": 0
      },
      "text/plain": [
       "0it [00:00, ?it/s]"
      ]
     },
     "metadata": {},
     "output_type": "display_data"
    },
    {
     "name": "stdout",
     "output_type": "stream",
     "text": [
      "val rmse mean: 0.7404012680053711. val rmse std: 0.6182118654251099. \n",
      "Model saved.\n"
     ]
    },
    {
     "data": {
      "application/vnd.jupyter.widget-view+json": {
       "model_id": "9d40dbd5dfb54a98a8290c70e8475042",
       "version_major": 2,
       "version_minor": 0
      },
      "text/plain": [
       "0it [00:00, ?it/s]"
      ]
     },
     "metadata": {},
     "output_type": "display_data"
    },
    {
     "name": "stdout",
     "output_type": "stream",
     "text": [
      "val rmse mean: 0.7424513101577759. val rmse std: 0.6169456243515015. \n",
      "Model saved.\n"
     ]
    },
    {
     "data": {
      "application/vnd.jupyter.widget-view+json": {
       "model_id": "c1bbc395032e45cca11f826e7bc26e21",
       "version_major": 2,
       "version_minor": 0
      },
      "text/plain": [
       "0it [00:00, ?it/s]"
      ]
     },
     "metadata": {},
     "output_type": "display_data"
    },
    {
     "name": "stdout",
     "output_type": "stream",
     "text": [
      "val rmse mean: 0.7467029094696045. val rmse std: 0.6138296127319336. \n",
      "Model saved.\n"
     ]
    },
    {
     "data": {
      "application/vnd.jupyter.widget-view+json": {
       "model_id": "0ea0e12f2386455ba33920f5665546b4",
       "version_major": 2,
       "version_minor": 0
      },
      "text/plain": [
       "0it [00:00, ?it/s]"
      ]
     },
     "metadata": {},
     "output_type": "display_data"
    },
    {
     "name": "stdout",
     "output_type": "stream",
     "text": [
      "val rmse mean: 0.7448596954345703. val rmse std: 0.6158208847045898. \n",
      "Model saved.\n"
     ]
    },
    {
     "data": {
      "application/vnd.jupyter.widget-view+json": {
       "model_id": "7ecdc954948b486a89237f8dc66cde64",
       "version_major": 2,
       "version_minor": 0
      },
      "text/plain": [
       "0it [00:00, ?it/s]"
      ]
     },
     "metadata": {},
     "output_type": "display_data"
    },
    {
     "name": "stdout",
     "output_type": "stream",
     "text": [
      "val rmse mean: 0.7458858489990234. val rmse std: 0.6149146556854248. \n",
      "Model saved.\n"
     ]
    },
    {
     "data": {
      "application/vnd.jupyter.widget-view+json": {
       "model_id": "b66d052407724dddaf1520eb557b1545",
       "version_major": 2,
       "version_minor": 0
      },
      "text/plain": [
       "0it [00:00, ?it/s]"
      ]
     },
     "metadata": {},
     "output_type": "display_data"
    },
    {
     "name": "stdout",
     "output_type": "stream",
     "text": [
      "val rmse mean: 0.7461308836936951. val rmse std: 0.6150740385055542. \n",
      "Model saved.\n"
     ]
    },
    {
     "data": {
      "application/vnd.jupyter.widget-view+json": {
       "model_id": "69ee316c303e4bb28beb848a627caac9",
       "version_major": 2,
       "version_minor": 0
      },
      "text/plain": [
       "0it [00:00, ?it/s]"
      ]
     },
     "metadata": {},
     "output_type": "display_data"
    },
    {
     "name": "stdout",
     "output_type": "stream",
     "text": [
      "val rmse mean: 0.7462756037712097. val rmse std: 0.6153323650360107. \n",
      "Model saved.\n",
      "Finished Training\n",
      "=== Training rmse ===\n",
      "val rmse mean: 0.6627168655395508. val rmse std: 0.607662558555603. \n",
      "=== Val rmse ===\n",
      "val rmse mean: 0.7462756037712097. val rmse std: 0.6153323650360107. \n",
      "=== ===\n"
     ]
    },
    {
     "data": {
      "application/vnd.jupyter.widget-view+json": {
       "model_id": "98e6cf0b745242eb96b697d1bec78cb4",
       "version_major": 2,
       "version_minor": 0
      },
      "text/plain": [
       "0it [00:00, ?it/s]"
      ]
     },
     "metadata": {},
     "output_type": "display_data"
    },
    {
     "name": "stdout",
     "output_type": "stream",
     "text": [
      "val rmse mean: 0.7198954224586487. val rmse std: 0.6881493330001831. \n",
      "Model saved.\n"
     ]
    },
    {
     "data": {
      "application/vnd.jupyter.widget-view+json": {
       "model_id": "b527fc11db814cd19da884d81eef55c0",
       "version_major": 2,
       "version_minor": 0
      },
      "text/plain": [
       "0it [00:00, ?it/s]"
      ]
     },
     "metadata": {},
     "output_type": "display_data"
    },
    {
     "name": "stdout",
     "output_type": "stream",
     "text": [
      "val rmse mean: 0.7210434675216675. val rmse std: 0.6715586185455322. \n",
      "Model saved.\n"
     ]
    },
    {
     "data": {
      "application/vnd.jupyter.widget-view+json": {
       "model_id": "b95779e9165b44a49d2ecd50bf2dca43",
       "version_major": 2,
       "version_minor": 0
      },
      "text/plain": [
       "0it [00:00, ?it/s]"
      ]
     },
     "metadata": {},
     "output_type": "display_data"
    },
    {
     "name": "stdout",
     "output_type": "stream",
     "text": [
      "val rmse mean: 0.7218499779701233. val rmse std: 0.6611946821212769. \n",
      "Model saved.\n"
     ]
    },
    {
     "data": {
      "application/vnd.jupyter.widget-view+json": {
       "model_id": "ef8f9dc8117748858870e70d2d4e9a3c",
       "version_major": 2,
       "version_minor": 0
      },
      "text/plain": [
       "0it [00:00, ?it/s]"
      ]
     },
     "metadata": {},
     "output_type": "display_data"
    },
    {
     "name": "stdout",
     "output_type": "stream",
     "text": [
      "val rmse mean: 0.7222639918327332. val rmse std: 0.6532341241836548. \n",
      "Model saved.\n"
     ]
    },
    {
     "data": {
      "application/vnd.jupyter.widget-view+json": {
       "model_id": "ac7ffe7b361746a893a02a1adf69eebf",
       "version_major": 2,
       "version_minor": 0
      },
      "text/plain": [
       "0it [00:00, ?it/s]"
      ]
     },
     "metadata": {},
     "output_type": "display_data"
    },
    {
     "name": "stdout",
     "output_type": "stream",
     "text": [
      "val rmse mean: 0.723353385925293. val rmse std: 0.6475834250450134. \n",
      "Model saved.\n"
     ]
    },
    {
     "data": {
      "application/vnd.jupyter.widget-view+json": {
       "model_id": "c130c28cd0b247e3bbea714c2b49097e",
       "version_major": 2,
       "version_minor": 0
      },
      "text/plain": [
       "0it [00:00, ?it/s]"
      ]
     },
     "metadata": {},
     "output_type": "display_data"
    },
    {
     "name": "stdout",
     "output_type": "stream",
     "text": [
      "val rmse mean: 0.7248149514198303. val rmse std: 0.6426413059234619. \n",
      "Model saved.\n"
     ]
    },
    {
     "data": {
      "application/vnd.jupyter.widget-view+json": {
       "model_id": "6f27a7ed4a8f4391a726a5a12522523b",
       "version_major": 2,
       "version_minor": 0
      },
      "text/plain": [
       "0it [00:00, ?it/s]"
      ]
     },
     "metadata": {},
     "output_type": "display_data"
    },
    {
     "name": "stdout",
     "output_type": "stream",
     "text": [
      "val rmse mean: 0.7258636355400085. val rmse std: 0.6396321058273315. \n",
      "Model saved.\n"
     ]
    },
    {
     "data": {
      "application/vnd.jupyter.widget-view+json": {
       "model_id": "9035f6eec17f40788ebc83e9344ca29d",
       "version_major": 2,
       "version_minor": 0
      },
      "text/plain": [
       "0it [00:00, ?it/s]"
      ]
     },
     "metadata": {},
     "output_type": "display_data"
    },
    {
     "name": "stdout",
     "output_type": "stream",
     "text": [
      "val rmse mean: 0.7280685305595398. val rmse std: 0.6358889937400818. \n",
      "Model saved.\n"
     ]
    },
    {
     "data": {
      "application/vnd.jupyter.widget-view+json": {
       "model_id": "e16a5addc47040f3b2a719a779a36d71",
       "version_major": 2,
       "version_minor": 0
      },
      "text/plain": [
       "0it [00:00, ?it/s]"
      ]
     },
     "metadata": {},
     "output_type": "display_data"
    },
    {
     "name": "stdout",
     "output_type": "stream",
     "text": [
      "val rmse mean: 0.7315663695335388. val rmse std: 0.6307880878448486. \n",
      "Model saved.\n"
     ]
    },
    {
     "data": {
      "application/vnd.jupyter.widget-view+json": {
       "model_id": "8db1e093793349b58ac315d0cee0bd74",
       "version_major": 2,
       "version_minor": 0
      },
      "text/plain": [
       "0it [00:00, ?it/s]"
      ]
     },
     "metadata": {},
     "output_type": "display_data"
    },
    {
     "name": "stdout",
     "output_type": "stream",
     "text": [
      "val rmse mean: 0.7336146235466003. val rmse std: 0.6284869313240051. \n",
      "Model saved.\n"
     ]
    },
    {
     "data": {
      "application/vnd.jupyter.widget-view+json": {
       "model_id": "00137cefb35f4f058b77688d90e06656",
       "version_major": 2,
       "version_minor": 0
      },
      "text/plain": [
       "0it [00:00, ?it/s]"
      ]
     },
     "metadata": {},
     "output_type": "display_data"
    },
    {
     "name": "stdout",
     "output_type": "stream",
     "text": [
      "val rmse mean: 0.7355660200119019. val rmse std: 0.6264134049415588. \n",
      "Model saved.\n"
     ]
    },
    {
     "data": {
      "application/vnd.jupyter.widget-view+json": {
       "model_id": "67c5c2460c3640b0b2b764b40717d39a",
       "version_major": 2,
       "version_minor": 0
      },
      "text/plain": [
       "0it [00:00, ?it/s]"
      ]
     },
     "metadata": {},
     "output_type": "display_data"
    },
    {
     "name": "stdout",
     "output_type": "stream",
     "text": [
      "val rmse mean: 0.737946629524231. val rmse std: 0.6242584586143494. \n",
      "Model saved.\n"
     ]
    },
    {
     "data": {
      "application/vnd.jupyter.widget-view+json": {
       "model_id": "e91173f959bd4b0b98eb47f37d43ae4b",
       "version_major": 2,
       "version_minor": 0
      },
      "text/plain": [
       "0it [00:00, ?it/s]"
      ]
     },
     "metadata": {},
     "output_type": "display_data"
    },
    {
     "name": "stdout",
     "output_type": "stream",
     "text": [
      "val rmse mean: 0.7399126291275024. val rmse std: 0.6231322884559631. \n",
      "Model saved.\n"
     ]
    },
    {
     "data": {
      "application/vnd.jupyter.widget-view+json": {
       "model_id": "c5309979f44f4ae48585d609013c7ef2",
       "version_major": 2,
       "version_minor": 0
      },
      "text/plain": [
       "0it [00:00, ?it/s]"
      ]
     },
     "metadata": {},
     "output_type": "display_data"
    },
    {
     "name": "stdout",
     "output_type": "stream",
     "text": [
      "val rmse mean: 0.7426910400390625. val rmse std: 0.6210302114486694. \n",
      "Model saved.\n"
     ]
    },
    {
     "data": {
      "application/vnd.jupyter.widget-view+json": {
       "model_id": "3b693822901f4605a138332e07e064a7",
       "version_major": 2,
       "version_minor": 0
      },
      "text/plain": [
       "0it [00:00, ?it/s]"
      ]
     },
     "metadata": {},
     "output_type": "display_data"
    },
    {
     "name": "stdout",
     "output_type": "stream",
     "text": [
      "val rmse mean: 0.7435616254806519. val rmse std: 0.6208876967430115. \n",
      "Model saved.\n"
     ]
    },
    {
     "data": {
      "application/vnd.jupyter.widget-view+json": {
       "model_id": "a35f9fdf52284cbba663ab8d4b562eff",
       "version_major": 2,
       "version_minor": 0
      },
      "text/plain": [
       "0it [00:00, ?it/s]"
      ]
     },
     "metadata": {},
     "output_type": "display_data"
    },
    {
     "name": "stdout",
     "output_type": "stream",
     "text": [
      "val rmse mean: 0.7468724846839905. val rmse std: 0.6188579797744751. \n",
      "Model saved.\n"
     ]
    },
    {
     "data": {
      "application/vnd.jupyter.widget-view+json": {
       "model_id": "d854c08c2c72425b9c987da8d5ef8c91",
       "version_major": 2,
       "version_minor": 0
      },
      "text/plain": [
       "0it [00:00, ?it/s]"
      ]
     },
     "metadata": {},
     "output_type": "display_data"
    },
    {
     "name": "stdout",
     "output_type": "stream",
     "text": [
      "val rmse mean: 0.7457488179206848. val rmse std: 0.6201782822608948. \n",
      "Model saved.\n"
     ]
    },
    {
     "data": {
      "application/vnd.jupyter.widget-view+json": {
       "model_id": "f94b2e7fec09499bb453a94796bedd3b",
       "version_major": 2,
       "version_minor": 0
      },
      "text/plain": [
       "0it [00:00, ?it/s]"
      ]
     },
     "metadata": {},
     "output_type": "display_data"
    },
    {
     "name": "stdout",
     "output_type": "stream",
     "text": [
      "val rmse mean: 0.7474445104598999. val rmse std: 0.6194368600845337. \n"
     ]
    },
    {
     "data": {
      "application/vnd.jupyter.widget-view+json": {
       "model_id": "d41bdb0dfbac459f82ac91d30eb2accd",
       "version_major": 2,
       "version_minor": 0
      },
      "text/plain": [
       "0it [00:00, ?it/s]"
      ]
     },
     "metadata": {},
     "output_type": "display_data"
    },
    {
     "name": "stdout",
     "output_type": "stream",
     "text": [
      "val rmse mean: 0.7490410208702087. val rmse std: 0.6188132166862488. \n"
     ]
    },
    {
     "data": {
      "application/vnd.jupyter.widget-view+json": {
       "model_id": "dce2d6ac19b1459282802875fcd6029c",
       "version_major": 2,
       "version_minor": 0
      },
      "text/plain": [
       "0it [00:00, ?it/s]"
      ]
     },
     "metadata": {},
     "output_type": "display_data"
    },
    {
     "name": "stdout",
     "output_type": "stream",
     "text": [
      "val rmse mean: 0.7494131922721863. val rmse std: 0.6191360354423523. \n",
      "Finished Training\n",
      "=== Training rmse ===\n",
      "val rmse mean: 0.6643788814544678. val rmse std: 0.6116300225257874. \n",
      "=== Val rmse ===\n",
      "val rmse mean: 0.7494131922721863. val rmse std: 0.6191360354423523. \n",
      "=== ===\n"
     ]
    }
   ],
   "source": [
    "MODEL_TYPE = 'pitch'\n",
    "EPOCHS = 20\n",
    "model = MLP_p()\n",
    "naive_rmses = naive_evaluate(model=model, train_loader=train_dataloader_p, val_loader=val_dataloader_p, device=device)\n",
    "naive_rmse_mean = naive_rmses.mean().item()\n",
    "loss_history = []\n",
    "for seed in seeds:\n",
    "    model = MLP_p()\n",
    "    criterion = nn.MSELoss()\n",
    "    optimizer = optim.Adam(model.parameters(), lr=1e-5)\n",
    "    model = model.to(device)\n",
    "    criterion = criterion.to(device)\n",
    "\n",
    "    \n",
    "    for epoch in range(EPOCHS):  # loop over the dataset multiple times\n",
    "        model.train()\n",
    "        for idx, data in tqdm(enumerate(train_dataloader_p)):\n",
    "            # get the inputs; data is a list of [inputs, labels]\n",
    "            X_train, y_train, infos = data\n",
    "            (uid, vid, embedding_video_start_time, embedding_seq_nohistory_idx, pitch_mean, pitch_std, energy_mean, energy_std) = infos\n",
    "            \n",
    "            X_train = X_train.to(device)\n",
    "            y_train = y_train.to(device)\n",
    "\n",
    "            pred_train = model(X_train)\n",
    "            loss = criterion(pred_train.reshape(-1), y_train)\n",
    "            loss.backward()\n",
    "            optimizer.step()\n",
    "            optimizer.zero_grad()\n",
    "            \n",
    "            loss_history.append(loss.detach().cpu().item())\n",
    "        \n",
    "        _ = evaluate(model=model, val_loader=val_dataloader_p, device=device, naive_rmse=naive_rmse_mean, model_type=MODEL_TYPE)\n",
    "        model.train()\n",
    "\n",
    "    print('Finished Training')\n",
    "    print('=== Training rmse ===')\n",
    "    _ = evaluate(model=model, val_loader=train_dataloader_p, device=device)\n",
    "    print('=== Val rmse ===')\n",
    "    _ = evaluate(model=model, val_loader=val_dataloader_p, device=device)\n",
    "    print('=== ===')"
   ]
  },
  {
   "cell_type": "code",
   "execution_count": 123,
   "id": "19b7198e-766d-4583-8536-35e44ddd764a",
   "metadata": {},
   "outputs": [
    {
     "data": {
      "text/plain": [
       "[<matplotlib.lines.Line2D at 0x1dfd284f4d0>]"
      ]
     },
     "execution_count": 123,
     "metadata": {},
     "output_type": "execute_result"
    },
    {
     "data": {
      "image/png": "[encoded data removed]",
      "text/plain": [
       "<Figure size 640x480 with 1 Axes>"
      ]
     },
     "metadata": {},
     "output_type": "display_data"
    }
   ],
   "source": [
    "plt.plot(loss_history)"
   ]
  },
  {
   "cell_type": "code",
   "execution_count": 124,
   "id": "ca8ae7db-9df4-49b6-a215-9cb10f16a67b",
   "metadata": {},
   "outputs": [
    {
     "name": "stdout",
     "output_type": "stream",
     "text": [
      "Averaging 94 models.\n"
     ]
    },
    {
     "data": {
      "text/plain": [
       "<All keys matched successfully>"
      ]
     },
     "execution_count": 124,
     "metadata": {},
     "output_type": "execute_result"
    }
   ],
   "source": [
    "model_paths = glob.glob(\"./jupyter_walkthrough/side_exp/pitch/*.pth\")\n",
    "model_list = []\n",
    "for model_path in model_paths:\n",
    "    # Define your model here, e.g., model = YourModelClass()\n",
    "    model = MLP_p()\n",
    "    model.load_state_dict(torch.load(model_path))\n",
    "    model_list.append(model)\n",
    "num_models = len(model_list)\n",
    "print(f\"Averaging {num_models} models.\")\n",
    "averaged_state_dict = None\n",
    "\n",
    "for model in model_list:\n",
    "    if averaged_state_dict is None:\n",
    "        averaged_state_dict = model.state_dict()\n",
    "    else:\n",
    "        for key, value in model.state_dict().items():\n",
    "            averaged_state_dict[key] += value\n",
    "for key in averaged_state_dict.keys():\n",
    "    averaged_state_dict[key] /= num_models\n",
    "\n",
    "averaged_model = MLP_p()\n",
    "averaged_model.load_state_dict(averaged_state_dict)"
   ]
  },
  {
   "cell_type": "code",
   "execution_count": 125,
   "id": "793becc5-ba0c-47b1-ae07-e14563559c8a",
   "metadata": {},
   "outputs": [
    {
     "name": "stdout",
     "output_type": "stream",
     "text": [
      "val rmse mean: 0.726542592048645. val rmse std: 0.6635804176330566. \n",
      "Model saved.\n"
     ]
    }
   ],
   "source": [
    "_ = evaluate(model=averaged_model, val_loader=val_dataloader_p, device=device, naive_rmse=naive_rmse_mean, model_type=MODEL_TYPE)"
   ]
  },
  {
   "cell_type": "code",
   "execution_count": null,
   "id": "567106c4-87e7-4b25-8af9-005d2a627936",
   "metadata": {},
   "outputs": [],
   "source": []
  },
  {
   "cell_type": "code",
   "execution_count": null,
   "id": "e0c65397-fbd1-48ce-9e77-25f03f455e32",
   "metadata": {},
   "outputs": [],
   "source": []
  },
  {
   "cell_type": "code",
   "execution_count": null,
   "id": "421d4667-8f47-45d9-9f5d-317fb7ff60e1",
   "metadata": {},
   "outputs": [],
   "source": []
  },
  {
   "cell_type": "code",
   "execution_count": null,
   "id": "cc722201-2a46-4ad0-b945-18834021dcd1",
   "metadata": {},
   "outputs": [],
   "source": []
  },
  {
   "cell_type": "markdown",
   "id": "9ba071d9-2d8f-4b79-a8ce-a8ace6a79751",
   "metadata": {},
   "source": [
    "## pdelta"
   ]
  },
  {
   "cell_type": "code",
   "execution_count": 22,
   "id": "46549481-221e-46dc-8a93-1f8e10f7bb57",
   "metadata": {},
   "outputs": [],
   "source": [
    "# _ = naive_evaluate(model=model, train_loader=train_dataloader_p, val_loader=val_dataloader_p, device=device)"
   ]
  },
  {
   "cell_type": "code",
   "execution_count": 98,
   "id": "f5d4984d-f620-49b2-8fa8-59ea108074d1",
   "metadata": {},
   "outputs": [],
   "source": [
    "class MLP_pdelta(nn.Module):\n",
    "    def __init__(self):\n",
    "        super().__init__()\n",
    "        self.fc1 = nn.Linear(1536, 16)\n",
    "        self.fc2 = nn.Linear(16, 16)\n",
    "        self.fc3 = nn.Linear(16, 16)\n",
    "        self.fc4 = nn.Linear(16, 1)\n",
    "        self.dropout = nn.Dropout(p=0.2)\n",
    "\n",
    "    def forward(self, x):\n",
    "        x = self.dropout(F.relu(self.fc1(x)))\n",
    "        x = self.dropout(F.relu(self.fc2(x)))\n",
    "        x = self.dropout(F.relu(self.fc3(x)))\n",
    "        # x = F.relu(self.fc1(x))\n",
    "        # x = F.relu(self.fc2(x))\n",
    "        # x = F.relu(self.fc3(x))\n",
    "        x = self.fc4(x)\n",
    "        return x"
   ]
  },
  {
   "cell_type": "code",
   "execution_count": 102,
   "id": "c5c190f8-3032-4d39-b91b-d9a9dc3ef52e",
   "metadata": {},
   "outputs": [],
   "source": [
    "seeds = list(range(28,29))"
   ]
  },
  {
   "cell_type": "code",
   "execution_count": 104,
   "id": "36236aaf-d2c0-4217-8a4e-9923e631ce45",
   "metadata": {},
   "outputs": [
    {
     "name": "stdout",
     "output_type": "stream",
     "text": [
      "NAIVE => val rmse mean: 0.008535780012607574. val rmse std: 0.014508480206131935. \n"
     ]
    },
    {
     "data": {
      "application/vnd.jupyter.widget-view+json": {
       "model_id": "c8ab8dba601d475ca6128276d01960db",
       "version_major": 2,
       "version_minor": 0
      },
      "text/plain": [
       "0it [00:00, ?it/s]"
      ]
     },
     "metadata": {},
     "output_type": "display_data"
    },
    {
     "name": "stdout",
     "output_type": "stream",
     "text": [
      "val rmse mean: 0.053248655050992966. val rmse std: 0.01862853392958641. \n"
     ]
    },
    {
     "data": {
      "application/vnd.jupyter.widget-view+json": {
       "model_id": "317b17290cd34856b54c9e6d2e0ae2e0",
       "version_major": 2,
       "version_minor": 0
      },
      "text/plain": [
       "0it [00:00, ?it/s]"
      ]
     },
     "metadata": {},
     "output_type": "display_data"
    },
    {
     "name": "stdout",
     "output_type": "stream",
     "text": [
      "val rmse mean: 0.03446868434548378. val rmse std: 0.018479162827134132. \n"
     ]
    },
    {
     "data": {
      "application/vnd.jupyter.widget-view+json": {
       "model_id": "d9ca711685b648c0b96747427ffef882",
       "version_major": 2,
       "version_minor": 0
      },
      "text/plain": [
       "0it [00:00, ?it/s]"
      ]
     },
     "metadata": {},
     "output_type": "display_data"
    },
    {
     "name": "stdout",
     "output_type": "stream",
     "text": [
      "val rmse mean: 0.026576030999422073. val rmse std: 0.01746518164873123. \n"
     ]
    },
    {
     "data": {
      "application/vnd.jupyter.widget-view+json": {
       "model_id": "646f9a8c1b4946e9b9101e907630809e",
       "version_major": 2,
       "version_minor": 0
      },
      "text/plain": [
       "0it [00:00, ?it/s]"
      ]
     },
     "metadata": {},
     "output_type": "display_data"
    },
    {
     "name": "stdout",
     "output_type": "stream",
     "text": [
      "val rmse mean: 0.021758630871772766. val rmse std: 0.016650184988975525. \n"
     ]
    },
    {
     "data": {
      "application/vnd.jupyter.widget-view+json": {
       "model_id": "446cea401dd74915803f9427144fe988",
       "version_major": 2,
       "version_minor": 0
      },
      "text/plain": [
       "0it [00:00, ?it/s]"
      ]
     },
     "metadata": {},
     "output_type": "display_data"
    },
    {
     "name": "stdout",
     "output_type": "stream",
     "text": [
      "val rmse mean: 0.01778220944106579. val rmse std: 0.01604347676038742. \n"
     ]
    },
    {
     "data": {
      "application/vnd.jupyter.widget-view+json": {
       "model_id": "493a7316cab5460e88ff4a61b2972407",
       "version_major": 2,
       "version_minor": 0
      },
      "text/plain": [
       "0it [00:00, ?it/s]"
      ]
     },
     "metadata": {},
     "output_type": "display_data"
    },
    {
     "name": "stdout",
     "output_type": "stream",
     "text": [
      "val rmse mean: 0.01511311624199152. val rmse std: 0.015518717467784882. \n"
     ]
    },
    {
     "data": {
      "application/vnd.jupyter.widget-view+json": {
       "model_id": "105cc22714584a1bab5037bd2781b228",
       "version_major": 2,
       "version_minor": 0
      },
      "text/plain": [
       "0it [00:00, ?it/s]"
      ]
     },
     "metadata": {},
     "output_type": "display_data"
    },
    {
     "name": "stdout",
     "output_type": "stream",
     "text": [
      "val rmse mean: 0.01322112511843443. val rmse std: 0.015136494301259518. \n"
     ]
    },
    {
     "data": {
      "application/vnd.jupyter.widget-view+json": {
       "model_id": "a4b93eba861441d89311a6e4b6add27c",
       "version_major": 2,
       "version_minor": 0
      },
      "text/plain": [
       "0it [00:00, ?it/s]"
      ]
     },
     "metadata": {},
     "output_type": "display_data"
    },
    {
     "name": "stdout",
     "output_type": "stream",
     "text": [
      "val rmse mean: 0.01181953027844429. val rmse std: 0.014849426224827766. \n"
     ]
    },
    {
     "data": {
      "application/vnd.jupyter.widget-view+json": {
       "model_id": "711f06e814d04ebab078467e4febe19e",
       "version_major": 2,
       "version_minor": 0
      },
      "text/plain": [
       "0it [00:00, ?it/s]"
      ]
     },
     "metadata": {},
     "output_type": "display_data"
    },
    {
     "name": "stdout",
     "output_type": "stream",
     "text": [
      "val rmse mean: 0.010817158035933971. val rmse std: 0.014653841033577919. \n"
     ]
    },
    {
     "data": {
      "application/vnd.jupyter.widget-view+json": {
       "model_id": "2ac1ed75cdcb479e92889148cf6de642",
       "version_major": 2,
       "version_minor": 0
      },
      "text/plain": [
       "0it [00:00, ?it/s]"
      ]
     },
     "metadata": {},
     "output_type": "display_data"
    },
    {
     "name": "stdout",
     "output_type": "stream",
     "text": [
      "val rmse mean: 0.010099846869707108. val rmse std: 0.014518245123326778. \n"
     ]
    },
    {
     "data": {
      "application/vnd.jupyter.widget-view+json": {
       "model_id": "452284a4a3b64968b9edfb3c1a5ac685",
       "version_major": 2,
       "version_minor": 0
      },
      "text/plain": [
       "0it [00:00, ?it/s]"
      ]
     },
     "metadata": {},
     "output_type": "display_data"
    },
    {
     "name": "stdout",
     "output_type": "stream",
     "text": [
      "val rmse mean: 0.009736740030348301. val rmse std: 0.01443932019174099. \n"
     ]
    },
    {
     "data": {
      "application/vnd.jupyter.widget-view+json": {
       "model_id": "3f93e5e6e23740108f693cec672e6fe5",
       "version_major": 2,
       "version_minor": 0
      },
      "text/plain": [
       "0it [00:00, ?it/s]"
      ]
     },
     "metadata": {},
     "output_type": "display_data"
    },
    {
     "name": "stdout",
     "output_type": "stream",
     "text": [
      "val rmse mean: 0.009483902715146542. val rmse std: 0.014395052567124367. \n"
     ]
    },
    {
     "data": {
      "application/vnd.jupyter.widget-view+json": {
       "model_id": "fa58fd5fce48490581ae343cb80bc3f1",
       "version_major": 2,
       "version_minor": 0
      },
      "text/plain": [
       "0it [00:00, ?it/s]"
      ]
     },
     "metadata": {},
     "output_type": "display_data"
    },
    {
     "name": "stdout",
     "output_type": "stream",
     "text": [
      "val rmse mean: 0.00931656826287508. val rmse std: 0.014373849146068096. \n"
     ]
    },
    {
     "data": {
      "application/vnd.jupyter.widget-view+json": {
       "model_id": "e101429e1dd749deb4b477630d586627",
       "version_major": 2,
       "version_minor": 0
      },
      "text/plain": [
       "0it [00:00, ?it/s]"
      ]
     },
     "metadata": {},
     "output_type": "display_data"
    },
    {
     "name": "stdout",
     "output_type": "stream",
     "text": [
      "val rmse mean: 0.0091790072619915. val rmse std: 0.014349356293678284. \n"
     ]
    },
    {
     "data": {
      "application/vnd.jupyter.widget-view+json": {
       "model_id": "f210f9921a2c46eeb7600f7ef28cecf0",
       "version_major": 2,
       "version_minor": 0
      },
      "text/plain": [
       "0it [00:00, ?it/s]"
      ]
     },
     "metadata": {},
     "output_type": "display_data"
    },
    {
     "name": "stdout",
     "output_type": "stream",
     "text": [
      "val rmse mean: 0.009127233177423477. val rmse std: 0.014329020865261555. \n"
     ]
    },
    {
     "data": {
      "application/vnd.jupyter.widget-view+json": {
       "model_id": "62461120dcdd454ea6a606ac4b45db91",
       "version_major": 2,
       "version_minor": 0
      },
      "text/plain": [
       "0it [00:00, ?it/s]"
      ]
     },
     "metadata": {},
     "output_type": "display_data"
    },
    {
     "name": "stdout",
     "output_type": "stream",
     "text": [
      "val rmse mean: 0.009155458770692348. val rmse std: 0.014308045618236065. \n"
     ]
    },
    {
     "data": {
      "application/vnd.jupyter.widget-view+json": {
       "model_id": "d5d8fd7e17d848799de1a002ca666295",
       "version_major": 2,
       "version_minor": 0
      },
      "text/plain": [
       "0it [00:00, ?it/s]"
      ]
     },
     "metadata": {},
     "output_type": "display_data"
    },
    {
     "name": "stdout",
     "output_type": "stream",
     "text": [
      "val rmse mean: 0.0091425571590662. val rmse std: 0.014312978833913803. \n"
     ]
    },
    {
     "data": {
      "application/vnd.jupyter.widget-view+json": {
       "model_id": "f5166dbb1e4a434c970083f16852ab12",
       "version_major": 2,
       "version_minor": 0
      },
      "text/plain": [
       "0it [00:00, ?it/s]"
      ]
     },
     "metadata": {},
     "output_type": "display_data"
    },
    {
     "name": "stdout",
     "output_type": "stream",
     "text": [
      "val rmse mean: 0.009153601713478565. val rmse std: 0.014315394684672356. \n"
     ]
    },
    {
     "data": {
      "application/vnd.jupyter.widget-view+json": {
       "model_id": "f601d3a0334448f9b222d3781433529e",
       "version_major": 2,
       "version_minor": 0
      },
      "text/plain": [
       "0it [00:00, ?it/s]"
      ]
     },
     "metadata": {},
     "output_type": "display_data"
    },
    {
     "name": "stdout",
     "output_type": "stream",
     "text": [
      "val rmse mean: 0.009240361861884594. val rmse std: 0.014291337691247463. \n"
     ]
    },
    {
     "data": {
      "application/vnd.jupyter.widget-view+json": {
       "model_id": "5c60be404b2f4820a7840131e32656d3",
       "version_major": 2,
       "version_minor": 0
      },
      "text/plain": [
       "0it [00:00, ?it/s]"
      ]
     },
     "metadata": {},
     "output_type": "display_data"
    },
    {
     "name": "stdout",
     "output_type": "stream",
     "text": [
      "val rmse mean: 0.009268047288060188. val rmse std: 0.014279736205935478. \n"
     ]
    },
    {
     "data": {
      "application/vnd.jupyter.widget-view+json": {
       "model_id": "17e2cde0acae499583a7d10a63c1e872",
       "version_major": 2,
       "version_minor": 0
      },
      "text/plain": [
       "0it [00:00, ?it/s]"
      ]
     },
     "metadata": {},
     "output_type": "display_data"
    },
    {
     "name": "stdout",
     "output_type": "stream",
     "text": [
      "val rmse mean: 0.009441403672099113. val rmse std: 0.014238881878554821. \n"
     ]
    },
    {
     "data": {
      "application/vnd.jupyter.widget-view+json": {
       "model_id": "f0e787dd81c340e98789954a6b724527",
       "version_major": 2,
       "version_minor": 0
      },
      "text/plain": [
       "0it [00:00, ?it/s]"
      ]
     },
     "metadata": {},
     "output_type": "display_data"
    },
    {
     "name": "stdout",
     "output_type": "stream",
     "text": [
      "val rmse mean: 0.009517624042928219. val rmse std: 0.01421527098864317. \n"
     ]
    },
    {
     "data": {
      "application/vnd.jupyter.widget-view+json": {
       "model_id": "79ad79a26622427fb9ff660eb3a1cd51",
       "version_major": 2,
       "version_minor": 0
      },
      "text/plain": [
       "0it [00:00, ?it/s]"
      ]
     },
     "metadata": {},
     "output_type": "display_data"
    },
    {
     "name": "stdout",
     "output_type": "stream",
     "text": [
      "val rmse mean: 0.00960766151547432. val rmse std: 0.014197386801242828. \n"
     ]
    },
    {
     "data": {
      "application/vnd.jupyter.widget-view+json": {
       "model_id": "3a4d2ff6be8640cea67b8cbd65f74e8f",
       "version_major": 2,
       "version_minor": 0
      },
      "text/plain": [
       "0it [00:00, ?it/s]"
      ]
     },
     "metadata": {},
     "output_type": "display_data"
    },
    {
     "name": "stdout",
     "output_type": "stream",
     "text": [
      "val rmse mean: 0.009561855345964432. val rmse std: 0.01419763918966055. \n"
     ]
    },
    {
     "data": {
      "application/vnd.jupyter.widget-view+json": {
       "model_id": "b9c09581833a4373aaf25723c4a34833",
       "version_major": 2,
       "version_minor": 0
      },
      "text/plain": [
       "0it [00:00, ?it/s]"
      ]
     },
     "metadata": {},
     "output_type": "display_data"
    },
    {
     "name": "stdout",
     "output_type": "stream",
     "text": [
      "val rmse mean: 0.0093982620164752. val rmse std: 0.014225848019123077. \n"
     ]
    },
    {
     "data": {
      "application/vnd.jupyter.widget-view+json": {
       "model_id": "4d54ef532e1a407187495cca5cd7558e",
       "version_major": 2,
       "version_minor": 0
      },
      "text/plain": [
       "0it [00:00, ?it/s]"
      ]
     },
     "metadata": {},
     "output_type": "display_data"
    },
    {
     "name": "stdout",
     "output_type": "stream",
     "text": [
      "val rmse mean: 0.00921424850821495. val rmse std: 0.014258680865168571. \n"
     ]
    },
    {
     "data": {
      "application/vnd.jupyter.widget-view+json": {
       "model_id": "0176ecbb4dc6490f9ea15a1b02b19f94",
       "version_major": 2,
       "version_minor": 0
      },
      "text/plain": [
       "0it [00:00, ?it/s]"
      ]
     },
     "metadata": {},
     "output_type": "display_data"
    },
    {
     "name": "stdout",
     "output_type": "stream",
     "text": [
      "val rmse mean: 0.009106021374464035. val rmse std: 0.014284132048487663. \n"
     ]
    },
    {
     "data": {
      "application/vnd.jupyter.widget-view+json": {
       "model_id": "b4f8ecfe03f64a74800d4cc080cf475e",
       "version_major": 2,
       "version_minor": 0
      },
      "text/plain": [
       "0it [00:00, ?it/s]"
      ]
     },
     "metadata": {},
     "output_type": "display_data"
    },
    {
     "name": "stdout",
     "output_type": "stream",
     "text": [
      "val rmse mean: 0.008928085677325726. val rmse std: 0.014340038411319256. \n"
     ]
    },
    {
     "data": {
      "application/vnd.jupyter.widget-view+json": {
       "model_id": "ea58cd4e7965443fa132a0f330eab998",
       "version_major": 2,
       "version_minor": 0
      },
      "text/plain": [
       "0it [00:00, ?it/s]"
      ]
     },
     "metadata": {},
     "output_type": "display_data"
    },
    {
     "name": "stdout",
     "output_type": "stream",
     "text": [
      "val rmse mean: 0.008798114955425262. val rmse std: 0.014386742375791073. \n"
     ]
    },
    {
     "data": {
      "application/vnd.jupyter.widget-view+json": {
       "model_id": "d7260bc590934ec8a9aa93b35dfbb5db",
       "version_major": 2,
       "version_minor": 0
      },
      "text/plain": [
       "0it [00:00, ?it/s]"
      ]
     },
     "metadata": {},
     "output_type": "display_data"
    },
    {
     "name": "stdout",
     "output_type": "stream",
     "text": [
      "val rmse mean: 0.008723321370780468. val rmse std: 0.014425215311348438. \n"
     ]
    },
    {
     "data": {
      "application/vnd.jupyter.widget-view+json": {
       "model_id": "376b218388364e0e86d6758f98f4f713",
       "version_major": 2,
       "version_minor": 0
      },
      "text/plain": [
       "0it [00:00, ?it/s]"
      ]
     },
     "metadata": {},
     "output_type": "display_data"
    },
    {
     "name": "stdout",
     "output_type": "stream",
     "text": [
      "val rmse mean: 0.008670124225318432. val rmse std: 0.014455046504735947. \n"
     ]
    },
    {
     "data": {
      "application/vnd.jupyter.widget-view+json": {
       "model_id": "7d2e888be88544838491e51017d103b3",
       "version_major": 2,
       "version_minor": 0
      },
      "text/plain": [
       "0it [00:00, ?it/s]"
      ]
     },
     "metadata": {},
     "output_type": "display_data"
    },
    {
     "name": "stdout",
     "output_type": "stream",
     "text": [
      "val rmse mean: 0.008647467009723186. val rmse std: 0.014467785134911537. \n"
     ]
    },
    {
     "data": {
      "application/vnd.jupyter.widget-view+json": {
       "model_id": "2fe5323a660048c9a059cea802e24f3d",
       "version_major": 2,
       "version_minor": 0
      },
      "text/plain": [
       "0it [00:00, ?it/s]"
      ]
     },
     "metadata": {},
     "output_type": "display_data"
    },
    {
     "name": "stdout",
     "output_type": "stream",
     "text": [
      "val rmse mean: 0.008633219636976719. val rmse std: 0.014482025057077408. \n"
     ]
    },
    {
     "data": {
      "application/vnd.jupyter.widget-view+json": {
       "model_id": "4ab8193e4b484b4aac8530df9adf1d56",
       "version_major": 2,
       "version_minor": 0
      },
      "text/plain": [
       "0it [00:00, ?it/s]"
      ]
     },
     "metadata": {},
     "output_type": "display_data"
    },
    {
     "name": "stdout",
     "output_type": "stream",
     "text": [
      "val rmse mean: 0.008614783175289631. val rmse std: 0.014498405158519745. \n"
     ]
    },
    {
     "data": {
      "application/vnd.jupyter.widget-view+json": {
       "model_id": "3cc88c408b5e43ee82436388157e410a",
       "version_major": 2,
       "version_minor": 0
      },
      "text/plain": [
       "0it [00:00, ?it/s]"
      ]
     },
     "metadata": {},
     "output_type": "display_data"
    },
    {
     "name": "stdout",
     "output_type": "stream",
     "text": [
      "val rmse mean: 0.008605952374637127. val rmse std: 0.014498847536742687. \n"
     ]
    },
    {
     "data": {
      "application/vnd.jupyter.widget-view+json": {
       "model_id": "198bbbafdc5f48018ba3da126fb83257",
       "version_major": 2,
       "version_minor": 0
      },
      "text/plain": [
       "0it [00:00, ?it/s]"
      ]
     },
     "metadata": {},
     "output_type": "display_data"
    },
    {
     "name": "stdout",
     "output_type": "stream",
     "text": [
      "val rmse mean: 0.008568880148231983. val rmse std: 0.014533914625644684. \n"
     ]
    },
    {
     "data": {
      "application/vnd.jupyter.widget-view+json": {
       "model_id": "1e9ea79ce6844a4889481e5f0383be96",
       "version_major": 2,
       "version_minor": 0
      },
      "text/plain": [
       "0it [00:00, ?it/s]"
      ]
     },
     "metadata": {},
     "output_type": "display_data"
    },
    {
     "name": "stdout",
     "output_type": "stream",
     "text": [
      "val rmse mean: 0.008558662608265877. val rmse std: 0.014539981260895729. \n"
     ]
    },
    {
     "data": {
      "application/vnd.jupyter.widget-view+json": {
       "model_id": "e01070e9d6184434b8b6bd5c5549d01d",
       "version_major": 2,
       "version_minor": 0
      },
      "text/plain": [
       "0it [00:00, ?it/s]"
      ]
     },
     "metadata": {},
     "output_type": "display_data"
    },
    {
     "name": "stdout",
     "output_type": "stream",
     "text": [
      "val rmse mean: 0.008538375608623028. val rmse std: 0.014561127871274948. \n"
     ]
    },
    {
     "data": {
      "application/vnd.jupyter.widget-view+json": {
       "model_id": "a648b5afbae14bbfbdd6ec7247029c00",
       "version_major": 2,
       "version_minor": 0
      },
      "text/plain": [
       "0it [00:00, ?it/s]"
      ]
     },
     "metadata": {},
     "output_type": "display_data"
    },
    {
     "name": "stdout",
     "output_type": "stream",
     "text": [
      "val rmse mean: 0.008535762317478657. val rmse std: 0.014564698562026024. \n",
      "Model saved.\n"
     ]
    },
    {
     "data": {
      "application/vnd.jupyter.widget-view+json": {
       "model_id": "f129280d75b840ccb631f1a02dbbda17",
       "version_major": 2,
       "version_minor": 0
      },
      "text/plain": [
       "0it [00:00, ?it/s]"
      ]
     },
     "metadata": {},
     "output_type": "display_data"
    },
    {
     "name": "stdout",
     "output_type": "stream",
     "text": [
      "val rmse mean: 0.008531698025763035. val rmse std: 0.01455222349613905. \n",
      "Model saved.\n"
     ]
    },
    {
     "data": {
      "application/vnd.jupyter.widget-view+json": {
       "model_id": "317c8347545b40cba0e06c5d8b04c749",
       "version_major": 2,
       "version_minor": 0
      },
      "text/plain": [
       "0it [00:00, ?it/s]"
      ]
     },
     "metadata": {},
     "output_type": "display_data"
    },
    {
     "name": "stdout",
     "output_type": "stream",
     "text": [
      "val rmse mean: 0.00852867029607296. val rmse std: 0.014547344297170639. \n",
      "Model saved.\n"
     ]
    },
    {
     "data": {
      "application/vnd.jupyter.widget-view+json": {
       "model_id": "070cfa309b704ef0a80830b2cb6cdc1a",
       "version_major": 2,
       "version_minor": 0
      },
      "text/plain": [
       "0it [00:00, ?it/s]"
      ]
     },
     "metadata": {},
     "output_type": "display_data"
    },
    {
     "name": "stdout",
     "output_type": "stream",
     "text": [
      "val rmse mean: 0.008527911268174648. val rmse std: 0.014541564509272575. \n",
      "Model saved.\n"
     ]
    },
    {
     "data": {
      "application/vnd.jupyter.widget-view+json": {
       "model_id": "ba0269d3c66a466b90edbf46225e3efa",
       "version_major": 2,
       "version_minor": 0
      },
      "text/plain": [
       "0it [00:00, ?it/s]"
      ]
     },
     "metadata": {},
     "output_type": "display_data"
    },
    {
     "name": "stdout",
     "output_type": "stream",
     "text": [
      "val rmse mean: 0.00852096639573574. val rmse std: 0.014547079801559448. \n",
      "Model saved.\n"
     ]
    },
    {
     "data": {
      "application/vnd.jupyter.widget-view+json": {
       "model_id": "b4eb284b38374e729231c48d860017f5",
       "version_major": 2,
       "version_minor": 0
      },
      "text/plain": [
       "0it [00:00, ?it/s]"
      ]
     },
     "metadata": {},
     "output_type": "display_data"
    },
    {
     "name": "stdout",
     "output_type": "stream",
     "text": [
      "val rmse mean: 0.008515718393027782. val rmse std: 0.014554991386830807. \n",
      "Model saved.\n"
     ]
    },
    {
     "data": {
      "application/vnd.jupyter.widget-view+json": {
       "model_id": "534fcba386a34e44972fd0db036efdfe",
       "version_major": 2,
       "version_minor": 0
      },
      "text/plain": [
       "0it [00:00, ?it/s]"
      ]
     },
     "metadata": {},
     "output_type": "display_data"
    },
    {
     "name": "stdout",
     "output_type": "stream",
     "text": [
      "val rmse mean: 0.008515074849128723. val rmse std: 0.01455232035368681. \n",
      "Model saved.\n"
     ]
    },
    {
     "data": {
      "application/vnd.jupyter.widget-view+json": {
       "model_id": "b7a60c46a9d0427fbe2df9edbe9a0492",
       "version_major": 2,
       "version_minor": 0
      },
      "text/plain": [
       "0it [00:00, ?it/s]"
      ]
     },
     "metadata": {},
     "output_type": "display_data"
    },
    {
     "name": "stdout",
     "output_type": "stream",
     "text": [
      "val rmse mean: 0.008515872992575169. val rmse std: 0.014547617174685001. \n",
      "Model saved.\n"
     ]
    },
    {
     "data": {
      "application/vnd.jupyter.widget-view+json": {
       "model_id": "af64bd28f098408983bdd093d479a7bf",
       "version_major": 2,
       "version_minor": 0
      },
      "text/plain": [
       "0it [00:00, ?it/s]"
      ]
     },
     "metadata": {},
     "output_type": "display_data"
    },
    {
     "name": "stdout",
     "output_type": "stream",
     "text": [
      "val rmse mean: 0.008512119762599468. val rmse std: 0.014551674947142601. \n",
      "Model saved.\n"
     ]
    },
    {
     "data": {
      "application/vnd.jupyter.widget-view+json": {
       "model_id": "e93c55fe58cd4dc1b7350a3a511da738",
       "version_major": 2,
       "version_minor": 0
      },
      "text/plain": [
       "0it [00:00, ?it/s]"
      ]
     },
     "metadata": {},
     "output_type": "display_data"
    },
    {
     "name": "stdout",
     "output_type": "stream",
     "text": [
      "val rmse mean: 0.008519752882421017. val rmse std: 0.01453530602157116. \n",
      "Model saved.\n"
     ]
    },
    {
     "data": {
      "application/vnd.jupyter.widget-view+json": {
       "model_id": "14c5221815414c2cb743d8042faad00b",
       "version_major": 2,
       "version_minor": 0
      },
      "text/plain": [
       "0it [00:00, ?it/s]"
      ]
     },
     "metadata": {},
     "output_type": "display_data"
    },
    {
     "name": "stdout",
     "output_type": "stream",
     "text": [
      "val rmse mean: 0.00852025393396616. val rmse std: 0.014532726258039474. \n",
      "Model saved.\n"
     ]
    },
    {
     "data": {
      "application/vnd.jupyter.widget-view+json": {
       "model_id": "031b0eee8af54b72b7a2a22dd2d72ce4",
       "version_major": 2,
       "version_minor": 0
      },
      "text/plain": [
       "0it [00:00, ?it/s]"
      ]
     },
     "metadata": {},
     "output_type": "display_data"
    },
    {
     "name": "stdout",
     "output_type": "stream",
     "text": [
      "val rmse mean: 0.008517736569046974. val rmse std: 0.014535892754793167. \n",
      "Model saved.\n",
      "Finished Training\n",
      "=== Training rmse ===\n",
      "val rmse mean: 0.0077027748338878155. val rmse std: 0.013786581344902515. \n",
      "=== Val rmse ===\n",
      "val rmse mean: 0.008517737500369549. val rmse std: 0.014535892754793167. \n",
      "=== ===\n"
     ]
    }
   ],
   "source": [
    "MODEL_TYPE = 'pitch_delta'\n",
    "EPOCHS = 50\n",
    "model = MLP_pdelta()\n",
    "naive_rmses = naive_evaluate(model=model, train_loader=train_dataloader_pdelta, val_loader=val_dataloader_pdelta, device=device)\n",
    "naive_rmse_mean = naive_rmses.mean().item()\n",
    "loss_history = []\n",
    "for seed in seeds:\n",
    "    model = MLP_pdelta()\n",
    "    criterion = nn.MSELoss()\n",
    "    optimizer = optim.Adam(model.parameters(), lr=1e-5)\n",
    "    model = model.to(device)\n",
    "    criterion = criterion.to(device)\n",
    "\n",
    "    \n",
    "    for epoch in range(EPOCHS):  # loop over the dataset multiple times\n",
    "        model.train()\n",
    "        for idx, data in tqdm(enumerate(train_dataloader_pdelta)):\n",
    "            # get the inputs; data is a list of [inputs, labels]\n",
    "            X_train, y_train, infos = data\n",
    "            (uid, vid, embedding_video_start_time, embedding_seq_nohistory_idx, pitch_mean, pitch_std, energy_mean, energy_std) = infos\n",
    "            \n",
    "            X_train = X_train.to(device)\n",
    "            y_train = y_train.to(device)\n",
    "\n",
    "            pred_train = model(X_train)\n",
    "            loss = criterion(pred_train.reshape(-1), y_train)\n",
    "            loss.backward()\n",
    "            optimizer.step()\n",
    "            optimizer.zero_grad()\n",
    "            \n",
    "            loss_history.append(loss.detach().cpu().item())\n",
    "        \n",
    "        _ = evaluate(model=model, val_loader=val_dataloader_pdelta, device=device, naive_rmse=naive_rmse_mean, model_type=MODEL_TYPE)\n",
    "        model.train()\n",
    "    \n",
    "    \n",
    "    print('Finished Training')\n",
    "    print('=== Training rmse ===')\n",
    "    _ = evaluate(model=model, val_loader=train_dataloader_pdelta, device=device)\n",
    "    print('=== Val rmse ===')\n",
    "    _ = evaluate(model=model, val_loader=val_dataloader_pdelta, device=device)\n",
    "    print('=== ===')"
   ]
  },
  {
   "cell_type": "code",
   "execution_count": 105,
   "id": "b8c0cf9b-1433-4e46-b3ce-a7458eab114e",
   "metadata": {},
   "outputs": [
    {
     "data": {
      "text/plain": [
       "[<matplotlib.lines.Line2D at 0x1dfce9bb450>]"
      ]
     },
     "execution_count": 105,
     "metadata": {},
     "output_type": "execute_result"
    },
    {
     "data": {
      "image/png": "[encoded data removed]",
      "text/plain": [
       "<Figure size 640x480 with 1 Axes>"
      ]
     },
     "metadata": {},
     "output_type": "display_data"
    }
   ],
   "source": [
    "plt.plot(loss_history)"
   ]
  },
  {
   "cell_type": "code",
   "execution_count": 107,
   "id": "dbcb7680-f24c-41b8-92f4-01f950d3c951",
   "metadata": {},
   "outputs": [
    {
     "name": "stdout",
     "output_type": "stream",
     "text": [
      "Averaging 10 models.\n"
     ]
    },
    {
     "data": {
      "text/plain": [
       "<All keys matched successfully>"
      ]
     },
     "execution_count": 107,
     "metadata": {},
     "output_type": "execute_result"
    }
   ],
   "source": [
    "model_paths = glob.glob(\"./jupyter_walkthrough/side_exp/pitch_delta/*.pth\")\n",
    "model_list = []\n",
    "for model_path in model_paths:\n",
    "    # Define your model here, e.g., model = YourModelClass()\n",
    "    model = MLP_pdelta()\n",
    "    model.load_state_dict(torch.load(model_path))\n",
    "    model_list.append(model)\n",
    "num_models = len(model_list)\n",
    "print(f\"Averaging {num_models} models.\")\n",
    "averaged_state_dict = None\n",
    "\n",
    "for model in model_list:\n",
    "    if averaged_state_dict is None:\n",
    "        averaged_state_dict = model.state_dict()\n",
    "    else:\n",
    "        for key, value in model.state_dict().items():\n",
    "            averaged_state_dict[key] += value\n",
    "for key in averaged_state_dict.keys():\n",
    "    averaged_state_dict[key] /= num_models\n",
    "\n",
    "averaged_model = MLP_pdelta()\n",
    "averaged_model.load_state_dict(averaged_state_dict)"
   ]
  },
  {
   "cell_type": "code",
   "execution_count": 108,
   "id": "366dfb01-8f9b-4ba1-94d3-fcae84c3abcc",
   "metadata": {},
   "outputs": [
    {
     "name": "stdout",
     "output_type": "stream",
     "text": [
      "val rmse mean: 0.008517920039594173. val rmse std: 0.014549287967383862. \n",
      "Model saved.\n"
     ]
    }
   ],
   "source": [
    "_ = evaluate(model=averaged_model, val_loader=val_dataloader_pdelta, device=device, naive_rmse=naive_rmse_mean, model_type=MODEL_TYPE)"
   ]
  },
  {
   "cell_type": "code",
   "execution_count": null,
   "id": "a8141074-dd08-48cc-bd15-b9a455075a83",
   "metadata": {},
   "outputs": [],
   "source": []
  },
  {
   "cell_type": "code",
   "execution_count": null,
   "id": "9b97a6a1-289e-4334-a1df-dc61efde5235",
   "metadata": {},
   "outputs": [],
   "source": []
  },
  {
   "cell_type": "code",
   "execution_count": null,
   "id": "db466dd4-4f5b-4b8d-a917-c060a166f212",
   "metadata": {},
   "outputs": [],
   "source": []
  },
  {
   "cell_type": "code",
   "execution_count": null,
   "id": "84f7c5aa-d099-42ee-9ffc-2f11072b23c0",
   "metadata": {},
   "outputs": [],
   "source": []
  },
  {
   "cell_type": "code",
   "execution_count": null,
   "id": "0ab370ca-5a22-47ac-b192-8f3e4d67946e",
   "metadata": {},
   "outputs": [],
   "source": []
  },
  {
   "cell_type": "code",
   "execution_count": null,
   "id": "fae231b2-ab51-4c4c-834b-a57cae83ab70",
   "metadata": {},
   "outputs": [],
   "source": []
  },
  {
   "cell_type": "code",
   "execution_count": null,
   "id": "2c38f63c-ed12-4510-b554-ad20b7be2280",
   "metadata": {},
   "outputs": [],
   "source": []
  },
  {
   "cell_type": "code",
   "execution_count": null,
   "id": "5ef4b3b7-46d9-453e-824f-f6fef9fb9091",
   "metadata": {},
   "outputs": [],
   "source": []
  },
  {
   "cell_type": "markdown",
   "id": "95a8c524-d52d-4357-b57b-a0bda94a3a36",
   "metadata": {},
   "source": [
    "## e"
   ]
  },
  {
   "cell_type": "code",
   "execution_count": 81,
   "id": "235bd06e-1c87-4e85-b05b-a8e8ca5ea728",
   "metadata": {},
   "outputs": [],
   "source": [
    "# _ = naive_evaluate(model=model, train_loader=train_dataloader_p, val_loader=val_dataloader_p, device=device)"
   ]
  },
  {
   "cell_type": "code",
   "execution_count": 109,
   "id": "b3f65474-a57e-4f56-9d88-55dcbeec85a0",
   "metadata": {},
   "outputs": [],
   "source": [
    "class MLP_e(nn.Module):\n",
    "    def __init__(self):\n",
    "        super().__init__()\n",
    "        self.fc1 = nn.Linear(1536, 16)\n",
    "        self.fc2 = nn.Linear(16, 16)\n",
    "        self.fc3 = nn.Linear(16, 16)\n",
    "        self.fc4 = nn.Linear(16, 1)\n",
    "        self.dropout = nn.Dropout(p=0.2)\n",
    "\n",
    "    def forward(self, x):\n",
    "        x = self.dropout(F.relu(self.fc1(x)))\n",
    "        x = self.dropout(F.relu(self.fc2(x)))\n",
    "        # x = self.dropout(F.relu(self.fc3(x)))\n",
    "        # x = F.relu(self.fc1(x))\n",
    "        # x = F.relu(self.fc2(x))\n",
    "        # x = F.relu(self.fc3(x))\n",
    "        x = self.fc4(x)\n",
    "        return x"
   ]
  },
  {
   "cell_type": "code",
   "execution_count": 110,
   "id": "ad9321d8-2c56-449d-ae74-74e26ddb0f43",
   "metadata": {},
   "outputs": [],
   "source": [
    "seeds = list(range(2))"
   ]
  },
  {
   "cell_type": "code",
   "execution_count": 111,
   "id": "b7b502e2-af7f-43ba-a0fe-18467a5776d5",
   "metadata": {
    "scrolled": true
   },
   "outputs": [
    {
     "name": "stdout",
     "output_type": "stream",
     "text": [
      "NAIVE => val rmse mean: 0.5291358232498169. val rmse std: 0.3805970251560211. \n"
     ]
    },
    {
     "data": {
      "application/vnd.jupyter.widget-view+json": {
       "model_id": "4cd4af15b5bf48b98a623e1944730d25",
       "version_major": 2,
       "version_minor": 0
      },
      "text/plain": [
       "0it [00:00, ?it/s]"
      ]
     },
     "metadata": {},
     "output_type": "display_data"
    },
    {
     "name": "stdout",
     "output_type": "stream",
     "text": [
      "val rmse mean: 0.5194976925849915. val rmse std: 0.3945014774799347. \n",
      "Model saved.\n"
     ]
    },
    {
     "data": {
      "application/vnd.jupyter.widget-view+json": {
       "model_id": "d80c76b347934d409cb3258e2e9927a3",
       "version_major": 2,
       "version_minor": 0
      },
      "text/plain": [
       "0it [00:00, ?it/s]"
      ]
     },
     "metadata": {},
     "output_type": "display_data"
    },
    {
     "name": "stdout",
     "output_type": "stream",
     "text": [
      "val rmse mean: 0.5201336145401001. val rmse std: 0.3920230269432068. \n",
      "Model saved.\n"
     ]
    },
    {
     "data": {
      "application/vnd.jupyter.widget-view+json": {
       "model_id": "afec62f0fc2e402a807b44afec540b6e",
       "version_major": 2,
       "version_minor": 0
      },
      "text/plain": [
       "0it [00:00, ?it/s]"
      ]
     },
     "metadata": {},
     "output_type": "display_data"
    },
    {
     "name": "stdout",
     "output_type": "stream",
     "text": [
      "val rmse mean: 0.5206642150878906. val rmse std: 0.390571653842926. \n",
      "Model saved.\n"
     ]
    },
    {
     "data": {
      "application/vnd.jupyter.widget-view+json": {
       "model_id": "a2ea1668e6dc4affb9b7f5a310f376f7",
       "version_major": 2,
       "version_minor": 0
      },
      "text/plain": [
       "0it [00:00, ?it/s]"
      ]
     },
     "metadata": {},
     "output_type": "display_data"
    },
    {
     "name": "stdout",
     "output_type": "stream",
     "text": [
      "val rmse mean: 0.521408200263977. val rmse std: 0.3891133964061737. \n",
      "Model saved.\n"
     ]
    },
    {
     "data": {
      "application/vnd.jupyter.widget-view+json": {
       "model_id": "8b69d98fcc634a9ba4e0287c66458ed4",
       "version_major": 2,
       "version_minor": 0
      },
      "text/plain": [
       "0it [00:00, ?it/s]"
      ]
     },
     "metadata": {},
     "output_type": "display_data"
    },
    {
     "name": "stdout",
     "output_type": "stream",
     "text": [
      "val rmse mean: 0.5226356983184814. val rmse std: 0.38752928376197815. \n",
      "Model saved.\n"
     ]
    },
    {
     "data": {
      "application/vnd.jupyter.widget-view+json": {
       "model_id": "3072510eccf74a43a21a2bdbc8ede4ff",
       "version_major": 2,
       "version_minor": 0
      },
      "text/plain": [
       "0it [00:00, ?it/s]"
      ]
     },
     "metadata": {},
     "output_type": "display_data"
    },
    {
     "name": "stdout",
     "output_type": "stream",
     "text": [
      "val rmse mean: 0.5240622162818909. val rmse std: 0.3864971101284027. \n",
      "Model saved.\n"
     ]
    },
    {
     "data": {
      "application/vnd.jupyter.widget-view+json": {
       "model_id": "260551a431b34a3e8643aa8072ba0b8b",
       "version_major": 2,
       "version_minor": 0
      },
      "text/plain": [
       "0it [00:00, ?it/s]"
      ]
     },
     "metadata": {},
     "output_type": "display_data"
    },
    {
     "name": "stdout",
     "output_type": "stream",
     "text": [
      "val rmse mean: 0.5255010724067688. val rmse std: 0.38596245646476746. \n",
      "Model saved.\n"
     ]
    },
    {
     "data": {
      "application/vnd.jupyter.widget-view+json": {
       "model_id": "9a2bb4a3470d4d60ae507471bf699119",
       "version_major": 2,
       "version_minor": 0
      },
      "text/plain": [
       "0it [00:00, ?it/s]"
      ]
     },
     "metadata": {},
     "output_type": "display_data"
    },
    {
     "name": "stdout",
     "output_type": "stream",
     "text": [
      "val rmse mean: 0.5268648862838745. val rmse std: 0.38569343090057373. \n",
      "Model saved.\n"
     ]
    },
    {
     "data": {
      "application/vnd.jupyter.widget-view+json": {
       "model_id": "f8f88955f25742a7ad285627ee1ea111",
       "version_major": 2,
       "version_minor": 0
      },
      "text/plain": [
       "0it [00:00, ?it/s]"
      ]
     },
     "metadata": {},
     "output_type": "display_data"
    },
    {
     "name": "stdout",
     "output_type": "stream",
     "text": [
      "val rmse mean: 0.5286331176757812. val rmse std: 0.3854512572288513. \n",
      "Model saved.\n"
     ]
    },
    {
     "data": {
      "application/vnd.jupyter.widget-view+json": {
       "model_id": "46153d566def4ab2800d448898ffe50c",
       "version_major": 2,
       "version_minor": 0
      },
      "text/plain": [
       "0it [00:00, ?it/s]"
      ]
     },
     "metadata": {},
     "output_type": "display_data"
    },
    {
     "name": "stdout",
     "output_type": "stream",
     "text": [
      "val rmse mean: 0.5297707915306091. val rmse std: 0.3857104778289795. \n"
     ]
    },
    {
     "data": {
      "application/vnd.jupyter.widget-view+json": {
       "model_id": "e2ca30febebf401a9c2a0e734b246e29",
       "version_major": 2,
       "version_minor": 0
      },
      "text/plain": [
       "0it [00:00, ?it/s]"
      ]
     },
     "metadata": {},
     "output_type": "display_data"
    },
    {
     "name": "stdout",
     "output_type": "stream",
     "text": [
      "val rmse mean: 0.5315256118774414. val rmse std: 0.38566625118255615. \n"
     ]
    },
    {
     "data": {
      "application/vnd.jupyter.widget-view+json": {
       "model_id": "3d43abaa7857478b80f22afcc5a62344",
       "version_major": 2,
       "version_minor": 0
      },
      "text/plain": [
       "0it [00:00, ?it/s]"
      ]
     },
     "metadata": {},
     "output_type": "display_data"
    },
    {
     "name": "stdout",
     "output_type": "stream",
     "text": [
      "val rmse mean: 0.5331465005874634. val rmse std: 0.3857944905757904. \n"
     ]
    },
    {
     "data": {
      "application/vnd.jupyter.widget-view+json": {
       "model_id": "068d53148f1f45da937624b3c9969f77",
       "version_major": 2,
       "version_minor": 0
      },
      "text/plain": [
       "0it [00:00, ?it/s]"
      ]
     },
     "metadata": {},
     "output_type": "display_data"
    },
    {
     "name": "stdout",
     "output_type": "stream",
     "text": [
      "val rmse mean: 0.5344161987304688. val rmse std: 0.3862289488315582. \n"
     ]
    },
    {
     "data": {
      "application/vnd.jupyter.widget-view+json": {
       "model_id": "5ef92b2abdaf46c7b820c1d7f443866b",
       "version_major": 2,
       "version_minor": 0
      },
      "text/plain": [
       "0it [00:00, ?it/s]"
      ]
     },
     "metadata": {},
     "output_type": "display_data"
    },
    {
     "name": "stdout",
     "output_type": "stream",
     "text": [
      "val rmse mean: 0.536135733127594. val rmse std: 0.3864206075668335. \n"
     ]
    },
    {
     "data": {
      "application/vnd.jupyter.widget-view+json": {
       "model_id": "083b0b230ccf48df8fa34fd6e104b5c0",
       "version_major": 2,
       "version_minor": 0
      },
      "text/plain": [
       "0it [00:00, ?it/s]"
      ]
     },
     "metadata": {},
     "output_type": "display_data"
    },
    {
     "name": "stdout",
     "output_type": "stream",
     "text": [
      "val rmse mean: 0.5376089811325073. val rmse std: 0.38678643107414246. \n"
     ]
    },
    {
     "data": {
      "application/vnd.jupyter.widget-view+json": {
       "model_id": "e6e744b2fd2c42489e0e7d92d3aaaf75",
       "version_major": 2,
       "version_minor": 0
      },
      "text/plain": [
       "0it [00:00, ?it/s]"
      ]
     },
     "metadata": {},
     "output_type": "display_data"
    },
    {
     "name": "stdout",
     "output_type": "stream",
     "text": [
      "val rmse mean: 0.5392725467681885. val rmse std: 0.38719645142555237. \n"
     ]
    },
    {
     "data": {
      "application/vnd.jupyter.widget-view+json": {
       "model_id": "c2d6b9dfda8d44d09118c4fcfc181110",
       "version_major": 2,
       "version_minor": 0
      },
      "text/plain": [
       "0it [00:00, ?it/s]"
      ]
     },
     "metadata": {},
     "output_type": "display_data"
    },
    {
     "name": "stdout",
     "output_type": "stream",
     "text": [
      "val rmse mean: 0.5410584211349487. val rmse std: 0.3876977562904358. \n"
     ]
    },
    {
     "data": {
      "application/vnd.jupyter.widget-view+json": {
       "model_id": "16e4e91cd1644d40a356b8a4e23b0d55",
       "version_major": 2,
       "version_minor": 0
      },
      "text/plain": [
       "0it [00:00, ?it/s]"
      ]
     },
     "metadata": {},
     "output_type": "display_data"
    },
    {
     "name": "stdout",
     "output_type": "stream",
     "text": [
      "val rmse mean: 0.5424869656562805. val rmse std: 0.3880341351032257. \n"
     ]
    },
    {
     "data": {
      "application/vnd.jupyter.widget-view+json": {
       "model_id": "eddde133f864402bbe9c56ae9471d0c1",
       "version_major": 2,
       "version_minor": 0
      },
      "text/plain": [
       "0it [00:00, ?it/s]"
      ]
     },
     "metadata": {},
     "output_type": "display_data"
    },
    {
     "name": "stdout",
     "output_type": "stream",
     "text": [
      "val rmse mean: 0.5435993671417236. val rmse std: 0.38868895173072815. \n"
     ]
    },
    {
     "data": {
      "application/vnd.jupyter.widget-view+json": {
       "model_id": "6dd9cb8c4f2541e79aa03f0466bc4580",
       "version_major": 2,
       "version_minor": 0
      },
      "text/plain": [
       "0it [00:00, ?it/s]"
      ]
     },
     "metadata": {},
     "output_type": "display_data"
    },
    {
     "name": "stdout",
     "output_type": "stream",
     "text": [
      "val rmse mean: 0.5451869368553162. val rmse std: 0.3891323208808899. \n"
     ]
    },
    {
     "data": {
      "application/vnd.jupyter.widget-view+json": {
       "model_id": "67c007d81f134b9aa25c4071c1f31d77",
       "version_major": 2,
       "version_minor": 0
      },
      "text/plain": [
       "0it [00:00, ?it/s]"
      ]
     },
     "metadata": {},
     "output_type": "display_data"
    },
    {
     "name": "stdout",
     "output_type": "stream",
     "text": [
      "val rmse mean: 0.5460221171379089. val rmse std: 0.38952121138572693. \n"
     ]
    },
    {
     "data": {
      "application/vnd.jupyter.widget-view+json": {
       "model_id": "e8d5eba10d974fddbc307381ed083678",
       "version_major": 2,
       "version_minor": 0
      },
      "text/plain": [
       "0it [00:00, ?it/s]"
      ]
     },
     "metadata": {},
     "output_type": "display_data"
    },
    {
     "name": "stdout",
     "output_type": "stream",
     "text": [
      "val rmse mean: 0.5478612184524536. val rmse std: 0.39014866948127747. \n"
     ]
    },
    {
     "data": {
      "application/vnd.jupyter.widget-view+json": {
       "model_id": "bca7d36a829e424c98fb34c154b30c9a",
       "version_major": 2,
       "version_minor": 0
      },
      "text/plain": [
       "0it [00:00, ?it/s]"
      ]
     },
     "metadata": {},
     "output_type": "display_data"
    },
    {
     "name": "stdout",
     "output_type": "stream",
     "text": [
      "val rmse mean: 0.5488604307174683. val rmse std: 0.3908068537712097. \n"
     ]
    },
    {
     "data": {
      "application/vnd.jupyter.widget-view+json": {
       "model_id": "fe7a32fa44494e49847262418a9245e8",
       "version_major": 2,
       "version_minor": 0
      },
      "text/plain": [
       "0it [00:00, ?it/s]"
      ]
     },
     "metadata": {},
     "output_type": "display_data"
    },
    {
     "name": "stdout",
     "output_type": "stream",
     "text": [
      "val rmse mean: 0.5497373342514038. val rmse std: 0.3911246359348297. \n"
     ]
    },
    {
     "data": {
      "application/vnd.jupyter.widget-view+json": {
       "model_id": "7c3fd79e04f64d009f0943a64b431474",
       "version_major": 2,
       "version_minor": 0
      },
      "text/plain": [
       "0it [00:00, ?it/s]"
      ]
     },
     "metadata": {},
     "output_type": "display_data"
    },
    {
     "name": "stdout",
     "output_type": "stream",
     "text": [
      "val rmse mean: 0.5500270128250122. val rmse std: 0.3914053738117218. \n"
     ]
    },
    {
     "data": {
      "application/vnd.jupyter.widget-view+json": {
       "model_id": "79dd0f2eca424f0e93f00e7ee3ed519e",
       "version_major": 2,
       "version_minor": 0
      },
      "text/plain": [
       "0it [00:00, ?it/s]"
      ]
     },
     "metadata": {},
     "output_type": "display_data"
    },
    {
     "name": "stdout",
     "output_type": "stream",
     "text": [
      "val rmse mean: 0.5510737299919128. val rmse std: 0.3919285535812378. \n"
     ]
    },
    {
     "data": {
      "application/vnd.jupyter.widget-view+json": {
       "model_id": "1f700edd328a410cbbbd902fe7bae3b3",
       "version_major": 2,
       "version_minor": 0
      },
      "text/plain": [
       "0it [00:00, ?it/s]"
      ]
     },
     "metadata": {},
     "output_type": "display_data"
    },
    {
     "name": "stdout",
     "output_type": "stream",
     "text": [
      "val rmse mean: 0.5516652464866638. val rmse std: 0.39227426052093506. \n"
     ]
    },
    {
     "data": {
      "application/vnd.jupyter.widget-view+json": {
       "model_id": "ba59537a073d43cfabc7bfdbb3288bc0",
       "version_major": 2,
       "version_minor": 0
      },
      "text/plain": [
       "0it [00:00, ?it/s]"
      ]
     },
     "metadata": {},
     "output_type": "display_data"
    },
    {
     "name": "stdout",
     "output_type": "stream",
     "text": [
      "val rmse mean: 0.55307537317276. val rmse std: 0.3925805389881134. \n"
     ]
    },
    {
     "data": {
      "application/vnd.jupyter.widget-view+json": {
       "model_id": "5687bf116df740159c23b5b10e9efd18",
       "version_major": 2,
       "version_minor": 0
      },
      "text/plain": [
       "0it [00:00, ?it/s]"
      ]
     },
     "metadata": {},
     "output_type": "display_data"
    },
    {
     "name": "stdout",
     "output_type": "stream",
     "text": [
      "val rmse mean: 0.5530973076820374. val rmse std: 0.3925904333591461. \n"
     ]
    },
    {
     "data": {
      "application/vnd.jupyter.widget-view+json": {
       "model_id": "d28017dff2134f0d8b902a16cc920bd0",
       "version_major": 2,
       "version_minor": 0
      },
      "text/plain": [
       "0it [00:00, ?it/s]"
      ]
     },
     "metadata": {},
     "output_type": "display_data"
    },
    {
     "name": "stdout",
     "output_type": "stream",
     "text": [
      "val rmse mean: 0.5527597665786743. val rmse std: 0.3926008641719818. \n"
     ]
    },
    {
     "data": {
      "application/vnd.jupyter.widget-view+json": {
       "model_id": "7772f604dfb342a385b316a9cb22a86d",
       "version_major": 2,
       "version_minor": 0
      },
      "text/plain": [
       "0it [00:00, ?it/s]"
      ]
     },
     "metadata": {},
     "output_type": "display_data"
    },
    {
     "name": "stdout",
     "output_type": "stream",
     "text": [
      "val rmse mean: 0.552855908870697. val rmse std: 0.3929540514945984. \n"
     ]
    },
    {
     "data": {
      "application/vnd.jupyter.widget-view+json": {
       "model_id": "96fe0c2663ae49228dc59106c67e1b8b",
       "version_major": 2,
       "version_minor": 0
      },
      "text/plain": [
       "0it [00:00, ?it/s]"
      ]
     },
     "metadata": {},
     "output_type": "display_data"
    },
    {
     "name": "stdout",
     "output_type": "stream",
     "text": [
      "val rmse mean: 0.5538576245307922. val rmse std: 0.39319342374801636. \n"
     ]
    },
    {
     "data": {
      "application/vnd.jupyter.widget-view+json": {
       "model_id": "10cf600f284e45d0857aa086a69f92dd",
       "version_major": 2,
       "version_minor": 0
      },
      "text/plain": [
       "0it [00:00, ?it/s]"
      ]
     },
     "metadata": {},
     "output_type": "display_data"
    },
    {
     "name": "stdout",
     "output_type": "stream",
     "text": [
      "val rmse mean: 0.5543299317359924. val rmse std: 0.3935126066207886. \n"
     ]
    },
    {
     "data": {
      "application/vnd.jupyter.widget-view+json": {
       "model_id": "311d12bed06842a79906b36a0407e404",
       "version_major": 2,
       "version_minor": 0
      },
      "text/plain": [
       "0it [00:00, ?it/s]"
      ]
     },
     "metadata": {},
     "output_type": "display_data"
    },
    {
     "name": "stdout",
     "output_type": "stream",
     "text": [
      "val rmse mean: 0.5548483729362488. val rmse std: 0.3937431573867798. \n"
     ]
    },
    {
     "data": {
      "application/vnd.jupyter.widget-view+json": {
       "model_id": "fcaea62f313e4a6299b53bb5f93f70f0",
       "version_major": 2,
       "version_minor": 0
      },
      "text/plain": [
       "0it [00:00, ?it/s]"
      ]
     },
     "metadata": {},
     "output_type": "display_data"
    },
    {
     "name": "stdout",
     "output_type": "stream",
     "text": [
      "val rmse mean: 0.554195761680603. val rmse std: 0.3936186730861664. \n"
     ]
    },
    {
     "data": {
      "application/vnd.jupyter.widget-view+json": {
       "model_id": "ec7ac1ff089743f0aaf6316e968aca75",
       "version_major": 2,
       "version_minor": 0
      },
      "text/plain": [
       "0it [00:00, ?it/s]"
      ]
     },
     "metadata": {},
     "output_type": "display_data"
    },
    {
     "name": "stdout",
     "output_type": "stream",
     "text": [
      "val rmse mean: 0.5551567673683167. val rmse std: 0.3937543034553528. \n"
     ]
    },
    {
     "data": {
      "application/vnd.jupyter.widget-view+json": {
       "model_id": "68f474ce019f4c629dafb5b94138be4b",
       "version_major": 2,
       "version_minor": 0
      },
      "text/plain": [
       "0it [00:00, ?it/s]"
      ]
     },
     "metadata": {},
     "output_type": "display_data"
    },
    {
     "name": "stdout",
     "output_type": "stream",
     "text": [
      "val rmse mean: 0.5550714731216431. val rmse std: 0.39374226331710815. \n"
     ]
    },
    {
     "data": {
      "application/vnd.jupyter.widget-view+json": {
       "model_id": "ba62ce8e91394561a80237d398abadbf",
       "version_major": 2,
       "version_minor": 0
      },
      "text/plain": [
       "0it [00:00, ?it/s]"
      ]
     },
     "metadata": {},
     "output_type": "display_data"
    },
    {
     "name": "stdout",
     "output_type": "stream",
     "text": [
      "val rmse mean: 0.5554090738296509. val rmse std: 0.39403608441352844. \n"
     ]
    },
    {
     "data": {
      "application/vnd.jupyter.widget-view+json": {
       "model_id": "d59ca6947ebf494f8816ebfe4249a4d9",
       "version_major": 2,
       "version_minor": 0
      },
      "text/plain": [
       "0it [00:00, ?it/s]"
      ]
     },
     "metadata": {},
     "output_type": "display_data"
    },
    {
     "name": "stdout",
     "output_type": "stream",
     "text": [
      "val rmse mean: 0.5553905963897705. val rmse std: 0.39408090710639954. \n"
     ]
    },
    {
     "data": {
      "application/vnd.jupyter.widget-view+json": {
       "model_id": "81723ec8ffd5470b889950feeeb658cf",
       "version_major": 2,
       "version_minor": 0
      },
      "text/plain": [
       "0it [00:00, ?it/s]"
      ]
     },
     "metadata": {},
     "output_type": "display_data"
    },
    {
     "name": "stdout",
     "output_type": "stream",
     "text": [
      "val rmse mean: 0.5565324425697327. val rmse std: 0.3945046067237854. \n"
     ]
    },
    {
     "data": {
      "application/vnd.jupyter.widget-view+json": {
       "model_id": "06e8140305974442a032c2afc8dcdbb3",
       "version_major": 2,
       "version_minor": 0
      },
      "text/plain": [
       "0it [00:00, ?it/s]"
      ]
     },
     "metadata": {},
     "output_type": "display_data"
    },
    {
     "name": "stdout",
     "output_type": "stream",
     "text": [
      "val rmse mean: 0.5564165711402893. val rmse std: 0.39445874094963074. \n"
     ]
    },
    {
     "data": {
      "application/vnd.jupyter.widget-view+json": {
       "model_id": "a5b0c7331a3b495aa73d48dfe46e4652",
       "version_major": 2,
       "version_minor": 0
      },
      "text/plain": [
       "0it [00:00, ?it/s]"
      ]
     },
     "metadata": {},
     "output_type": "display_data"
    },
    {
     "name": "stdout",
     "output_type": "stream",
     "text": [
      "val rmse mean: 0.5553655028343201. val rmse std: 0.39386606216430664. \n"
     ]
    },
    {
     "data": {
      "application/vnd.jupyter.widget-view+json": {
       "model_id": "3ffc80c1f79544e9a29091b5ee76ee08",
       "version_major": 2,
       "version_minor": 0
      },
      "text/plain": [
       "0it [00:00, ?it/s]"
      ]
     },
     "metadata": {},
     "output_type": "display_data"
    },
    {
     "name": "stdout",
     "output_type": "stream",
     "text": [
      "val rmse mean: 0.5558800101280212. val rmse std: 0.39437440037727356. \n"
     ]
    },
    {
     "data": {
      "application/vnd.jupyter.widget-view+json": {
       "model_id": "fb23ac5635fe4864b6001430cd285976",
       "version_major": 2,
       "version_minor": 0
      },
      "text/plain": [
       "0it [00:00, ?it/s]"
      ]
     },
     "metadata": {},
     "output_type": "display_data"
    },
    {
     "name": "stdout",
     "output_type": "stream",
     "text": [
      "val rmse mean: 0.5565569400787354. val rmse std: 0.394449383020401. \n"
     ]
    },
    {
     "data": {
      "application/vnd.jupyter.widget-view+json": {
       "model_id": "b0ef76adc5744da7bbff055c7c8ac7bc",
       "version_major": 2,
       "version_minor": 0
      },
      "text/plain": [
       "0it [00:00, ?it/s]"
      ]
     },
     "metadata": {},
     "output_type": "display_data"
    },
    {
     "name": "stdout",
     "output_type": "stream",
     "text": [
      "val rmse mean: 0.5561264157295227. val rmse std: 0.39437857270240784. \n"
     ]
    },
    {
     "data": {
      "application/vnd.jupyter.widget-view+json": {
       "model_id": "395e8d218a524261bc7427620ca533f3",
       "version_major": 2,
       "version_minor": 0
      },
      "text/plain": [
       "0it [00:00, ?it/s]"
      ]
     },
     "metadata": {},
     "output_type": "display_data"
    },
    {
     "name": "stdout",
     "output_type": "stream",
     "text": [
      "val rmse mean: 0.5565335750579834. val rmse std: 0.39462515711784363. \n"
     ]
    },
    {
     "data": {
      "application/vnd.jupyter.widget-view+json": {
       "model_id": "1c46647e93a0484d88dbe563efc1a038",
       "version_major": 2,
       "version_minor": 0
      },
      "text/plain": [
       "0it [00:00, ?it/s]"
      ]
     },
     "metadata": {},
     "output_type": "display_data"
    },
    {
     "name": "stdout",
     "output_type": "stream",
     "text": [
      "val rmse mean: 0.5566548705101013. val rmse std: 0.3945847749710083. \n"
     ]
    },
    {
     "data": {
      "application/vnd.jupyter.widget-view+json": {
       "model_id": "07387d7c5c3d439a80000cccb90e22f5",
       "version_major": 2,
       "version_minor": 0
      },
      "text/plain": [
       "0it [00:00, ?it/s]"
      ]
     },
     "metadata": {},
     "output_type": "display_data"
    },
    {
     "name": "stdout",
     "output_type": "stream",
     "text": [
      "val rmse mean: 0.5567983388900757. val rmse std: 0.3947944939136505. \n"
     ]
    },
    {
     "data": {
      "application/vnd.jupyter.widget-view+json": {
       "model_id": "099a450b7239456d97d271c6dacd3da3",
       "version_major": 2,
       "version_minor": 0
      },
      "text/plain": [
       "0it [00:00, ?it/s]"
      ]
     },
     "metadata": {},
     "output_type": "display_data"
    },
    {
     "name": "stdout",
     "output_type": "stream",
     "text": [
      "val rmse mean: 0.5556108355522156. val rmse std: 0.3944973945617676. \n"
     ]
    },
    {
     "data": {
      "application/vnd.jupyter.widget-view+json": {
       "model_id": "147985ace35947f38994a45e16d782a4",
       "version_major": 2,
       "version_minor": 0
      },
      "text/plain": [
       "0it [00:00, ?it/s]"
      ]
     },
     "metadata": {},
     "output_type": "display_data"
    },
    {
     "name": "stdout",
     "output_type": "stream",
     "text": [
      "val rmse mean: 0.5560706257820129. val rmse std: 0.39457759261131287. \n",
      "Finished Training\n",
      "=== Training rmse ===\n",
      "val rmse mean: 0.5042353868484497. val rmse std: 0.40959906578063965. \n",
      "=== Val rmse ===\n",
      "val rmse mean: 0.5560706257820129. val rmse std: 0.39457759261131287. \n",
      "=== ===\n"
     ]
    }
   ],
   "source": [
    "MODEL_TYPE = 'energy'\n",
    "EPOCHS = 50\n",
    "model = MLP_e()\n",
    "naive_rmses = naive_evaluate(model=model, train_loader=train_dataloader_e, val_loader=val_dataloader_e, device=device)\n",
    "naive_rmse_mean = naive_rmses.mean().item()\n",
    "loss_history = []\n",
    "for seed in seeds:\n",
    "    model = MLP_e()\n",
    "    criterion = nn.MSELoss()\n",
    "    optimizer = optim.Adam(model.parameters(), lr=1e-5)\n",
    "    model = model.to(device)\n",
    "    criterion = criterion.to(device)\n",
    "\n",
    "    \n",
    "    for epoch in range(EPOCHS):  # loop over the dataset multiple times\n",
    "        model.train()\n",
    "        for idx, data in tqdm(enumerate(train_dataloader_e)):\n",
    "            # get the inputs; data is a list of [inputs, labels]\n",
    "            X_train, y_train, infos = data\n",
    "            (uid, vid, embedding_video_start_time, embedding_seq_nohistory_idx, pitch_mean, pitch_std, energy_mean, energy_std) = infos\n",
    "            \n",
    "            X_train = X_train.to(device)\n",
    "            y_train = y_train.to(device)\n",
    "\n",
    "            pred_train = model(X_train)\n",
    "            loss = criterion(pred_train.reshape(-1), y_train)\n",
    "            loss.backward()\n",
    "            optimizer.step()\n",
    "            optimizer.zero_grad()\n",
    "            \n",
    "            loss_history.append(loss.detach().cpu().item())\n",
    "        \n",
    "        _ = evaluate(model=model, val_loader=val_dataloader_e, device=device, naive_rmse=naive_rmse_mean, model_type=MODEL_TYPE)\n",
    "        model.train()\n",
    "\n",
    "    print('Finished Training')\n",
    "    print('=== Training rmse ===')\n",
    "    _ = evaluate(model=model, val_loader=train_dataloader_e, device=device)\n",
    "    print('=== Val rmse ===')\n",
    "    _ = evaluate(model=model, val_loader=val_dataloader_e, device=device)\n",
    "    print('=== ===')"
   ]
  },
  {
   "cell_type": "code",
   "execution_count": 116,
   "id": "25fcdfad-89d0-4470-b2ed-929d478dd65f",
   "metadata": {},
   "outputs": [],
   "source": [
    "# plt.plot(loss_history)"
   ]
  },
  {
   "cell_type": "code",
   "execution_count": 117,
   "id": "db03fe7d-0fca-4954-a973-48f709e77f50",
   "metadata": {},
   "outputs": [
    {
     "name": "stdout",
     "output_type": "stream",
     "text": [
      "Averaging 9 models.\n"
     ]
    },
    {
     "data": {
      "text/plain": [
       "<All keys matched successfully>"
      ]
     },
     "execution_count": 117,
     "metadata": {},
     "output_type": "execute_result"
    }
   ],
   "source": [
    "model_paths = glob.glob(\"./jupyter_walkthrough/side_exp/energy/*.pth\")\n",
    "model_list = []\n",
    "for model_path in model_paths:\n",
    "    # Define your model here, e.g., model = YourModelClass()\n",
    "    model = MLP_e()\n",
    "    model.load_state_dict(torch.load(model_path))\n",
    "    model_list.append(model)\n",
    "num_models = len(model_list)\n",
    "print(f\"Averaging {num_models} models.\")\n",
    "averaged_state_dict = None\n",
    "\n",
    "for model in model_list:\n",
    "    if averaged_state_dict is None:\n",
    "        averaged_state_dict = model.state_dict()\n",
    "    else:\n",
    "        for key, value in model.state_dict().items():\n",
    "            averaged_state_dict[key] += value\n",
    "for key in averaged_state_dict.keys():\n",
    "    averaged_state_dict[key] /= num_models\n",
    "\n",
    "averaged_model = MLP_e()\n",
    "averaged_model.load_state_dict(averaged_state_dict)"
   ]
  },
  {
   "cell_type": "code",
   "execution_count": 119,
   "id": "24a65ffd-c0f9-45c2-aad4-2976661b9652",
   "metadata": {},
   "outputs": [
    {
     "name": "stdout",
     "output_type": "stream",
     "text": [
      "val rmse mean: 0.5218973159790039. val rmse std: 0.38842830061912537. \n",
      "Model saved.\n"
     ]
    }
   ],
   "source": [
    "_ = evaluate(model=averaged_model, val_loader=val_dataloader_e, device=device, naive_rmse=0.52913582324, model_type=MODEL_TYPE)"
   ]
  },
  {
   "cell_type": "code",
   "execution_count": null,
   "id": "e058b815-4281-4d49-a3ad-4b1cf0eaf9ee",
   "metadata": {},
   "outputs": [],
   "source": []
  },
  {
   "cell_type": "code",
   "execution_count": null,
   "id": "a557cbcf-1b04-4287-bd8c-6e81fc3c4e35",
   "metadata": {},
   "outputs": [],
   "source": []
  },
  {
   "cell_type": "code",
   "execution_count": null,
   "id": "42242c4f-dec3-4840-a9c7-7cac9c8b9e9b",
   "metadata": {},
   "outputs": [],
   "source": []
  },
  {
   "cell_type": "code",
   "execution_count": null,
   "id": "cf72148c-f837-4c25-a97a-f173b2d4ff17",
   "metadata": {},
   "outputs": [],
   "source": []
  },
  {
   "cell_type": "markdown",
   "id": "20448029-20d6-4427-893c-095e0704d08e",
   "metadata": {},
   "source": [
    "## edelta"
   ]
  },
  {
   "cell_type": "code",
   "execution_count": 81,
   "id": "9935a747-d717-4aad-a824-332f5f8880c6",
   "metadata": {},
   "outputs": [],
   "source": [
    "# _ = naive_evaluate(model=model, train_loader=train_dataloader_p, val_loader=val_dataloader_p, device=device)"
   ]
  },
  {
   "cell_type": "code",
   "execution_count": 112,
   "id": "c2bb5596-684b-4b55-8829-e9bfb49c0af5",
   "metadata": {},
   "outputs": [],
   "source": [
    "class MLP_edelta(nn.Module):\n",
    "    def __init__(self):\n",
    "        super().__init__()\n",
    "        self.fc1 = nn.Linear(1536, 16)\n",
    "        self.fc2 = nn.Linear(16, 16)\n",
    "        self.fc3 = nn.Linear(16, 16)\n",
    "        self.fc4 = nn.Linear(16, 1)\n",
    "        self.dropout = nn.Dropout(p=0.2)\n",
    "\n",
    "    def forward(self, x):\n",
    "        x = self.dropout(F.relu(self.fc1(x)))\n",
    "        x = self.dropout(F.relu(self.fc2(x)))\n",
    "        # x = self.dropout(F.relu(self.fc3(x)))\n",
    "        # x = F.relu(self.fc1(x))\n",
    "        # x = F.relu(self.fc2(x))\n",
    "        # x = F.relu(self.fc3(x))\n",
    "        x = self.fc4(x)\n",
    "        return x"
   ]
  },
  {
   "cell_type": "code",
   "execution_count": 113,
   "id": "81c82b2f-3a71-480f-a46f-22a55a8e1659",
   "metadata": {},
   "outputs": [],
   "source": [
    "seeds = list(range(1))"
   ]
  },
  {
   "cell_type": "code",
   "execution_count": 114,
   "id": "7f1dc209-9c54-4e47-ac0d-cad8c37f0e21",
   "metadata": {
    "scrolled": true
   },
   "outputs": [
    {
     "name": "stdout",
     "output_type": "stream",
     "text": [
      "NAIVE => val rmse mean: 0.015284821391105652. val rmse std: 0.02901187725365162. \n"
     ]
    },
    {
     "data": {
      "application/vnd.jupyter.widget-view+json": {
       "model_id": "9f0e16f794ba4623a0e9486284090270",
       "version_major": 2,
       "version_minor": 0
      },
      "text/plain": [
       "0it [00:00, ?it/s]"
      ]
     },
     "metadata": {},
     "output_type": "display_data"
    },
    {
     "name": "stdout",
     "output_type": "stream",
     "text": [
      "val rmse mean: 0.07411215454339981. val rmse std: 0.03445497900247574. \n"
     ]
    },
    {
     "data": {
      "application/vnd.jupyter.widget-view+json": {
       "model_id": "a8f736bc852e411e9f9a7bec8c2d325a",
       "version_major": 2,
       "version_minor": 0
      },
      "text/plain": [
       "0it [00:00, ?it/s]"
      ]
     },
     "metadata": {},
     "output_type": "display_data"
    },
    {
     "name": "stdout",
     "output_type": "stream",
     "text": [
      "val rmse mean: 0.05652708560228348. val rmse std: 0.033315543085336685. \n"
     ]
    },
    {
     "data": {
      "application/vnd.jupyter.widget-view+json": {
       "model_id": "f02efcfe1318468db3be338c733584d8",
       "version_major": 2,
       "version_minor": 0
      },
      "text/plain": [
       "0it [00:00, ?it/s]"
      ]
     },
     "metadata": {},
     "output_type": "display_data"
    },
    {
     "name": "stdout",
     "output_type": "stream",
     "text": [
      "val rmse mean: 0.04781187325716019. val rmse std: 0.031966354697942734. \n"
     ]
    },
    {
     "data": {
      "application/vnd.jupyter.widget-view+json": {
       "model_id": "476c05d281454dbe9c368a1a107e5d3e",
       "version_major": 2,
       "version_minor": 0
      },
      "text/plain": [
       "0it [00:00, ?it/s]"
      ]
     },
     "metadata": {},
     "output_type": "display_data"
    },
    {
     "name": "stdout",
     "output_type": "stream",
     "text": [
      "val rmse mean: 0.041166406124830246. val rmse std: 0.031073395162820816. \n"
     ]
    },
    {
     "data": {
      "application/vnd.jupyter.widget-view+json": {
       "model_id": "afd275cf386f41aea2eecac683712587",
       "version_major": 2,
       "version_minor": 0
      },
      "text/plain": [
       "0it [00:00, ?it/s]"
      ]
     },
     "metadata": {},
     "output_type": "display_data"
    },
    {
     "name": "stdout",
     "output_type": "stream",
     "text": [
      "val rmse mean: 0.036551784723997116. val rmse std: 0.030343392863869667. \n"
     ]
    },
    {
     "data": {
      "application/vnd.jupyter.widget-view+json": {
       "model_id": "dc055afb2b0249ea8d4b899bc5b3b807",
       "version_major": 2,
       "version_minor": 0
      },
      "text/plain": [
       "0it [00:00, ?it/s]"
      ]
     },
     "metadata": {},
     "output_type": "display_data"
    },
    {
     "name": "stdout",
     "output_type": "stream",
     "text": [
      "val rmse mean: 0.032944269478321075. val rmse std: 0.0298596378415823. \n"
     ]
    },
    {
     "data": {
      "application/vnd.jupyter.widget-view+json": {
       "model_id": "517abb76f9a44da0a41bbce63cbeabb3",
       "version_major": 2,
       "version_minor": 0
      },
      "text/plain": [
       "0it [00:00, ?it/s]"
      ]
     },
     "metadata": {},
     "output_type": "display_data"
    },
    {
     "name": "stdout",
     "output_type": "stream",
     "text": [
      "val rmse mean: 0.03006250411272049. val rmse std: 0.029484450817108154. \n"
     ]
    },
    {
     "data": {
      "application/vnd.jupyter.widget-view+json": {
       "model_id": "23bb06dc8f364e0e874c688a086f3f27",
       "version_major": 2,
       "version_minor": 0
      },
      "text/plain": [
       "0it [00:00, ?it/s]"
      ]
     },
     "metadata": {},
     "output_type": "display_data"
    },
    {
     "name": "stdout",
     "output_type": "stream",
     "text": [
      "val rmse mean: 0.027610821649432182. val rmse std: 0.029171593487262726. \n"
     ]
    },
    {
     "data": {
      "application/vnd.jupyter.widget-view+json": {
       "model_id": "2b16ef9203f24b3e965a26202199c78f",
       "version_major": 2,
       "version_minor": 0
      },
      "text/plain": [
       "0it [00:00, ?it/s]"
      ]
     },
     "metadata": {},
     "output_type": "display_data"
    },
    {
     "name": "stdout",
     "output_type": "stream",
     "text": [
      "val rmse mean: 0.02546079084277153. val rmse std: 0.028973987326025963. \n"
     ]
    },
    {
     "data": {
      "application/vnd.jupyter.widget-view+json": {
       "model_id": "eab720278d5147e392c7675e80a73dec",
       "version_major": 2,
       "version_minor": 0
      },
      "text/plain": [
       "0it [00:00, ?it/s]"
      ]
     },
     "metadata": {},
     "output_type": "display_data"
    },
    {
     "name": "stdout",
     "output_type": "stream",
     "text": [
      "val rmse mean: 0.02451458014547825. val rmse std: 0.028670310974121094. \n"
     ]
    },
    {
     "data": {
      "application/vnd.jupyter.widget-view+json": {
       "model_id": "ad0e3d541f264f2b855bcd8c7c986945",
       "version_major": 2,
       "version_minor": 0
      },
      "text/plain": [
       "0it [00:00, ?it/s]"
      ]
     },
     "metadata": {},
     "output_type": "display_data"
    },
    {
     "name": "stdout",
     "output_type": "stream",
     "text": [
      "val rmse mean: 0.0228787399828434. val rmse std: 0.0286130141466856. \n"
     ]
    },
    {
     "data": {
      "application/vnd.jupyter.widget-view+json": {
       "model_id": "8f7d1d475ff54dbbbdff94550039cd67",
       "version_major": 2,
       "version_minor": 0
      },
      "text/plain": [
       "0it [00:00, ?it/s]"
      ]
     },
     "metadata": {},
     "output_type": "display_data"
    },
    {
     "name": "stdout",
     "output_type": "stream",
     "text": [
      "val rmse mean: 0.021344326436519623. val rmse std: 0.02855297178030014. \n"
     ]
    },
    {
     "data": {
      "application/vnd.jupyter.widget-view+json": {
       "model_id": "1513b63259a3466c8f9a0744d80ee0fa",
       "version_major": 2,
       "version_minor": 0
      },
      "text/plain": [
       "0it [00:00, ?it/s]"
      ]
     },
     "metadata": {},
     "output_type": "display_data"
    },
    {
     "name": "stdout",
     "output_type": "stream",
     "text": [
      "val rmse mean: 0.020925424993038177. val rmse std: 0.028384774923324585. \n"
     ]
    },
    {
     "data": {
      "application/vnd.jupyter.widget-view+json": {
       "model_id": "ab56415a6877406fab19d1608c4bc4c7",
       "version_major": 2,
       "version_minor": 0
      },
      "text/plain": [
       "0it [00:00, ?it/s]"
      ]
     },
     "metadata": {},
     "output_type": "display_data"
    },
    {
     "name": "stdout",
     "output_type": "stream",
     "text": [
      "val rmse mean: 0.019923752173781395. val rmse std: 0.028390472754836082. \n"
     ]
    },
    {
     "data": {
      "application/vnd.jupyter.widget-view+json": {
       "model_id": "4791d3fbb84f400699eb3c493426d80d",
       "version_major": 2,
       "version_minor": 0
      },
      "text/plain": [
       "0it [00:00, ?it/s]"
      ]
     },
     "metadata": {},
     "output_type": "display_data"
    },
    {
     "name": "stdout",
     "output_type": "stream",
     "text": [
      "val rmse mean: 0.019537070766091347. val rmse std: 0.02831622213125229. \n"
     ]
    },
    {
     "data": {
      "application/vnd.jupyter.widget-view+json": {
       "model_id": "993ad326688b431793d2ee107188e936",
       "version_major": 2,
       "version_minor": 0
      },
      "text/plain": [
       "0it [00:00, ?it/s]"
      ]
     },
     "metadata": {},
     "output_type": "display_data"
    },
    {
     "name": "stdout",
     "output_type": "stream",
     "text": [
      "val rmse mean: 0.019010189920663834. val rmse std: 0.028307607397437096. \n"
     ]
    },
    {
     "data": {
      "application/vnd.jupyter.widget-view+json": {
       "model_id": "3284eb00d02d4854bfd2f08ce9075be9",
       "version_major": 2,
       "version_minor": 0
      },
      "text/plain": [
       "0it [00:00, ?it/s]"
      ]
     },
     "metadata": {},
     "output_type": "display_data"
    },
    {
     "name": "stdout",
     "output_type": "stream",
     "text": [
      "val rmse mean: 0.018238628283143044. val rmse std: 0.02839834615588188. \n"
     ]
    },
    {
     "data": {
      "application/vnd.jupyter.widget-view+json": {
       "model_id": "f6f98f191ffe429f90af99e572b3e4e3",
       "version_major": 2,
       "version_minor": 0
      },
      "text/plain": [
       "0it [00:00, ?it/s]"
      ]
     },
     "metadata": {},
     "output_type": "display_data"
    },
    {
     "name": "stdout",
     "output_type": "stream",
     "text": [
      "val rmse mean: 0.01787436567246914. val rmse std: 0.02840328775346279. \n"
     ]
    },
    {
     "data": {
      "application/vnd.jupyter.widget-view+json": {
       "model_id": "fb843055f6e64d1292e3b0358083da0c",
       "version_major": 2,
       "version_minor": 0
      },
      "text/plain": [
       "0it [00:00, ?it/s]"
      ]
     },
     "metadata": {},
     "output_type": "display_data"
    },
    {
     "name": "stdout",
     "output_type": "stream",
     "text": [
      "val rmse mean: 0.017778649926185608. val rmse std: 0.028340188786387444. \n"
     ]
    },
    {
     "data": {
      "application/vnd.jupyter.widget-view+json": {
       "model_id": "76c74603bb05404e842be85822aa3440",
       "version_major": 2,
       "version_minor": 0
      },
      "text/plain": [
       "0it [00:00, ?it/s]"
      ]
     },
     "metadata": {},
     "output_type": "display_data"
    },
    {
     "name": "stdout",
     "output_type": "stream",
     "text": [
      "val rmse mean: 0.01700524054467678. val rmse std: 0.028555093333125114. \n"
     ]
    },
    {
     "data": {
      "application/vnd.jupyter.widget-view+json": {
       "model_id": "ed64a45b3e9f494192976ca59de6b748",
       "version_major": 2,
       "version_minor": 0
      },
      "text/plain": [
       "0it [00:00, ?it/s]"
      ]
     },
     "metadata": {},
     "output_type": "display_data"
    },
    {
     "name": "stdout",
     "output_type": "stream",
     "text": [
      "val rmse mean: 0.01704978197813034. val rmse std: 0.028477678075432777. \n"
     ]
    },
    {
     "data": {
      "application/vnd.jupyter.widget-view+json": {
       "model_id": "ac9a516ce6994681bc0df866b0d3fd6c",
       "version_major": 2,
       "version_minor": 0
      },
      "text/plain": [
       "0it [00:00, ?it/s]"
      ]
     },
     "metadata": {},
     "output_type": "display_data"
    },
    {
     "name": "stdout",
     "output_type": "stream",
     "text": [
      "val rmse mean: 0.016768991947174072. val rmse std: 0.0285412035882473. \n"
     ]
    },
    {
     "data": {
      "application/vnd.jupyter.widget-view+json": {
       "model_id": "c1dc306f0bed4441b077cdadf464e27a",
       "version_major": 2,
       "version_minor": 0
      },
      "text/plain": [
       "0it [00:00, ?it/s]"
      ]
     },
     "metadata": {},
     "output_type": "display_data"
    },
    {
     "name": "stdout",
     "output_type": "stream",
     "text": [
      "val rmse mean: 0.016415182501077652. val rmse std: 0.028678134083747864. \n"
     ]
    },
    {
     "data": {
      "application/vnd.jupyter.widget-view+json": {
       "model_id": "8344a47d390a47c5a9084ae49f83a021",
       "version_major": 2,
       "version_minor": 0
      },
      "text/plain": [
       "0it [00:00, ?it/s]"
      ]
     },
     "metadata": {},
     "output_type": "display_data"
    },
    {
     "name": "stdout",
     "output_type": "stream",
     "text": [
      "val rmse mean: 0.016339747235178947. val rmse std: 0.028673114255070686. \n"
     ]
    },
    {
     "data": {
      "application/vnd.jupyter.widget-view+json": {
       "model_id": "73f9cf0c0e6b4a78aac11fc915cb3a94",
       "version_major": 2,
       "version_minor": 0
      },
      "text/plain": [
       "0it [00:00, ?it/s]"
      ]
     },
     "metadata": {},
     "output_type": "display_data"
    },
    {
     "name": "stdout",
     "output_type": "stream",
     "text": [
      "val rmse mean: 0.016282320022583008. val rmse std: 0.028675492852926254. \n"
     ]
    },
    {
     "data": {
      "application/vnd.jupyter.widget-view+json": {
       "model_id": "d95832da787e4961824c7af5bcbd7cd4",
       "version_major": 2,
       "version_minor": 0
      },
      "text/plain": [
       "0it [00:00, ?it/s]"
      ]
     },
     "metadata": {},
     "output_type": "display_data"
    },
    {
     "name": "stdout",
     "output_type": "stream",
     "text": [
      "val rmse mean: 0.01614159531891346. val rmse std: 0.028739294037222862. \n"
     ]
    },
    {
     "data": {
      "application/vnd.jupyter.widget-view+json": {
       "model_id": "7c81215b922d4a52ba7985c63f5d39e1",
       "version_major": 2,
       "version_minor": 0
      },
      "text/plain": [
       "0it [00:00, ?it/s]"
      ]
     },
     "metadata": {},
     "output_type": "display_data"
    },
    {
     "name": "stdout",
     "output_type": "stream",
     "text": [
      "val rmse mean: 0.016166573390364647. val rmse std: 0.028683900833129883. \n"
     ]
    },
    {
     "data": {
      "application/vnd.jupyter.widget-view+json": {
       "model_id": "a6fca87911ae4261ab9811d1c3befeb6",
       "version_major": 2,
       "version_minor": 0
      },
      "text/plain": [
       "0it [00:00, ?it/s]"
      ]
     },
     "metadata": {},
     "output_type": "display_data"
    },
    {
     "name": "stdout",
     "output_type": "stream",
     "text": [
      "val rmse mean: 0.016053268685936928. val rmse std: 0.028738094493746758. \n"
     ]
    },
    {
     "data": {
      "application/vnd.jupyter.widget-view+json": {
       "model_id": "163f1641d8f54776abab3cfb0f314066",
       "version_major": 2,
       "version_minor": 0
      },
      "text/plain": [
       "0it [00:00, ?it/s]"
      ]
     },
     "metadata": {},
     "output_type": "display_data"
    },
    {
     "name": "stdout",
     "output_type": "stream",
     "text": [
      "val rmse mean: 0.015967875719070435. val rmse std: 0.028797972947359085. \n"
     ]
    },
    {
     "data": {
      "application/vnd.jupyter.widget-view+json": {
       "model_id": "48016eb121ac433390bbfba2b75ffd02",
       "version_major": 2,
       "version_minor": 0
      },
      "text/plain": [
       "0it [00:00, ?it/s]"
      ]
     },
     "metadata": {},
     "output_type": "display_data"
    },
    {
     "name": "stdout",
     "output_type": "stream",
     "text": [
      "val rmse mean: 0.01589750498533249. val rmse std: 0.0288296639919281. \n"
     ]
    },
    {
     "data": {
      "application/vnd.jupyter.widget-view+json": {
       "model_id": "e3eb9f245af84e0baa5c1fc4ad3a0b48",
       "version_major": 2,
       "version_minor": 0
      },
      "text/plain": [
       "0it [00:00, ?it/s]"
      ]
     },
     "metadata": {},
     "output_type": "display_data"
    },
    {
     "name": "stdout",
     "output_type": "stream",
     "text": [
      "val rmse mean: 0.015881024301052094. val rmse std: 0.028868013992905617. \n"
     ]
    },
    {
     "data": {
      "application/vnd.jupyter.widget-view+json": {
       "model_id": "e09f907f77af472bacbbcd0918fc174d",
       "version_major": 2,
       "version_minor": 0
      },
      "text/plain": [
       "0it [00:00, ?it/s]"
      ]
     },
     "metadata": {},
     "output_type": "display_data"
    },
    {
     "name": "stdout",
     "output_type": "stream",
     "text": [
      "val rmse mean: 0.015829438343644142. val rmse std: 0.028858108446002007. \n"
     ]
    },
    {
     "data": {
      "application/vnd.jupyter.widget-view+json": {
       "model_id": "3acd090cb499465e9adb108580cd5cf3",
       "version_major": 2,
       "version_minor": 0
      },
      "text/plain": [
       "0it [00:00, ?it/s]"
      ]
     },
     "metadata": {},
     "output_type": "display_data"
    },
    {
     "name": "stdout",
     "output_type": "stream",
     "text": [
      "val rmse mean: 0.015816019847989082. val rmse std: 0.028822392225265503. \n"
     ]
    },
    {
     "data": {
      "application/vnd.jupyter.widget-view+json": {
       "model_id": "553aba23bea745768266066fe1f0f22b",
       "version_major": 2,
       "version_minor": 0
      },
      "text/plain": [
       "0it [00:00, ?it/s]"
      ]
     },
     "metadata": {},
     "output_type": "display_data"
    },
    {
     "name": "stdout",
     "output_type": "stream",
     "text": [
      "val rmse mean: 0.01577986404299736. val rmse std: 0.028836630284786224. \n"
     ]
    },
    {
     "data": {
      "application/vnd.jupyter.widget-view+json": {
       "model_id": "d7912074480f477598a46dafa00aac59",
       "version_major": 2,
       "version_minor": 0
      },
      "text/plain": [
       "0it [00:00, ?it/s]"
      ]
     },
     "metadata": {},
     "output_type": "display_data"
    },
    {
     "name": "stdout",
     "output_type": "stream",
     "text": [
      "val rmse mean: 0.015733866021037102. val rmse std: 0.02885725349187851. \n"
     ]
    },
    {
     "data": {
      "application/vnd.jupyter.widget-view+json": {
       "model_id": "473d23374d844c3ea9f0ec7aa69f662e",
       "version_major": 2,
       "version_minor": 0
      },
      "text/plain": [
       "0it [00:00, ?it/s]"
      ]
     },
     "metadata": {},
     "output_type": "display_data"
    },
    {
     "name": "stdout",
     "output_type": "stream",
     "text": [
      "val rmse mean: 0.015707435086369514. val rmse std: 0.028910789638757706. \n"
     ]
    },
    {
     "data": {
      "application/vnd.jupyter.widget-view+json": {
       "model_id": "dc38b73d89f94bfb86a88791dd63cade",
       "version_major": 2,
       "version_minor": 0
      },
      "text/plain": [
       "0it [00:00, ?it/s]"
      ]
     },
     "metadata": {},
     "output_type": "display_data"
    },
    {
     "name": "stdout",
     "output_type": "stream",
     "text": [
      "val rmse mean: 0.015678979456424713. val rmse std: 0.02887214906513691. \n"
     ]
    },
    {
     "data": {
      "application/vnd.jupyter.widget-view+json": {
       "model_id": "25238675bda34f38a6b7f35a63326208",
       "version_major": 2,
       "version_minor": 0
      },
      "text/plain": [
       "0it [00:00, ?it/s]"
      ]
     },
     "metadata": {},
     "output_type": "display_data"
    },
    {
     "name": "stdout",
     "output_type": "stream",
     "text": [
      "val rmse mean: 0.015662234276533127. val rmse std: 0.028890395537018776. \n"
     ]
    },
    {
     "data": {
      "application/vnd.jupyter.widget-view+json": {
       "model_id": "9b9ffc92707041c484d66c27eb4bf366",
       "version_major": 2,
       "version_minor": 0
      },
      "text/plain": [
       "0it [00:00, ?it/s]"
      ]
     },
     "metadata": {},
     "output_type": "display_data"
    },
    {
     "name": "stdout",
     "output_type": "stream",
     "text": [
      "val rmse mean: 0.015631956979632378. val rmse std: 0.0289231538772583. \n"
     ]
    },
    {
     "data": {
      "application/vnd.jupyter.widget-view+json": {
       "model_id": "62957483e41c40568db911ebab194d9a",
       "version_major": 2,
       "version_minor": 0
      },
      "text/plain": [
       "0it [00:00, ?it/s]"
      ]
     },
     "metadata": {},
     "output_type": "display_data"
    },
    {
     "name": "stdout",
     "output_type": "stream",
     "text": [
      "val rmse mean: 0.015633152797818184. val rmse std: 0.028914369642734528. \n"
     ]
    },
    {
     "data": {
      "application/vnd.jupyter.widget-view+json": {
       "model_id": "506dfd6547934f59bae91b2374dbca94",
       "version_major": 2,
       "version_minor": 0
      },
      "text/plain": [
       "0it [00:00, ?it/s]"
      ]
     },
     "metadata": {},
     "output_type": "display_data"
    },
    {
     "name": "stdout",
     "output_type": "stream",
     "text": [
      "val rmse mean: 0.015654969960451126. val rmse std: 0.028852373361587524. \n"
     ]
    },
    {
     "data": {
      "application/vnd.jupyter.widget-view+json": {
       "model_id": "a2f17f7492f44f1c9161320cda6c01b9",
       "version_major": 2,
       "version_minor": 0
      },
      "text/plain": [
       "0it [00:00, ?it/s]"
      ]
     },
     "metadata": {},
     "output_type": "display_data"
    },
    {
     "name": "stdout",
     "output_type": "stream",
     "text": [
      "val rmse mean: 0.015615016222000122. val rmse std: 0.02889523282647133. \n"
     ]
    },
    {
     "data": {
      "application/vnd.jupyter.widget-view+json": {
       "model_id": "7749ac1238734385ba5270f5abf75916",
       "version_major": 2,
       "version_minor": 0
      },
      "text/plain": [
       "0it [00:00, ?it/s]"
      ]
     },
     "metadata": {},
     "output_type": "display_data"
    },
    {
     "name": "stdout",
     "output_type": "stream",
     "text": [
      "val rmse mean: 0.01563858427107334. val rmse std: 0.028857259079813957. \n"
     ]
    },
    {
     "data": {
      "application/vnd.jupyter.widget-view+json": {
       "model_id": "0f0e71f21379495fbfda1e1581c66943",
       "version_major": 2,
       "version_minor": 0
      },
      "text/plain": [
       "0it [00:00, ?it/s]"
      ]
     },
     "metadata": {},
     "output_type": "display_data"
    },
    {
     "name": "stdout",
     "output_type": "stream",
     "text": [
      "val rmse mean: 0.015601775608956814. val rmse std: 0.028902573511004448. \n"
     ]
    },
    {
     "data": {
      "application/vnd.jupyter.widget-view+json": {
       "model_id": "abe0db37120447a18848b97cb814cc6a",
       "version_major": 2,
       "version_minor": 0
      },
      "text/plain": [
       "0it [00:00, ?it/s]"
      ]
     },
     "metadata": {},
     "output_type": "display_data"
    },
    {
     "name": "stdout",
     "output_type": "stream",
     "text": [
      "val rmse mean: 0.015593952499330044. val rmse std: 0.02890460006892681. \n"
     ]
    },
    {
     "data": {
      "application/vnd.jupyter.widget-view+json": {
       "model_id": "71cb5716a85a4d108e6b2e0f6f607051",
       "version_major": 2,
       "version_minor": 0
      },
      "text/plain": [
       "0it [00:00, ?it/s]"
      ]
     },
     "metadata": {},
     "output_type": "display_data"
    },
    {
     "name": "stdout",
     "output_type": "stream",
     "text": [
      "val rmse mean: 0.015584489330649376. val rmse std: 0.028898051008582115. \n"
     ]
    },
    {
     "data": {
      "application/vnd.jupyter.widget-view+json": {
       "model_id": "96effd4c348443c7861408c695696c71",
       "version_major": 2,
       "version_minor": 0
      },
      "text/plain": [
       "0it [00:00, ?it/s]"
      ]
     },
     "metadata": {},
     "output_type": "display_data"
    },
    {
     "name": "stdout",
     "output_type": "stream",
     "text": [
      "val rmse mean: 0.015573921613395214. val rmse std: 0.02890571765601635. \n"
     ]
    },
    {
     "data": {
      "application/vnd.jupyter.widget-view+json": {
       "model_id": "e8f8107a9f104ce3bf892313b675adf2",
       "version_major": 2,
       "version_minor": 0
      },
      "text/plain": [
       "0it [00:00, ?it/s]"
      ]
     },
     "metadata": {},
     "output_type": "display_data"
    },
    {
     "name": "stdout",
     "output_type": "stream",
     "text": [
      "val rmse mean: 0.015573037788271904. val rmse std: 0.02890709973871708. \n"
     ]
    },
    {
     "data": {
      "application/vnd.jupyter.widget-view+json": {
       "model_id": "1f07392047424533ab9790f65211d4ac",
       "version_major": 2,
       "version_minor": 0
      },
      "text/plain": [
       "0it [00:00, ?it/s]"
      ]
     },
     "metadata": {},
     "output_type": "display_data"
    },
    {
     "name": "stdout",
     "output_type": "stream",
     "text": [
      "val rmse mean: 0.015605268068611622. val rmse std: 0.028865709900856018. \n"
     ]
    },
    {
     "data": {
      "application/vnd.jupyter.widget-view+json": {
       "model_id": "b3faaee1e8ac4b419d4e7a28fcdc077f",
       "version_major": 2,
       "version_minor": 0
      },
      "text/plain": [
       "0it [00:00, ?it/s]"
      ]
     },
     "metadata": {},
     "output_type": "display_data"
    },
    {
     "name": "stdout",
     "output_type": "stream",
     "text": [
      "val rmse mean: 0.015577738173305988. val rmse std: 0.02891426533460617. \n",
      "Finished Training\n",
      "=== Training rmse ===\n",
      "val rmse mean: 0.015145083889365196. val rmse std: 0.0269567109644413. \n",
      "=== Val rmse ===\n",
      "val rmse mean: 0.015577740035951138. val rmse std: 0.02891426533460617. \n",
      "=== ===\n"
     ]
    }
   ],
   "source": [
    "MODEL_TYPE = 'energy_delta'\n",
    "EPOCHS = 50\n",
    "model = MLP_edelta()\n",
    "naive_rmses = naive_evaluate(model=model, train_loader=train_dataloader_edelta, val_loader=val_dataloader_edelta, device=device)\n",
    "naive_rmse_mean = naive_rmses.mean().item()\n",
    "loss_history = []\n",
    "for seed in seeds:\n",
    "    model = MLP_edelta()\n",
    "    criterion = nn.MSELoss()\n",
    "    optimizer = optim.Adam(model.parameters(), lr=1e-5)\n",
    "    model = model.to(device)\n",
    "    criterion = criterion.to(device)\n",
    "\n",
    "    \n",
    "    for epoch in range(EPOCHS):  # loop over the dataset multiple times\n",
    "        model.train()\n",
    "        for idx, data in tqdm(enumerate(train_dataloader_edelta)):\n",
    "            # get the inputs; data is a list of [inputs, labels]\n",
    "            X_train, y_train, infos = data\n",
    "            (uid, vid, embedding_video_start_time, embedding_seq_nohistory_idx, pitch_mean, pitch_std, energy_mean, energy_std) = infos\n",
    "            \n",
    "            X_train = X_train.to(device)\n",
    "            y_train = y_train.to(device)\n",
    "\n",
    "            pred_train = model(X_train)\n",
    "            loss = criterion(pred_train.reshape(-1), y_train)\n",
    "            loss.backward()\n",
    "            optimizer.step()\n",
    "            optimizer.zero_grad()\n",
    "            \n",
    "            loss_history.append(loss.detach().cpu().item())\n",
    "        \n",
    "        _ = evaluate(model=model, val_loader=val_dataloader_edelta, device=device, naive_rmse=naive_rmse_mean, model_type=MODEL_TYPE)\n",
    "        model.train()\n",
    "\n",
    "    print('Finished Training')\n",
    "    print('=== Training rmse ===')\n",
    "    _ = evaluate(model=model, val_loader=train_dataloader_edelta, device=device)\n",
    "    print('=== Val rmse ===')\n",
    "    _ = evaluate(model=model, val_loader=val_dataloader_edelta, device=device)\n",
    "    print('=== ===')"
   ]
  },
  {
   "cell_type": "code",
   "execution_count": 97,
   "id": "b57906d8-ac14-4689-8d89-4f95abc03b6c",
   "metadata": {},
   "outputs": [
    {
     "data": {
      "text/plain": [
       "[<matplotlib.lines.Line2D at 0x1e010a5dc90>]"
      ]
     },
     "execution_count": 97,
     "metadata": {},
     "output_type": "execute_result"
    },
    {
     "data": {
      "image/png": "[encoded data removed]",
      "text/plain": [
       "<Figure size 640x480 with 1 Axes>"
      ]
     },
     "metadata": {},
     "output_type": "display_data"
    }
   ],
   "source": [
    "plt.plot(loss_history)"
   ]
  },
  {
   "cell_type": "code",
   "execution_count": 39,
   "id": "873aed99-48f3-4b6c-bd28-75c42dc6f4d3",
   "metadata": {},
   "outputs": [
    {
     "name": "stdout",
     "output_type": "stream",
     "text": [
      "Averaging 4 models.\n"
     ]
    },
    {
     "data": {
      "text/plain": [
       "<All keys matched successfully>"
      ]
     },
     "execution_count": 39,
     "metadata": {},
     "output_type": "execute_result"
    }
   ],
   "source": [
    "model_paths = glob.glob(\"./jupyter_walkthrough/side_exp/energy_delta/*.pth\")\n",
    "model_list = []\n",
    "for model_path in model_paths:\n",
    "    # Define your model here, e.g., model = YourModelClass()\n",
    "    model = MLP_edelta()\n",
    "    model.load_state_dict(torch.load(model_path))\n",
    "    model_list.append(model)\n",
    "num_models = len(model_list)\n",
    "print(f\"Averaging {num_models} models.\")\n",
    "averaged_state_dict = None\n",
    "\n",
    "for model in model_list:\n",
    "    if averaged_state_dict is None:\n",
    "        averaged_state_dict = model.state_dict()\n",
    "    else:\n",
    "        for key, value in model.state_dict().items():\n",
    "            averaged_state_dict[key] += value\n",
    "for key in averaged_state_dict.keys():\n",
    "    averaged_state_dict[key] /= num_models\n",
    "\n",
    "averaged_model = MLP_edelta()\n",
    "averaged_model.load_state_dict(averaged_state_dict)"
   ]
  },
  {
   "cell_type": "code",
   "execution_count": 40,
   "id": "6a14ffac-088d-4330-8b99-98ce8406eca1",
   "metadata": {},
   "outputs": [
    {
     "name": "stdout",
     "output_type": "stream",
     "text": [
      "val rmse mean: 0.7279636263847351. val rmse std: 0.6472634673118591. \n",
      "Model saved.\n"
     ]
    }
   ],
   "source": [
    "_ = evaluate(model=averaged_model, val_loader=val_dataloader_edelta, device=device, naive_rmse=naive_rmse_mean, model_type=MODEL_TYPE)"
   ]
  },
  {
   "cell_type": "code",
   "execution_count": null,
   "id": "acafe3fe-3c60-4562-ad43-1cb1ba947759",
   "metadata": {},
   "outputs": [],
   "source": []
  },
  {
   "cell_type": "code",
   "execution_count": null,
   "id": "6da24fd0-91cc-48fd-843a-7ded3aad8980",
   "metadata": {},
   "outputs": [],
   "source": []
  },
  {
   "cell_type": "code",
   "execution_count": 123,
   "id": "cb32c6f1-2131-4992-9dbd-9c13cb1cc0b2",
   "metadata": {},
   "outputs": [],
   "source": [
    "train_dataset_e = ReversePredictionDataset(\n",
    "    df_path='./jupyter_walkthrough/side_exp/video_to_prosody_v6_train.csv', \n",
    "    target_col='avg_energy'\n",
    ")"
   ]
  },
  {
   "cell_type": "code",
   "execution_count": 124,
   "id": "d78f2e05-007f-4fb7-a2d7-876e301f1cdd",
   "metadata": {},
   "outputs": [],
   "source": [
    "train_dataloader_e = DataLoader(train_dataset_e, batch_size=256, shuffle=True)"
   ]
  },
  {
   "cell_type": "code",
   "execution_count": 125,
   "id": "73b075be-9b16-4c21-9b9e-78d6edaf23f1",
   "metadata": {},
   "outputs": [],
   "source": [
    "val_dataset_e = ReversePredictionDataset(\n",
    "    df_path='./jupyter_walkthrough/side_exp/video_to_prosody_v6_val.csv', \n",
    "    target_col='avg_energy'\n",
    ")"
   ]
  },
  {
   "cell_type": "code",
   "execution_count": 126,
   "id": "efb992f2-ec5a-448b-b12c-39b2c476b7a4",
   "metadata": {},
   "outputs": [],
   "source": [
    "val_dataloader_e = DataLoader(val_dataset_e, batch_size=64, shuffle=True)"
   ]
  },
  {
   "cell_type": "code",
   "execution_count": 164,
   "id": "49d2ba71-a251-4570-bc30-75ee059d7269",
   "metadata": {},
   "outputs": [],
   "source": [
    "model = MLP()\n",
    "criterion = nn.MSELoss()\n",
    "optimizer = optim.Adam(model.parameters(), lr=3e-4)\n",
    "model = model.to(device)\n",
    "criterion = criterion.to(device)"
   ]
  },
  {
   "cell_type": "code",
   "execution_count": 165,
   "id": "d70996fb-b82d-4b0d-8e52-788e59771180",
   "metadata": {},
   "outputs": [
    {
     "data": {
      "application/vnd.jupyter.widget-view+json": {
       "model_id": "aa332b2eb17042188cee42def48cdcbd",
       "version_major": 2,
       "version_minor": 0
      },
      "text/plain": [
       "0it [00:00, ?it/s]"
      ]
     },
     "metadata": {},
     "output_type": "display_data"
    },
    {
     "data": {
      "application/vnd.jupyter.widget-view+json": {
       "model_id": "71f93c3fce8e482a94290bc22efe0802",
       "version_major": 2,
       "version_minor": 0
      },
      "text/plain": [
       "0it [00:00, ?it/s]"
      ]
     },
     "metadata": {},
     "output_type": "display_data"
    },
    {
     "name": "stdout",
     "output_type": "stream",
     "text": [
      "NAIVE => val mse mean: 0.42482367157936096. val mse std: 0.6387670040130615. \n"
     ]
    }
   ],
   "source": [
    "_ = naive_evaluate(model=model, train_loader=train_dataloader_e, val_loader=val_dataloader_e, device=device)"
   ]
  },
  {
   "cell_type": "code",
   "execution_count": 166,
   "id": "48181d37-2e3f-4ef2-b8c8-78dda348c9d7",
   "metadata": {},
   "outputs": [],
   "source": [
    "EPOCHS = 20"
   ]
  },
  {
   "cell_type": "code",
   "execution_count": 167,
   "id": "08b27efc-bea1-485b-9067-9088297b6c50",
   "metadata": {},
   "outputs": [
    {
     "data": {
      "application/vnd.jupyter.widget-view+json": {
       "model_id": "81fc2a044c6d4c1c886b347edede99c0",
       "version_major": 2,
       "version_minor": 0
      },
      "text/plain": [
       "0it [00:00, ?it/s]"
      ]
     },
     "metadata": {},
     "output_type": "display_data"
    },
    {
     "data": {
      "application/vnd.jupyter.widget-view+json": {
       "model_id": "06d94408e4e64c099fb12c0ddb41b349",
       "version_major": 2,
       "version_minor": 0
      },
      "text/plain": [
       "0it [00:00, ?it/s]"
      ]
     },
     "metadata": {},
     "output_type": "display_data"
    },
    {
     "name": "stdout",
     "output_type": "stream",
     "text": [
      "val mse mean: 0.4489368796348572. val mse std: 0.6518158316612244. \n"
     ]
    },
    {
     "data": {
      "application/vnd.jupyter.widget-view+json": {
       "model_id": "a8aff9b5ef6342feb8864f88a855fe5f",
       "version_major": 2,
       "version_minor": 0
      },
      "text/plain": [
       "0it [00:00, ?it/s]"
      ]
     },
     "metadata": {},
     "output_type": "display_data"
    },
    {
     "data": {
      "application/vnd.jupyter.widget-view+json": {
       "model_id": "432f8762cd2f4e81885c6d631a366b6e",
       "version_major": 2,
       "version_minor": 0
      },
      "text/plain": [
       "0it [00:00, ?it/s]"
      ]
     },
     "metadata": {},
     "output_type": "display_data"
    },
    {
     "name": "stdout",
     "output_type": "stream",
     "text": [
      "val mse mean: 0.44435369968414307. val mse std: 0.6676107048988342. \n"
     ]
    },
    {
     "data": {
      "application/vnd.jupyter.widget-view+json": {
       "model_id": "8f8a6adaff1a45d5901f6e25ff89690a",
       "version_major": 2,
       "version_minor": 0
      },
      "text/plain": [
       "0it [00:00, ?it/s]"
      ]
     },
     "metadata": {},
     "output_type": "display_data"
    },
    {
     "data": {
      "application/vnd.jupyter.widget-view+json": {
       "model_id": "9f17e30480b64bafad170ace9375967d",
       "version_major": 2,
       "version_minor": 0
      },
      "text/plain": [
       "0it [00:00, ?it/s]"
      ]
     },
     "metadata": {},
     "output_type": "display_data"
    },
    {
     "name": "stdout",
     "output_type": "stream",
     "text": [
      "val mse mean: 0.4389379024505615. val mse std: 0.6752519607543945. \n"
     ]
    },
    {
     "data": {
      "application/vnd.jupyter.widget-view+json": {
       "model_id": "bf8c9a5014e842f68c48dca912449e2d",
       "version_major": 2,
       "version_minor": 0
      },
      "text/plain": [
       "0it [00:00, ?it/s]"
      ]
     },
     "metadata": {},
     "output_type": "display_data"
    },
    {
     "data": {
      "application/vnd.jupyter.widget-view+json": {
       "model_id": "07ed6fd3166e478897e710161db2c128",
       "version_major": 2,
       "version_minor": 0
      },
      "text/plain": [
       "0it [00:00, ?it/s]"
      ]
     },
     "metadata": {},
     "output_type": "display_data"
    },
    {
     "name": "stdout",
     "output_type": "stream",
     "text": [
      "val mse mean: 0.4552084505558014. val mse std: 0.6604539155960083. \n"
     ]
    },
    {
     "data": {
      "application/vnd.jupyter.widget-view+json": {
       "model_id": "195cef18549040dc8754fcc19b53e806",
       "version_major": 2,
       "version_minor": 0
      },
      "text/plain": [
       "0it [00:00, ?it/s]"
      ]
     },
     "metadata": {},
     "output_type": "display_data"
    },
    {
     "data": {
      "application/vnd.jupyter.widget-view+json": {
       "model_id": "a371629817b841ecb84ec56eb2ebe60c",
       "version_major": 2,
       "version_minor": 0
      },
      "text/plain": [
       "0it [00:00, ?it/s]"
      ]
     },
     "metadata": {},
     "output_type": "display_data"
    },
    {
     "name": "stdout",
     "output_type": "stream",
     "text": [
      "val mse mean: 0.45980167388916016. val mse std: 0.6711544990539551. \n"
     ]
    },
    {
     "data": {
      "application/vnd.jupyter.widget-view+json": {
       "model_id": "599690837b6048d5b003ff3ec45f6e87",
       "version_major": 2,
       "version_minor": 0
      },
      "text/plain": [
       "0it [00:00, ?it/s]"
      ]
     },
     "metadata": {},
     "output_type": "display_data"
    },
    {
     "data": {
      "application/vnd.jupyter.widget-view+json": {
       "model_id": "48adf81339724681a97c6cbed304f34d",
       "version_major": 2,
       "version_minor": 0
      },
      "text/plain": [
       "0it [00:00, ?it/s]"
      ]
     },
     "metadata": {},
     "output_type": "display_data"
    },
    {
     "name": "stdout",
     "output_type": "stream",
     "text": [
      "val mse mean: 0.47603562474250793. val mse std: 0.668940544128418. \n"
     ]
    },
    {
     "data": {
      "application/vnd.jupyter.widget-view+json": {
       "model_id": "296da41e18c64ace9f06ce7b5c4de141",
       "version_major": 2,
       "version_minor": 0
      },
      "text/plain": [
       "0it [00:00, ?it/s]"
      ]
     },
     "metadata": {},
     "output_type": "display_data"
    },
    {
     "data": {
      "application/vnd.jupyter.widget-view+json": {
       "model_id": "c298547634fa42b4bb563c0b64e81fd8",
       "version_major": 2,
       "version_minor": 0
      },
      "text/plain": [
       "0it [00:00, ?it/s]"
      ]
     },
     "metadata": {},
     "output_type": "display_data"
    },
    {
     "name": "stdout",
     "output_type": "stream",
     "text": [
      "val mse mean: 0.4670623540878296. val mse std: 0.67671138048172. \n"
     ]
    },
    {
     "data": {
      "application/vnd.jupyter.widget-view+json": {
       "model_id": "40dd5683405f4292ae5892300b21ae72",
       "version_major": 2,
       "version_minor": 0
      },
      "text/plain": [
       "0it [00:00, ?it/s]"
      ]
     },
     "metadata": {},
     "output_type": "display_data"
    },
    {
     "data": {
      "application/vnd.jupyter.widget-view+json": {
       "model_id": "0667481654234c1fa7c0fa272e8fc9b7",
       "version_major": 2,
       "version_minor": 0
      },
      "text/plain": [
       "0it [00:00, ?it/s]"
      ]
     },
     "metadata": {},
     "output_type": "display_data"
    },
    {
     "name": "stdout",
     "output_type": "stream",
     "text": [
      "val mse mean: 0.4679466187953949. val mse std: 0.6759553551673889. \n"
     ]
    },
    {
     "data": {
      "application/vnd.jupyter.widget-view+json": {
       "model_id": "2b2f7dec8e2c4b86aabfe36e83b5fdb4",
       "version_major": 2,
       "version_minor": 0
      },
      "text/plain": [
       "0it [00:00, ?it/s]"
      ]
     },
     "metadata": {},
     "output_type": "display_data"
    },
    {
     "data": {
      "application/vnd.jupyter.widget-view+json": {
       "model_id": "603eeb6642e54a74abc9531a9dc5ce01",
       "version_major": 2,
       "version_minor": 0
      },
      "text/plain": [
       "0it [00:00, ?it/s]"
      ]
     },
     "metadata": {},
     "output_type": "display_data"
    },
    {
     "name": "stdout",
     "output_type": "stream",
     "text": [
      "val mse mean: 0.4750944972038269. val mse std: 0.6940370798110962. \n"
     ]
    },
    {
     "data": {
      "application/vnd.jupyter.widget-view+json": {
       "model_id": "cb851e61e64a45cba7b811bd386bc110",
       "version_major": 2,
       "version_minor": 0
      },
      "text/plain": [
       "0it [00:00, ?it/s]"
      ]
     },
     "metadata": {},
     "output_type": "display_data"
    },
    {
     "data": {
      "application/vnd.jupyter.widget-view+json": {
       "model_id": "9fea5b496efa44b9bb3331738fdb1001",
       "version_major": 2,
       "version_minor": 0
      },
      "text/plain": [
       "0it [00:00, ?it/s]"
      ]
     },
     "metadata": {},
     "output_type": "display_data"
    },
    {
     "name": "stdout",
     "output_type": "stream",
     "text": [
      "val mse mean: 0.47716036438941956. val mse std: 0.6866118907928467. \n"
     ]
    },
    {
     "data": {
      "application/vnd.jupyter.widget-view+json": {
       "model_id": "ebdcf2eeaf8c441e8a149fa9d294632c",
       "version_major": 2,
       "version_minor": 0
      },
      "text/plain": [
       "0it [00:00, ?it/s]"
      ]
     },
     "metadata": {},
     "output_type": "display_data"
    },
    {
     "data": {
      "application/vnd.jupyter.widget-view+json": {
       "model_id": "606f6682a003470299e2187019cadaa7",
       "version_major": 2,
       "version_minor": 0
      },
      "text/plain": [
       "0it [00:00, ?it/s]"
      ]
     },
     "metadata": {},
     "output_type": "display_data"
    },
    {
     "name": "stdout",
     "output_type": "stream",
     "text": [
      "val mse mean: 0.5016497373580933. val mse std: 0.6981284022331238. \n"
     ]
    },
    {
     "data": {
      "application/vnd.jupyter.widget-view+json": {
       "model_id": "c9079bc2583a492aa6aefb8e4e3b08be",
       "version_major": 2,
       "version_minor": 0
      },
      "text/plain": [
       "0it [00:00, ?it/s]"
      ]
     },
     "metadata": {},
     "output_type": "display_data"
    },
    {
     "data": {
      "application/vnd.jupyter.widget-view+json": {
       "model_id": "5286ea544e744dccbde5cd3f7cf1a3d1",
       "version_major": 2,
       "version_minor": 0
      },
      "text/plain": [
       "0it [00:00, ?it/s]"
      ]
     },
     "metadata": {},
     "output_type": "display_data"
    },
    {
     "name": "stdout",
     "output_type": "stream",
     "text": [
      "val mse mean: 0.4903665781021118. val mse std: 0.712966799736023. \n"
     ]
    },
    {
     "data": {
      "application/vnd.jupyter.widget-view+json": {
       "model_id": "bad9a4d3c3084559bffc1cc0db7cb744",
       "version_major": 2,
       "version_minor": 0
      },
      "text/plain": [
       "0it [00:00, ?it/s]"
      ]
     },
     "metadata": {},
     "output_type": "display_data"
    },
    {
     "data": {
      "application/vnd.jupyter.widget-view+json": {
       "model_id": "d6fa0801c3a346fc97d41380a2ad7d6f",
       "version_major": 2,
       "version_minor": 0
      },
      "text/plain": [
       "0it [00:00, ?it/s]"
      ]
     },
     "metadata": {},
     "output_type": "display_data"
    },
    {
     "name": "stdout",
     "output_type": "stream",
     "text": [
      "val mse mean: 0.49875321984291077. val mse std: 0.7045289874076843. \n"
     ]
    },
    {
     "data": {
      "application/vnd.jupyter.widget-view+json": {
       "model_id": "26fbfed58d064f61b6d45956d57607cd",
       "version_major": 2,
       "version_minor": 0
      },
      "text/plain": [
       "0it [00:00, ?it/s]"
      ]
     },
     "metadata": {},
     "output_type": "display_data"
    },
    {
     "data": {
      "application/vnd.jupyter.widget-view+json": {
       "model_id": "c14b7840b73e4551a4a18336a1139315",
       "version_major": 2,
       "version_minor": 0
      },
      "text/plain": [
       "0it [00:00, ?it/s]"
      ]
     },
     "metadata": {},
     "output_type": "display_data"
    },
    {
     "name": "stdout",
     "output_type": "stream",
     "text": [
      "val mse mean: 0.47898656129837036. val mse std: 0.7163333296775818. \n"
     ]
    },
    {
     "data": {
      "application/vnd.jupyter.widget-view+json": {
       "model_id": "97ab6bc11aab4abfafff0ab7615bb5f9",
       "version_major": 2,
       "version_minor": 0
      },
      "text/plain": [
       "0it [00:00, ?it/s]"
      ]
     },
     "metadata": {},
     "output_type": "display_data"
    },
    {
     "data": {
      "application/vnd.jupyter.widget-view+json": {
       "model_id": "da98bebf8a894f9e9c9088f9ce52cd11",
       "version_major": 2,
       "version_minor": 0
      },
      "text/plain": [
       "0it [00:00, ?it/s]"
      ]
     },
     "metadata": {},
     "output_type": "display_data"
    },
    {
     "name": "stdout",
     "output_type": "stream",
     "text": [
      "val mse mean: 0.5065500736236572. val mse std: 0.7128041386604309. \n"
     ]
    },
    {
     "data": {
      "application/vnd.jupyter.widget-view+json": {
       "model_id": "cae3e6b4ec8d4d79aeb480e53299f9bb",
       "version_major": 2,
       "version_minor": 0
      },
      "text/plain": [
       "0it [00:00, ?it/s]"
      ]
     },
     "metadata": {},
     "output_type": "display_data"
    },
    {
     "data": {
      "application/vnd.jupyter.widget-view+json": {
       "model_id": "4beb0207061a42c786fd01db97c0068f",
       "version_major": 2,
       "version_minor": 0
      },
      "text/plain": [
       "0it [00:00, ?it/s]"
      ]
     },
     "metadata": {},
     "output_type": "display_data"
    },
    {
     "name": "stdout",
     "output_type": "stream",
     "text": [
      "val mse mean: 0.509129524230957. val mse std: 0.7187182903289795. \n"
     ]
    },
    {
     "data": {
      "application/vnd.jupyter.widget-view+json": {
       "model_id": "fa1adf2ff292484090598eb78cd0aa5d",
       "version_major": 2,
       "version_minor": 0
      },
      "text/plain": [
       "0it [00:00, ?it/s]"
      ]
     },
     "metadata": {},
     "output_type": "display_data"
    },
    {
     "data": {
      "application/vnd.jupyter.widget-view+json": {
       "model_id": "8358d19c90fb43638b49d49b39311e36",
       "version_major": 2,
       "version_minor": 0
      },
      "text/plain": [
       "0it [00:00, ?it/s]"
      ]
     },
     "metadata": {},
     "output_type": "display_data"
    },
    {
     "name": "stdout",
     "output_type": "stream",
     "text": [
      "val mse mean: 0.4786791205406189. val mse std: 0.7285407781600952. \n"
     ]
    },
    {
     "data": {
      "application/vnd.jupyter.widget-view+json": {
       "model_id": "b72a586ecea745bf8bd1146f4c85bcf9",
       "version_major": 2,
       "version_minor": 0
      },
      "text/plain": [
       "0it [00:00, ?it/s]"
      ]
     },
     "metadata": {},
     "output_type": "display_data"
    },
    {
     "data": {
      "application/vnd.jupyter.widget-view+json": {
       "model_id": "5883c5368b1d49b2aff0f1d5c6956f88",
       "version_major": 2,
       "version_minor": 0
      },
      "text/plain": [
       "0it [00:00, ?it/s]"
      ]
     },
     "metadata": {},
     "output_type": "display_data"
    },
    {
     "name": "stdout",
     "output_type": "stream",
     "text": [
      "val mse mean: 0.49607405066490173. val mse std: 0.7165980935096741. \n"
     ]
    },
    {
     "data": {
      "application/vnd.jupyter.widget-view+json": {
       "model_id": "f29c378feb984ef3b928087014ec2f1e",
       "version_major": 2,
       "version_minor": 0
      },
      "text/plain": [
       "0it [00:00, ?it/s]"
      ]
     },
     "metadata": {},
     "output_type": "display_data"
    },
    {
     "data": {
      "application/vnd.jupyter.widget-view+json": {
       "model_id": "17a5720b2b2444b6ab7e9bc8890281a5",
       "version_major": 2,
       "version_minor": 0
      },
      "text/plain": [
       "0it [00:00, ?it/s]"
      ]
     },
     "metadata": {},
     "output_type": "display_data"
    },
    {
     "name": "stdout",
     "output_type": "stream",
     "text": [
      "val mse mean: 0.49464523792266846. val mse std: 0.7280003428459167. \n"
     ]
    },
    {
     "data": {
      "application/vnd.jupyter.widget-view+json": {
       "model_id": "d73a00d746bf43e09cefcfa8c9dad409",
       "version_major": 2,
       "version_minor": 0
      },
      "text/plain": [
       "0it [00:00, ?it/s]"
      ]
     },
     "metadata": {},
     "output_type": "display_data"
    },
    {
     "data": {
      "application/vnd.jupyter.widget-view+json": {
       "model_id": "4137c51a74b84760b5d9c592dce7d661",
       "version_major": 2,
       "version_minor": 0
      },
      "text/plain": [
       "0it [00:00, ?it/s]"
      ]
     },
     "metadata": {},
     "output_type": "display_data"
    },
    {
     "name": "stdout",
     "output_type": "stream",
     "text": [
      "val mse mean: 0.491242378950119. val mse std: 0.7240238189697266. \n",
      "Finished Training\n"
     ]
    }
   ],
   "source": [
    "loss_history = []\n",
    "for epoch in range(EPOCHS):  # loop over the dataset multiple times\n",
    "    model.train()\n",
    "    for idx, data in tqdm(enumerate(train_dataloader_e)):\n",
    "        # get the inputs; data is a list of [inputs, labels]\n",
    "        X_train, y_train, infos = data\n",
    "        (uid, vid, embedding_video_start_time, embedding_seq_nohistory_idx, pitch_mean, pitch_std, energy_mean, energy_std) = infos\n",
    "        \n",
    "        X_train = X_train.to(device)\n",
    "        y_train = y_train.to(device)\n",
    "        \n",
    "        # zero the parameter gradients\n",
    "        optimizer.zero_grad()\n",
    "        \n",
    "        # forward + backward + optimize\n",
    "        pred_train = model(X_train)\n",
    "        loss = criterion(pred_train.reshape(-1), y_train)\n",
    "        loss.backward()\n",
    "        optimizer.step()\n",
    "        \n",
    "        # print statistics\n",
    "        loss_history.append(loss.detach().cpu().item())\n",
    "    _ = evaluate(model=model, val_loader=val_dataloader_e, device=device)\n",
    "    model.train()\n",
    "    \n",
    "\n",
    "\n",
    "print('Finished Training')"
   ]
  },
  {
   "cell_type": "code",
   "execution_count": 169,
   "id": "d0db45ff-9da5-4dd0-b06f-b18e7593121b",
   "metadata": {},
   "outputs": [
    {
     "data": {
      "text/plain": [
       "[<matplotlib.lines.Line2D at 0x1c36c30ea50>]"
      ]
     },
     "execution_count": 169,
     "metadata": {},
     "output_type": "execute_result"
    },
    {
     "data": {
      "image/png": "[encoded data removed]",
      "text/plain": [
       "<Figure size 640x480 with 1 Axes>"
      ]
     },
     "metadata": {},
     "output_type": "display_data"
    }
   ],
   "source": [
    "plt.plot(loss_history)"
   ]
  },
  {
   "cell_type": "code",
   "execution_count": null,
   "id": "aa3f47a9-defb-40fc-8ac4-17898a41a86e",
   "metadata": {},
   "outputs": [],
   "source": []
  },
  {
   "cell_type": "code",
   "execution_count": null,
   "id": "a58628ed-741c-4942-86a0-469b75c92e77",
   "metadata": {},
   "outputs": [],
   "source": []
  },
  {
   "cell_type": "code",
   "execution_count": null,
   "id": "420946a4-df30-4c5f-aca4-0b313414a7b3",
   "metadata": {},
   "outputs": [],
   "source": []
  },
  {
   "cell_type": "code",
   "execution_count": null,
   "id": "240be853-0619-4934-bda3-44b0dc3b94c5",
   "metadata": {},
   "outputs": [],
   "source": []
  },
  {
   "cell_type": "code",
   "execution_count": null,
   "id": "36a9b2a9-3b81-4cca-8ebf-bdbb9209dd84",
   "metadata": {},
   "outputs": [],
   "source": []
  },
  {
   "cell_type": "code",
   "execution_count": null,
   "id": "e11bf56c-0d9d-47e3-89f1-85a7849cf8f4",
   "metadata": {},
   "outputs": [],
   "source": []
  },
  {
   "cell_type": "code",
   "execution_count": null,
   "id": "9734d690-86d5-4034-93e3-d8c044785b72",
   "metadata": {},
   "outputs": [],
   "source": []
  },
  {
   "cell_type": "code",
   "execution_count": null,
   "id": "f4321536-904c-491d-bcbc-613448839f5b",
   "metadata": {},
   "outputs": [],
   "source": []
  },
  {
   "cell_type": "code",
   "execution_count": null,
   "id": "85fc33ed-5174-477f-bc86-705f3772261a",
   "metadata": {},
   "outputs": [],
   "source": []
  },
  {
   "cell_type": "code",
   "execution_count": null,
   "id": "3a6b38d1-cd86-40b8-80cb-e9b6398b8bd2",
   "metadata": {},
   "outputs": [],
   "source": []
  }
 ],
 "metadata": {
  "kernelspec": {
   "display_name": "Python 3 (ipykernel)",
   "language": "python",
   "name": "python3"
  },
  "language_info": {
   "codemirror_mode": {
    "name": "ipython",
    "version": 3
   },
   "file_extension": ".py",
   "mimetype": "text/x-python",
   "name": "python",
   "nbconvert_exporter": "python",
   "pygments_lexer": "ipython3",
   "version": "3.11.3"
  }
 },
 "nbformat": 4,
 "nbformat_minor": 5
}
