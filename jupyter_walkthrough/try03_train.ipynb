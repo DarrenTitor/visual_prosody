{
 "cells": [
  {
   "cell_type": "code",
   "execution_count": 1,
   "id": "a39b0464-0124-4028-b883-569ad898bf6a",
   "metadata": {},
   "outputs": [],
   "source": [
    "import os, sys\n",
    "# add root working folder into path so that we can import abs paths in jupyter\n",
    "# dir2 = os.path.abspath('')\n",
    "# dir1 = os.path.dirname(dir2)\n",
    "# if not dir1 in sys.path: sys.path.append(dir1)"
   ]
  },
  {
   "cell_type": "code",
   "execution_count": 2,
   "id": "f86b6228-84fc-4f56-8360-59ff5decb5b8",
   "metadata": {},
   "outputs": [
    {
     "name": "stdout",
     "output_type": "stream",
     "text": [
      "D:\\Schoolwork\\TERM 3\\WORK\\visual_prosody\n"
     ]
    }
   ],
   "source": [
    "%cd \"D:\\Schoolwork\\TERM 3\\WORK\\visual_prosody\""
   ]
  },
  {
   "cell_type": "code",
   "execution_count": 19,
   "id": "da571f29-f87f-4837-bcc7-a4247148396e",
   "metadata": {},
   "outputs": [],
   "source": [
    "import argparse\n",
    "import yaml\n",
    "import numpy as np\n",
    "from pprint import pprint"
   ]
  },
  {
   "cell_type": "code",
   "execution_count": 4,
   "id": "427beb53-12c5-4d47-b7cd-ef766db046a6",
   "metadata": {},
   "outputs": [],
   "source": [
    "import argparse\n",
    "import os\n",
    "\n",
    "import torch\n",
    "import yaml\n",
    "import torch.nn as nn\n",
    "from torch.utils.data import DataLoader\n",
    "from torch.utils.tensorboard import SummaryWriter\n",
    "# from tqdm import tqdm\n",
    "\n",
    "from utils.model import get_model, get_vocoder, get_param_num\n",
    "from utils.tools import to_device, log, synth_one_sample\n",
    "from model import FastSpeech2Loss\n",
    "from dataset import Dataset\n",
    "from utils.auto_tqdm import tqdm\n",
    "\n",
    "from evaluate import evaluate"
   ]
  },
  {
   "cell_type": "code",
   "execution_count": 5,
   "id": "ee50e62b-546e-4c0f-8700-60ac2e8dd820",
   "metadata": {},
   "outputs": [],
   "source": [
    "device = torch.device(\"cuda\" if torch.cuda.is_available() else \"cpu\")"
   ]
  },
  {
   "cell_type": "code",
   "execution_count": null,
   "id": "eff81fae-e1ef-4211-ad5c-861ffa3a4d70",
   "metadata": {},
   "outputs": [],
   "source": []
  },
  {
   "cell_type": "code",
   "execution_count": 6,
   "id": "1698325b-f5dd-41fa-81e0-8b048842d34e",
   "metadata": {},
   "outputs": [],
   "source": [
    "parser = argparse.ArgumentParser()\n",
    "parser.add_argument(\"--restore_step\", type=int, default=0)\n",
    "parser.add_argument(\n",
    "    \"-p\",\n",
    "    \"--preprocess_config\",\n",
    "    type=str,\n",
    "    required=True,\n",
    "    help=\"path to preprocess.yaml\",\n",
    ")\n",
    "parser.add_argument(\n",
    "    \"-m\", \"--model_config\", type=str, required=True, help=\"path to model.yaml\"\n",
    ")\n",
    "parser.add_argument(\n",
    "    \"-t\", \"--train_config\", type=str, required=True, help=\"path to train.yaml\"\n",
    ")\n",
    "\n",
    "argString = '-p ./config/Ego4D_final_v3/preprocess.yaml -m ./config/Ego4D_final_v3/model.yaml -t ./config/Ego4D_final_v3/train.yaml'\n",
    "# args = parser.parse_args()\n",
    "args = parser.parse_args(argString.split())\n",
    "\n"
   ]
  },
  {
   "cell_type": "code",
   "execution_count": 7,
   "id": "2126851b-fa61-4b93-85eb-02b1ff2de002",
   "metadata": {},
   "outputs": [],
   "source": [
    "# Read Config\n",
    "preprocess_config = yaml.load(\n",
    "    open(args.preprocess_config, \"r\"), Loader=yaml.FullLoader\n",
    ")\n",
    "model_config = yaml.load(open(args.model_config, \"r\"), Loader=yaml.FullLoader)\n",
    "train_config = yaml.load(open(args.train_config, \"r\"), Loader=yaml.FullLoader)\n",
    "configs = (preprocess_config, model_config, train_config)"
   ]
  },
  {
   "cell_type": "code",
   "execution_count": 8,
   "id": "28393e90-f8fe-42d7-a4bb-92de1c6cc862",
   "metadata": {},
   "outputs": [],
   "source": [
    "# main()"
   ]
  },
  {
   "cell_type": "code",
   "execution_count": 9,
   "id": "87d03fc2-2a43-462d-a9b5-3f6a3dc3c640",
   "metadata": {},
   "outputs": [
    {
     "name": "stdout",
     "output_type": "stream",
     "text": [
      "Prepare training ...\n"
     ]
    }
   ],
   "source": [
    "print(\"Prepare training ...\")\n",
    "\n",
    "preprocess_config, model_config, train_config = configs\n",
    "\n",
    "# Get dataset\n",
    "dataset = Dataset(\n",
    "    \"train.txt\", 'train', preprocess_config, train_config, sort=True, drop_last=True\n",
    ")"
   ]
  },
  {
   "cell_type": "code",
   "execution_count": 10,
   "id": "237a6e9f-c5c3-48e8-9d71-5b0a88024c13",
   "metadata": {},
   "outputs": [
    {
     "data": {
      "text/plain": [
       "25951"
      ]
     },
     "execution_count": 10,
     "metadata": {},
     "output_type": "execute_result"
    }
   ],
   "source": [
    "len(dataset)"
   ]
  },
  {
   "cell_type": "code",
   "execution_count": 13,
   "id": "d1176c02-6e6b-4dcc-abeb-0f3068e7e205",
   "metadata": {},
   "outputs": [
    {
     "name": "stdout",
     "output_type": "stream",
     "text": [
      "{'duration': array([ 2,  2,  2, 28,  2, 10,  4,  6, 53,  7]),\n",
      " 'energy': array([0.9789963 , 0.95960546, 1.1227531 , 2.533922  , 4.8028474 ,\n",
      "       4.474254  , 1.1891582 , 0.9398053 , 2.483526  , 1.7764769 ],\n",
      "      dtype=float32),\n",
      " 'id': '00025784-9ed5-4071-a84f-32e5e94e96a1',\n",
      " 'mel': array([[ 2.9975373e-01, -1.6556007e-01, -6.5398759e-01, ...,\n",
      "        -7.0371947e+00, -7.0798965e+00, -7.1081305e+00],\n",
      "       [-3.5277855e-01, -7.1158201e-01, -5.5675012e-01, ...,\n",
      "        -7.7303562e+00, -7.7730618e+00, -7.8012867e+00],\n",
      "       [-1.7843202e-01, -1.1256552e+00, -5.0544268e-01, ...,\n",
      "        -1.1512925e+01, -1.1512925e+01, -1.1512925e+01],\n",
      "       ...,\n",
      "       [ 2.7289128e-01, -8.7187129e-01,  8.3005680e-03, ...,\n",
      "        -1.1512925e+01, -1.1512925e+01, -1.1512925e+01],\n",
      "       [ 4.7123089e-01, -4.6125448e-01,  5.5685200e-02, ...,\n",
      "        -1.1512925e+01, -1.1512925e+01, -1.1512925e+01],\n",
      "       [ 2.4691910e-01, -9.1769451e-01, -9.6002296e-02, ...,\n",
      "        -6.8397665e+00, -6.8557754e+00, -6.8668313e+00]], dtype=float32),\n",
      " 'pitch': array([ 1.01815467,  1.01815467,  1.01815467, -0.30181557, -0.79266587,\n",
      "       -0.73733953, -0.16378511,  1.33412706, -0.77452186, -1.07758129]),\n",
      " 'raw_text': ' we both we both ',\n",
      " 'speaker': 0,\n",
      " 'text': array([144, 113,  88, 123, 134, 144, 113,  88, 123, 134])}\n"
     ]
    }
   ],
   "source": [
    "pprint(dataset[0])"
   ]
  },
  {
   "cell_type": "code",
   "execution_count": 14,
   "id": "6e9a7a54-869b-452d-b168-45306ebee4e5",
   "metadata": {},
   "outputs": [],
   "source": [
    "batch_size = train_config[\"optimizer\"][\"batch_size\"]\n",
    "group_size = 4  # Set this larger than 1 to enable sorting in Dataset\n",
    "assert batch_size * group_size < len(dataset)\n",
    "loader = DataLoader(\n",
    "    dataset,\n",
    "    batch_size=batch_size * group_size,\n",
    "    shuffle=True,\n",
    "    collate_fn=dataset.collate_fn,\n",
    ")"
   ]
  },
  {
   "cell_type": "code",
   "execution_count": 16,
   "id": "20bfb418-f076-4117-bc7a-cd78e2436395",
   "metadata": {},
   "outputs": [],
   "source": [
    "for data in loader:\n",
    "    break"
   ]
  },
  {
   "cell_type": "code",
   "execution_count": 25,
   "id": "6a8def66-69bf-4e9f-a98e-9d1e9306f748",
   "metadata": {},
   "outputs": [
    {
     "data": {
      "text/plain": [
       "4"
      ]
     },
     "execution_count": 25,
     "metadata": {},
     "output_type": "execute_result"
    }
   ],
   "source": [
    "len(data)"
   ]
  },
  {
   "cell_type": "code",
   "execution_count": 26,
   "id": "d5b2c995-0834-4bad-85c1-87272d9d2005",
   "metadata": {},
   "outputs": [
    {
     "name": "stdout",
     "output_type": "stream",
     "text": [
      "12\n",
      "12\n",
      "12\n",
      "12\n"
     ]
    }
   ],
   "source": [
    "for item in data:\n",
    "    if isinstance(item, np.ndarray):\n",
    "        print(item.shape)\n",
    "    else:\n",
    "        print(len(item))"
   ]
  },
  {
   "cell_type": "code",
   "execution_count": 28,
   "id": "3671fa1c-65ed-46f8-bfa4-d75ca3dc56d1",
   "metadata": {},
   "outputs": [
    {
     "name": "stdout",
     "output_type": "stream",
     "text": [
      "Number of FastSpeech2 Parameters: 35159361\n",
      "Removing weight norm...\n"
     ]
    }
   ],
   "source": [
    "# Prepare model\n",
    "model, optimizer = get_model(args, configs, device, train=True)\n",
    "model = nn.DataParallel(model)\n",
    "num_param = get_param_num(model)\n",
    "Loss = FastSpeech2Loss(preprocess_config, model_config).to(device)\n",
    "print(\"Number of FastSpeech2 Parameters:\", num_param)\n",
    "\n",
    "# Load vocoder\n",
    "vocoder = get_vocoder(model_config, device)"
   ]
  },
  {
   "cell_type": "code",
   "execution_count": 29,
   "id": "9a9fc88b-30f4-429a-b05d-507324d7cba7",
   "metadata": {},
   "outputs": [],
   "source": [
    "# Init logger\n",
    "for p in train_config[\"path\"].values():\n",
    "    os.makedirs(p, exist_ok=True)\n",
    "train_log_path = os.path.join(train_config[\"path\"][\"log_path\"], \"train\")\n",
    "val_log_path = os.path.join(train_config[\"path\"][\"log_path\"], \"val\")\n",
    "os.makedirs(train_log_path, exist_ok=True)\n",
    "os.makedirs(val_log_path, exist_ok=True)\n",
    "train_logger = SummaryWriter(train_log_path)\n",
    "val_logger = SummaryWriter(val_log_path)"
   ]
  },
  {
   "cell_type": "code",
   "execution_count": null,
   "id": "87b76e90-52e7-4255-aa52-0802f1aba691",
   "metadata": {},
   "outputs": [],
   "source": []
  },
  {
   "cell_type": "code",
   "execution_count": null,
   "id": "eabe2e06-e0cc-439c-b0ce-20d2e36e578e",
   "metadata": {},
   "outputs": [],
   "source": []
  },
  {
   "cell_type": "code",
   "execution_count": null,
   "id": "7d97f363-50c1-48cc-8631-a763808bf46f",
   "metadata": {},
   "outputs": [],
   "source": []
  },
  {
   "cell_type": "code",
   "execution_count": null,
   "id": "e42c8725-f23a-496e-a08d-b39cfb9f3ad9",
   "metadata": {},
   "outputs": [],
   "source": []
  },
  {
   "cell_type": "code",
   "execution_count": null,
   "id": "d651e32d-12b8-4e50-bdb7-c7ab2670368a",
   "metadata": {},
   "outputs": [],
   "source": []
  },
  {
   "cell_type": "code",
   "execution_count": null,
   "id": "1a34366e-2fcf-43ef-9c4f-4fffc7f2ac5d",
   "metadata": {},
   "outputs": [],
   "source": []
  },
  {
   "cell_type": "code",
   "execution_count": null,
   "id": "d15e8929-e918-4e63-be77-b3eb74f75c17",
   "metadata": {},
   "outputs": [],
   "source": []
  },
  {
   "cell_type": "code",
   "execution_count": null,
   "id": "952dd32d-e958-462b-9cab-f53be07798da",
   "metadata": {},
   "outputs": [],
   "source": []
  },
  {
   "cell_type": "code",
   "execution_count": null,
   "id": "4677ce50-f3d4-44e2-86c6-7cad68661952",
   "metadata": {},
   "outputs": [],
   "source": []
  }
 ],
 "metadata": {
  "kernelspec": {
   "display_name": "Python 3 (ipykernel)",
   "language": "python",
   "name": "python3"
  },
  "language_info": {
   "codemirror_mode": {
    "name": "ipython",
    "version": 3
   },
   "file_extension": ".py",
   "mimetype": "text/x-python",
   "name": "python",
   "nbconvert_exporter": "python",
   "pygments_lexer": "ipython3",
   "version": "3.11.3"
  }
 },
 "nbformat": 4,
 "nbformat_minor": 5
}
