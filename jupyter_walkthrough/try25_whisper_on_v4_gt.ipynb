{
 "cells": [
  {
   "cell_type": "code",
   "execution_count": 1,
   "id": "2d212764-b0c6-4e6c-ba11-1af564a27bb4",
   "metadata": {},
   "outputs": [],
   "source": [
    "from werpy_weighted import werpy\n",
    "import whisper\n",
    "from whisper.tokenizer import get_tokenizer"
   ]
  },
  {
   "cell_type": "code",
   "execution_count": 2,
   "id": "0eb28072-2a07-4a1e-b2e9-14d3773b65a6",
   "metadata": {},
   "outputs": [
    {
     "name": "stdout",
     "output_type": "stream",
     "text": [
      "D:\\Schoolwork\\TERM 3\\WORK\\visual_prosody\n"
     ]
    }
   ],
   "source": [
    "%cd \"D:\\Schoolwork\\TERM 3\\WORK\\visual_prosody\""
   ]
  },
  {
   "cell_type": "code",
   "execution_count": 3,
   "id": "bc8c9fe7-de03-413e-b62c-88c1356df33c",
   "metadata": {},
   "outputs": [],
   "source": [
    "import os, sys, glob, shutil\n",
    "import argparse\n",
    "import json\n",
    "import yaml\n",
    "import numpy as np\n",
    "from pprint import pprint\n",
    "import logging\n",
    "import os\n",
    "import os.path as op\n",
    "\n",
    "import torch\n",
    "import torch.nn.functional as F\n",
    "import numpy as np\n",
    "import torchaudio\n",
    "import pandas as pd\n",
    "from tqdm.notebook import tqdm"
   ]
  },
  {
   "cell_type": "markdown",
   "id": "78d58aaa-977d-4e46-980d-f316aaa4294b",
   "metadata": {},
   "source": [
    "# v4"
   ]
  },
  {
   "cell_type": "code",
   "execution_count": 4,
   "id": "f32abf7d-a5ac-4798-be50-a89c64509f33",
   "metadata": {},
   "outputs": [],
   "source": [
    "tokenizer = get_tokenizer(multilingual=False)  # use multilingual=True if using multilingual model\n",
    "number_tokens = [\n",
    "    i \n",
    "    for i in range(tokenizer.eot)\n",
    "    if all(c in \"0123456789\" for c in tokenizer.decode([i]).removeprefix(\" \"))\n",
    "]"
   ]
  },
  {
   "cell_type": "code",
   "execution_count": 5,
   "id": "150e9e61-05bc-42d5-b347-7d34aace3471",
   "metadata": {},
   "outputs": [],
   "source": [
    "device = torch.device(\"cuda\" if torch.cuda.is_available() else \"cpu\")\n",
    "\n",
    "whisper_model = whisper.load_model('base.en').to(device)"
   ]
  },
  {
   "cell_type": "code",
   "execution_count": 6,
   "id": "98854bb9-b142-49b6-a6d8-7edb14b45eba",
   "metadata": {},
   "outputs": [],
   "source": [
    "split_txt_val_path = r'.\\preprocessed_data\\Ego4D_final_v4\\val.txt'\n",
    "val_uids = []\n",
    "gt_transcripts_dict = {}\n",
    "with open(split_txt_val_path) as file:\n",
    "    for line in file:\n",
    "        # print(line.split('|')[0])\n",
    "        val_uids.append(line.split('|')[0])\n",
    "        gt_transcripts_dict[line.split('|')[0]] = line.split('|')[-1]"
   ]
  },
  {
   "cell_type": "code",
   "execution_count": 7,
   "id": "b998f8d0-981e-4ef2-86b2-c167559be2dc",
   "metadata": {},
   "outputs": [
    {
     "data": {
      "text/plain": [
       "2641"
      ]
     },
     "execution_count": 7,
     "metadata": {},
     "output_type": "execute_result"
    }
   ],
   "source": [
    "len(val_uids)"
   ]
  },
  {
   "cell_type": "code",
   "execution_count": 8,
   "id": "45eff26a-7e40-4250-8993-8459ffe9ded1",
   "metadata": {},
   "outputs": [],
   "source": [
    "gt_folder = r'.\\raw_data\\Ego4D_final_v4\\val\\Ego4D_final_v4'"
   ]
  },
  {
   "cell_type": "code",
   "execution_count": 9,
   "id": "26da6340-e112-41d6-9f62-187b12dcc88d",
   "metadata": {},
   "outputs": [
    {
     "data": {
      "application/vnd.jupyter.widget-view+json": {
       "model_id": "854e45061b9440bab3dd9ce73102043d",
       "version_major": 2,
       "version_minor": 0
      },
      "text/plain": [
       "  0%|          | 0/2641 [00:00<?, ?it/s]"
      ]
     },
     "metadata": {},
     "output_type": "display_data"
    },
    {
     "name": "stdout",
     "output_type": "stream",
     "text": [
      "CPU times: total: 58min 20s\n",
      "Wall time: 26min 44s\n"
     ]
    }
   ],
   "source": [
    "%%time\n",
    "uids = []\n",
    "whisper_transcripts = []\n",
    "gt_transcripts = []\n",
    "\n",
    "for uid in tqdm(val_uids):\n",
    "    uids.append(uid)\n",
    "    output = whisper_model.transcribe(\n",
    "            op.join(gt_folder, f\"{uid}.wav\"),\n",
    "            suppress_tokens=[-1] + number_tokens,\n",
    "    )\n",
    "    whisper_transcript = output[\"text\"]\n",
    "    gt_transcript = gt_transcripts_dict[uid]\n",
    "\n",
    "    whisper_transcripts.append(whisper_transcript)\n",
    "    gt_transcripts.append(gt_transcript)\n"
   ]
  },
  {
   "cell_type": "code",
   "execution_count": 11,
   "id": "f3214f38-a0ea-4c3e-a2e2-21207c0163ae",
   "metadata": {},
   "outputs": [],
   "source": [
    "whisper_df_v4gt = pd.DataFrame({\n",
    "    'uid': uids,\n",
    "    'whisper_transcripts': whisper_transcripts,\n",
    "    'gt_transcripts': gt_transcripts,\n",
    "})"
   ]
  },
  {
   "cell_type": "code",
   "execution_count": 12,
   "id": "1b43efdf-7098-4ba7-ae71-421df4ef705d",
   "metadata": {},
   "outputs": [
    {
     "data": {
      "text/html": [
       "<div>\n",
       "<style scoped>\n",
       "    .dataframe tbody tr th:only-of-type {\n",
       "        vertical-align: middle;\n",
       "    }\n",
       "\n",
       "    .dataframe tbody tr th {\n",
       "        vertical-align: top;\n",
       "    }\n",
       "\n",
       "    .dataframe thead th {\n",
       "        text-align: right;\n",
       "    }\n",
       "</style>\n",
       "<table border=\"1\" class=\"dataframe\">\n",
       "  <thead>\n",
       "    <tr style=\"text-align: right;\">\n",
       "      <th></th>\n",
       "      <th>uid</th>\n",
       "      <th>whisper_transcripts</th>\n",
       "      <th>gt_transcripts</th>\n",
       "    </tr>\n",
       "  </thead>\n",
       "  <tbody>\n",
       "    <tr>\n",
       "      <th>0</th>\n",
       "      <td>5c7783ef-05ba-4b35-8a91-360283d536dd</td>\n",
       "      <td>It depends on me. If I call you liar or I cha...</td>\n",
       "      <td>it depends on me if i call you liar or i chal...</td>\n",
       "    </tr>\n",
       "    <tr>\n",
       "      <th>1</th>\n",
       "      <td>d0d1d7a2-0a96-45e5-a0e4-75a59055da80</td>\n",
       "      <td>I'm gonna paste my stuff.</td>\n",
       "      <td>i gotta pace myself \\n</td>\n",
       "    </tr>\n",
       "    <tr>\n",
       "      <th>2</th>\n",
       "      <td>bd4f326f-29b9-4c9d-9587-d1d7715f9ac5</td>\n",
       "      <td>Oh, I'm not moving. You see me moving?</td>\n",
       "      <td>oh i'm not moving you see me moving \\n</td>\n",
       "    </tr>\n",
       "    <tr>\n",
       "      <th>3</th>\n",
       "      <td>a4033601-48cc-4b05-a81b-2475bfe5a64f</td>\n",
       "      <td>Anything towards the back with seams is less ...</td>\n",
       "      <td>anything towards the back will seem is less l...</td>\n",
       "    </tr>\n",
       "    <tr>\n",
       "      <th>4</th>\n",
       "      <td>a94a6ca4-fb80-42ce-a452-14e850cc95b6</td>\n",
       "      <td>Yes, I wish you none.</td>\n",
       "      <td>you got solution yet \\n</td>\n",
       "    </tr>\n",
       "  </tbody>\n",
       "</table>\n",
       "</div>"
      ],
      "text/plain": [
       "                                    uid   \n",
       "0  5c7783ef-05ba-4b35-8a91-360283d536dd  \\\n",
       "1  d0d1d7a2-0a96-45e5-a0e4-75a59055da80   \n",
       "2  bd4f326f-29b9-4c9d-9587-d1d7715f9ac5   \n",
       "3  a4033601-48cc-4b05-a81b-2475bfe5a64f   \n",
       "4  a94a6ca4-fb80-42ce-a452-14e850cc95b6   \n",
       "\n",
       "                                 whisper_transcripts   \n",
       "0   It depends on me. If I call you liar or I cha...  \\\n",
       "1                          I'm gonna paste my stuff.   \n",
       "2             Oh, I'm not moving. You see me moving?   \n",
       "3   Anything towards the back with seams is less ...   \n",
       "4                              Yes, I wish you none.   \n",
       "\n",
       "                                      gt_transcripts  \n",
       "0   it depends on me if i call you liar or i chal...  \n",
       "1                             i gotta pace myself \\n  \n",
       "2             oh i'm not moving you see me moving \\n  \n",
       "3   anything towards the back will seem is less l...  \n",
       "4                            you got solution yet \\n  "
      ]
     },
     "execution_count": 12,
     "metadata": {},
     "output_type": "execute_result"
    }
   ],
   "source": [
    "whisper_df_v4gt.head()"
   ]
  },
  {
   "cell_type": "code",
   "execution_count": 13,
   "id": "3dce732b-cf76-42b3-89ca-d4a4d37da470",
   "metadata": {},
   "outputs": [],
   "source": [
    "whisper_df_v4gt.to_csv(r\".\\jupyter_walkthrough\\metrics\\whisper_df_v4gt.csv\", index=False)"
   ]
  },
  {
   "cell_type": "code",
   "execution_count": null,
   "id": "3b65ccfe-cb49-4811-aef3-da770e00d557",
   "metadata": {},
   "outputs": [],
   "source": []
  },
  {
   "cell_type": "code",
   "execution_count": 14,
   "id": "5698dba4-bcc3-4547-9f7a-280313171ef8",
   "metadata": {},
   "outputs": [],
   "source": [
    "import pandas as pd\n",
    "whisper_df_v4gt = pd.read_csv(r\".\\jupyter_walkthrough\\metrics\\whisper_df_v4gt.csv\")"
   ]
  },
  {
   "cell_type": "code",
   "execution_count": 16,
   "id": "739ba320-f34c-4684-ad38-09cc8926f91c",
   "metadata": {},
   "outputs": [],
   "source": [
    "whisper_df_v4gt = whisper_df_v4gt.dropna()"
   ]
  },
  {
   "cell_type": "code",
   "execution_count": 17,
   "id": "defa8d6d-ab60-4a13-b36c-3e6c15056bda",
   "metadata": {},
   "outputs": [],
   "source": [
    "normalized_ref = werpy.normalize(\n",
    "    whisper_df_v4gt['gt_transcripts'].values.tolist(),\n",
    ")\n",
    "normalized_hypo = werpy.normalize(\n",
    "    whisper_df_v4gt['whisper_transcripts'].values.tolist(),\n",
    ")"
   ]
  },
  {
   "cell_type": "code",
   "execution_count": 18,
   "id": "9f3b7900-a440-45bc-b513-eb31046501e5",
   "metadata": {},
   "outputs": [
    {
     "data": {
      "text/plain": [
       "'it depends on me if i call you liar or i challenge you cards youre out'"
      ]
     },
     "execution_count": 18,
     "metadata": {},
     "output_type": "execute_result"
    }
   ],
   "source": [
    "normalized_ref[0]"
   ]
  },
  {
   "cell_type": "code",
   "execution_count": 19,
   "id": "c0948832-00e5-40b1-a57e-412804a8163e",
   "metadata": {},
   "outputs": [
    {
     "data": {
      "text/plain": [
       "'it depends on me if i call you liar or i challenge you to fear go cut'"
      ]
     },
     "execution_count": 19,
     "metadata": {},
     "output_type": "execute_result"
    }
   ],
   "source": [
    "normalized_hypo[0]"
   ]
  },
  {
   "cell_type": "code",
   "execution_count": 20,
   "id": "39e2c02c-dbf8-42ff-b239-168190e60fca",
   "metadata": {},
   "outputs": [
    {
     "name": "stdout",
     "output_type": "stream",
     "text": [
      "CPU times: total: 156 ms\n",
      "Wall time: 200 ms\n"
     ]
    },
    {
     "data": {
      "text/html": [
       "<div>\n",
       "<style scoped>\n",
       "    .dataframe tbody tr th:only-of-type {\n",
       "        vertical-align: middle;\n",
       "    }\n",
       "\n",
       "    .dataframe tbody tr th {\n",
       "        vertical-align: top;\n",
       "    }\n",
       "\n",
       "    .dataframe thead th {\n",
       "        text-align: right;\n",
       "    }\n",
       "</style>\n",
       "<table border=\"1\" class=\"dataframe\">\n",
       "  <thead>\n",
       "    <tr style=\"text-align: right;\">\n",
       "      <th></th>\n",
       "      <th>wer</th>\n",
       "      <th>ld</th>\n",
       "      <th>m</th>\n",
       "      <th>insertions</th>\n",
       "      <th>deletions</th>\n",
       "      <th>substitutions</th>\n",
       "      <th>inserted_words</th>\n",
       "      <th>deleted_words</th>\n",
       "      <th>substituted_words</th>\n",
       "    </tr>\n",
       "  </thead>\n",
       "  <tbody>\n",
       "    <tr>\n",
       "      <th>0</th>\n",
       "      <td>0.937500</td>\n",
       "      <td>15</td>\n",
       "      <td>16</td>\n",
       "      <td>1</td>\n",
       "      <td>0</td>\n",
       "      <td>3</td>\n",
       "      <td>[to]</td>\n",
       "      <td>[]</td>\n",
       "      <td>[(cards, fear), (youre, go), (out, cut)]</td>\n",
       "    </tr>\n",
       "    <tr>\n",
       "      <th>1</th>\n",
       "      <td>4.750000</td>\n",
       "      <td>19</td>\n",
       "      <td>4</td>\n",
       "      <td>1</td>\n",
       "      <td>0</td>\n",
       "      <td>4</td>\n",
       "      <td>[im]</td>\n",
       "      <td>[]</td>\n",
       "      <td>[(i, gonna), (gotta, paste), (pace, my), (myse...</td>\n",
       "    </tr>\n",
       "    <tr>\n",
       "      <th>2</th>\n",
       "      <td>0.000000</td>\n",
       "      <td>0</td>\n",
       "      <td>8</td>\n",
       "      <td>0</td>\n",
       "      <td>0</td>\n",
       "      <td>0</td>\n",
       "      <td>[]</td>\n",
       "      <td>[]</td>\n",
       "      <td>[]</td>\n",
       "    </tr>\n",
       "    <tr>\n",
       "      <th>3</th>\n",
       "      <td>1.000000</td>\n",
       "      <td>12</td>\n",
       "      <td>12</td>\n",
       "      <td>0</td>\n",
       "      <td>0</td>\n",
       "      <td>3</td>\n",
       "      <td>[]</td>\n",
       "      <td>[]</td>\n",
       "      <td>[(will, with), (seem, seams), (the, be)]</td>\n",
       "    </tr>\n",
       "    <tr>\n",
       "      <th>4</th>\n",
       "      <td>4.750000</td>\n",
       "      <td>19</td>\n",
       "      <td>4</td>\n",
       "      <td>1</td>\n",
       "      <td>0</td>\n",
       "      <td>4</td>\n",
       "      <td>[yes]</td>\n",
       "      <td>[]</td>\n",
       "      <td>[(you, i), (got, wish), (solution, you), (yet,...</td>\n",
       "    </tr>\n",
       "    <tr>\n",
       "      <th>...</th>\n",
       "      <td>...</td>\n",
       "      <td>...</td>\n",
       "      <td>...</td>\n",
       "      <td>...</td>\n",
       "      <td>...</td>\n",
       "      <td>...</td>\n",
       "      <td>...</td>\n",
       "      <td>...</td>\n",
       "      <td>...</td>\n",
       "    </tr>\n",
       "    <tr>\n",
       "      <th>2605</th>\n",
       "      <td>1.333333</td>\n",
       "      <td>4</td>\n",
       "      <td>3</td>\n",
       "      <td>0</td>\n",
       "      <td>0</td>\n",
       "      <td>1</td>\n",
       "      <td>[]</td>\n",
       "      <td>[]</td>\n",
       "      <td>[(that, put)]</td>\n",
       "    </tr>\n",
       "    <tr>\n",
       "      <th>2606</th>\n",
       "      <td>7.000000</td>\n",
       "      <td>7</td>\n",
       "      <td>1</td>\n",
       "      <td>1</td>\n",
       "      <td>0</td>\n",
       "      <td>1</td>\n",
       "      <td>[thank]</td>\n",
       "      <td>[]</td>\n",
       "      <td>[(hmm, you)]</td>\n",
       "    </tr>\n",
       "    <tr>\n",
       "      <th>2607</th>\n",
       "      <td>0.000000</td>\n",
       "      <td>0</td>\n",
       "      <td>3</td>\n",
       "      <td>0</td>\n",
       "      <td>0</td>\n",
       "      <td>0</td>\n",
       "      <td>[]</td>\n",
       "      <td>[]</td>\n",
       "      <td>[]</td>\n",
       "    </tr>\n",
       "    <tr>\n",
       "      <th>2608</th>\n",
       "      <td>3.000000</td>\n",
       "      <td>15</td>\n",
       "      <td>5</td>\n",
       "      <td>0</td>\n",
       "      <td>1</td>\n",
       "      <td>3</td>\n",
       "      <td>[]</td>\n",
       "      <td>[queens]</td>\n",
       "      <td>[(mhm, please), (oh, one), (hmm, king)]</td>\n",
       "    </tr>\n",
       "    <tr>\n",
       "      <th>2609</th>\n",
       "      <td>4.000000</td>\n",
       "      <td>4</td>\n",
       "      <td>1</td>\n",
       "      <td>0</td>\n",
       "      <td>0</td>\n",
       "      <td>1</td>\n",
       "      <td>[]</td>\n",
       "      <td>[]</td>\n",
       "      <td>[(nine, online)]</td>\n",
       "    </tr>\n",
       "  </tbody>\n",
       "</table>\n",
       "<p>2610 rows × 9 columns</p>\n",
       "</div>"
      ],
      "text/plain": [
       "           wer  ld   m  insertions  deletions  substitutions inserted_words   \n",
       "0     0.937500  15  16           1          0              3           [to]  \\\n",
       "1     4.750000  19   4           1          0              4           [im]   \n",
       "2     0.000000   0   8           0          0              0             []   \n",
       "3     1.000000  12  12           0          0              3             []   \n",
       "4     4.750000  19   4           1          0              4          [yes]   \n",
       "...        ...  ..  ..         ...        ...            ...            ...   \n",
       "2605  1.333333   4   3           0          0              1             []   \n",
       "2606  7.000000   7   1           1          0              1        [thank]   \n",
       "2607  0.000000   0   3           0          0              0             []   \n",
       "2608  3.000000  15   5           0          1              3             []   \n",
       "2609  4.000000   4   1           0          0              1             []   \n",
       "\n",
       "     deleted_words                                  substituted_words  \n",
       "0               []           [(cards, fear), (youre, go), (out, cut)]  \n",
       "1               []  [(i, gonna), (gotta, paste), (pace, my), (myse...  \n",
       "2               []                                                 []  \n",
       "3               []           [(will, with), (seem, seams), (the, be)]  \n",
       "4               []  [(you, i), (got, wish), (solution, you), (yet,...  \n",
       "...            ...                                                ...  \n",
       "2605            []                                      [(that, put)]  \n",
       "2606            []                                       [(hmm, you)]  \n",
       "2607            []                                                 []  \n",
       "2608      [queens]            [(mhm, please), (oh, one), (hmm, king)]  \n",
       "2609            []                                   [(nine, online)]  \n",
       "\n",
       "[2610 rows x 9 columns]"
      ]
     },
     "execution_count": 20,
     "metadata": {},
     "output_type": "execute_result"
    }
   ],
   "source": [
    "%%time\n",
    "summary = werpy.summary(normalized_ref, normalized_hypo)\n",
    "summary"
   ]
  },
  {
   "cell_type": "code",
   "execution_count": 21,
   "id": "90ea3ae1-6268-4b83-958f-c01e1850dc26",
   "metadata": {},
   "outputs": [],
   "source": [
    "I = summary['insertions'].sum()\n",
    "D = summary['deletions'].sum()\n",
    "S = summary['substitutions'].sum()\n",
    "M = summary['m'].sum()"
   ]
  },
  {
   "cell_type": "code",
   "execution_count": 22,
   "id": "234655aa-5771-4bc4-9a60-c9d1e6f1d30f",
   "metadata": {},
   "outputs": [],
   "source": [
    "summary.to_csv(r\".\\jupyter_walkthrough\\metrics\\v4gt_wer_summary.csv\", index=False)"
   ]
  },
  {
   "cell_type": "code",
   "execution_count": 23,
   "id": "2d84d08d-cf43-4d27-9c9f-7b257fc209ad",
   "metadata": {},
   "outputs": [],
   "source": [
    "wer = (I + D + S) / M"
   ]
  },
  {
   "cell_type": "code",
   "execution_count": 26,
   "id": "1bcbc378-bbaa-4643-8724-faf490a91002",
   "metadata": {},
   "outputs": [
    {
     "name": "stdout",
     "output_type": "stream",
     "text": [
      "wer: 0.5768815753978959\n"
     ]
    }
   ],
   "source": [
    "print(f\"wer: {wer}\")"
   ]
  },
  {
   "cell_type": "code",
   "execution_count": 27,
   "id": "2cc6d430-2a76-4adf-8055-301bb1309d97",
   "metadata": {},
   "outputs": [
    {
     "name": "stdout",
     "output_type": "stream",
     "text": [
      "I, D, S, M: (3190, 1431, 3933, 14828)\n"
     ]
    }
   ],
   "source": [
    "print(f\"I, D, S, M: {I, D, S, M}\")"
   ]
  },
  {
   "cell_type": "code",
   "execution_count": 28,
   "id": "f3a7d7aa-ca31-4030-b975-16309c7a4fcb",
   "metadata": {},
   "outputs": [
    {
     "name": "stdout",
     "output_type": "stream",
     "text": [
      "I/M, D/M, S/M: (0.21513353115727002, 0.09650660911788508, 0.2652414351227408)\n"
     ]
    }
   ],
   "source": [
    "print(f\"I/M, D/M, S/M: {I/M, D/M, S/M}\")"
   ]
  },
  {
   "cell_type": "code",
   "execution_count": null,
   "id": "1401f9d4-7307-4f5c-9565-ad0c7ca2f304",
   "metadata": {},
   "outputs": [],
   "source": []
  },
  {
   "cell_type": "code",
   "execution_count": null,
   "id": "ce86e639-0ef3-405b-b6f2-359303da3705",
   "metadata": {},
   "outputs": [],
   "source": []
  },
  {
   "cell_type": "code",
   "execution_count": null,
   "id": "540e72e5-2359-4a3b-a03d-2b22417e450e",
   "metadata": {},
   "outputs": [],
   "source": []
  },
  {
   "cell_type": "code",
   "execution_count": null,
   "id": "fdbfdcc3-404e-4df2-b7ac-63f4f9403f92",
   "metadata": {},
   "outputs": [],
   "source": []
  },
  {
   "cell_type": "code",
   "execution_count": null,
   "id": "66c6e6da-f731-452e-a912-9173a3f7b05e",
   "metadata": {},
   "outputs": [],
   "source": []
  },
  {
   "cell_type": "code",
   "execution_count": null,
   "id": "6026b1b4-c106-4db9-b8ac-b863db6f6fcd",
   "metadata": {},
   "outputs": [],
   "source": []
  },
  {
   "cell_type": "code",
   "execution_count": null,
   "id": "0a1ec9a0-7ed5-42eb-89a0-3d2a056483a4",
   "metadata": {},
   "outputs": [],
   "source": []
  },
  {
   "cell_type": "markdown",
   "id": "9f83a92c-208b-471a-83de-30c90ca3d733",
   "metadata": {},
   "source": [
    "# v5"
   ]
  },
  {
   "cell_type": "code",
   "execution_count": 29,
   "id": "b650f58a-7e53-42db-8c2a-508c12ececfa",
   "metadata": {},
   "outputs": [],
   "source": [
    "tokenizer = get_tokenizer(multilingual=False)  # use multilingual=True if using multilingual model\n",
    "number_tokens = [\n",
    "    i \n",
    "    for i in range(tokenizer.eot)\n",
    "    if all(c in \"0123456789\" for c in tokenizer.decode([i]).removeprefix(\" \"))\n",
    "]"
   ]
  },
  {
   "cell_type": "code",
   "execution_count": 30,
   "id": "82408dd6-87e6-4807-b888-6252db12c396",
   "metadata": {},
   "outputs": [],
   "source": [
    "device = torch.device(\"cuda\" if torch.cuda.is_available() else \"cpu\")\n",
    "\n",
    "whisper_model = whisper.load_model('base.en').to(device)"
   ]
  },
  {
   "cell_type": "code",
   "execution_count": 31,
   "id": "12651064-dd50-41e5-83aa-4465acbecf75",
   "metadata": {},
   "outputs": [],
   "source": [
    "split_txt_val_path = r'.\\preprocessed_data\\Ego4D_final_v5\\val.txt'\n",
    "val_uids = []\n",
    "gt_transcripts_dict = {}\n",
    "with open(split_txt_val_path) as file:\n",
    "    for line in file:\n",
    "        # print(line.split('|')[0])\n",
    "        val_uids.append(line.split('|')[0])\n",
    "        gt_transcripts_dict[line.split('|')[0]] = line.split('|')[-1]"
   ]
  },
  {
   "cell_type": "code",
   "execution_count": 32,
   "id": "26e4037b-f811-40ff-90d4-5b3ef04a2822",
   "metadata": {},
   "outputs": [
    {
     "data": {
      "text/plain": [
       "2715"
      ]
     },
     "execution_count": 32,
     "metadata": {},
     "output_type": "execute_result"
    }
   ],
   "source": [
    "len(val_uids)"
   ]
  },
  {
   "cell_type": "code",
   "execution_count": 33,
   "id": "e33d8025-d0ac-4e8f-a7fb-6b5c3f9b58bf",
   "metadata": {},
   "outputs": [],
   "source": [
    "gt_folder = r'.\\raw_data\\Ego4D_final_v5\\val\\Ego4D_final_v5'"
   ]
  },
  {
   "cell_type": "code",
   "execution_count": 34,
   "id": "d7628586-dde3-4bdf-b006-b037d97fba6e",
   "metadata": {},
   "outputs": [
    {
     "data": {
      "application/vnd.jupyter.widget-view+json": {
       "model_id": "7f0c842ce79845638b9c87dad8d752df",
       "version_major": 2,
       "version_minor": 0
      },
      "text/plain": [
       "  0%|          | 0/2715 [00:00<?, ?it/s]"
      ]
     },
     "metadata": {},
     "output_type": "display_data"
    },
    {
     "name": "stdout",
     "output_type": "stream",
     "text": [
      "CPU times: total: 55min 2s\n",
      "Wall time: 34min 10s\n"
     ]
    }
   ],
   "source": [
    "%%time\n",
    "uids = []\n",
    "whisper_transcripts = []\n",
    "gt_transcripts = []\n",
    "\n",
    "for uid in tqdm(val_uids):\n",
    "    uids.append(uid)\n",
    "    output = whisper_model.transcribe(\n",
    "            op.join(gt_folder, f\"{uid}.wav\"),\n",
    "            suppress_tokens=[-1] + number_tokens,\n",
    "    )\n",
    "    whisper_transcript = output[\"text\"]\n",
    "    gt_transcript = gt_transcripts_dict[uid]\n",
    "\n",
    "    whisper_transcripts.append(whisper_transcript)\n",
    "    gt_transcripts.append(gt_transcript)\n"
   ]
  },
  {
   "cell_type": "code",
   "execution_count": 35,
   "id": "be124e7e-a2cd-4e8a-934f-f3081ac83d2a",
   "metadata": {},
   "outputs": [],
   "source": [
    "whisper_df_v5gt = pd.DataFrame({\n",
    "    'uid': uids,\n",
    "    'whisper_transcripts': whisper_transcripts,\n",
    "    'gt_transcripts': gt_transcripts,\n",
    "})"
   ]
  },
  {
   "cell_type": "code",
   "execution_count": 36,
   "id": "7b971e4e-8747-47d3-9838-916fd4241220",
   "metadata": {},
   "outputs": [
    {
     "data": {
      "text/html": [
       "<div>\n",
       "<style scoped>\n",
       "    .dataframe tbody tr th:only-of-type {\n",
       "        vertical-align: middle;\n",
       "    }\n",
       "\n",
       "    .dataframe tbody tr th {\n",
       "        vertical-align: top;\n",
       "    }\n",
       "\n",
       "    .dataframe thead th {\n",
       "        text-align: right;\n",
       "    }\n",
       "</style>\n",
       "<table border=\"1\" class=\"dataframe\">\n",
       "  <thead>\n",
       "    <tr style=\"text-align: right;\">\n",
       "      <th></th>\n",
       "      <th>uid</th>\n",
       "      <th>whisper_transcripts</th>\n",
       "      <th>gt_transcripts</th>\n",
       "    </tr>\n",
       "  </thead>\n",
       "  <tbody>\n",
       "    <tr>\n",
       "      <th>0</th>\n",
       "      <td>9d58583c-20de-439d-b1cd-9c2265bdedd8</td>\n",
       "      <td>What's...</td>\n",
       "      <td>what \\n</td>\n",
       "    </tr>\n",
       "    <tr>\n",
       "      <th>1</th>\n",
       "      <td>4a506707-52ea-493e-98c4-f667e3222d44</td>\n",
       "      <td>Pretty shit, to be honest.</td>\n",
       "      <td>pretty shit to be honest \\n</td>\n",
       "    </tr>\n",
       "    <tr>\n",
       "      <th>2</th>\n",
       "      <td>0b67f942-6ebf-403d-aff0-f4e5d62d3140</td>\n",
       "      <td>good morning and alms together</td>\n",
       "      <td>oh when you nail them together they won't be ...</td>\n",
       "    </tr>\n",
       "    <tr>\n",
       "      <th>3</th>\n",
       "      <td>c237c6d5-f413-4e25-82e2-af7b408d390a</td>\n",
       "      <td>Not necessarily, because if they're warped ri...</td>\n",
       "      <td>no not necessary cuz if they're warped right ...</td>\n",
       "    </tr>\n",
       "    <tr>\n",
       "      <th>4</th>\n",
       "      <td>22a8a78a-caea-4aa2-be9c-4e02e0d88009</td>\n",
       "      <td>that can reflect this</td>\n",
       "      <td>stand them all down flat \\n</td>\n",
       "    </tr>\n",
       "  </tbody>\n",
       "</table>\n",
       "</div>"
      ],
      "text/plain": [
       "                                    uid   \n",
       "0  9d58583c-20de-439d-b1cd-9c2265bdedd8  \\\n",
       "1  4a506707-52ea-493e-98c4-f667e3222d44   \n",
       "2  0b67f942-6ebf-403d-aff0-f4e5d62d3140   \n",
       "3  c237c6d5-f413-4e25-82e2-af7b408d390a   \n",
       "4  22a8a78a-caea-4aa2-be9c-4e02e0d88009   \n",
       "\n",
       "                                 whisper_transcripts   \n",
       "0                                          What's...  \\\n",
       "1                         Pretty shit, to be honest.   \n",
       "2                     good morning and alms together   \n",
       "3   Not necessarily, because if they're warped ri...   \n",
       "4                              that can reflect this   \n",
       "\n",
       "                                      gt_transcripts  \n",
       "0                                            what \\n  \n",
       "1                        pretty shit to be honest \\n  \n",
       "2   oh when you nail them together they won't be ...  \n",
       "3   no not necessary cuz if they're warped right ...  \n",
       "4                        stand them all down flat \\n  "
      ]
     },
     "execution_count": 36,
     "metadata": {},
     "output_type": "execute_result"
    }
   ],
   "source": [
    "whisper_df_v5gt.head()"
   ]
  },
  {
   "cell_type": "code",
   "execution_count": 37,
   "id": "359b9c63-6616-40f0-986b-1810ef1f9222",
   "metadata": {},
   "outputs": [],
   "source": [
    "whisper_df_v5gt.to_csv(r\".\\jupyter_walkthrough\\metrics\\whisper_df_v5gt.csv\", index=False)"
   ]
  },
  {
   "cell_type": "code",
   "execution_count": null,
   "id": "2ef3aaad-a414-45f6-a0ec-16d8e97df5a8",
   "metadata": {},
   "outputs": [],
   "source": []
  },
  {
   "cell_type": "code",
   "execution_count": 38,
   "id": "fac0b48d-d2c0-490a-a88f-3474c9fc063c",
   "metadata": {},
   "outputs": [],
   "source": [
    "import pandas as pd\n",
    "whisper_df_v5gt = pd.read_csv(r\".\\jupyter_walkthrough\\metrics\\whisper_df_v5gt.csv\")"
   ]
  },
  {
   "cell_type": "code",
   "execution_count": 39,
   "id": "6cbbf394-4b55-474a-898d-26f3006b23a8",
   "metadata": {},
   "outputs": [],
   "source": [
    "whisper_df_v5gt = whisper_df_v5gt.dropna()"
   ]
  },
  {
   "cell_type": "code",
   "execution_count": 40,
   "id": "07bdec37-f8ac-415c-bf92-f57cf0dc2774",
   "metadata": {},
   "outputs": [],
   "source": [
    "normalized_ref = werpy.normalize(\n",
    "    whisper_df_v5gt['gt_transcripts'].values.tolist(),\n",
    ")\n",
    "normalized_hypo = werpy.normalize(\n",
    "    whisper_df_v5gt['whisper_transcripts'].values.tolist(),\n",
    ")"
   ]
  },
  {
   "cell_type": "code",
   "execution_count": 41,
   "id": "c6d223e2-6910-44d2-8362-4e8db410ba79",
   "metadata": {},
   "outputs": [
    {
     "data": {
      "text/plain": [
       "'what'"
      ]
     },
     "execution_count": 41,
     "metadata": {},
     "output_type": "execute_result"
    }
   ],
   "source": [
    "normalized_ref[0]"
   ]
  },
  {
   "cell_type": "code",
   "execution_count": 42,
   "id": "3d7f0b30-17ee-4034-bace-9d024af1ac46",
   "metadata": {},
   "outputs": [
    {
     "data": {
      "text/plain": [
       "'whats'"
      ]
     },
     "execution_count": 42,
     "metadata": {},
     "output_type": "execute_result"
    }
   ],
   "source": [
    "normalized_hypo[0]"
   ]
  },
  {
   "cell_type": "code",
   "execution_count": 43,
   "id": "f8d276c0-2645-465c-b027-410b7f8997f4",
   "metadata": {},
   "outputs": [
    {
     "name": "stdout",
     "output_type": "stream",
     "text": [
      "CPU times: total: 141 ms\n",
      "Wall time: 189 ms\n"
     ]
    },
    {
     "data": {
      "text/html": [
       "<div>\n",
       "<style scoped>\n",
       "    .dataframe tbody tr th:only-of-type {\n",
       "        vertical-align: middle;\n",
       "    }\n",
       "\n",
       "    .dataframe tbody tr th {\n",
       "        vertical-align: top;\n",
       "    }\n",
       "\n",
       "    .dataframe thead th {\n",
       "        text-align: right;\n",
       "    }\n",
       "</style>\n",
       "<table border=\"1\" class=\"dataframe\">\n",
       "  <thead>\n",
       "    <tr style=\"text-align: right;\">\n",
       "      <th></th>\n",
       "      <th>wer</th>\n",
       "      <th>ld</th>\n",
       "      <th>m</th>\n",
       "      <th>insertions</th>\n",
       "      <th>deletions</th>\n",
       "      <th>substitutions</th>\n",
       "      <th>inserted_words</th>\n",
       "      <th>deleted_words</th>\n",
       "      <th>substituted_words</th>\n",
       "    </tr>\n",
       "  </thead>\n",
       "  <tbody>\n",
       "    <tr>\n",
       "      <th>0</th>\n",
       "      <td>4.000000</td>\n",
       "      <td>4</td>\n",
       "      <td>1</td>\n",
       "      <td>0</td>\n",
       "      <td>0</td>\n",
       "      <td>1</td>\n",
       "      <td>[]</td>\n",
       "      <td>[]</td>\n",
       "      <td>[(what, whats)]</td>\n",
       "    </tr>\n",
       "    <tr>\n",
       "      <th>1</th>\n",
       "      <td>0.000000</td>\n",
       "      <td>0</td>\n",
       "      <td>5</td>\n",
       "      <td>0</td>\n",
       "      <td>0</td>\n",
       "      <td>0</td>\n",
       "      <td>[]</td>\n",
       "      <td>[]</td>\n",
       "      <td>[]</td>\n",
       "    </tr>\n",
       "    <tr>\n",
       "      <th>2</th>\n",
       "      <td>3.083333</td>\n",
       "      <td>37</td>\n",
       "      <td>12</td>\n",
       "      <td>0</td>\n",
       "      <td>7</td>\n",
       "      <td>4</td>\n",
       "      <td>[]</td>\n",
       "      <td>[oh, they, wont, be, as, hard, right]</td>\n",
       "      <td>[(when, good), (you, morning), (nail, and), (t...</td>\n",
       "    </tr>\n",
       "    <tr>\n",
       "      <th>3</th>\n",
       "      <td>0.611111</td>\n",
       "      <td>11</td>\n",
       "      <td>18</td>\n",
       "      <td>0</td>\n",
       "      <td>1</td>\n",
       "      <td>2</td>\n",
       "      <td>[]</td>\n",
       "      <td>[no]</td>\n",
       "      <td>[(necessary, necessarily), (cuz, because)]</td>\n",
       "    </tr>\n",
       "    <tr>\n",
       "      <th>4</th>\n",
       "      <td>3.800000</td>\n",
       "      <td>19</td>\n",
       "      <td>5</td>\n",
       "      <td>0</td>\n",
       "      <td>1</td>\n",
       "      <td>4</td>\n",
       "      <td>[]</td>\n",
       "      <td>[stand]</td>\n",
       "      <td>[(them, that), (all, can), (down, reflect), (f...</td>\n",
       "    </tr>\n",
       "    <tr>\n",
       "      <th>...</th>\n",
       "      <td>...</td>\n",
       "      <td>...</td>\n",
       "      <td>...</td>\n",
       "      <td>...</td>\n",
       "      <td>...</td>\n",
       "      <td>...</td>\n",
       "      <td>...</td>\n",
       "      <td>...</td>\n",
       "      <td>...</td>\n",
       "    </tr>\n",
       "    <tr>\n",
       "      <th>2665</th>\n",
       "      <td>0.166667</td>\n",
       "      <td>7</td>\n",
       "      <td>42</td>\n",
       "      <td>1</td>\n",
       "      <td>0</td>\n",
       "      <td>1</td>\n",
       "      <td>[player]</td>\n",
       "      <td>[]</td>\n",
       "      <td>[(a, the)]</td>\n",
       "    </tr>\n",
       "    <tr>\n",
       "      <th>2666</th>\n",
       "      <td>2.960784</td>\n",
       "      <td>151</td>\n",
       "      <td>51</td>\n",
       "      <td>0</td>\n",
       "      <td>49</td>\n",
       "      <td>1</td>\n",
       "      <td>[]</td>\n",
       "      <td>[id, read, the, instructions, to, you, right, ...</td>\n",
       "      <td>[(first, like)]</td>\n",
       "    </tr>\n",
       "    <tr>\n",
       "      <th>2667</th>\n",
       "      <td>0.339286</td>\n",
       "      <td>19</td>\n",
       "      <td>56</td>\n",
       "      <td>0</td>\n",
       "      <td>5</td>\n",
       "      <td>1</td>\n",
       "      <td>[]</td>\n",
       "      <td>[a, and, so, on, and]</td>\n",
       "      <td>[(then, when)]</td>\n",
       "    </tr>\n",
       "    <tr>\n",
       "      <th>2668</th>\n",
       "      <td>0.750000</td>\n",
       "      <td>30</td>\n",
       "      <td>40</td>\n",
       "      <td>10</td>\n",
       "      <td>0</td>\n",
       "      <td>0</td>\n",
       "      <td>[dukkid, dont, accept, ahh, dukk, nikr, nikr, ...</td>\n",
       "      <td>[]</td>\n",
       "      <td>[]</td>\n",
       "    </tr>\n",
       "    <tr>\n",
       "      <th>2669</th>\n",
       "      <td>0.789474</td>\n",
       "      <td>30</td>\n",
       "      <td>38</td>\n",
       "      <td>5</td>\n",
       "      <td>1</td>\n",
       "      <td>3</td>\n",
       "      <td>[you, know, so, kind, of]</td>\n",
       "      <td>[its]</td>\n",
       "      <td>[(can, cant), (than, like), (a, that)]</td>\n",
       "    </tr>\n",
       "  </tbody>\n",
       "</table>\n",
       "<p>2670 rows × 9 columns</p>\n",
       "</div>"
      ],
      "text/plain": [
       "           wer   ld   m  insertions  deletions  substitutions   \n",
       "0     4.000000    4   1           0          0              1  \\\n",
       "1     0.000000    0   5           0          0              0   \n",
       "2     3.083333   37  12           0          7              4   \n",
       "3     0.611111   11  18           0          1              2   \n",
       "4     3.800000   19   5           0          1              4   \n",
       "...        ...  ...  ..         ...        ...            ...   \n",
       "2665  0.166667    7  42           1          0              1   \n",
       "2666  2.960784  151  51           0         49              1   \n",
       "2667  0.339286   19  56           0          5              1   \n",
       "2668  0.750000   30  40          10          0              0   \n",
       "2669  0.789474   30  38           5          1              3   \n",
       "\n",
       "                                         inserted_words   \n",
       "0                                                    []  \\\n",
       "1                                                    []   \n",
       "2                                                    []   \n",
       "3                                                    []   \n",
       "4                                                    []   \n",
       "...                                                 ...   \n",
       "2665                                           [player]   \n",
       "2666                                                 []   \n",
       "2667                                                 []   \n",
       "2668  [dukkid, dont, accept, ahh, dukk, nikr, nikr, ...   \n",
       "2669                          [you, know, so, kind, of]   \n",
       "\n",
       "                                          deleted_words   \n",
       "0                                                    []  \\\n",
       "1                                                    []   \n",
       "2                 [oh, they, wont, be, as, hard, right]   \n",
       "3                                                  [no]   \n",
       "4                                               [stand]   \n",
       "...                                                 ...   \n",
       "2665                                                 []   \n",
       "2666  [id, read, the, instructions, to, you, right, ...   \n",
       "2667                              [a, and, so, on, and]   \n",
       "2668                                                 []   \n",
       "2669                                              [its]   \n",
       "\n",
       "                                      substituted_words  \n",
       "0                                       [(what, whats)]  \n",
       "1                                                    []  \n",
       "2     [(when, good), (you, morning), (nail, and), (t...  \n",
       "3            [(necessary, necessarily), (cuz, because)]  \n",
       "4     [(them, that), (all, can), (down, reflect), (f...  \n",
       "...                                                 ...  \n",
       "2665                                         [(a, the)]  \n",
       "2666                                    [(first, like)]  \n",
       "2667                                     [(then, when)]  \n",
       "2668                                                 []  \n",
       "2669             [(can, cant), (than, like), (a, that)]  \n",
       "\n",
       "[2670 rows x 9 columns]"
      ]
     },
     "execution_count": 43,
     "metadata": {},
     "output_type": "execute_result"
    }
   ],
   "source": [
    "%%time\n",
    "summary = werpy.summary(normalized_ref, normalized_hypo)\n",
    "summary"
   ]
  },
  {
   "cell_type": "code",
   "execution_count": 44,
   "id": "8c1c1d6c-d8d4-47d6-a694-5eb000c728f4",
   "metadata": {},
   "outputs": [],
   "source": [
    "I = summary['insertions'].sum()\n",
    "D = summary['deletions'].sum()\n",
    "S = summary['substitutions'].sum()\n",
    "M = summary['m'].sum()"
   ]
  },
  {
   "cell_type": "code",
   "execution_count": 45,
   "id": "2f685bd7-81cd-419c-8e18-f3a21d0a00eb",
   "metadata": {},
   "outputs": [],
   "source": [
    "summary.to_csv(r\".\\jupyter_walkthrough\\metrics\\v5gt_wer_summary.csv\", index=False)"
   ]
  },
  {
   "cell_type": "code",
   "execution_count": 46,
   "id": "0262507d-f106-4005-a520-c353e673245e",
   "metadata": {},
   "outputs": [],
   "source": [
    "wer = (I + D + S) / M"
   ]
  },
  {
   "cell_type": "code",
   "execution_count": 47,
   "id": "b3981381-fd1f-4e5a-ae83-27f3accb6d32",
   "metadata": {},
   "outputs": [
    {
     "name": "stdout",
     "output_type": "stream",
     "text": [
      "wer: 0.6610960757780785\n"
     ]
    }
   ],
   "source": [
    "print(f\"wer: {wer}\")"
   ]
  },
  {
   "cell_type": "code",
   "execution_count": 48,
   "id": "4cbfdfd6-aacf-4a9a-a616-d32e3f2c50f0",
   "metadata": {},
   "outputs": [
    {
     "name": "stdout",
     "output_type": "stream",
     "text": [
      "I, D, S, M: (2875, 2097, 4799, 14780)\n"
     ]
    }
   ],
   "source": [
    "print(f\"I, D, S, M: {I, D, S, M}\")"
   ]
  },
  {
   "cell_type": "code",
   "execution_count": 49,
   "id": "d0e888ce-41d4-4b8b-99a2-6cab98357759",
   "metadata": {},
   "outputs": [
    {
     "name": "stdout",
     "output_type": "stream",
     "text": [
      "I/M, D/M, S/M: (0.19451962110960758, 0.1418809201623816, 0.3246955345060893)\n"
     ]
    }
   ],
   "source": [
    "print(f\"I/M, D/M, S/M: {I/M, D/M, S/M}\")"
   ]
  },
  {
   "cell_type": "code",
   "execution_count": null,
   "id": "61658f29-7780-4749-98c2-628c7add182f",
   "metadata": {},
   "outputs": [],
   "source": []
  },
  {
   "cell_type": "code",
   "execution_count": null,
   "id": "2f91cf94-d787-49e5-ae88-926503bc9e8f",
   "metadata": {},
   "outputs": [],
   "source": []
  },
  {
   "cell_type": "code",
   "execution_count": null,
   "id": "66e83e86-0d25-4336-9003-5d03c9c7e747",
   "metadata": {},
   "outputs": [],
   "source": []
  },
  {
   "cell_type": "code",
   "execution_count": null,
   "id": "19c2af29-fe70-4423-83c5-b2d68c525a28",
   "metadata": {},
   "outputs": [],
   "source": []
  },
  {
   "cell_type": "code",
   "execution_count": null,
   "id": "d0213077-552f-4dfa-95a8-94c508805aeb",
   "metadata": {},
   "outputs": [],
   "source": []
  },
  {
   "cell_type": "code",
   "execution_count": null,
   "id": "96d0345e-8c59-489e-8407-52797e0dd18f",
   "metadata": {},
   "outputs": [],
   "source": []
  },
  {
   "cell_type": "code",
   "execution_count": null,
   "id": "460b3b54-d727-4844-a117-bdf3ef39e747",
   "metadata": {},
   "outputs": [],
   "source": []
  },
  {
   "cell_type": "code",
   "execution_count": null,
   "id": "38217c6f-326c-41b0-b791-075ab0df66ea",
   "metadata": {},
   "outputs": [],
   "source": []
  }
 ],
 "metadata": {
  "kernelspec": {
   "display_name": "Python 3 (ipykernel)",
   "language": "python",
   "name": "python3"
  },
  "language_info": {
   "codemirror_mode": {
    "name": "ipython",
    "version": 3
   },
   "file_extension": ".py",
   "mimetype": "text/x-python",
   "name": "python",
   "nbconvert_exporter": "python",
   "pygments_lexer": "ipython3",
   "version": "3.11.3"
  }
 },
 "nbformat": 4,
 "nbformat_minor": 5
}
