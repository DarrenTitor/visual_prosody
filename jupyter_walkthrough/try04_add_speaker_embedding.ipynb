{
 "cells": [
  {
   "cell_type": "code",
   "execution_count": 1,
   "id": "cfed61b7-e646-4c2c-adbb-6be925a4054f",
   "metadata": {},
   "outputs": [],
   "source": [
    "import os, sys"
   ]
  },
  {
   "cell_type": "code",
   "execution_count": 2,
   "id": "784e1e4f-5680-4c93-abfc-d9c982645a5b",
   "metadata": {},
   "outputs": [
    {
     "name": "stdout",
     "output_type": "stream",
     "text": [
      "D:\\Schoolwork\\TERM 3\\WORK\\visual_prosody\n"
     ]
    }
   ],
   "source": [
    "%cd \"D:\\Schoolwork\\TERM 3\\WORK\\visual_prosody\""
   ]
  },
  {
   "cell_type": "code",
   "execution_count": 3,
   "id": "956c0e3d-bb11-4086-8241-42c9801b380a",
   "metadata": {},
   "outputs": [],
   "source": [
    "import argparse\n",
    "import yaml\n",
    "import numpy as np\n",
    "from pprint import pprint"
   ]
  },
  {
   "cell_type": "code",
   "execution_count": 4,
   "id": "c013c762-6690-4f5e-83c5-92320164c613",
   "metadata": {},
   "outputs": [],
   "source": [
    "import argparse\n",
    "import os\n",
    "\n",
    "import torch\n",
    "import yaml\n",
    "import torch.nn as nn\n",
    "from torch.utils.data import DataLoader\n",
    "from torch.utils.tensorboard import SummaryWriter\n",
    "# from tqdm import tqdm"
   ]
  },
  {
   "cell_type": "code",
   "execution_count": 5,
   "id": "8a9c1fb1-e90b-4765-beb2-eeee50b938a1",
   "metadata": {},
   "outputs": [],
   "source": [
    "from utils.model import get_model, get_vocoder, get_param_num\n",
    "from utils.tools import to_device, log, synth_one_sample\n",
    "from model import FastSpeech2Loss\n",
    "from dataset import Dataset\n",
    "from utils.auto_tqdm import tqdm\n",
    "\n",
    "from evaluate import evaluate"
   ]
  },
  {
   "cell_type": "code",
   "execution_count": 6,
   "id": "5ccbad40-64f3-4d59-acb1-3ae6cdd114f9",
   "metadata": {},
   "outputs": [],
   "source": [
    "device = torch.device(\"cuda\" if torch.cuda.is_available() else \"cpu\")"
   ]
  },
  {
   "cell_type": "code",
   "execution_count": null,
   "id": "88fb946f-7cfe-476c-9aef-937d051aff93",
   "metadata": {},
   "outputs": [],
   "source": []
  },
  {
   "cell_type": "code",
   "execution_count": 7,
   "id": "ac97eb21-33f6-4a3a-ab44-c7c65b9d48e9",
   "metadata": {},
   "outputs": [],
   "source": [
    "parser = argparse.ArgumentParser()\n",
    "parser.add_argument(\"--restore_step\", type=int, default=0)\n",
    "parser.add_argument(\n",
    "    \"-p\",\n",
    "    \"--preprocess_config\",\n",
    "    type=str,\n",
    "    required=True,\n",
    "    help=\"path to preprocess.yaml\",\n",
    ")\n",
    "parser.add_argument(\n",
    "    \"-m\", \"--model_config\", type=str, required=True, help=\"path to model.yaml\"\n",
    ")\n",
    "parser.add_argument(\n",
    "    \"-t\", \"--train_config\", type=str, required=True, help=\"path to train.yaml\"\n",
    ")\n",
    "\n",
    "argString = '-p ./config/Ego4D_final_v6/0625a_preprocess.yaml -m ./config/Ego4D_final_v6/0625a_model.yaml -t ./config/Ego4D_final_v6/0625a_train.yaml'\n",
    "# args = parser.parse_args()\n",
    "args = parser.parse_args(argString.split())"
   ]
  },
  {
   "cell_type": "code",
   "execution_count": 8,
   "id": "566dfac3-c435-44e3-8680-7c689471ac10",
   "metadata": {},
   "outputs": [
    {
     "data": {
      "text/plain": [
       "Namespace(restore_step=0, preprocess_config='./config/Ego4D_final_v6/0625a_preprocess.yaml', model_config='./config/Ego4D_final_v6/0625a_model.yaml', train_config='./config/Ego4D_final_v6/0625a_train.yaml')"
      ]
     },
     "execution_count": 8,
     "metadata": {},
     "output_type": "execute_result"
    }
   ],
   "source": [
    "args"
   ]
  },
  {
   "cell_type": "code",
   "execution_count": null,
   "id": "260c43cf-a310-4f53-9f18-bdf346d71632",
   "metadata": {},
   "outputs": [],
   "source": [
    "# Read Config\n",
    "preprocess_config = yaml.load(\n",
    "    open(args.preprocess_config, \"r\"), Loader=yaml.FullLoader\n",
    ")\n",
    "model_config = yaml.load(open(args.model_config, \"r\"), Loader=yaml.FullLoader)\n",
    "train_config = yaml.load(open(args.train_config, \"r\"), Loader=yaml.FullLoader)\n",
    "configs = (preprocess_config, model_config, train_config)"
   ]
  },
  {
   "cell_type": "code",
   "execution_count": null,
   "id": "a500269b-ea23-432b-afd4-0364c0f27553",
   "metadata": {},
   "outputs": [],
   "source": []
  },
  {
   "cell_type": "code",
   "execution_count": 10,
   "id": "0a405948-bee0-40d0-93a5-d8281f8db867",
   "metadata": {},
   "outputs": [],
   "source": [
    "# main()"
   ]
  },
  {
   "cell_type": "code",
   "execution_count": 11,
   "id": "cbc68290-d15d-497c-bb98-4d3095e464db",
   "metadata": {},
   "outputs": [
    {
     "name": "stdout",
     "output_type": "stream",
     "text": [
      "Prepare training ...\n"
     ]
    }
   ],
   "source": [
    "print(\"Prepare training ...\")\n",
    "\n",
    "preprocess_config, model_config, train_config = configs\n",
    "\n",
    "# Get dataset\n",
    "dataset = Dataset(\n",
    "    \"train.txt\", 'train', preprocess_config, train_config, sort=True, drop_last=True\n",
    ")"
   ]
  },
  {
   "cell_type": "code",
   "execution_count": 12,
   "id": "eb1e7626-4ccb-4129-8f74-6c9bd4bff73d",
   "metadata": {},
   "outputs": [
    {
     "data": {
      "text/plain": [
       "27292"
      ]
     },
     "execution_count": 12,
     "metadata": {},
     "output_type": "execute_result"
    }
   ],
   "source": [
    "len(dataset)"
   ]
  },
  {
   "cell_type": "code",
   "execution_count": 13,
   "id": "29dd8768-2023-4b83-8520-707474d9c399",
   "metadata": {},
   "outputs": [
    {
     "name": "stdout",
     "output_type": "stream",
     "text": [
      "{'duration': array([12,  5,  4,  6,  2,  3,  2,  3,  7,  3,  5,  4,  3,  2,  5,  3,  2,\n",
      "        7, 19], dtype=int64),\n",
      " 'energy': array([-0.28664967, -0.81794465, -0.21089569,  1.7952452 ,  2.4001818 ,\n",
      "        1.5255114 ,  0.955319  ,  0.7556556 ,  1.7037253 ,  0.32923424,\n",
      "       -0.7877115 , -0.7344083 , -0.21618795, -0.43786454, -0.3020548 ,\n",
      "       -0.24257718, -0.37000364, -0.7311336 , -0.43382198], dtype=float32),\n",
      " 'id': '634b2f0d-2cca-4bc6-bb13-905c0c2748e7',\n",
      " 'mel': array([[ -6.924207 ,  -7.505341 ,  -7.517166 , ..., -11.512925 ,\n",
      "        -11.512925 , -11.512925 ],\n",
      "       [ -6.4425254,  -7.5613546,  -7.367668 , ..., -11.512925 ,\n",
      "        -11.512925 , -11.512925 ],\n",
      "       [ -6.4373703,  -7.5682425,  -7.524733 , ..., -11.512925 ,\n",
      "        -11.512925 , -11.512925 ],\n",
      "       ...,\n",
      "       [ -5.631855 ,  -4.829329 ,  -4.142794 , ..., -11.512925 ,\n",
      "        -11.512925 , -11.512925 ],\n",
      "       [ -6.1263156,  -6.160098 ,  -5.7407236, ..., -11.512925 ,\n",
      "        -11.512925 , -11.512925 ],\n",
      "       [ -6.8944654,  -7.3485775,  -6.411111 , ..., -11.512925 ,\n",
      "        -11.512925 , -11.512925 ]], dtype=float32),\n",
      " 'pitch': array([-0.48327091, -0.91128588, -0.63937056, -0.25263449, -0.05432614,\n",
      "        0.01634037, -0.14796954, -0.38112047, -0.64518961, -0.75221834,\n",
      "       -0.79432674, -0.71877887, -0.61234244, -0.77281688, -0.88101325,\n",
      "       -0.95989204, -0.98461602, -1.03405799, -0.91551963]),\n",
      " 'raw_text': \" i feel like that's what we'll do \",\n",
      " 'speaker': 0,\n",
      " 'speaker_embedding': array([ 40.14426   ,  11.208079  ,   4.195581  ,   2.055107  ,\n",
      "        37.01974   , -11.05126   ,   1.1092067 ,   6.3075037 ,\n",
      "        -1.1185174 ,  16.023209  ,   5.969073  ,  16.964293  ,\n",
      "        36.674896  , -18.259651  ,  18.08123   ,   9.833348  ,\n",
      "        -1.9370774 ,  24.828957  ,   2.3888242 ,   3.9777908 ,\n",
      "         0.15152943, -10.373086  ,  22.521236  ,   6.975626  ,\n",
      "        -2.2590199 ,   2.7224205 , -22.29026   ,  14.921343  ,\n",
      "         6.685968  , -14.664499  ,   1.985331  ,  11.225831  ,\n",
      "       -24.514198  , -24.000141  , -20.388508  , -42.1862    ,\n",
      "        12.431404  ,   2.1060505 ,  24.296698  ,  47.519375  ,\n",
      "         5.982389  ,  -0.7053829 ,  40.47611   ,  -9.757448  ,\n",
      "        11.252968  ,   7.04455   ,   6.377541  , -15.18419   ,\n",
      "        31.858566  ,  -3.3548496 ,   6.567302  ,  18.272     ,\n",
      "        -3.447296  ,  14.551883  ,   4.4622216 ,  -3.6564279 ,\n",
      "       -12.032599  ,   8.817059  ,  15.073917  ,   4.0304213 ,\n",
      "        26.983707  , -17.239408  , -21.025602  ,  12.455589  ,\n",
      "       -20.762491  ,  29.31258   ,  -3.7634425 ,  -7.8667912 ,\n",
      "        20.83223   , -18.074808  ,  23.42321   ,  48.83491   ,\n",
      "         9.860026  , -29.186846  ,  -4.5618896 ,  -0.879816  ,\n",
      "       -15.131224  , -18.612059  ,  -0.06122416,  14.82085   ,\n",
      "        14.102528  ,  30.88887   ,  42.62654   , -25.527843  ,\n",
      "         4.5762205 ,  21.832796  ,  -1.2792591 ,  -3.2767127 ,\n",
      "       -21.863382  ,  14.936519  , -35.060955  , -20.647766  ,\n",
      "        18.579342  ,  15.1700115 , -10.878574  ,  -4.071745  ,\n",
      "        18.5149    , -15.200897  ,  -6.0818777 ,   7.4360313 ,\n",
      "       -14.445364  ,  18.841684  , -12.106619  ,  26.275587  ,\n",
      "       -21.333557  ,   5.612413  ,  32.908005  ,  24.354502  ,\n",
      "       -32.220062  ,  -7.1405525 , -21.599766  ,  -2.3632717 ,\n",
      "         5.430199  ,   2.2853456 ,   1.0706282 ,   2.8787017 ,\n",
      "        45.537815  , -45.446247  ,  15.485516  , -11.760448  ,\n",
      "        12.805984  ,  25.313328  , -31.635324  ,   1.8630615 ,\n",
      "        26.0032    ,   0.9928616 , -23.451387  , -11.8952875 ,\n",
      "       -17.197802  ,  24.173262  ,  16.383196  , -11.101247  ,\n",
      "       -25.076616  , -21.202074  ,  20.584557  , -11.872281  ,\n",
      "       -12.744255  , -25.534943  ,   3.8273337 , -33.32388   ,\n",
      "        -9.505739  ,  17.300268  ,  20.11439   , -24.16563   ,\n",
      "         4.4789176 ,  -2.5381613 ,  -8.28944   ,  15.101223  ,\n",
      "        -9.861124  ,   2.09945   , -19.715601  ,  23.66505   ,\n",
      "       -25.092783  ,  -6.079918  ,   8.985463  , -17.887678  ,\n",
      "        -6.313823  ,  32.97133   , -25.108616  , -20.274221  ,\n",
      "       -17.370153  ,  10.025974  ,  -4.3752656 , -14.2153635 ,\n",
      "        28.168358  ,  -5.722075  , -23.85923   , -21.408985  ,\n",
      "       -11.490193  ,  18.543854  ,   7.525064  , -51.152718  ,\n",
      "       -12.0860615 ,  24.95627   ,  23.085527  , -22.93141   ,\n",
      "        30.997026  ,  20.895609  ,  -8.432519  ,  -8.30901   ,\n",
      "        26.859123  ,  33.421078  , -35.73672   ,  32.744015  ,\n",
      "        15.588183  ,  -3.7877388 , -18.79291   ,   1.47036   ,\n",
      "        14.092192  ,  16.953089  ,  11.635458  ,  26.064976  ],\n",
      "      dtype=float32),\n",
      " 'text': array([ 86, 104, 113, 117, 117,  86, 116,  91,  70, 133, 131, 144,  74,\n",
      "       133, 144, 113, 117,  90, 141])}\n"
     ]
    }
   ],
   "source": [
    "pprint(dataset[0])"
   ]
  },
  {
   "cell_type": "code",
   "execution_count": 14,
   "id": "7bbd994d-7c9b-4647-a009-f7bf239553ff",
   "metadata": {},
   "outputs": [
    {
     "data": {
      "text/plain": [
       "(192,)"
      ]
     },
     "execution_count": 14,
     "metadata": {},
     "output_type": "execute_result"
    }
   ],
   "source": [
    "dataset[0]['speaker_embedding'].shape"
   ]
  },
  {
   "cell_type": "code",
   "execution_count": 15,
   "id": "51044f6f-28d8-4bbe-8534-387c13481526",
   "metadata": {},
   "outputs": [
    {
     "data": {
      "text/plain": [
       "(19,)"
      ]
     },
     "execution_count": 15,
     "metadata": {},
     "output_type": "execute_result"
    }
   ],
   "source": [
    "dataset[0]['pitch'].shape"
   ]
  },
  {
   "cell_type": "code",
   "execution_count": 16,
   "id": "20a421fa-892c-4bc1-bddb-c0cc19a59db5",
   "metadata": {},
   "outputs": [
    {
     "data": {
      "text/plain": [
       "(97, 80)"
      ]
     },
     "execution_count": 16,
     "metadata": {},
     "output_type": "execute_result"
    }
   ],
   "source": [
    "dataset[0]['mel'].shape"
   ]
  },
  {
   "cell_type": "code",
   "execution_count": 17,
   "id": "08fab211-ac40-4511-9b6e-2be0b77eeea5",
   "metadata": {},
   "outputs": [],
   "source": [
    "# batch_size = train_config[\"optimizer\"][\"batch_size\"]\n",
    "batch_size = 6\n",
    "group_size = 4  # Set this larger than 1 to enable sorting in Dataset\n",
    "assert batch_size * group_size < len(dataset)\n",
    "loader = DataLoader(\n",
    "    dataset,\n",
    "    batch_size=batch_size * group_size,\n",
    "    shuffle=True,\n",
    "    collate_fn=dataset.collate_fn,\n",
    ")"
   ]
  },
  {
   "cell_type": "code",
   "execution_count": 18,
   "id": "563fe8cf-0d86-415b-b4bb-4dcbf4d098c7",
   "metadata": {},
   "outputs": [
    {
     "data": {
      "text/plain": [
       "6"
      ]
     },
     "execution_count": 18,
     "metadata": {},
     "output_type": "execute_result"
    }
   ],
   "source": [
    "batch_size"
   ]
  },
  {
   "cell_type": "code",
   "execution_count": 19,
   "id": "850601e0-495f-49e0-ae80-1dcaf217f3f1",
   "metadata": {},
   "outputs": [
    {
     "name": "stdout",
     "output_type": "stream",
     "text": [
      "1223123123\n",
      "speaker_embeddings.dtype: float32\n"
     ]
    }
   ],
   "source": [
    "for data in loader:\n",
    "    break"
   ]
  },
  {
   "cell_type": "code",
   "execution_count": 20,
   "id": "45ce02ec-9130-42be-a274-b5ebf440fc33",
   "metadata": {},
   "outputs": [
    {
     "data": {
      "text/plain": [
       "1"
      ]
     },
     "execution_count": 20,
     "metadata": {},
     "output_type": "execute_result"
    }
   ],
   "source": [
    "len(data)"
   ]
  },
  {
   "cell_type": "code",
   "execution_count": 21,
   "id": "2d1d0212-705f-4614-9e19-bacd193328fb",
   "metadata": {},
   "outputs": [
    {
     "name": "stdout",
     "output_type": "stream",
     "text": [
      "(24, 192)\n"
     ]
    }
   ],
   "source": [
    "# return (\n",
    "#     ids,\n",
    "#     raw_texts,\n",
    "#     speakers,\n",
    "#     texts,\n",
    "#     text_lens,\n",
    "#     max(text_lens),\n",
    "#     mels,\n",
    "#     mel_lens,\n",
    "#     max(mel_lens),\n",
    "#     pitches,\n",
    "#     energies,\n",
    "#     durations,\n",
    "#     speaker_embeddings,\n",
    "# )\n",
    "# [12] 对应speaker embedding\n",
    "for item in data:\n",
    "    print(item[12].shape)"
   ]
  },
  {
   "cell_type": "code",
   "execution_count": 22,
   "id": "a0371225-2054-4fb9-9f30-a26217c6b39a",
   "metadata": {},
   "outputs": [
    {
     "name": "stdout",
     "output_type": "stream",
     "text": [
      "(24, 80)\n"
     ]
    }
   ],
   "source": [
    "for item in data:\n",
    "    print(item[11].shape)"
   ]
  },
  {
   "cell_type": "code",
   "execution_count": 23,
   "id": "466bd8f6-2777-4994-ada2-6c09b28cc473",
   "metadata": {},
   "outputs": [
    {
     "name": "stdout",
     "output_type": "stream",
     "text": [
      "(24, 80)\n"
     ]
    }
   ],
   "source": [
    "for item in data:\n",
    "    print(item[3].shape)"
   ]
  },
  {
   "cell_type": "code",
   "execution_count": 24,
   "id": "50f4566a-cf97-4742-a2d7-67bf39dd4d28",
   "metadata": {},
   "outputs": [
    {
     "name": "stdout",
     "output_type": "stream",
     "text": [
      "(24,)\n"
     ]
    }
   ],
   "source": [
    "for item in data:\n",
    "    print(item[4].shape)"
   ]
  },
  {
   "cell_type": "code",
   "execution_count": null,
   "id": "748f3f27-186c-42f9-b311-fe690ec2ea0d",
   "metadata": {},
   "outputs": [],
   "source": []
  },
  {
   "cell_type": "code",
   "execution_count": null,
   "id": "962d9f71-0a0f-4cab-a140-eb4238a91e6f",
   "metadata": {},
   "outputs": [],
   "source": []
  },
  {
   "cell_type": "code",
   "execution_count": 25,
   "id": "894a5403-ac1f-4c96-b142-dc25d601b6e9",
   "metadata": {},
   "outputs": [
    {
     "name": "stdout",
     "output_type": "stream",
     "text": [
      "Number of FastSpeech2 Parameters: 35208513\n",
      "Removing weight norm...\n"
     ]
    }
   ],
   "source": [
    "# Prepare model\n",
    "model, optimizer = get_model(args, configs, device, train=True)\n",
    "model = nn.DataParallel(model)\n",
    "num_param = get_param_num(model)\n",
    "Loss = FastSpeech2Loss(preprocess_config, model_config).to(device)\n",
    "print(\"Number of FastSpeech2 Parameters:\", num_param)\n",
    "\n",
    "# Load vocoder\n",
    "vocoder = get_vocoder(model_config, device)"
   ]
  },
  {
   "cell_type": "code",
   "execution_count": 26,
   "id": "0aae397f-02d7-4d7a-a77d-63f4578396cf",
   "metadata": {},
   "outputs": [],
   "source": [
    "# # Init logger\n",
    "# for p in train_config[\"path\"].values():\n",
    "#     os.makedirs(p, exist_ok=True)\n",
    "# train_log_path = os.path.join(train_config[\"path\"][\"log_path\"], \"train\")\n",
    "# val_log_path = os.path.join(train_config[\"path\"][\"log_path\"], \"val\")\n",
    "# os.makedirs(train_log_path, exist_ok=True)\n",
    "# os.makedirs(val_log_path, exist_ok=True)\n",
    "# train_logger = SummaryWriter(train_log_path)\n",
    "# val_logger = SummaryWriter(val_log_path)\n"
   ]
  },
  {
   "cell_type": "code",
   "execution_count": 27,
   "id": "2a3be953-0e05-4d3d-a428-8b31478bc7bb",
   "metadata": {},
   "outputs": [],
   "source": [
    "# Training\n",
    "step = args.restore_step + 1\n",
    "epoch = 1\n",
    "grad_acc_step = train_config[\"optimizer\"][\"grad_acc_step\"]\n",
    "grad_clip_thresh = train_config[\"optimizer\"][\"grad_clip_thresh\"]\n",
    "total_step = train_config[\"step\"][\"total_step\"]\n",
    "log_step = train_config[\"step\"][\"log_step\"]\n",
    "save_step = train_config[\"step\"][\"save_step\"]\n",
    "synth_step = train_config[\"step\"][\"synth_step\"]\n",
    "val_step = train_config[\"step\"][\"val_step\"]"
   ]
  },
  {
   "cell_type": "code",
   "execution_count": 31,
   "id": "070cf948-db1d-4264-a8f6-47e4000e669e",
   "metadata": {},
   "outputs": [
    {
     "data": {
      "text/plain": [
       "1"
      ]
     },
     "execution_count": 31,
     "metadata": {},
     "output_type": "execute_result"
    }
   ],
   "source": [
    "1"
   ]
  },
  {
   "cell_type": "code",
   "execution_count": 28,
   "id": "978e65e1-252d-491f-93fa-d11dacf172ce",
   "metadata": {},
   "outputs": [
    {
     "name": "stdout",
     "output_type": "stream",
     "text": [
      "1223123123\n",
      "speaker_embeddings.dtype: float32\n",
      "=====\n",
      "output.shape:  torch.Size([24, 85, 256])\n",
      "speaker_embeddings.shape: torch.Size([24, 192])\n",
      "max_src_len: 85\n",
      "=====\n",
      "speaker_embeddings.dtype:  torch.float32\n",
      "expanded_embeddings.shape:  torch.Size([24, 85, 256])\n"
     ]
    }
   ],
   "source": [
    "for batchs in loader:\n",
    "    for batch in batchs:\n",
    "        batch = to_device(batch, device)\n",
    "        temp_batch = (batch[2:])\n",
    "        output = model(*(batch[2:]))\n",
    "        break\n",
    "    break"
   ]
  },
  {
   "cell_type": "code",
   "execution_count": 34,
   "id": "561c55e4-fb89-4167-8a41-631b764df7a0",
   "metadata": {},
   "outputs": [
    {
     "data": {
      "text/plain": [
       "10"
      ]
     },
     "execution_count": 34,
     "metadata": {},
     "output_type": "execute_result"
    }
   ],
   "source": [
    "len(output)"
   ]
  },
  {
   "cell_type": "code",
   "execution_count": 35,
   "id": "d7a72309-a040-4087-b7de-202a5dbec378",
   "metadata": {},
   "outputs": [
    {
     "data": {
      "text/plain": [
       "(tensor([[[ 8.4385e-01, -2.9523e-01, -2.3488e-02,  ..., -3.5501e-01,\n",
       "           -7.0581e-01,  6.6764e-01],\n",
       "          [ 4.6136e-01, -8.2919e-01, -2.8015e-01,  ...,  9.5114e-02,\n",
       "           -7.4012e-01,  1.0405e+00],\n",
       "          [ 5.0622e-01, -4.0070e-01, -6.2528e-01,  ...,  2.2488e-01,\n",
       "           -7.9387e-01,  8.3428e-01],\n",
       "          ...,\n",
       "          [ 9.8646e-01, -6.5670e-01,  8.0198e-02,  ...,  1.5776e-01,\n",
       "           -3.2110e-02,  6.7201e-01],\n",
       "          [ 7.3551e-01, -4.0821e-01,  1.2232e-02,  ...,  2.0419e-01,\n",
       "           -3.2390e-01,  7.3182e-01],\n",
       "          [ 7.0838e-01, -5.6651e-02,  1.7995e-01,  ..., -1.2784e-01,\n",
       "           -2.8903e-01,  9.0250e-01]],\n",
       " \n",
       "         [[-1.0785e-01, -4.9586e-01, -7.3096e-01,  ...,  3.9264e-01,\n",
       "           -2.5788e-01,  7.8091e-01],\n",
       "          [ 2.5060e-01, -1.1282e+00, -2.4798e-01,  ...,  3.5738e-01,\n",
       "           -1.1274e-02,  9.2995e-01],\n",
       "          [ 1.8820e-01, -9.4311e-01,  8.4477e-02,  ...,  4.6814e-01,\n",
       "           -3.3119e-01,  9.6642e-01],\n",
       "          ...,\n",
       "          [ 3.1103e-02, -4.9199e-02,  3.9828e-02,  ...,  3.8898e-02,\n",
       "           -1.1482e-03,  1.2159e-02],\n",
       "          [ 3.1103e-02, -4.9199e-02,  3.9828e-02,  ...,  3.8898e-02,\n",
       "           -1.1482e-03,  1.2159e-02],\n",
       "          [ 3.1103e-02, -4.9199e-02,  3.9828e-02,  ...,  3.8898e-02,\n",
       "           -1.1482e-03,  1.2159e-02]],\n",
       " \n",
       "         [[ 1.8650e-02, -3.2591e-01,  4.0776e-01,  ...,  4.9295e-01,\n",
       "            6.1999e-02,  1.2126e+00],\n",
       "          [-4.2955e-02, -5.5331e-01,  4.6732e-01,  ...,  6.2152e-01,\n",
       "            6.8498e-02,  1.0384e+00],\n",
       "          [-4.2739e-01, -8.0435e-01,  1.3157e-01,  ...,  6.1458e-01,\n",
       "           -5.7619e-01,  9.3625e-01],\n",
       "          ...,\n",
       "          [ 3.1103e-02, -4.9199e-02,  3.9828e-02,  ...,  3.8898e-02,\n",
       "           -1.1482e-03,  1.2159e-02],\n",
       "          [ 3.1103e-02, -4.9199e-02,  3.9828e-02,  ...,  3.8898e-02,\n",
       "           -1.1482e-03,  1.2159e-02],\n",
       "          [ 3.1103e-02, -4.9199e-02,  3.9828e-02,  ...,  3.8898e-02,\n",
       "           -1.1482e-03,  1.2159e-02]],\n",
       " \n",
       "         ...,\n",
       " \n",
       "         [[ 7.2711e-01, -4.1952e-01,  6.7326e-01,  ..., -1.8339e-01,\n",
       "           -1.2925e-01,  3.5332e-01],\n",
       "          [ 2.3246e-01, -5.1187e-01,  6.1698e-01,  ...,  1.4361e-01,\n",
       "            3.4977e-01,  3.1392e-02],\n",
       "          [ 3.3866e-01, -6.4481e-01,  9.6910e-01,  ...,  1.4215e-01,\n",
       "           -1.0229e-01,  4.7656e-01],\n",
       "          ...,\n",
       "          [ 3.1103e-02, -4.9199e-02,  3.9828e-02,  ...,  3.8898e-02,\n",
       "           -1.1482e-03,  1.2159e-02],\n",
       "          [ 3.1103e-02, -4.9199e-02,  3.9828e-02,  ...,  3.8898e-02,\n",
       "           -1.1482e-03,  1.2159e-02],\n",
       "          [ 3.1103e-02, -4.9199e-02,  3.9828e-02,  ...,  3.8898e-02,\n",
       "           -1.1482e-03,  1.2159e-02]],\n",
       " \n",
       "         [[-2.3990e-01, -8.7865e-01,  4.2312e-01,  ...,  1.2377e-01,\n",
       "            2.7911e-01,  8.9137e-01],\n",
       "          [-6.6244e-01, -1.0880e+00,  2.0035e-01,  ..., -3.1483e-02,\n",
       "            4.0336e-01,  6.2930e-01],\n",
       "          [-1.7940e-01, -7.3259e-01,  2.1190e-01,  ...,  2.5305e-01,\n",
       "            8.0566e-01,  3.7306e-01],\n",
       "          ...,\n",
       "          [ 3.1103e-02, -4.9199e-02,  3.9828e-02,  ...,  3.8898e-02,\n",
       "           -1.1482e-03,  1.2159e-02],\n",
       "          [ 3.1103e-02, -4.9199e-02,  3.9828e-02,  ...,  3.8898e-02,\n",
       "           -1.1482e-03,  1.2159e-02],\n",
       "          [ 3.1103e-02, -4.9199e-02,  3.9828e-02,  ...,  3.8898e-02,\n",
       "           -1.1482e-03,  1.2159e-02]],\n",
       " \n",
       "         [[-3.5829e-02,  4.6929e-01,  6.9988e-01,  ...,  8.5137e-01,\n",
       "            3.0483e-01,  7.2783e-01],\n",
       "          [-1.4802e-01,  6.5317e-02,  1.9450e-01,  ...,  7.4955e-01,\n",
       "            2.3375e-01,  6.9210e-01],\n",
       "          [-5.8126e-01,  1.6951e-01,  3.4072e-01,  ...,  5.2190e-01,\n",
       "            5.4899e-01,  1.2432e+00],\n",
       "          ...,\n",
       "          [ 3.1103e-02, -4.9199e-02,  3.9828e-02,  ...,  3.8898e-02,\n",
       "           -1.1482e-03,  1.2159e-02],\n",
       "          [ 3.1103e-02, -4.9199e-02,  3.9828e-02,  ...,  3.8898e-02,\n",
       "           -1.1482e-03,  1.2159e-02],\n",
       "          [ 3.1103e-02, -4.9199e-02,  3.9828e-02,  ...,  3.8898e-02,\n",
       "           -1.1482e-03,  1.2159e-02]]], device='cuda:0',\n",
       "        grad_fn=<ViewBackward0>),\n",
       " tensor([[[ 1.9781e+00,  4.5927e-03, -2.3488e-02,  ...,  9.8566e-01,\n",
       "           -1.1177e+00, -1.2555e+00],\n",
       "          [ 4.6136e-01, -8.2919e-01,  9.1244e-01,  ...,  9.5114e-02,\n",
       "           -7.4012e-01,  1.0405e+00],\n",
       "          [ 5.0622e-01,  3.8710e+00, -6.2528e-01,  ...,  2.2488e-01,\n",
       "           -3.1544e+00, -2.8110e+00],\n",
       "          ...,\n",
       "          [ 9.8646e-01, -6.5670e-01,  8.0198e-02,  ...,  4.0909e+00,\n",
       "            3.3344e-01,  1.2581e+00],\n",
       "          [ 7.3551e-01, -1.4576e+00,  1.2232e-02,  ..., -1.8399e+00,\n",
       "            1.7369e-01,  7.3182e-01],\n",
       "          [ 1.6677e+00, -5.6651e-02,  1.7995e-01,  ..., -1.5230e+00,\n",
       "           -2.8903e-01,  9.0250e-01]],\n",
       " \n",
       "         [[-1.0785e-01,  1.8532e+00, -1.7131e-01,  ...,  1.3034e+00,\n",
       "           -2.5788e-01,  1.0944e+00],\n",
       "          [-1.6118e+00, -1.1282e+00, -1.7116e-02,  ...,  1.4999e+00,\n",
       "            2.5194e+00,  9.2995e-01],\n",
       "          [ 1.8820e-01,  1.1034e+00,  8.4477e-02,  ..., -8.6231e-01,\n",
       "            3.4733e-01,  9.6642e-01],\n",
       "          ...,\n",
       "          [ 3.1103e-02,  8.7600e-01,  2.3386e-01,  ..., -1.6050e+00,\n",
       "           -1.1482e-03,  1.5291e+00],\n",
       "          [ 5.4988e-01,  8.9201e-01, -7.9910e-01,  ..., -5.1529e-01,\n",
       "           -1.1335e-01, -2.0633e-01],\n",
       "          [-1.5174e+00, -4.9199e-02,  3.9828e-02,  ...,  4.3404e-01,\n",
       "           -5.1427e-01,  1.2159e-02]],\n",
       " \n",
       "         [[ 1.2177e-01, -3.2180e+00,  4.0776e-01,  ...,  4.9295e-01,\n",
       "            6.1999e-02,  1.1140e+00],\n",
       "          [-1.7109e+00, -5.5331e-01, -9.5491e-01,  ...,  1.7832e+00,\n",
       "            6.8498e-02,  1.0384e+00],\n",
       "          [-4.2739e-01, -8.0435e-01,  1.3157e-01,  ...,  6.1458e-01,\n",
       "           -5.7619e-01,  1.2631e+00],\n",
       "          ...,\n",
       "          [ 3.1103e-02, -4.9199e-02,  1.3522e+00,  ..., -1.9230e+00,\n",
       "            8.1241e-01,  1.2159e-02],\n",
       "          [ 3.1103e-02, -4.9199e-02,  3.9828e-02,  ...,  3.8898e-02,\n",
       "           -1.1482e-03,  1.2159e-02],\n",
       "          [ 3.1103e-02, -4.9199e-02,  3.9828e-02,  ..., -6.8082e-01,\n",
       "           -1.1482e-03,  1.2159e-02]],\n",
       " \n",
       "         ...,\n",
       " \n",
       "         [[ 7.2711e-01, -4.1952e-01,  7.7241e-01,  ..., -3.0892e+00,\n",
       "           -1.8098e+00, -1.2609e+00],\n",
       "          [ 2.3246e-01, -5.1187e-01,  6.5087e-01,  ...,  4.6075e-01,\n",
       "            3.3916e+00,  3.1392e-02],\n",
       "          [-3.1296e+00, -4.7867e+00,  9.6910e-01,  ...,  1.4911e+00,\n",
       "           -1.0229e-01,  4.7656e-01],\n",
       "          ...,\n",
       "          [ 3.1103e-02,  2.2213e+00,  3.9828e-02,  ...,  3.8898e-02,\n",
       "            1.6008e+00, -1.2880e+00],\n",
       "          [ 3.1103e-02,  1.0563e+00,  2.7694e+00,  ...,  3.8898e-02,\n",
       "           -1.1482e-03,  1.1954e+00],\n",
       "          [ 3.1103e-02, -8.1884e-01,  3.9828e-02,  ..., -2.5111e+00,\n",
       "           -1.1482e-03,  1.2159e-02]],\n",
       " \n",
       "         [[-1.2526e+00, -8.7865e-01,  4.2312e-01,  ..., -1.5718e+00,\n",
       "           -1.6724e+00, -8.4692e-01],\n",
       "          [-1.4955e+00, -2.3440e+00,  2.0035e-01,  ..., -2.0802e+00,\n",
       "            4.0336e-01,  9.9741e-01],\n",
       "          [-1.7940e-01, -3.3392e+00,  1.4567e+00,  ..., -1.8869e+00,\n",
       "            8.0566e-01,  3.7306e-01],\n",
       "          ...,\n",
       "          [ 3.1103e-02,  6.0663e-01, -2.1418e+00,  ...,  3.0099e+00,\n",
       "           -1.1482e-03,  1.2159e-02],\n",
       "          [ 3.1103e-02,  5.7406e-01, -2.3584e-01,  ..., -2.2338e+00,\n",
       "            9.8501e-01, -2.1497e-01],\n",
       "          [ 5.3255e-01, -1.2944e+00,  8.9599e-01,  ..., -1.0442e+00,\n",
       "           -1.1482e-03, -6.0995e-01]],\n",
       " \n",
       "         [[ 4.1575e-01, -2.0419e+00,  9.5671e-01,  ...,  8.5137e-01,\n",
       "            3.0483e-01,  7.2783e-01],\n",
       "          [-3.7165e+00,  6.5317e-02, -1.7643e+00,  ..., -9.7687e-03,\n",
       "            2.3375e-01,  5.4937e-01],\n",
       "          [-5.8126e-01,  4.3324e+00,  3.4072e-01,  ..., -2.9503e+00,\n",
       "            2.2124e+00,  1.2432e+00],\n",
       "          ...,\n",
       "          [ 3.1103e-02, -4.9199e-02, -1.0124e+00,  ...,  3.8898e-02,\n",
       "           -1.1482e-03, -2.4593e+00],\n",
       "          [ 4.4541e+00, -4.9199e-02,  3.9828e-02,  ...,  1.0183e+00,\n",
       "            2.2016e+00,  4.0282e-01],\n",
       "          [ 3.1103e-02, -4.9199e-02,  5.5857e-01,  ..., -6.8808e-01,\n",
       "           -4.1368e-01,  1.2159e-02]]], device='cuda:0', grad_fn=<AddBackward0>),\n",
       " tensor([[ 6.0594e-01, -1.4129e-01, -4.6342e-02,  ...,  3.7264e-01,\n",
       "          -4.4208e-01, -8.0426e-01],\n",
       "         [-1.1045e+00, -9.5588e-01, -1.1707e+00,  ...,  0.0000e+00,\n",
       "           0.0000e+00,  0.0000e+00],\n",
       "         [-3.5810e-01, -1.0241e+00, -2.1554e-04,  ...,  0.0000e+00,\n",
       "           0.0000e+00,  0.0000e+00],\n",
       "         ...,\n",
       "         [-1.0095e+00, -5.4873e-01, -3.3412e-01,  ...,  0.0000e+00,\n",
       "           0.0000e+00,  0.0000e+00],\n",
       "         [ 1.3465e+00,  1.3229e+00,  0.0000e+00,  ...,  0.0000e+00,\n",
       "           0.0000e+00,  0.0000e+00],\n",
       "         [-2.0247e-01,  0.0000e+00,  0.0000e+00,  ...,  0.0000e+00,\n",
       "           0.0000e+00,  0.0000e+00]], device='cuda:0',\n",
       "        grad_fn=<MaskedFillBackward0>),\n",
       " tensor([[-0.7779,  0.8012,  0.2746,  ..., -1.1663, -0.0477,  0.6195],\n",
       "         [ 0.4145,  0.0216,  0.3825,  ...,  0.0000,  0.0000,  0.0000],\n",
       "         [ 0.2646, -0.2279,  0.6857,  ...,  0.0000,  0.0000,  0.0000],\n",
       "         ...,\n",
       "         [ 0.8107, -0.6197, -0.1935,  ...,  0.0000,  0.0000,  0.0000],\n",
       "         [ 0.7298,  0.4654,  0.0000,  ...,  0.0000,  0.0000,  0.0000],\n",
       "         [-1.0905,  0.0000,  0.0000,  ...,  0.0000,  0.0000,  0.0000]],\n",
       "        device='cuda:0', grad_fn=<MaskedFillBackward0>),\n",
       " tensor([[-0.4105, -0.6000,  0.9851,  ...,  0.8475, -0.0776, -0.2781],\n",
       "         [-0.1959,  1.4314, -0.7951,  ...,  0.0000,  0.0000,  0.0000],\n",
       "         [ 1.3373,  0.3508,  0.6272,  ...,  0.0000,  0.0000,  0.0000],\n",
       "         ...,\n",
       "         [-0.4573,  0.3836,  0.2247,  ...,  0.0000,  0.0000,  0.0000],\n",
       "         [-0.0380, -0.0312,  0.0000,  ...,  0.0000,  0.0000,  0.0000],\n",
       "         [ 0.0731,  0.0000,  0.0000,  ...,  0.0000,  0.0000,  0.0000]],\n",
       "        device='cuda:0', grad_fn=<MaskedFillBackward0>),\n",
       " tensor([[ 5,  7,  5,  ...,  6, 16, 11],\n",
       "         [ 6,  3,  5,  ...,  0,  0,  0],\n",
       "         [ 4,  2,  3,  ...,  0,  0,  0],\n",
       "         ...,\n",
       "         [ 6,  5,  4,  ...,  0,  0,  0],\n",
       "         [ 3, 34,  0,  ...,  0,  0,  0],\n",
       "         [42,  0,  0,  ...,  0,  0,  0]], device='cuda:0'),\n",
       " tensor([[False, False, False,  ..., False, False, False],\n",
       "         [False, False, False,  ...,  True,  True,  True],\n",
       "         [False, False, False,  ...,  True,  True,  True],\n",
       "         ...,\n",
       "         [False, False, False,  ...,  True,  True,  True],\n",
       "         [False, False,  True,  ...,  True,  True,  True],\n",
       "         [False,  True,  True,  ...,  True,  True,  True]], device='cuda:0'),\n",
       " tensor([[False, False, False,  ..., False, False, False],\n",
       "         [False, False, False,  ...,  True,  True,  True],\n",
       "         [False, False, False,  ...,  True,  True,  True],\n",
       "         ...,\n",
       "         [False, False, False,  ...,  True,  True,  True],\n",
       "         [False, False, False,  ...,  True,  True,  True],\n",
       "         [False, False, False,  ...,  True,  True,  True]], device='cuda:0'),\n",
       " tensor([85, 68, 61, 53, 36, 33, 27, 21, 21, 20, 19, 18, 15, 13, 12, 12, 11,  9,\n",
       "          8,  6,  5,  4,  2,  1], device='cuda:0', dtype=torch.int32),\n",
       " tensor([936, 313, 361, 333, 225, 249, 418,  98,  95, 113, 185, 188,  52,  81,\n",
       "          76, 129,  84, 123,  47,  62,  63,  25,  37,  42], device='cuda:0'))"
      ]
     },
     "execution_count": 35,
     "metadata": {},
     "output_type": "execute_result"
    }
   ],
   "source": [
    "output"
   ]
  },
  {
   "cell_type": "code",
   "execution_count": null,
   "id": "8673f5c1-1909-4c10-82e6-682c067065f7",
   "metadata": {},
   "outputs": [],
   "source": []
  },
  {
   "cell_type": "code",
   "execution_count": null,
   "id": "19c1c7a1-2bae-4b23-9260-9a28f0c35951",
   "metadata": {},
   "outputs": [],
   "source": []
  },
  {
   "cell_type": "code",
   "execution_count": null,
   "id": "3e05fa6c-422b-40ca-8cd7-05282631eb31",
   "metadata": {},
   "outputs": [],
   "source": []
  },
  {
   "cell_type": "code",
   "execution_count": 29,
   "id": "2b217942-37eb-4483-b763-545e8136a96a",
   "metadata": {},
   "outputs": [
    {
     "data": {
      "text/plain": [
       "13"
      ]
     },
     "execution_count": 29,
     "metadata": {},
     "output_type": "execute_result"
    }
   ],
   "source": [
    "len(batch)"
   ]
  },
  {
   "cell_type": "code",
   "execution_count": 30,
   "id": "67e84546-ddc9-440d-85f7-26b9eea489a2",
   "metadata": {},
   "outputs": [
    {
     "data": {
      "text/plain": [
       "torch.Size([24, 85])"
      ]
     },
     "execution_count": 30,
     "metadata": {},
     "output_type": "execute_result"
    }
   ],
   "source": [
    "batch[-2].shape"
   ]
  },
  {
   "cell_type": "code",
   "execution_count": null,
   "id": "a58cf4f9-2894-4aaf-9269-6e4f8f34b819",
   "metadata": {},
   "outputs": [],
   "source": [
    "batch[-1].shape"
   ]
  },
  {
   "cell_type": "code",
   "execution_count": null,
   "id": "fba25a18-b50e-441d-8828-cada231b8be1",
   "metadata": {},
   "outputs": [],
   "source": [
    "len(temp_batch)"
   ]
  },
  {
   "cell_type": "code",
   "execution_count": null,
   "id": "ccac6485-36c0-4e58-a577-6d91b40cf44a",
   "metadata": {},
   "outputs": [],
   "source": [
    "temp_batch"
   ]
  },
  {
   "cell_type": "code",
   "execution_count": null,
   "id": "885d6b22-dad7-4639-89df-4b0379ced2d9",
   "metadata": {},
   "outputs": [],
   "source": [
    "temp_batch[-1].shape"
   ]
  },
  {
   "cell_type": "code",
   "execution_count": null,
   "id": "050d1dfd-7f84-4669-b42a-f2eab256b388",
   "metadata": {},
   "outputs": [],
   "source": [
    "temp_batch[3]"
   ]
  },
  {
   "cell_type": "code",
   "execution_count": null,
   "id": "00a81062-645a-483d-8fe5-ecffd550374a",
   "metadata": {},
   "outputs": [],
   "source": [
    "temp_batch[2]"
   ]
  },
  {
   "cell_type": "code",
   "execution_count": null,
   "id": "feae5b87-eeab-40f5-be69-c02879bc0a26",
   "metadata": {},
   "outputs": [],
   "source": []
  },
  {
   "cell_type": "code",
   "execution_count": null,
   "id": "a23427f5-8361-4d2b-bec7-4b07367164f3",
   "metadata": {},
   "outputs": [],
   "source": []
  },
  {
   "cell_type": "code",
   "execution_count": null,
   "id": "c9095167-9df4-47ab-bd94-efdcc53c9471",
   "metadata": {},
   "outputs": [],
   "source": []
  }
 ],
 "metadata": {
  "kernelspec": {
   "display_name": "Python 3 (ipykernel)",
   "language": "python",
   "name": "python3"
  },
  "language_info": {
   "codemirror_mode": {
    "name": "ipython",
    "version": 3
   },
   "file_extension": ".py",
   "mimetype": "text/x-python",
   "name": "python",
   "nbconvert_exporter": "python",
   "pygments_lexer": "ipython3",
   "version": "3.11.3"
  }
 },
 "nbformat": 4,
 "nbformat_minor": 5
}
