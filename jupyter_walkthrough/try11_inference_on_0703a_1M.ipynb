{
 "cells": [
  {
   "cell_type": "code",
   "execution_count": 32,
   "id": "113c7b11-357b-4fac-8803-6abe43bd3220",
   "metadata": {},
   "outputs": [],
   "source": [
    "import os, sys, glob, shutil\n",
    "import argparse\n",
    "import json\n",
    "import yaml\n",
    "import numpy as np\n",
    "from pprint import pprint\n",
    "\n",
    "import torch\n",
    "import yaml\n",
    "import torch.nn as nn\n",
    "from torch.utils.data import DataLoader\n",
    "from torch.utils.tensorboard import SummaryWriter\n",
    "from scipy.io import wavfile\n",
    "from matplotlib import pyplot as plt\n",
    "from tqdm.notebook import tqdm"
   ]
  },
  {
   "cell_type": "code",
   "execution_count": 33,
   "id": "ce3bf6f5-5a96-4582-859b-d8b33aee40cd",
   "metadata": {},
   "outputs": [
    {
     "name": "stdout",
     "output_type": "stream",
     "text": [
      "D:\\Schoolwork\\TERM 3\\WORK\\visual_prosody\n"
     ]
    }
   ],
   "source": [
    "%cd \"D:\\Schoolwork\\TERM 3\\WORK\\visual_prosody\""
   ]
  },
  {
   "cell_type": "code",
   "execution_count": 34,
   "id": "f83c4c24-b56a-445c-a12f-31addf2fbbcb",
   "metadata": {},
   "outputs": [],
   "source": [
    "split_txt_val_path = r'.\\preprocessed_data\\Ego4D_final_v6\\val.txt'\n",
    "val_uids = []\n",
    "with open(split_txt_val_path) as file:\n",
    "    for line in file:\n",
    "        # print(line.split('|')[0])\n",
    "        val_uids.append(line.split('|')[0])"
   ]
  },
  {
   "cell_type": "code",
   "execution_count": 35,
   "id": "a4677fd9-84e3-4a5f-84ae-e50090a5bb1b",
   "metadata": {},
   "outputs": [
    {
     "name": "stdout",
     "output_type": "stream",
     "text": [
      "2772\n"
     ]
    }
   ],
   "source": [
    "print(len(val_uids))"
   ]
  },
  {
   "cell_type": "code",
   "execution_count": 36,
   "id": "6bec59d7-9ec7-4138-a355-59f4b0f9f331",
   "metadata": {},
   "outputs": [],
   "source": [
    "from utils.model import get_model, get_vocoder, get_param_num, vocoder_infer\n",
    "from utils.tools import to_device, log, synth_one_sample, expand, plot_mel\n",
    "from model import FastSpeech2Loss\n",
    "from dataset import Dataset\n",
    "# from utils.auto_tqdm import tqdm\n",
    "from evaluate import evaluate"
   ]
  },
  {
   "cell_type": "code",
   "execution_count": 37,
   "id": "2c73c037-3921-47b5-bb7b-fea3701fbe95",
   "metadata": {},
   "outputs": [],
   "source": [
    "device = torch.device(\"cuda\" if torch.cuda.is_available() else \"cpu\")"
   ]
  },
  {
   "cell_type": "code",
   "execution_count": 7,
   "id": "bf529a8e-6106-4062-9236-0a9ef2dea5bc",
   "metadata": {},
   "outputs": [],
   "source": [
    "parser = argparse.ArgumentParser()\n",
    "parser.add_argument(\"--restore_step\", type=int, default=0)\n",
    "parser.add_argument(\n",
    "    \"-p\",\n",
    "    \"--preprocess_config\",\n",
    "    type=str,\n",
    "    required=True,\n",
    "    help=\"path to preprocess.yaml\",\n",
    ")\n",
    "parser.add_argument(\n",
    "    \"-m\", \"--model_config\", type=str, required=True, help=\"path to model.yaml\"\n",
    ")\n",
    "parser.add_argument(\n",
    "    \"-t\", \"--train_config\", type=str, required=True, help=\"path to train.yaml\"\n",
    ")\n",
    "\n",
    "argString = '-p ./config/Ego4D_final_v6/0703a_preprocess.yaml -m ./config/Ego4D_final_v6/0703a_model.yaml -t ./config/Ego4D_final_v6/0703a_train.yaml'\n",
    "# args = parser.parse_args()\n",
    "args = parser.parse_args(argString.split())"
   ]
  },
  {
   "cell_type": "code",
   "execution_count": 8,
   "id": "a8b15d51-81ef-4227-a355-1204caf220c5",
   "metadata": {},
   "outputs": [
    {
     "name": "stdout",
     "output_type": "stream",
     "text": [
      "Namespace(restore_step=0, preprocess_config='./config/Ego4D_final_v6/0703a_preprocess.yaml', model_config='./config/Ego4D_final_v6/0703a_model.yaml', train_config='./config/Ego4D_final_v6/0703a_train.yaml')\n",
      "Prepare training ...\n"
     ]
    }
   ],
   "source": [
    "pprint(args)\n",
    "# Read Config\n",
    "preprocess_config = yaml.load(\n",
    "    open(args.preprocess_config, \"r\"), Loader=yaml.FullLoader\n",
    ")\n",
    "model_config = yaml.load(open(args.model_config, \"r\"), Loader=yaml.FullLoader)\n",
    "train_config = yaml.load(open(args.train_config, \"r\"), Loader=yaml.FullLoader)\n",
    "configs = (preprocess_config, model_config, train_config)\n",
    "print(\"Prepare training ...\")\n",
    "\n",
    "preprocess_config, model_config, train_config = configs"
   ]
  },
  {
   "cell_type": "code",
   "execution_count": 15,
   "id": "0419d171-c90d-493d-8cdb-45117fe5f073",
   "metadata": {},
   "outputs": [],
   "source": [
    "ckpt_path = r'./output/0703a/ckpt/Ego4D_final_v6/1000000.pth.tar'\n",
    "ckpt = torch.load(ckpt_path)"
   ]
  },
  {
   "cell_type": "code",
   "execution_count": 16,
   "id": "51676f3a-e1de-4c1f-ac92-4b6fcf49ca9c",
   "metadata": {},
   "outputs": [
    {
     "name": "stdout",
     "output_type": "stream",
     "text": [
      "=> Using speaker embeddings.\n",
      "True\n",
      "2\n",
      "=> Using VarianceAdaptorWithSpeaker.\n",
      "Number of FastSpeech2 Parameters: 35165553\n"
     ]
    }
   ],
   "source": [
    "# Prepare model\n",
    "model, optimizer = get_model(args, configs, device, train=True)\n",
    "model.load_state_dict(ckpt[\"model\"], strict=False)\n",
    "model.to(device)\n",
    "model = nn.DataParallel(model)\n",
    "num_param = get_param_num(model)\n",
    "Loss = FastSpeech2Loss(preprocess_config, model_config).to(device)\n",
    "print(\"Number of FastSpeech2 Parameters:\", num_param)"
   ]
  },
  {
   "cell_type": "code",
   "execution_count": 19,
   "id": "7eb44672-af17-405f-af03-70add314f90f",
   "metadata": {},
   "outputs": [
    {
     "name": "stdout",
     "output_type": "stream",
     "text": [
      "Removing weight norm...\n",
      "\n"
     ]
    }
   ],
   "source": [
    "# Load vocoder\n",
    "vocoder = get_vocoder(model_config, device)\n",
    "step = args.restore_step + 1\n",
    "model.eval()\n",
    "print()\n",
    "dataset = Dataset(\n",
    "    \"val.txt\", 'val', preprocess_config, train_config, sort=False, drop_last=False\n",
    ")"
   ]
  },
  {
   "cell_type": "code",
   "execution_count": 20,
   "id": "1e5b01df-3ebd-48a2-ab0b-f4dfa1210065",
   "metadata": {},
   "outputs": [],
   "source": [
    "batch_size = train_config[\"optimizer\"][\"batch_size\"]\n",
    "batch_size = 1"
   ]
  },
  {
   "cell_type": "code",
   "execution_count": 21,
   "id": "d3605b42-abb0-47e2-9ea9-944f7b846dd2",
   "metadata": {},
   "outputs": [],
   "source": [
    "loader = DataLoader(\n",
    "        dataset,\n",
    "        batch_size=batch_size,\n",
    "        shuffle=False,\n",
    "        collate_fn=dataset.collate_fn,\n",
    "    )\n",
    "# Get loss function\n",
    "Loss = FastSpeech2Loss(preprocess_config, model_config).to(device)"
   ]
  },
  {
   "cell_type": "code",
   "execution_count": 22,
   "id": "d5f8f8d8-2518-4de9-8810-7bcb8dc3c937",
   "metadata": {},
   "outputs": [
    {
     "data": {
      "text/plain": [
       "'./output/0703a/result/Ego4D_final_v6\\\\plots'"
      ]
     },
     "execution_count": 22,
     "metadata": {},
     "output_type": "execute_result"
    }
   ],
   "source": [
    "os.path.join(train_config['path']['result_path'], 'plots')"
   ]
  },
  {
   "cell_type": "code",
   "execution_count": 23,
   "id": "c564c84e-7234-49fc-8852-752e354ea260",
   "metadata": {},
   "outputs": [],
   "source": [
    "# => batch:\n",
    "# return (\n",
    "#     ids,\n",
    "#     raw_texts,\n",
    "#     speakers,\n",
    "#     texts,\n",
    "#     text_lens,\n",
    "#     max(text_lens),\n",
    "#     mels,\n",
    "#     mel_lens,\n",
    "#     max(mel_lens),\n",
    "#     pitches,\n",
    "#     energies,\n",
    "#     durations,\n",
    "#     speaker_embeddings,\n",
    "# )\n",
    "# [12] 对应speaker embedding\n",
    "\n",
    "\n",
    "# => model output / prediction\n",
    "# return (\n",
    "#     output,\n",
    "#     postnet_output,\n",
    "#     p_predictions,\n",
    "#     e_predictions,\n",
    "#     log_d_predictions,\n",
    "#     d_rounded,\n",
    "#     src_masks,\n",
    "#     mel_masks,\n",
    "#     src_lens,\n",
    "#     mel_lens,\n",
    "# )\n",
    "output_plot_path = os.path.join(train_config['path']['result_path'], 'plot')\n",
    "output_mel_syn_path = os.path.join(train_config['path']['result_path'], 'mel', 'syn')\n",
    "output_mel_gt_path = os.path.join(train_config['path']['result_path'], 'mel', 'gt')\n",
    "output_wav_syn_path = os.path.join(train_config['path']['result_path'], 'wav', 'synthesized')\n",
    "output_wav_rec_path = os.path.join(train_config['path']['result_path'], 'wav', 'reconstructed')\n",
    "os.makedirs(output_plot_path, exist_ok=True)\n",
    "os.makedirs(output_mel_syn_path, exist_ok=True)\n",
    "os.makedirs(output_mel_gt_path, exist_ok=True)\n",
    "os.makedirs(output_wav_syn_path, exist_ok=True)\n",
    "os.makedirs(output_wav_rec_path, exist_ok=True)"
   ]
  },
  {
   "cell_type": "code",
   "execution_count": 24,
   "id": "aeb26e9c-5967-47c7-bbaa-e5199fb3a813",
   "metadata": {},
   "outputs": [
    {
     "data": {
      "application/vnd.jupyter.widget-view+json": {
       "model_id": "3c188b532a3742798d4b7993ae49ff84",
       "version_major": 2,
       "version_minor": 0
      },
      "text/plain": [
       "  0%|          | 0/2772 [00:00<?, ?it/s]"
      ]
     },
     "metadata": {},
     "output_type": "display_data"
    }
   ],
   "source": [
    "for batchs in tqdm(loader):\n",
    "    for targets in batchs:\n",
    "        targets = to_device(targets, device)\n",
    "        with torch.no_grad():\n",
    "            predictions = model(*(targets[2:]))\n",
    "        basenames = targets[0]\n",
    "        for i in range(len(predictions[0])):\n",
    "            basename = basenames[i]\n",
    "            src_len = predictions[8][i].item()\n",
    "            mel_len = predictions[9][i].item()\n",
    "            mel_prediction = predictions[1][i, :mel_len].detach().transpose(0, 1)\n",
    "            mel_target = targets[6][i, :mel_len].detach().transpose(0, 1)\n",
    "\n",
    "            torch.save(mel_prediction.cpu(), os.path.join(output_mel_syn_path, f\"{basename}.pt\"))\n",
    "            torch.save(mel_target.cpu(), os.path.join(output_mel_gt_path, f\"{basename}.pt\"))\n",
    "            \n",
    "            \n",
    "            duration = predictions[5][i, :src_len].detach().cpu().numpy()\n",
    "            if preprocess_config[\"preprocessing\"][\"pitch\"][\"feature\"] == \"phoneme_level\":\n",
    "                pitch = predictions[2][i, :src_len].detach().cpu().numpy()\n",
    "                pitch = expand(pitch, duration)\n",
    "            else:\n",
    "                pitch = predictions[2][i, :mel_len].detach().cpu().numpy()\n",
    "            if preprocess_config[\"preprocessing\"][\"energy\"][\"feature\"] == \"phoneme_level\":\n",
    "                energy = predictions[3][i, :src_len].detach().cpu().numpy()\n",
    "                energy = expand(energy, duration)\n",
    "            else:\n",
    "                energy = predictions[3][i, :mel_len].detach().cpu().numpy()\n",
    "\n",
    "            with open(os.path.join(preprocess_config[\"path\"][\"preprocessed_path\"], \n",
    "                                   \"stats.json\")) as f:\n",
    "                stats = json.load(f)\n",
    "                stats = stats[\"pitch\"] + stats[\"energy\"][:2]\n",
    "                                       \n",
    "            fig = plot_mel(\n",
    "                [\n",
    "                    (mel_prediction.cpu().numpy(), pitch, energy),\n",
    "                    (mel_target.cpu().numpy(), pitch, energy),\n",
    "                ],\n",
    "                stats,\n",
    "                [\"Synthetized Spectrogram\", \"Ground-Truth Spectrogram\"],\n",
    "            )\n",
    "            ### TODO: change to svg\n",
    "            plt.savefig(os.path.join(output_plot_path, f\"{basename}.png\"))\n",
    "            plt.close()\n",
    "\n",
    "        # from .model import vocoder_infer\n",
    "\n",
    "        mel_predictions = predictions[1].transpose(1, 2)\n",
    "        mel_targets = targets[6].transpose(1, 2)\n",
    "        \n",
    "        lengths = predictions[9] * preprocess_config[\"preprocessing\"][\"stft\"][\"hop_length\"]\n",
    "        wav_predictions = vocoder_infer(\n",
    "            mel_predictions, vocoder, model_config, preprocess_config, lengths=lengths\n",
    "        )\n",
    "        wav_targets = vocoder_infer(\n",
    "        mel_targets, vocoder, model_config, preprocess_config, lengths=lengths\n",
    "    )\n",
    "    \n",
    "        sampling_rate = preprocess_config[\"preprocessing\"][\"audio\"][\"sampling_rate\"]\n",
    "        for wav, basename in zip(wav_predictions, basenames):\n",
    "            wavfile.write(os.path.join(output_wav_syn_path, f\"{basename}.wav\"), sampling_rate, wav)\n",
    "        for wav, basename in zip(wav_targets, basenames):\n",
    "            wavfile.write(os.path.join(output_wav_rec_path, f\"{basename}.wav\"), sampling_rate, wav)\n",
    "\n",
    "        \n",
    "    #     break\n",
    "    # break"
   ]
  },
  {
   "cell_type": "code",
   "execution_count": null,
   "id": "c37e8b17-2931-411e-a4fc-3b1f902edf99",
   "metadata": {},
   "outputs": [],
   "source": []
  },
  {
   "cell_type": "code",
   "execution_count": null,
   "id": "d44fe0f0-da6e-4b99-b216-ecc4dac4a727",
   "metadata": {},
   "outputs": [],
   "source": []
  },
  {
   "cell_type": "code",
   "execution_count": null,
   "id": "b74efc52-cec6-44c4-9cd9-e678c2245da8",
   "metadata": {},
   "outputs": [],
   "source": []
  },
  {
   "cell_type": "code",
   "execution_count": 38,
   "id": "d4fd6bf5-b381-43d7-b887-97122176fac2",
   "metadata": {},
   "outputs": [],
   "source": [
    "import os, sys, glob, shutil\n",
    "import os.path as op\n",
    "import argparse\n",
    "import json\n",
    "import yaml\n",
    "import numpy as np\n",
    "import pandas as pd\n",
    "from pprint import pprint\n",
    "import os.path as op\n",
    "\n",
    "import torch\n",
    "import torch.nn.functional as F\n",
    "import torchaudio\n",
    "import argparse\n",
    "import fnmatch\n",
    "import logging\n",
    "import multiprocessing as mp\n",
    "from typing import Dict, List, Tuple\n",
    "\n",
    "import librosa\n",
    "import pysptk\n",
    "import pyworld as pw\n",
    "import soundfile as sf\n",
    "from fastdtw import fastdtw\n",
    "from scipy import spatial"
   ]
  },
  {
   "cell_type": "code",
   "execution_count": 10,
   "id": "b50a3de3-4c0d-419b-ac52-7d69fca58a3c",
   "metadata": {},
   "outputs": [],
   "source": [
    "split_txt_val_path = r'.\\preprocessed_data\\Ego4D_final_v6\\val.txt'\n",
    "val_uids = []\n",
    "with open(split_txt_val_path) as file:\n",
    "    for line in file:\n",
    "        # print(line.split('|')[0])\n",
    "        val_uids.append(line.split('|')[0])"
   ]
  },
  {
   "cell_type": "code",
   "execution_count": 11,
   "id": "10c950dc-04f6-4745-95c3-78a48b6cdb15",
   "metadata": {},
   "outputs": [
    {
     "data": {
      "text/plain": [
       "2772"
      ]
     },
     "execution_count": 11,
     "metadata": {},
     "output_type": "execute_result"
    }
   ],
   "source": [
    "len(val_uids)"
   ]
  },
  {
   "cell_type": "code",
   "execution_count": null,
   "id": "4f9a3faa-a3c1-4904-a88c-e77ea930b6ac",
   "metadata": {},
   "outputs": [],
   "source": []
  },
  {
   "cell_type": "code",
   "execution_count": null,
   "id": "c38f1f57-fa22-421f-a0cc-7050eb890c19",
   "metadata": {},
   "outputs": [],
   "source": []
  },
  {
   "cell_type": "code",
   "execution_count": 12,
   "id": "85128b36-1335-43e9-b293-fe08a752b3f7",
   "metadata": {},
   "outputs": [],
   "source": [
    "recon_folder = r'.\\output\\0703a\\result\\Ego4D_final_v6\\wav\\reconstructed'\n",
    "syn_folder = r'.\\output\\0703a\\result\\Ego4D_final_v6\\wav\\synthesized'\n",
    "gt_folder = r'.\\raw_data\\Ego4D_final_v6\\val\\Ego4D_final_v6'"
   ]
  },
  {
   "cell_type": "code",
   "execution_count": 29,
   "id": "c6c09dc6-43eb-4319-8542-ad260602b3dc",
   "metadata": {},
   "outputs": [],
   "source": [
    "sr = 22050\n",
    "melkwargs = {\n",
    "    \"n_fft\": int(0.05 * sr), \"win_length\": int(0.05 * sr),\n",
    "    \"hop_length\": int(0.0125 * sr), \"f_min\": 20,\n",
    "    \"n_mels\": 80, \"window_fn\": torch.hann_window\n",
    "}\n",
    "mfcc_fn = torchaudio.transforms.MFCC(\n",
    "    sr, n_mfcc=13, log_mels=True, melkwargs=melkwargs\n",
    ")"
   ]
  },
  {
   "cell_type": "code",
   "execution_count": 30,
   "id": "19bb8331-bf38-48a2-b196-b4c2cc579ca2",
   "metadata": {},
   "outputs": [
    {
     "data": {
      "application/vnd.jupyter.widget-view+json": {
       "model_id": "306ca01e944a4da9bd374e19689b1678",
       "version_major": 2,
       "version_minor": 0
      },
      "text/plain": [
       "  0%|          | 0/2772 [00:00<?, ?it/s]"
      ]
     },
     "metadata": {},
     "output_type": "display_data"
    },
    {
     "name": "stdout",
     "output_type": "stream",
     "text": [
      "CPU times: total: 8min 29s\n",
      "Wall time: 2min 13s\n"
     ]
    }
   ],
   "source": [
    "%%time\n",
    "uids = []\n",
    "MCDs_recon = []\n",
    "for uid in tqdm(val_uids):\n",
    "    uids.append(uid)\n",
    "    wav_1, sr = torchaudio.load(op.join(recon_folder, f\"{uid}.wav\"))\n",
    "    wav_2, sr = torchaudio.load(op.join(syn_folder, f\"{uid}.wav\"))\n",
    "    wav_1 = wav_1.squeeze()\n",
    "    wav_2 = wav_2.squeeze()\n",
    "    mel_1 = mfcc_fn(wav_1).T.numpy()\n",
    "    mel_2 = mfcc_fn(wav_2).T.numpy()\n",
    "    # DTW\n",
    "    _, path = fastdtw(mel_2, mel_1, dist=spatial.distance.euclidean)\n",
    "    twf = np.array(path).T\n",
    "    mel_2 = mel_2[twf[0]]\n",
    "    mel_1 = mel_1[twf[1]]\n",
    "    # We sum the squared differences over the first K MFCCs, skipping ct,0\n",
    "    mel_1 = mel_1[:, 1:]\n",
    "    mel_2 = mel_2[:, 1:]\n",
    "    result = (((mel_1 - mel_2) ** 2).sum(axis=1)**0.5).mean()\n",
    "    MCDs_recon.append(result)"
   ]
  },
  {
   "cell_type": "code",
   "execution_count": 34,
   "id": "2a058982-174b-48ac-88e8-1fe3001d8f28",
   "metadata": {},
   "outputs": [
    {
     "data": {
      "application/vnd.jupyter.widget-view+json": {
       "model_id": "4b509a9164ff497eb6837be0cb25978f",
       "version_major": 2,
       "version_minor": 0
      },
      "text/plain": [
       "  0%|          | 0/2772 [00:00<?, ?it/s]"
      ]
     },
     "metadata": {},
     "output_type": "display_data"
    },
    {
     "name": "stdout",
     "output_type": "stream",
     "text": [
      "CPU times: total: 9min 14s\n",
      "Wall time: 2min 12s\n"
     ]
    }
   ],
   "source": [
    "%%time\n",
    "uids = []\n",
    "MCDs_gt = []\n",
    "for uid in tqdm(val_uids):\n",
    "    uids.append(uid)\n",
    "    wav_1, sr = torchaudio.load(op.join(gt_folder, f\"{uid}.wav\"))\n",
    "    wav_2, sr = torchaudio.load(op.join(syn_folder, f\"{uid}.wav\"))\n",
    "    wav_1 = wav_1.squeeze()\n",
    "    wav_2 = wav_2.squeeze()\n",
    "    mel_1 = mfcc_fn(wav_1).T.numpy()\n",
    "    mel_2 = mfcc_fn(wav_2).T.numpy()\n",
    "    # DTW\n",
    "    _, path = fastdtw(mel_2, mel_1, dist=spatial.distance.euclidean)\n",
    "    twf = np.array(path).T\n",
    "    mel_2 = mel_2[twf[0]]\n",
    "    mel_1 = mel_1[twf[1]]\n",
    "    # We sum the squared differences over the first K MFCCs, skipping ct,0\n",
    "    mel_1 = mel_1[:, 1:]\n",
    "    mel_2 = mel_2[:, 1:]\n",
    "    result = (((mel_1 - mel_2) ** 2).sum(axis=1)**0.5).mean()\n",
    "    MCDs_gt.append(result)"
   ]
  },
  {
   "cell_type": "code",
   "execution_count": 35,
   "id": "10374184-9fdc-4ef1-810c-309c026ae010",
   "metadata": {},
   "outputs": [],
   "source": [
    "v6_mcd_df = pd.DataFrame({\n",
    "    'uid': uids,\n",
    "    'MCD_recon': MCDs_recon,\n",
    "    'MCD_gt': MCDs_gt,\n",
    "})"
   ]
  },
  {
   "cell_type": "code",
   "execution_count": 36,
   "id": "362bb697-51f0-42f4-bf42-91867ebb1c59",
   "metadata": {},
   "outputs": [],
   "source": [
    "v6_mcd_df.to_csv(r\".\\jupyter_walkthrough\\metrics\\MCD_0703a_1M.csv\")"
   ]
  },
  {
   "cell_type": "code",
   "execution_count": 37,
   "id": "937d7295-df40-4cad-bb9b-00fda093d4d1",
   "metadata": {},
   "outputs": [
    {
     "name": "stdout",
     "output_type": "stream",
     "text": [
      "MCDs_recon mean on 0703a_1M: 12.919245719909668\n",
      "MCDs_recon std on 0703a_1M: 2.471064805984497\n",
      "MCDs_gt mean on 0703a_1M: 13.95725154876709\n",
      "MCDs_gt std on 0703a_1M: 2.489434003829956\n"
     ]
    }
   ],
   "source": [
    "print(f\"MCDs_recon mean on 0703a_1M: {torch.tensor(MCDs_recon).mean()}\")\n",
    "print(f\"MCDs_recon std on 0703a_1M: {torch.tensor(MCDs_recon).std()}\")\n",
    "\n",
    "print(f\"MCDs_gt mean on 0703a_1M: {torch.tensor(MCDs_gt).mean()}\")\n",
    "print(f\"MCDs_gt std on 0703a_1M: {torch.tensor(MCDs_gt).std()}\")"
   ]
  },
  {
   "cell_type": "code",
   "execution_count": null,
   "id": "747b1057-27ae-41ea-b100-579b090ca49c",
   "metadata": {},
   "outputs": [],
   "source": []
  },
  {
   "cell_type": "code",
   "execution_count": null,
   "id": "e440be0f-99fa-43ec-81a3-90442aa21101",
   "metadata": {},
   "outputs": [],
   "source": []
  },
  {
   "cell_type": "markdown",
   "id": "ee5a746d-0a98-427d-9dff-58f15e54efe6",
   "metadata": {},
   "source": [
    "# log f0"
   ]
  },
  {
   "cell_type": "code",
   "execution_count": 15,
   "id": "351fceb9-1698-4b5f-9c1f-0bc8ce9263be",
   "metadata": {},
   "outputs": [],
   "source": [
    "# https://github.com/espnet/espnet/blob/3e0dad524d62ccd45e067e9b36049f2214ea972a/egs2/TEMPLATE/asr1/pyscripts/utils/evaluate_f0.py"
   ]
  },
  {
   "cell_type": "code",
   "execution_count": 16,
   "id": "0c0879a5-d3ba-4bc2-99ba-45450ef1d2d9",
   "metadata": {
    "jupyter": {
     "source_hidden": true
    }
   },
   "outputs": [],
   "source": [
    "def world_extract(\n",
    "    x: np.ndarray,\n",
    "    fs: int,\n",
    "    f0min: int = 40,\n",
    "    f0max: int = 800,\n",
    "    n_fft: int = 512,\n",
    "    n_shift: int = 256,\n",
    "    mcep_dim: int = 25,\n",
    "    mcep_alpha: float = 0.41,\n",
    ") -> np.ndarray:\n",
    "    \"\"\"Extract World-based acoustic features.\n",
    "\n",
    "    Args:\n",
    "        x (ndarray): 1D waveform array.\n",
    "        fs (int): Minimum f0 value (default=40).\n",
    "        f0 (int): Maximum f0 value (default=800).\n",
    "        n_shift (int): Shift length in point (default=256).\n",
    "        n_fft (int): FFT length in point (default=512).\n",
    "        n_shift (int): Shift length in point (default=256).\n",
    "        mcep_dim (int): Dimension of mel-cepstrum (default=25).\n",
    "        mcep_alpha (float): All pass filter coefficient (default=0.41).\n",
    "\n",
    "    Returns:\n",
    "        ndarray: Mel-cepstrum with the size (N, n_fft).\n",
    "        ndarray: F0 sequence (N,).\n",
    "\n",
    "    \"\"\"\n",
    "    # extract features\n",
    "    x = x.astype(np.float64)\n",
    "    f0, time_axis = pw.harvest(\n",
    "        x,\n",
    "        fs,\n",
    "        f0_floor=f0min,\n",
    "        f0_ceil=f0max,\n",
    "        frame_period=n_shift / fs * 1000,\n",
    "    )\n",
    "    sp = pw.cheaptrick(x, f0, time_axis, fs, fft_size=n_fft)\n",
    "    if mcep_dim is None or mcep_alpha is None:\n",
    "        mcep_dim, mcep_alpha = _get_best_mcep_params(fs)\n",
    "    mcep = pysptk.sp2mc(sp, mcep_dim, mcep_alpha)\n",
    "\n",
    "    return mcep, f0\n",
    "\n",
    "\n",
    "def _get_basename(path: str) -> str:\n",
    "    return os.path.splitext(os.path.split(path)[-1])[0]\n",
    "\n",
    "\n",
    "def _get_best_mcep_params(fs: int) -> Tuple[int, float]:\n",
    "    if fs == 16000:\n",
    "        return 23, 0.42\n",
    "    elif fs == 22050:\n",
    "        return 34, 0.45\n",
    "    elif fs == 24000:\n",
    "        return 34, 0.46\n",
    "    elif fs == 44100:\n",
    "        return 39, 0.53\n",
    "    elif fs == 48000:\n",
    "        return 39, 0.55\n",
    "    else:\n",
    "        raise ValueError(f\"Not found the setting for {fs}.\")"
   ]
  },
  {
   "cell_type": "code",
   "execution_count": 17,
   "id": "02c6fe61-e2fe-4b71-a7da-8345b93d570c",
   "metadata": {},
   "outputs": [
    {
     "data": {
      "application/vnd.jupyter.widget-view+json": {
       "model_id": "e1775b947a314d51a6f5e1f0d6bf3f9f",
       "version_major": 2,
       "version_minor": 0
      },
      "text/plain": [
       "  0%|          | 0/2772 [00:00<?, ?it/s]"
      ]
     },
     "metadata": {},
     "output_type": "display_data"
    },
    {
     "name": "stdout",
     "output_type": "stream",
     "text": [
      "Skip uid b06ee775-fd4e-4d88-a2e5-c1eeeb96d7a8. len == 0.\n",
      "Skip uid 342edcf2-1150-42a0-af79-030571c0996d. len == 0.\n",
      "Skip uid f8173e76-1b4d-4e91-bfe9-62ea41129dc6. len == 0.\n",
      "Skip uid 2ff974ac-b0f1-4611-8c9f-61c216a8ba96. len == 0.\n"
     ]
    },
    {
     "name": "stderr",
     "output_type": "stream",
     "text": [
      "D:\\Programs\\Python\\Python311\\Lib\\site-packages\\numpy\\lib\\function_base.py:2846: RuntimeWarning: Degrees of freedom <= 0 for slice\n",
      "  c = cov(x, y, rowvar, dtype=dtype)\n",
      "D:\\Programs\\Python\\Python311\\Lib\\site-packages\\numpy\\lib\\function_base.py:2705: RuntimeWarning: divide by zero encountered in divide\n",
      "  c *= np.true_divide(1, fact)\n",
      "D:\\Programs\\Python\\Python311\\Lib\\site-packages\\numpy\\lib\\function_base.py:2705: RuntimeWarning: invalid value encountered in multiply\n",
      "  c *= np.true_divide(1, fact)\n"
     ]
    },
    {
     "name": "stdout",
     "output_type": "stream",
     "text": [
      "Skip uid 959dcb2b-4291-45b4-aa24-dc144de6fc1a. len == 0.\n",
      "Skip uid 40aab340-3072-4621-8706-6294bb4869ec. len == 0.\n",
      "Skip uid 94ab3c42-86a9-427c-9dc7-9d3583836f89. len == 0.\n",
      "Skip uid 3375a843-9145-4d5b-8861-7777412fb43f. len == 0.\n",
      "Skip uid 774fb2b7-15af-4028-bb0f-17725e2cfb7f. len == 0.\n",
      "Skip uid 7444a0db-41ce-4779-a17c-1b5ec92b1a54. len == 0.\n",
      "Skip uid d7c942a6-bfd3-4ff2-9926-88fafe78781b. len == 0.\n",
      "Skip uid 9f56d2e9-8536-4ce4-878e-e31f5c64345a. len == 0.\n",
      "Skip uid 0d885f9d-8786-40d2-ab4b-d6874b5c6507. len == 0.\n",
      "Skip uid cff28f93-e826-46a8-b57b-4959b4f485ae. len == 0.\n"
     ]
    }
   ],
   "source": [
    "uids = []\n",
    "logf0_rmses_recon = []\n",
    "logf0_corrs_recon = []\n",
    "\n",
    "for uid in tqdm(val_uids):\n",
    "    \n",
    "    # load wav file as int16\n",
    "    gen_x, gen_fs = sf.read(op.join(syn_folder, f\"{uid}.wav\"), dtype=\"int16\")\n",
    "    gt_x, gt_fs = sf.read(op.join(recon_folder, f\"{uid}.wav\"), dtype=\"int16\")\n",
    "    fs = gen_fs\n",
    "    # extract ground truth and converted features\n",
    "    gen_mcep, gen_f0 = world_extract(\n",
    "        x=gen_x,\n",
    "        fs=fs,\n",
    "        f0min=40,\n",
    "        f0max=800,\n",
    "        n_fft=1024,\n",
    "        n_shift=256,\n",
    "        mcep_dim=None,\n",
    "        mcep_alpha=None,\n",
    "    )\n",
    "    gt_mcep, gt_f0 = world_extract(\n",
    "        x=gt_x,\n",
    "        fs=fs,\n",
    "        f0min=40,\n",
    "        f0max=800,\n",
    "        n_fft=1024,\n",
    "        n_shift=256,\n",
    "        mcep_dim=None,\n",
    "        mcep_alpha=None,\n",
    "    )\n",
    "    \n",
    "    # DTW\n",
    "    _, path = fastdtw(gen_mcep, gt_mcep, dist=spatial.distance.euclidean)\n",
    "    twf = np.array(path).T\n",
    "    gen_f0_dtw = gen_f0[twf[0]]\n",
    "    gt_f0_dtw = gt_f0[twf[1]]\n",
    "    \n",
    "    # Get voiced part\n",
    "    nonzero_idxs = np.where((gen_f0_dtw != 0) & (gt_f0_dtw != 0))[0]\n",
    "    eps = 1e-7\n",
    "    gen_f0_dtw_voiced = np.log(gen_f0_dtw[nonzero_idxs] + eps)\n",
    "    gt_f0_dtw_voiced = np.log(gt_f0_dtw[nonzero_idxs] + eps)\n",
    "\n",
    "    if len(gen_f0_dtw_voiced) == 0 or len(gt_f0_dtw_voiced) == 0:\n",
    "        print(f\"Skip uid {uid}. len == 0.\")\n",
    "        continue\n",
    "\n",
    "    # log F0 RMSE\n",
    "    log_f0_rmse = np.sqrt(np.mean((gen_f0_dtw_voiced - gt_f0_dtw_voiced) ** 2))\n",
    "    # print(f\"{uid} {log_f0_rmse:.4f}\")\n",
    "\n",
    "    # log F0 corr\n",
    "    log_f0_corr = np.corrcoef(gen_f0_dtw_voiced, gt_f0_dtw_voiced)[0][1]\n",
    "    # print(f\"{uid} {log_f0_corr:.4f}\")\n",
    "    uids.append(uid)\n",
    "    logf0_rmses_recon.append(log_f0_rmse)\n",
    "    logf0_corrs_recon.append(log_f0_corr)"
   ]
  },
  {
   "cell_type": "code",
   "execution_count": 18,
   "id": "2d534269-e1ae-4ef5-87b3-27d99f080842",
   "metadata": {},
   "outputs": [],
   "source": [
    "v6_logf0_df = pd.DataFrame({\n",
    "    'uid': uids,\n",
    "    'logf0_rmse_recon': logf0_rmses_recon,\n",
    "    'logf0_corr_recon': logf0_corrs_recon,\n",
    "    # 'logf0_rmse_gt': logf0_rmses_gt,\n",
    "    # 'logf0_corr_gt': logf0_corrs_gt,\n",
    "})\n",
    "v6_logf0_df.to_csv(r\".\\jupyter_walkthrough\\metrics\\logF0_0703a_1M.csv\")"
   ]
  },
  {
   "cell_type": "code",
   "execution_count": 20,
   "id": "caf5cd78-5515-4e24-ab37-e5708d9b6a05",
   "metadata": {},
   "outputs": [],
   "source": [
    "v6_logf0_df = v6_logf0_df.dropna()"
   ]
  },
  {
   "cell_type": "code",
   "execution_count": 22,
   "id": "98a19616-cb2d-403f-8225-2bf0221594ae",
   "metadata": {},
   "outputs": [
    {
     "name": "stdout",
     "output_type": "stream",
     "text": [
      "logf0_rmse_recon mean on 0703a_1M: 0.2760883042142412\n",
      "logf0_rmse_recon std on 0703a_1M: 0.20170691839225147\n",
      "logf0_corr_recon mean on 0703a_1M: 0.4130407813583691\n",
      "logf0_corr_recon std on 0703a_1M: 0.3914612579380411\n"
     ]
    }
   ],
   "source": [
    "print(f\"logf0_rmse_recon mean on 0703a_1M: {v6_logf0_df['logf0_rmse_recon'].values.mean()}\")\n",
    "print(f\"logf0_rmse_recon std on 0703a_1M: {v6_logf0_df['logf0_rmse_recon'].values.std()}\")\n",
    "print(f\"logf0_corr_recon mean on 0703a_1M: {v6_logf0_df['logf0_corr_recon'].values.mean()}\")\n",
    "print(f\"logf0_corr_recon std on 0703a_1M: {v6_logf0_df['logf0_corr_recon'].values.std()}\")"
   ]
  },
  {
   "cell_type": "code",
   "execution_count": 1,
   "id": "a20074b3-95fa-4b81-b19b-b8a5aec389d9",
   "metadata": {},
   "outputs": [
    {
     "ename": "NameError",
     "evalue": "name 'tqdm' is not defined",
     "output_type": "error",
     "traceback": [
      "\u001b[1;31m---------------------------------------------------------------------------\u001b[0m",
      "\u001b[1;31mNameError\u001b[0m                                 Traceback (most recent call last)",
      "Cell \u001b[1;32mIn[1], line 5\u001b[0m\n\u001b[0;32m      2\u001b[0m logf0_rmses_gt \u001b[38;5;241m=\u001b[39m []\n\u001b[0;32m      3\u001b[0m logf0_corrs_gt \u001b[38;5;241m=\u001b[39m []\n\u001b[1;32m----> 5\u001b[0m \u001b[38;5;28;01mfor\u001b[39;00m uid \u001b[38;5;129;01min\u001b[39;00m \u001b[43mtqdm\u001b[49m(val_uids):\n\u001b[0;32m      6\u001b[0m     \n\u001b[0;32m      7\u001b[0m     \u001b[38;5;66;03m# load wav file as int16\u001b[39;00m\n\u001b[0;32m      8\u001b[0m     gen_x, gen_fs \u001b[38;5;241m=\u001b[39m sf\u001b[38;5;241m.\u001b[39mread(op\u001b[38;5;241m.\u001b[39mjoin(syn_folder, \u001b[38;5;124mf\u001b[39m\u001b[38;5;124m\"\u001b[39m\u001b[38;5;132;01m{\u001b[39;00muid\u001b[38;5;132;01m}\u001b[39;00m\u001b[38;5;124m.wav\u001b[39m\u001b[38;5;124m\"\u001b[39m), dtype\u001b[38;5;241m=\u001b[39m\u001b[38;5;124m\"\u001b[39m\u001b[38;5;124mint16\u001b[39m\u001b[38;5;124m\"\u001b[39m)\n\u001b[0;32m      9\u001b[0m     gt_x, gt_fs \u001b[38;5;241m=\u001b[39m sf\u001b[38;5;241m.\u001b[39mread(op\u001b[38;5;241m.\u001b[39mjoin(gt_folder, \u001b[38;5;124mf\u001b[39m\u001b[38;5;124m\"\u001b[39m\u001b[38;5;132;01m{\u001b[39;00muid\u001b[38;5;132;01m}\u001b[39;00m\u001b[38;5;124m.wav\u001b[39m\u001b[38;5;124m\"\u001b[39m), dtype\u001b[38;5;241m=\u001b[39m\u001b[38;5;124m\"\u001b[39m\u001b[38;5;124mint16\u001b[39m\u001b[38;5;124m\"\u001b[39m)\n",
      "\u001b[1;31mNameError\u001b[0m: name 'tqdm' is not defined"
     ]
    }
   ],
   "source": [
    "uids = []\n",
    "logf0_rmses_gt = []\n",
    "logf0_corrs_gt = []\n",
    "\n",
    "for uid in tqdm(val_uids):\n",
    "    \n",
    "    # load wav file as int16\n",
    "    gen_x, gen_fs = sf.read(op.join(syn_folder, f\"{uid}.wav\"), dtype=\"int16\")\n",
    "    gt_x, gt_fs = sf.read(op.join(gt_folder, f\"{uid}.wav\"), dtype=\"int16\")\n",
    "    fs = gen_fs\n",
    "    # extract ground truth and converted features\n",
    "    gen_mcep, gen_f0 = world_extract(\n",
    "        x=gen_x,\n",
    "        fs=fs,\n",
    "        f0min=40,\n",
    "        f0max=800,\n",
    "        n_fft=1024,\n",
    "        n_shift=256,\n",
    "        mcep_dim=None,\n",
    "        mcep_alpha=None,\n",
    "    )\n",
    "    gt_mcep, gt_f0 = world_extract(\n",
    "        x=gt_x,\n",
    "        fs=fs,\n",
    "        f0min=40,\n",
    "        f0max=800,\n",
    "        n_fft=1024,\n",
    "        n_shift=256,\n",
    "        mcep_dim=None,\n",
    "        mcep_alpha=None,\n",
    "    )\n",
    "    \n",
    "    # DTW\n",
    "    _, path = fastdtw(gen_mcep, gt_mcep, dist=spatial.distance.euclidean)\n",
    "    twf = np.array(path).T\n",
    "    gen_f0_dtw = gen_f0[twf[0]]\n",
    "    gt_f0_dtw = gt_f0[twf[1]]\n",
    "    \n",
    "    # Get voiced part\n",
    "    nonzero_idxs = np.where((gen_f0_dtw != 0) & (gt_f0_dtw != 0))[0]\n",
    "    eps = 1e-7\n",
    "    gen_f0_dtw_voiced = np.log(gen_f0_dtw[nonzero_idxs] + eps)\n",
    "    gt_f0_dtw_voiced = np.log(gt_f0_dtw[nonzero_idxs] + eps)\n",
    "\n",
    "    if len(gen_f0_dtw_voiced) == 0 or len(gt_f0_dtw_voiced) == 0:\n",
    "        print(f\"Skip uid {uid}. len == 0.\")\n",
    "        continue\n",
    "\n",
    "    # log F0 RMSE\n",
    "    log_f0_rmse = np.sqrt(np.mean((gen_f0_dtw_voiced - gt_f0_dtw_voiced) ** 2))\n",
    "    # print(f\"{uid} {log_f0_rmse:.4f}\")\n",
    "\n",
    "    # log F0 corr\n",
    "    log_f0_corr = np.corrcoef(gen_f0_dtw_voiced, gt_f0_dtw_voiced)[0][1]\n",
    "    # print(f\"{uid} {log_f0_corr:.4f}\")\n",
    "    uids.append(uid)\n",
    "    logf0_rmses_gt.append(log_f0_rmse)\n",
    "    logf0_corrs_gt.append(log_f0_corr)"
   ]
  },
  {
   "cell_type": "code",
   "execution_count": null,
   "id": "a7db5a74-d009-4327-b469-41ce7e3e3f96",
   "metadata": {},
   "outputs": [],
   "source": [
    "v6_logf0_df = pd.DataFrame({\n",
    "    'uid': uids,\n",
    "    'logf0_rmse_recon': logf0_rmses_recon,\n",
    "    'logf0_corr_recon': logf0_corrs_recon,\n",
    "    'logf0_rmse_gt': logf0_rmses_gt,\n",
    "    'logf0_corr_gt': logf0_corrs_gt,\n",
    "})\n",
    "v6_logf0_df.to_csv(r\".\\jupyter_walkthrough\\metrics\\logF0_0703a_1M.csv\")"
   ]
  },
  {
   "cell_type": "code",
   "execution_count": null,
   "id": "5e715f88-9e58-4998-859e-49d81872ec3e",
   "metadata": {},
   "outputs": [],
   "source": [
    "v6_logf0_df = v6_logf0_df.dropna()"
   ]
  },
  {
   "cell_type": "code",
   "execution_count": null,
   "id": "f0487399-e36e-4351-a3bd-2e5aa127c9b9",
   "metadata": {},
   "outputs": [],
   "source": [
    "print(f\"logf0_rmse_recon mean on 0703a_1M: {v6_logf0_df['logf0_rmse_recon'].values.mean()}\")\n",
    "print(f\"logf0_rmse_recon std on 0703a_1M: {v6_logf0_df['logf0_rmse_recon'].values.std()}\")\n",
    "print(f\"logf0_corr_recon mean on 0703a_1M: {v6_logf0_df['logf0_corr_recon'].values.mean()}\")\n",
    "print(f\"logf0_corr_recon std on 0703a_1M: {v6_logf0_df['logf0_corr_recon'].values.std()}\")\n",
    "\n",
    "print(f\"logf0_rmse_gt mean on 0703a_1M: {v6_logf0_df['logf0_rmse_gt'].values.mean()}\")\n",
    "print(f\"logf0_rmse_gt std on 0703a_1M: {v6_logf0_df['logf0_rmse_gt'].values.std()}\")\n",
    "print(f\"logf0_corr_gt mean on 0703a_1M: {v6_logf0_df['logf0_corr_gt'].values.mean()}\")\n",
    "print(f\"logf0_corr_gt std on 0703a_1M: {v6_logf0_df['logf0_corr_gt'].values.std()}\")"
   ]
  },
  {
   "cell_type": "code",
   "execution_count": null,
   "id": "c999c7d9-80fb-4593-820e-9179313e5f1d",
   "metadata": {},
   "outputs": [],
   "source": []
  },
  {
   "cell_type": "code",
   "execution_count": null,
   "id": "6796bca0-6393-4286-a9ab-4af02b10ea16",
   "metadata": {},
   "outputs": [],
   "source": []
  },
  {
   "cell_type": "code",
   "execution_count": null,
   "id": "a317be12-9ca7-40a5-92fa-f4796017e1bc",
   "metadata": {},
   "outputs": [],
   "source": []
  },
  {
   "cell_type": "code",
   "execution_count": 39,
   "id": "299aac29-5399-4f91-bd17-7f340c23aef2",
   "metadata": {},
   "outputs": [],
   "source": [
    "# from werpy_weighted import werpy\n",
    "import werpy\n",
    "import whisper\n",
    "from whisper.tokenizer import get_tokenizer"
   ]
  },
  {
   "cell_type": "code",
   "execution_count": 40,
   "id": "426405b5-b998-4471-b8ce-83609bee37d1",
   "metadata": {},
   "outputs": [],
   "source": [
    "# https://github.com/openai/whisper/discussions/1041#discussioncomment-5224837\n",
    "tokenizer = get_tokenizer(multilingual=False)  # use multilingual=True if using multilingual model\n",
    "number_tokens = [\n",
    "    i \n",
    "    for i in range(tokenizer.eot)\n",
    "    if all(c in \"0123456789\" for c in tokenizer.decode([i]).removeprefix(\" \"))\n",
    "]"
   ]
  },
  {
   "cell_type": "code",
   "execution_count": 41,
   "id": "5f5a895a-476d-4209-b53c-503a5d230343",
   "metadata": {},
   "outputs": [],
   "source": [
    "device = torch.device(\"cuda\" if torch.cuda.is_available() else \"cpu\")\n",
    "\n",
    "whisper_model = whisper.load_model('base.en').to(device)"
   ]
  },
  {
   "cell_type": "code",
   "execution_count": 42,
   "id": "9f3655ef-c35a-4cd5-9164-0b353cbc6019",
   "metadata": {},
   "outputs": [],
   "source": [
    "split_txt_val_path = r'.\\preprocessed_data\\Ego4D_final_v6\\val.txt'\n",
    "val_uids = []\n",
    "gt_transcripts_dict = {}\n",
    "with open(split_txt_val_path) as file:\n",
    "    for line in file:\n",
    "        # print(line.split('|')[0])\n",
    "        val_uids.append(line.split('|')[0])\n",
    "        gt_transcripts_dict[line.split('|')[0]] = line.split('|')[-1]"
   ]
  },
  {
   "cell_type": "code",
   "execution_count": 28,
   "id": "692d8c92-02d5-46c5-b8ef-65161af2839f",
   "metadata": {},
   "outputs": [],
   "source": [
    "syn_folder = r'.\\output\\0703a\\result\\Ego4D_final_v6\\wav\\synthesized'"
   ]
  },
  {
   "cell_type": "code",
   "execution_count": 29,
   "id": "25dfb574-99a6-4bb7-a979-ee2ecb76237c",
   "metadata": {},
   "outputs": [
    {
     "data": {
      "application/vnd.jupyter.widget-view+json": {
       "model_id": "c0de3a06c2104dd3a35f1a3c9c0113a4",
       "version_major": 2,
       "version_minor": 0
      },
      "text/plain": [
       "  0%|          | 0/2772 [00:00<?, ?it/s]"
      ]
     },
     "metadata": {},
     "output_type": "display_data"
    },
    {
     "name": "stdout",
     "output_type": "stream",
     "text": [
      "CPU times: total: 1h 20min 18s\n",
      "Wall time: 43min 55s\n"
     ]
    }
   ],
   "source": [
    "%%time\n",
    "uids = []\n",
    "whisper_transcripts = []\n",
    "gt_transcripts = []\n",
    "\n",
    "for uid in tqdm(val_uids):\n",
    "    uids.append(uid)\n",
    "    output = whisper_model.transcribe(\n",
    "            op.join(syn_folder, f\"{uid}.wav\"),\n",
    "            suppress_tokens=[-1] + number_tokens,\n",
    "    )\n",
    "    whisper_transcript = output[\"text\"]\n",
    "    gt_transcript = gt_transcripts_dict[uid]\n",
    "\n",
    "    whisper_transcripts.append(whisper_transcript)\n",
    "    gt_transcripts.append(gt_transcript)\n"
   ]
  },
  {
   "cell_type": "code",
   "execution_count": 30,
   "id": "86905e4e-adb5-494b-abc3-8207f49b7b24",
   "metadata": {},
   "outputs": [],
   "source": [
    "whisper_df_0703a_1M = pd.DataFrame({\n",
    "    'uid': uids,\n",
    "    'whisper_transcripts': whisper_transcripts,\n",
    "    'gt_transcripts': gt_transcripts,\n",
    "})"
   ]
  },
  {
   "cell_type": "code",
   "execution_count": 31,
   "id": "f082a3e9-7cbc-48f4-93d5-86bccdfda935",
   "metadata": {},
   "outputs": [
    {
     "data": {
      "text/html": [
       "<div>\n",
       "<style scoped>\n",
       "    .dataframe tbody tr th:only-of-type {\n",
       "        vertical-align: middle;\n",
       "    }\n",
       "\n",
       "    .dataframe tbody tr th {\n",
       "        vertical-align: top;\n",
       "    }\n",
       "\n",
       "    .dataframe thead th {\n",
       "        text-align: right;\n",
       "    }\n",
       "</style>\n",
       "<table border=\"1\" class=\"dataframe\">\n",
       "  <thead>\n",
       "    <tr style=\"text-align: right;\">\n",
       "      <th></th>\n",
       "      <th>uid</th>\n",
       "      <th>whisper_transcripts</th>\n",
       "      <th>gt_transcripts</th>\n",
       "    </tr>\n",
       "  </thead>\n",
       "  <tbody>\n",
       "    <tr>\n",
       "      <th>0</th>\n",
       "      <td>9d58583c-20de-439d-b1cd-9c2265bdedd8</td>\n",
       "      <td>What?</td>\n",
       "      <td>what \\n</td>\n",
       "    </tr>\n",
       "    <tr>\n",
       "      <th>1</th>\n",
       "      <td>4a506707-52ea-493e-98c4-f667e3222d44</td>\n",
       "      <td>...and ship you and</td>\n",
       "      <td>pretty shit to be honest \\n</td>\n",
       "    </tr>\n",
       "    <tr>\n",
       "      <th>2</th>\n",
       "      <td>0b67f942-6ebf-403d-aff0-f4e5d62d3140</td>\n",
       "      <td>I want to be able to cover it all and care fo...</td>\n",
       "      <td>oh when you nail them together they won't be ...</td>\n",
       "    </tr>\n",
       "    <tr>\n",
       "      <th>3</th>\n",
       "      <td>c237c6d5-f413-4e25-82e2-af7b408d390a</td>\n",
       "      <td>This style is too hard because I play in Hell.</td>\n",
       "      <td>no not necessary cuz if they're warped right ...</td>\n",
       "    </tr>\n",
       "    <tr>\n",
       "      <th>4</th>\n",
       "      <td>b8ed5cf9-b8ff-4da3-a764-a59020b85277</td>\n",
       "      <td>The area of sugar.</td>\n",
       "      <td>or we could just use the \\n</td>\n",
       "    </tr>\n",
       "  </tbody>\n",
       "</table>\n",
       "</div>"
      ],
      "text/plain": [
       "                                    uid   \n",
       "0  9d58583c-20de-439d-b1cd-9c2265bdedd8  \\\n",
       "1  4a506707-52ea-493e-98c4-f667e3222d44   \n",
       "2  0b67f942-6ebf-403d-aff0-f4e5d62d3140   \n",
       "3  c237c6d5-f413-4e25-82e2-af7b408d390a   \n",
       "4  b8ed5cf9-b8ff-4da3-a764-a59020b85277   \n",
       "\n",
       "                                 whisper_transcripts   \n",
       "0                                              What?  \\\n",
       "1                                ...and ship you and   \n",
       "2   I want to be able to cover it all and care fo...   \n",
       "3     This style is too hard because I play in Hell.   \n",
       "4                                 The area of sugar.   \n",
       "\n",
       "                                      gt_transcripts  \n",
       "0                                            what \\n  \n",
       "1                        pretty shit to be honest \\n  \n",
       "2   oh when you nail them together they won't be ...  \n",
       "3   no not necessary cuz if they're warped right ...  \n",
       "4                        or we could just use the \\n  "
      ]
     },
     "execution_count": 31,
     "metadata": {},
     "output_type": "execute_result"
    }
   ],
   "source": [
    "whisper_df_0703a_1M.head()"
   ]
  },
  {
   "cell_type": "code",
   "execution_count": 32,
   "id": "734e8a11-d508-4c81-8fda-53a07af7a102",
   "metadata": {},
   "outputs": [],
   "source": [
    "whisper_df_0703a_1M.to_csv(r\".\\jupyter_walkthrough\\metrics\\whisper_df_0703a_1M.csv\", index=False)"
   ]
  },
  {
   "cell_type": "code",
   "execution_count": null,
   "id": "f9f129ac-6916-454d-a96e-727f4e0cf002",
   "metadata": {},
   "outputs": [],
   "source": []
  },
  {
   "cell_type": "code",
   "execution_count": 43,
   "id": "ab469af1-5333-41df-af61-4cd844d5491f",
   "metadata": {},
   "outputs": [],
   "source": [
    "import pandas as pd"
   ]
  },
  {
   "cell_type": "code",
   "execution_count": 45,
   "id": "59c4f73b-6930-43f8-93de-b38dd32ad8b2",
   "metadata": {},
   "outputs": [],
   "source": [
    "gt_folder = r'.\\raw_data\\Ego4D_final_v6\\val\\Ego4D_final_v6'"
   ]
  },
  {
   "cell_type": "code",
   "execution_count": 46,
   "id": "71313099-c94d-4147-bdc9-e73cde42195d",
   "metadata": {},
   "outputs": [
    {
     "data": {
      "application/vnd.jupyter.widget-view+json": {
       "model_id": "b6d48dbaf9d5472db5d4b035f867dc32",
       "version_major": 2,
       "version_minor": 0
      },
      "text/plain": [
       "  0%|          | 0/2772 [00:00<?, ?it/s]"
      ]
     },
     "metadata": {},
     "output_type": "display_data"
    },
    {
     "name": "stdout",
     "output_type": "stream",
     "text": [
      "CPU times: total: 1h 15min 34s\n",
      "Wall time: 30min 12s\n"
     ]
    }
   ],
   "source": [
    "%%time\n",
    "uids = []\n",
    "whisper_transcripts = []\n",
    "gt_transcripts = []\n",
    "\n",
    "for uid in tqdm(val_uids):\n",
    "    uids.append(uid)\n",
    "    output = whisper_model.transcribe(\n",
    "            op.join(gt_folder, f\"{uid}.wav\"),\n",
    "            suppress_tokens=[-1] + number_tokens,\n",
    "    )\n",
    "    whisper_transcript = output[\"text\"]\n",
    "    gt_transcript = gt_transcripts_dict[uid]\n",
    "\n",
    "    whisper_transcripts.append(whisper_transcript)\n",
    "    gt_transcripts.append(gt_transcript)\n"
   ]
  },
  {
   "cell_type": "code",
   "execution_count": 50,
   "id": "7c5e0969-d42e-448d-bf90-0422df092436",
   "metadata": {},
   "outputs": [],
   "source": [
    "whisper_df_0703a_1M = pd.DataFrame({\n",
    "    'uid': uids,\n",
    "    'whisper_transcripts': whisper_transcripts,\n",
    "    'gt_transcripts': gt_transcripts,\n",
    "})"
   ]
  },
  {
   "cell_type": "code",
   "execution_count": 51,
   "id": "b03c4681-8f86-42d8-85f1-c9f7897ca6d1",
   "metadata": {},
   "outputs": [
    {
     "data": {
      "text/html": [
       "<div>\n",
       "<style scoped>\n",
       "    .dataframe tbody tr th:only-of-type {\n",
       "        vertical-align: middle;\n",
       "    }\n",
       "\n",
       "    .dataframe tbody tr th {\n",
       "        vertical-align: top;\n",
       "    }\n",
       "\n",
       "    .dataframe thead th {\n",
       "        text-align: right;\n",
       "    }\n",
       "</style>\n",
       "<table border=\"1\" class=\"dataframe\">\n",
       "  <thead>\n",
       "    <tr style=\"text-align: right;\">\n",
       "      <th></th>\n",
       "      <th>uid</th>\n",
       "      <th>whisper_transcripts</th>\n",
       "      <th>gt_transcripts</th>\n",
       "    </tr>\n",
       "  </thead>\n",
       "  <tbody>\n",
       "    <tr>\n",
       "      <th>0</th>\n",
       "      <td>9d58583c-20de-439d-b1cd-9c2265bdedd8</td>\n",
       "      <td>What?</td>\n",
       "      <td>what \\n</td>\n",
       "    </tr>\n",
       "    <tr>\n",
       "      <th>1</th>\n",
       "      <td>4a506707-52ea-493e-98c4-f667e3222d44</td>\n",
       "      <td>Pretty shit, to be honest.</td>\n",
       "      <td>pretty shit to be honest \\n</td>\n",
       "    </tr>\n",
       "    <tr>\n",
       "      <th>2</th>\n",
       "      <td>0b67f942-6ebf-403d-aff0-f4e5d62d3140</td>\n",
       "      <td>One of them together.</td>\n",
       "      <td>oh when you nail them together they won't be ...</td>\n",
       "    </tr>\n",
       "    <tr>\n",
       "      <th>3</th>\n",
       "      <td>c237c6d5-f413-4e25-82e2-af7b408d390a</td>\n",
       "      <td>No, no, I'm certainly... As if they're warped...</td>\n",
       "      <td>no not necessary cuz if they're warped right ...</td>\n",
       "    </tr>\n",
       "    <tr>\n",
       "      <th>4</th>\n",
       "      <td>b8ed5cf9-b8ff-4da3-a764-a59020b85277</td>\n",
       "      <td>See the dots and there.</td>\n",
       "      <td>or we could just use the \\n</td>\n",
       "    </tr>\n",
       "  </tbody>\n",
       "</table>\n",
       "</div>"
      ],
      "text/plain": [
       "                                    uid   \n",
       "0  9d58583c-20de-439d-b1cd-9c2265bdedd8  \\\n",
       "1  4a506707-52ea-493e-98c4-f667e3222d44   \n",
       "2  0b67f942-6ebf-403d-aff0-f4e5d62d3140   \n",
       "3  c237c6d5-f413-4e25-82e2-af7b408d390a   \n",
       "4  b8ed5cf9-b8ff-4da3-a764-a59020b85277   \n",
       "\n",
       "                                 whisper_transcripts   \n",
       "0                                              What?  \\\n",
       "1                         Pretty shit, to be honest.   \n",
       "2                              One of them together.   \n",
       "3   No, no, I'm certainly... As if they're warped...   \n",
       "4                            See the dots and there.   \n",
       "\n",
       "                                      gt_transcripts  \n",
       "0                                            what \\n  \n",
       "1                        pretty shit to be honest \\n  \n",
       "2   oh when you nail them together they won't be ...  \n",
       "3   no not necessary cuz if they're warped right ...  \n",
       "4                        or we could just use the \\n  "
      ]
     },
     "execution_count": 51,
     "metadata": {},
     "output_type": "execute_result"
    }
   ],
   "source": [
    "whisper_df_0703a_1M.head()"
   ]
  },
  {
   "cell_type": "code",
   "execution_count": 52,
   "id": "833db9b2-dfea-4196-8740-da4ca6ba45fe",
   "metadata": {},
   "outputs": [],
   "source": [
    "whisper_df_0703a_1M.to_csv(r\".\\jupyter_walkthrough\\metrics\\whisper_df_0703a_1M_gt.csv\", index=False)"
   ]
  },
  {
   "cell_type": "code",
   "execution_count": null,
   "id": "32989276-12ae-4185-99cb-0491d976d619",
   "metadata": {},
   "outputs": [],
   "source": []
  },
  {
   "cell_type": "code",
   "execution_count": null,
   "id": "a077b3e9-2f44-4f8e-826c-91d3e00be763",
   "metadata": {},
   "outputs": [],
   "source": []
  },
  {
   "cell_type": "code",
   "execution_count": 71,
   "id": "6337d667-81ab-4ec9-9e56-193f876b4a44",
   "metadata": {},
   "outputs": [],
   "source": [
    "split_txt_val_path = r'.\\preprocessed_data\\Ego4D_final_v5\\val.txt'\n",
    "val_uids = []\n",
    "gt_transcripts_dict = {}\n",
    "with open(split_txt_val_path) as file:\n",
    "    for line in file:\n",
    "        # print(line.split('|')[0])\n",
    "        val_uids.append(line.split('|')[0])\n",
    "        gt_transcripts_dict[line.split('|')[0]] = line.split('|')[-1]"
   ]
  },
  {
   "cell_type": "code",
   "execution_count": 72,
   "id": "b5cfbdea-e973-442c-9565-9037b5fdc76f",
   "metadata": {},
   "outputs": [
    {
     "data": {
      "text/plain": [
       "2715"
      ]
     },
     "execution_count": 72,
     "metadata": {},
     "output_type": "execute_result"
    }
   ],
   "source": [
    "len(val_uids)"
   ]
  },
  {
   "cell_type": "code",
   "execution_count": 73,
   "id": "d61ac1fd-2413-42ec-abac-8af35df9965d",
   "metadata": {},
   "outputs": [],
   "source": [
    "import pandas as pd"
   ]
  },
  {
   "cell_type": "code",
   "execution_count": 74,
   "id": "89ec4efb-3bae-40e8-85d1-cd867e02b9cf",
   "metadata": {},
   "outputs": [],
   "source": [
    "gt_folder = r'.\\raw_data\\Ego4D_final_v5\\val\\Ego4D_final_v5'"
   ]
  },
  {
   "cell_type": "code",
   "execution_count": 75,
   "id": "0b7543da-573c-4b39-91a9-0c44cee04e99",
   "metadata": {},
   "outputs": [
    {
     "data": {
      "application/vnd.jupyter.widget-view+json": {
       "model_id": "0917d5ddfcde4fc18fec47635ebab346",
       "version_major": 2,
       "version_minor": 0
      },
      "text/plain": [
       "  0%|          | 0/2715 [00:00<?, ?it/s]"
      ]
     },
     "metadata": {},
     "output_type": "display_data"
    },
    {
     "name": "stdout",
     "output_type": "stream",
     "text": [
      "CPU times: total: 1h 10min 36s\n",
      "Wall time: 29min 22s\n"
     ]
    }
   ],
   "source": [
    "%%time\n",
    "uids = []\n",
    "whisper_transcripts = []\n",
    "gt_transcripts = []\n",
    "\n",
    "for uid in tqdm(val_uids):\n",
    "    uids.append(uid)\n",
    "    output = whisper_model.transcribe(\n",
    "            op.join(gt_folder, f\"{uid}.wav\"),\n",
    "            suppress_tokens=[-1] + number_tokens,\n",
    "    )\n",
    "    whisper_transcript = output[\"text\"]\n",
    "    gt_transcript = gt_transcripts_dict[uid]\n",
    "\n",
    "    whisper_transcripts.append(whisper_transcript)\n",
    "    gt_transcripts.append(gt_transcript)\n"
   ]
  },
  {
   "cell_type": "code",
   "execution_count": 76,
   "id": "1a27712d-7b02-4a7a-99f7-c7ce8d8620bc",
   "metadata": {},
   "outputs": [],
   "source": [
    "whisper_df_0703a_1M = pd.DataFrame({\n",
    "    'uid': uids,\n",
    "    'whisper_transcripts': whisper_transcripts,\n",
    "    'gt_transcripts': gt_transcripts,\n",
    "})"
   ]
  },
  {
   "cell_type": "code",
   "execution_count": 77,
   "id": "41d2bfce-1db3-4957-a3ad-f6587cd0bc29",
   "metadata": {},
   "outputs": [
    {
     "data": {
      "text/html": [
       "<div>\n",
       "<style scoped>\n",
       "    .dataframe tbody tr th:only-of-type {\n",
       "        vertical-align: middle;\n",
       "    }\n",
       "\n",
       "    .dataframe tbody tr th {\n",
       "        vertical-align: top;\n",
       "    }\n",
       "\n",
       "    .dataframe thead th {\n",
       "        text-align: right;\n",
       "    }\n",
       "</style>\n",
       "<table border=\"1\" class=\"dataframe\">\n",
       "  <thead>\n",
       "    <tr style=\"text-align: right;\">\n",
       "      <th></th>\n",
       "      <th>uid</th>\n",
       "      <th>whisper_transcripts</th>\n",
       "      <th>gt_transcripts</th>\n",
       "    </tr>\n",
       "  </thead>\n",
       "  <tbody>\n",
       "    <tr>\n",
       "      <th>0</th>\n",
       "      <td>9d58583c-20de-439d-b1cd-9c2265bdedd8</td>\n",
       "      <td>What's...</td>\n",
       "      <td>what \\n</td>\n",
       "    </tr>\n",
       "    <tr>\n",
       "      <th>1</th>\n",
       "      <td>4a506707-52ea-493e-98c4-f667e3222d44</td>\n",
       "      <td>Pretty shit, to be honest.</td>\n",
       "      <td>pretty shit to be honest \\n</td>\n",
       "    </tr>\n",
       "    <tr>\n",
       "      <th>2</th>\n",
       "      <td>0b67f942-6ebf-403d-aff0-f4e5d62d3140</td>\n",
       "      <td>this money worked out well you</td>\n",
       "      <td>oh when you nail them together they won't be ...</td>\n",
       "    </tr>\n",
       "    <tr>\n",
       "      <th>3</th>\n",
       "      <td>c237c6d5-f413-4e25-82e2-af7b408d390a</td>\n",
       "      <td>Not necessarily, because if they're warped ri...</td>\n",
       "      <td>no not necessary cuz if they're warped right ...</td>\n",
       "    </tr>\n",
       "    <tr>\n",
       "      <th>4</th>\n",
       "      <td>22a8a78a-caea-4aa2-be9c-4e02e0d88009</td>\n",
       "      <td>a full time PLAY rings</td>\n",
       "      <td>stand them all down flat \\n</td>\n",
       "    </tr>\n",
       "  </tbody>\n",
       "</table>\n",
       "</div>"
      ],
      "text/plain": [
       "                                    uid   \n",
       "0  9d58583c-20de-439d-b1cd-9c2265bdedd8  \\\n",
       "1  4a506707-52ea-493e-98c4-f667e3222d44   \n",
       "2  0b67f942-6ebf-403d-aff0-f4e5d62d3140   \n",
       "3  c237c6d5-f413-4e25-82e2-af7b408d390a   \n",
       "4  22a8a78a-caea-4aa2-be9c-4e02e0d88009   \n",
       "\n",
       "                                 whisper_transcripts   \n",
       "0                                          What's...  \\\n",
       "1                         Pretty shit, to be honest.   \n",
       "2                     this money worked out well you   \n",
       "3   Not necessarily, because if they're warped ri...   \n",
       "4                             a full time PLAY rings   \n",
       "\n",
       "                                      gt_transcripts  \n",
       "0                                            what \\n  \n",
       "1                        pretty shit to be honest \\n  \n",
       "2   oh when you nail them together they won't be ...  \n",
       "3   no not necessary cuz if they're warped right ...  \n",
       "4                        stand them all down flat \\n  "
      ]
     },
     "execution_count": 77,
     "metadata": {},
     "output_type": "execute_result"
    }
   ],
   "source": [
    "whisper_df_0703a_1M.head()"
   ]
  },
  {
   "cell_type": "code",
   "execution_count": 78,
   "id": "6973a802-191d-4f5c-83b7-8648760b831d",
   "metadata": {},
   "outputs": [],
   "source": [
    "whisper_df_0703a_1M.to_csv(r\".\\jupyter_walkthrough\\metrics\\whisper_df_0703a_1M_gt5.csv\", index=False)"
   ]
  },
  {
   "cell_type": "code",
   "execution_count": null,
   "id": "ee7e813c-71b3-4356-97ec-def0ea5a1607",
   "metadata": {},
   "outputs": [],
   "source": []
  },
  {
   "cell_type": "code",
   "execution_count": null,
   "id": "fb7132cb-0cf9-4fe8-a661-7f8b59eb5add",
   "metadata": {},
   "outputs": [],
   "source": []
  },
  {
   "cell_type": "code",
   "execution_count": 5,
   "id": "1fefb943-aa09-494d-8840-32c515fdec3e",
   "metadata": {},
   "outputs": [],
   "source": [
    "import pandas as pd\n",
    "whisper_df_0703a_1M = pd.read_csv(r\".\\jupyter_walkthrough\\metrics\\whisper_df_0703a_1M.csv\")"
   ]
  },
  {
   "cell_type": "code",
   "execution_count": 15,
   "id": "0bd37688-a386-497f-ada1-c31c7122b953",
   "metadata": {},
   "outputs": [
    {
     "data": {
      "text/plain": [
       "(2772, 3)"
      ]
     },
     "execution_count": 15,
     "metadata": {},
     "output_type": "execute_result"
    }
   ],
   "source": [
    "whisper_df_0703a_1M.shape"
   ]
  },
  {
   "cell_type": "code",
   "execution_count": 16,
   "id": "ebd76cce-eb5e-4aca-aab0-275a9b2320e5",
   "metadata": {
    "scrolled": true
   },
   "outputs": [
    {
     "data": {
      "text/plain": [
       "(2676, 3)"
      ]
     },
     "execution_count": 16,
     "metadata": {},
     "output_type": "execute_result"
    }
   ],
   "source": [
    "whisper_df_0703a_1M.dropna().shape"
   ]
  },
  {
   "cell_type": "code",
   "execution_count": 17,
   "id": "79e4a7fe-4e14-4e8c-bb15-4b36a07d7e7b",
   "metadata": {},
   "outputs": [],
   "source": [
    "whisper_df_0703a_1M = whisper_df_0703a_1M.dropna()"
   ]
  },
  {
   "cell_type": "code",
   "execution_count": 18,
   "id": "7180c1b6-9ac7-4c9b-ad3c-026abeab3172",
   "metadata": {
    "collapsed": true,
    "jupyter": {
     "outputs_hidden": true
    }
   },
   "outputs": [
    {
     "data": {
      "text/plain": [
       "([' what \\n',\n",
       "  ' pretty shit to be honest \\n',\n",
       "  \" oh when you nail them together they won't be as hard right \\n\",\n",
       "  \" no not necessary cuz if they're warped right now you're going to nail them into a warped position \\n\",\n",
       "  ' or we could just use the \\n',\n",
       "  ' stand them all down flat \\n',\n",
       "  ' right now \\n',\n",
       "  \" no what's our only \\n\",\n",
       "  ' maybe \\n',\n",
       "  ' i mean if we just do it in two positions \\n',\n",
       "  \" it's harder to get done \\n\",\n",
       "  ' is the biscuit thing up cuz then it might hold it in more position \\n',\n",
       "  ' no \\n',\n",
       "  \" we're not doing the biscuit it's redundant \\n\",\n",
       "  \" if you want to get it done today then we're not doing the biscuit \\n\",\n",
       "  ' can we do something that \\n',\n",
       "  ' so just we need to rearrange and play with the boards to figure out what orientation is the best \\n',\n",
       "  ' okay \\n',\n",
       "  \" this'll probably be the front side \\n\",\n",
       "  ' anything towards the back will seem is less likely to the seen \\n',\n",
       "  ' alright \\n',\n",
       "  ' is there anyway\\n',\n",
       "  \" they're a different thing i should \\n\",\n",
       "  \" that one i guess i don't know \\n\",\n",
       "  ' uh the cord right there \\n',\n",
       "  ' are you \\n',\n",
       "  ' yeah \\n',\n",
       "  ' how you doing \\n',\n",
       "  ' do you have to do that inside \\n',\n",
       "  \" it's up to you \\n\",\n",
       "  \" the bottom but if check and see how they look side-by-side width-wise maybe we don't have to do the other side \\n\",\n",
       "  ' well then check \\n',\n",
       "  ' well hey \\n',\n",
       "  \" trying to make it so you don't have to do this again \\n\",\n",
       "  ' alright \\n',\n",
       "  ' hm \\n',\n",
       "  \" you know what you're amazing \\n\",\n",
       "  \" i know you just don't appreciate it sometimes \\n\",\n",
       "  ' so like this one seems so maybe we just do that one well i guess \\n',\n",
       "  \" it's cuz \\n\",\n",
       "  \" i think they're fine \\n\",\n",
       "  \" they're not going to be perfect boards aren't perfect \\n\",\n",
       "  \" we can always when it's bolted together too use the belt sander and try and finish out the edges \\n\",\n",
       "  ' right then i guess \\n',\n",
       "  \" think that's gonna be your best bet at this point \\n\",\n",
       "  ' hmm \\n',\n",
       "  \" fine i'm so fine \\n\",\n",
       "  ' no \\n',\n",
       "  ' two more \\n',\n",
       "  ' one more \\n',\n",
       "  ' six more \\n',\n",
       "  ' two more \\n',\n",
       "  ' pass \\n',\n",
       "  ' pass ha ha ha ha \\n',\n",
       "  \" once i call pass i can't challenge \\n\",\n",
       "  ' right \\n',\n",
       "  ' so if if this is supposed to be challenged then only you can challenge \\n',\n",
       "  ' one more \\n',\n",
       "  ' oh nice pass so you play now i lost my turn \\n',\n",
       "  ' yeah okay \\n',\n",
       "  ' i have i have a whole deck \\n',\n",
       "  \" right now it is a complete deck generally when the stakes are really high now people don't challenge people are like let to go ha ha ha \\n\",\n",
       "  ' ha \\n',\n",
       "  ' but card \\n',\n",
       "  ' pakistan \\n',\n",
       "  ' two nine \\n',\n",
       "  ' two more \\n',\n",
       "  ' two nine two nine \\n',\n",
       "  ' chad \\n',\n",
       "  ' one more \\n',\n",
       "  ' mm hmm \\n',\n",
       "  ' nine \\n',\n",
       "  ' three five \\n',\n",
       "  ' five \\n',\n",
       "  ' three more \\n',\n",
       "  ' three more \\n',\n",
       "  ' two more \\n',\n",
       "  ' two one \\n',\n",
       "  ' pass \\n',\n",
       "  ' pass \\n',\n",
       "  ' pass \\n',\n",
       "  ' challenge \\n',\n",
       "  ' pass \\n',\n",
       "  ' safe \\n',\n",
       "  ' one more \\n',\n",
       "  ' pass \\n',\n",
       "  ' start at you \\n',\n",
       "  ' one three \\n',\n",
       "  ' hm \\n',\n",
       "  ' two kings \\n',\n",
       "  ' three nines \\n',\n",
       "  ' one more \\n',\n",
       "  ' one more \\n',\n",
       "  ' fuck this \\n',\n",
       "  ' one more \\n',\n",
       "  ' another one \\n',\n",
       "  ' yeah \\n',\n",
       "  ' ooh man \\n',\n",
       "  ' ahh \\n',\n",
       "  ' the second time that \\n',\n",
       "  ' yeah \\n',\n",
       "  ' two jacks \\n',\n",
       "  ' two jacks \\n',\n",
       "  ' one more \\n',\n",
       "  ' one more \\n',\n",
       "  ' one more \\n',\n",
       "  ' one more \\n',\n",
       "  ' one more \\n',\n",
       "  ' same thing you \\n',\n",
       "  ' let us start now \\n',\n",
       "  ' i know what i have \\n',\n",
       "  ' four nines \\n',\n",
       "  \" it's okay i will not because i want to get rid of my card \\n\",\n",
       "  ' four \\n',\n",
       "  ' four nines eh \\n',\n",
       "  ' last time \\n',\n",
       "  ' two more \\n',\n",
       "  ' one more \\n',\n",
       "  ' four more \\n',\n",
       "  ' one more \\n',\n",
       "  ' four more \\n',\n",
       "  ' even a nine \\n',\n",
       "  ' did you put four nines \\n',\n",
       "  ' i cannot\\n',\n",
       "  \" but i think we should play one deck all we should have played one deck before but what if they won't \\n\",\n",
       "  ' one deck \\n',\n",
       "  ' hm \\n',\n",
       "  ' separate \\n',\n",
       "  ' cards \\n',\n",
       "  ' oops \\n',\n",
       "  ' oops dodge \\n',\n",
       "  ' cuz i have the habit of like checking my phone every time \\n',\n",
       "  ' ha \\n',\n",
       "  ' ha \\n',\n",
       "  \" but let's go let's go with this and maybe next \\n\",\n",
       "  \" we can figure out so ismael the idea is because you don't get to see everything like you know you have to kinda like play on the fly and you can't plan for long enough \\n\",\n",
       "  ' huh \\n',\n",
       "  ' yeah \\n',\n",
       "  ' you know since i did this the next person will \\n',\n",
       "  \" you can't see all the cards and you still and know you know can't organize everything and \\n\",\n",
       "  ' very very \\n',\n",
       "  \" it's more kind of like \\n\",\n",
       "  ' too tiny \\n',\n",
       "  \" what's up it doesn't matter \\n\",\n",
       "  ' huh \\n',\n",
       "  ' how many you have to say how many is \\n',\n",
       "  ' how many \\n',\n",
       "  ' how many cards like \\n',\n",
       "  ' how many sixes you can play \\n',\n",
       "  ' you can play any number of cards \\n',\n",
       "  ' huh it is easier for you to get rid of many of them at the same time now \\n',\n",
       "  ' yeah \\n',\n",
       "  ' okay \\n',\n",
       "  ' hm \\n',\n",
       "  ' and also easier to bluff \\n',\n",
       "  ' hm \\n',\n",
       "  ' and uh i suppose i say uh five i keep five cards and i say five uh kings and there are four kings and one some other card and she calls \\n',\n",
       "  ' huh \\n',\n",
       "  ' huh \\n',\n",
       "  \" it depends on me if i call you liar or i challenge you cards you're out \\n\",\n",
       "  \" then you're out but all of them should be there \\n\",\n",
       "  ' all of them \\n',\n",
       "  \" yeah if i don't challenge you then you're safe \\n\",\n",
       "  ' cards \\n',\n",
       "  \" that's the fun like you have to keep on playing it and that's why it's if all three of us pass then that card kind of like go down \\n\",\n",
       "  ' hm \\n',\n",
       "  ' six six \\n',\n",
       "  ' one more \\n',\n",
       "  ' challenge \\n',\n",
       "  ' good good \\n',\n",
       "  ' no because you challenged it is your challenge gets to call the shots \\n',\n",
       "  ' okay \\n',\n",
       "  ' hm \\n',\n",
       "  ' okay \\n',\n",
       "  ' one jack \\n',\n",
       "  ' says one jack \\n',\n",
       "  ' love you \\n',\n",
       "  ' two more jacks \\n',\n",
       "  ' two kings \\n',\n",
       "  ' one more \\n',\n",
       "  ' two kings \\n',\n",
       "  ' one more \\n',\n",
       "  ' four more \\n',\n",
       "  ' pass \\n',\n",
       "  \" pass me there's a pass \\n\",\n",
       "  ' four king \\n',\n",
       "  ' bit shorter \\n',\n",
       "  ' one nine \\n',\n",
       "  ' one more \\n',\n",
       "  ' three more \\n',\n",
       "  \" i'm older \\n\",\n",
       "  ' lead with that confidence \\n',\n",
       "  ' one more \\n',\n",
       "  ' nine \\n',\n",
       "  ' yeah \\n',\n",
       "  ' hm \\n',\n",
       "  \" 'kay \\n\",\n",
       "  ' me the nine fuck off i know how to do that though \\n',\n",
       "  ' two more \\n',\n",
       "  ' check \\n',\n",
       "  ' or maybe not \\n',\n",
       "  ' one more \\n',\n",
       "  ' one more \\n',\n",
       "  ' perfect island \\n',\n",
       "  ' science project \\n',\n",
       "  ' hm \\n',\n",
       "  ' ahh \\n',\n",
       "  ' nice \\n',\n",
       "  ' game \\n',\n",
       "  ' okay \\n',\n",
       "  ' okay this is steady working correctly \\n',\n",
       "  ' ok challenge \\n',\n",
       "  ' oh \\n',\n",
       "  ' finally \\n',\n",
       "  ' three kings \\n',\n",
       "  ' challenge \\n',\n",
       "  ' ha \\n',\n",
       "  ' you made that before \\n',\n",
       "  ' two four \\n',\n",
       "  ' i thought you had no fours \\n',\n",
       "  ' two more \\n',\n",
       "  ' risk \\n',\n",
       "  ' four six \\n',\n",
       "  ' thank you \\n',\n",
       "  ' what \\n',\n",
       "  ' two two \\n',\n",
       "  ' one more \\n',\n",
       "  ' two more \\n',\n",
       "  ' two more \\n',\n",
       "  ' okay \\n',\n",
       "  ' two \\n',\n",
       "  ' two \\n',\n",
       "  ' ha \\n',\n",
       "  ' six six \\n',\n",
       "  ' two jacks \\n',\n",
       "  ' two more \\n',\n",
       "  ' two more \\n',\n",
       "  ' challenge oh \\n',\n",
       "  ' oh good one \\n',\n",
       "  ' thanks who ever wins the challenge \\n',\n",
       "  \" so even if the thing is like even if you lose the challenge you should challenge because then there's a chance that you'll later decide what to play \\n\",\n",
       "  ' okay \\n',\n",
       "  ' well even if she lost the challenge it was worth worth the chance so you get to choose card \\n',\n",
       "  \" but i'm just telling you to pair like i just don't know \\n\",\n",
       "  ' challenge okay \\n',\n",
       "  \" it's like risk reward i would have challenged that \\n\",\n",
       "  ' anybody can challenge it or just the next person \\n',\n",
       "  ' anybody can \\n',\n",
       "  ' eight \\n',\n",
       "  ' oops oops \\n',\n",
       "  ' three eight \\n',\n",
       "  ' challenge \\n',\n",
       "  \" let's play around \\n\",\n",
       "  ' do it \\n',\n",
       "  ' make it ace \\n',\n",
       "  ' watch out everybody \\n',\n",
       "  ' one more \\n',\n",
       "  ' one more \\n',\n",
       "  ' challenge \\n',\n",
       "  ' nice good one \\n',\n",
       "  ' blue jack \\n',\n",
       "  ' you would have jacks \\n',\n",
       "  ' two more \\n',\n",
       "  ' two more \\n',\n",
       "  ' two more \\n',\n",
       "  ' bad \\n',\n",
       "  ' still winning \\n',\n",
       "  ' many more\\n',\n",
       "  ' clues like that \\n',\n",
       "  ' actually i like the idea of asking people to play this game today you will look at the particular cards \\n',\n",
       "  ' hm \\n',\n",
       "  ' and what you look at and what you see are different things so it kind of like \\n',\n",
       "  \" it's a good idea for people uh perhaps but unfortunately \\n\",\n",
       "  ' last time \\n',\n",
       "  \" so you'll have to i mean i'll explain but just look at it so that gets captured and \\n\",\n",
       "  ' and whatever processing they want you to take \\n',\n",
       "  ' or \\n',\n",
       "  ' ok \\n',\n",
       "  ' hm \\n',\n",
       "  ' pupil tracking me right now \\n',\n",
       "  ' hmm \\n',\n",
       "  ' so this also tracks the pupil records audio and \\n',\n",
       "  ' okay \\n',\n",
       "  ' oh \\n',\n",
       "  ' we call it block in india \\n',\n",
       "  ' oh \\n',\n",
       "  ' bluff have you played bluff before i can explain it next time \\n',\n",
       "  ' no \\n',\n",
       "  ' so \\n',\n",
       "  ' basically everyone will get equal number of cards and uhm the goal is to finish all the cards in your hands \\n',\n",
       "  ' hm \\n',\n",
       "  ' alright \\n',\n",
       "  ' hmm \\n',\n",
       "  ' hmm \\n',\n",
       "  ' remembering \\n',\n",
       "  ' point pass you can just say pass pass all cards remain in someone hands \\n',\n",
       "  ' pass \\n',\n",
       "  ' mix mix mix \\n',\n",
       "  ' i will mix two decks to make it interesting single eh \\n',\n",
       "  ' ha \\n',\n",
       "  ' ha joker \\n',\n",
       "  ' fine joker counts for anything \\n',\n",
       "  ' ok \\n',\n",
       "  ' so if i place two kings but then two jokers then jokers can they wild cards \\n',\n",
       "  ' ha \\n',\n",
       "  ' one of them is joker \\n',\n",
       "  ' joker and uh she she said like \\n',\n",
       "  ' ha \\n',\n",
       "  \" now this becomes very interesting because there are two decks here and so eight cards of each type so it's harder than the regular game and should we keep the passing \\n\",\n",
       "  ' two there \\n',\n",
       "  ' no one game passing \\n',\n",
       "  ' passing passing \\n',\n",
       "  \" uh passing let's say if he start and i play something counter clockwise clockwise \\n\",\n",
       "  ' hm \\n',\n",
       "  ' left \\n',\n",
       "  ' left clockwise and if i pass then the game is between you two guys \\n',\n",
       "  ' ha \\n',\n",
       "  ' ha \\n',\n",
       "  ' and if you pass and if you pass like \\n',\n",
       "  ' ha \\n',\n",
       "  ' ha \\n',\n",
       "  ' i keep on continuing because no one call me out like i was not caught so you slip in next card to be choose around start i will get to decide i think the key is who gets to decide because he or she drives the game \\n',\n",
       "  \" okay let's start \\n\",\n",
       "  \" you're just making it harder with two \\n\",\n",
       "  ' now you can play \\n',\n",
       "  ' alright \\n',\n",
       "  ' next \\n',\n",
       "  ' you start then you get to play again pass \\n',\n",
       "  \" and we don't get to see what's in there otherwise it would become easy \\n\",\n",
       "  ' five ka \\n',\n",
       "  ' that card \\n',\n",
       "  ' cards \\n',\n",
       "  ' two ten \\n',\n",
       "  ' seven \\n',\n",
       "  ' seven \\n',\n",
       "  ' six \\n',\n",
       "  ' six \\n',\n",
       "  ' you \\n',\n",
       "  ' heh \\n',\n",
       "  ' three fours \\n',\n",
       "  ' two more \\n',\n",
       "  ' one more \\n',\n",
       "  ' three more \\n',\n",
       "  ' one more \\n',\n",
       "  ' three more \\n',\n",
       "  ' pass \\n',\n",
       "  ' so happy \\n',\n",
       "  ' four nines \\n',\n",
       "  ' four twos \\n',\n",
       "  ' oh \\n',\n",
       "  ' chance \\n',\n",
       "  ' game \\n',\n",
       "  ' you can play \\n',\n",
       "  ' mhm ha \\n',\n",
       "  ' count really count ha uh spade spade \\n',\n",
       "  ' really count \\n',\n",
       "  \" this is also good of seven diamonds wings just separate your different suits and then we'll will soon scan them individually \\n\",\n",
       "  ' okay \\n',\n",
       "  ' club \\n',\n",
       "  ' heart jack heart heart \\n',\n",
       "  \" go through that too but it doesn't look like \\n\",\n",
       "  \" what like the swimmers i don't think thus is your ice cream \\n\",\n",
       "  ' no \\n',\n",
       "  ' kind of bothers me \\n',\n",
       "  ' this has \\n',\n",
       "  ' yes look at \\n',\n",
       "  ' oh \\n',\n",
       "  ' oh \\n',\n",
       "  ' nasty \\n',\n",
       "  \" this has been in there forever and it's getting \\n\",\n",
       "  ' i went through it the other night threw some myself away instead \\n',\n",
       "  ' take this \\n',\n",
       "  ' yeah this is mine \\n',\n",
       "  ' yeah \\n',\n",
       "  ' these are yours you want one \\n',\n",
       "  ' maybe \\n',\n",
       "  ' are they still fine \\n',\n",
       "  \" oh yeah cause it's the day i found them \\n\",\n",
       "  ' you found them \\n',\n",
       "  ' yep \\n',\n",
       "  ' i found it an unopened pack of cigarettes at that \\n',\n",
       "  ' bible for mission \\n',\n",
       "  ' thrift store \\n',\n",
       "  ' the one that \\n',\n",
       "  ' you showed me \\n',\n",
       "  ' oh \\n',\n",
       "  ' we call it love in india \\n',\n",
       "  ' uh-uh \\n',\n",
       "  ' have you played love before \\n',\n",
       "  ' no \\n',\n",
       "  ' i can explain \\n',\n",
       "  ' basically everyone will get equal number of cards \\n',\n",
       "  ' and um the goal is to finish all the cards in your hands \\n',\n",
       "  ' alright \\n',\n",
       "  ' and uh the way you get rid of cards is by placing them face down \\n',\n",
       "  ' hmm \\n',\n",
       "  ' hmm \\n',\n",
       "  ' call out \\n',\n",
       "  ' ah \\n',\n",
       "  ' uh \\n',\n",
       "  ' ah \\n',\n",
       "  ' or \\n',\n",
       "  ' two \\n',\n",
       "  ' because \\n',\n",
       "  ' a whole talent huh \\n',\n",
       "  ' india \\n',\n",
       "  ' you can just say pass pass \\n',\n",
       "  ' uh-oh \\n',\n",
       "  \" oh single it's okay \\n\",\n",
       "  \" all cards remain in someone's hand \\n\",\n",
       "  \" i'll mix two decks \\n\",\n",
       "  ' to make it interesting \\n',\n",
       "  ' single \\n',\n",
       "  ' joker card \\n',\n",
       "  ' ah and joker counts for anything \\n',\n",
       "  ' okay \\n',\n",
       "  ' so if i place two kings but there are two jokers then jokers can counter them card \\n',\n",
       "  ' joker and she call she said liar \\n',\n",
       "  ' now this becomes very interesting because there are two decks here and so eight cards of each type so \\n',\n",
       "  \" it's \\n\",\n",
       "  ' than a regular game \\n',\n",
       "  ' should we keep the passing \\n',\n",
       "  ' one game passing a lot of \\n',\n",
       "  ' passing \\n',\n",
       "  ' passing \\n',\n",
       "  ' oh and i could it \\n',\n",
       "  \" ah passing let's say if he starts and i play something counterclockwise \\n\",\n",
       "  ' hmm \\n',\n",
       "  ' hmm \\n',\n",
       "  ' left clicker \\n',\n",
       "  ' left clicker clockwise \\n',\n",
       "  ' uh \\n',\n",
       "  ' oh \\n',\n",
       "  ' and if i pass then the game is between your two guys \\n',\n",
       "  ' okay \\n',\n",
       "  ' and if you pass and if you pass \\n',\n",
       "  ' uh \\n',\n",
       "  ' card game \\n',\n",
       "  \" and i keep on continuing because no one called me out like i was not caught so it's the next card to be to choose i will get to decide i think the key is who gets to decide \\n\",\n",
       "  ' uh \\n',\n",
       "  ' okay \\n',\n",
       "  ' because he or she drives the \\n',\n",
       "  ' alright \\n',\n",
       "  \" okay let's start \\n\",\n",
       "  \" we're just \\n\",\n",
       "  ' making it harder with \\n',\n",
       "  ' but i think we should play \\n',\n",
       "  ' one deck or we should have played one deck before because what if we want \\n',\n",
       "  ' one deck in the video \\n',\n",
       "  \" separate whenever time we're \\n\",\n",
       "  ' or but \\n',\n",
       "  ' cards are we \\n',\n",
       "  ' oops sarge \\n',\n",
       "  ' hmm \\n',\n",
       "  ' i have the habit of like checking my phone every time \\n',\n",
       "  ' uh-huh \\n',\n",
       "  \" but let's go let's go with this and maybe next round we can figure out but main idea is because you don't get to see everything like you know you have to kind of like play it on the flyer and you can't plan for long enough \\n\",\n",
       "  ' uh \\n',\n",
       "  ' you know since i did this the next person will you can see all the cards and you still and you can organize everything and \\n',\n",
       "  ' right right right \\n',\n",
       "  ' time\\n',\n",
       "  \" though it doesn't matter now card or \\n\",\n",
       "  ' card card \\n',\n",
       "  ' ah \\n',\n",
       "  ' hmm \\n',\n",
       "  ' yeah card \\n',\n",
       "  ' how many you have to say how many is \\n',\n",
       "  ' how many what \\n',\n",
       "  ' how many cards \\n',\n",
       "  ' how many sixes you can play uh art king it is easier for you to get rid of many of them at the same time \\n',\n",
       "  ' you can play any number of cards \\n',\n",
       "  ' uh oh \\n',\n",
       "  ' okay right right right \\n',\n",
       "  ' and also easier to bluff \\n',\n",
       "  ' hmm \\n',\n",
       "  ' and um i suppose i say uh five i keep five cards and i say five uh kings and there are four kings and one some other card in that and she calls \\n',\n",
       "  ' huh \\n',\n",
       "  ' if i call you liar or i i challenge out \\n',\n",
       "  ' hmm uh oh oh all of them should be right okay \\n',\n",
       "  ' then you are out all of them should be \\n',\n",
       "  \" if i don't challenge you then you're safe \\n\",\n",
       "  ' these are the cards i \\n',\n",
       "  \" makes organizing that's the fun like you have to keep on playing it and that's why it's not normal pass or give all three of us pass then that card kind of go \\n\",\n",
       "  ' six six \\n',\n",
       "  ' one more \\n',\n",
       "  ' call \\n',\n",
       "  ' cheers to my call two more \\n',\n",
       "  ' six six \\n',\n",
       "  ' challenge \\n',\n",
       "  ' hashtag yeah oh good good good \\n',\n",
       "  ' now because you challenged it is your chance important who gets to call the shots \\n',\n",
       "  ' okay \\n',\n",
       "  ' hmm \\n',\n",
       "  ' one jack \\n',\n",
       "  ' six one jack \\n',\n",
       "  ' do it for me pass \\n',\n",
       "  ' do it again \\n',\n",
       "  ' two more jacks \\n',\n",
       "  ' two jacks \\n',\n",
       "  ' two more \\n',\n",
       "  ' two more \\n',\n",
       "  ' two more \\n',\n",
       "  ' challenge woah \\n',\n",
       "  ' woah good one \\n',\n",
       "  ' nice nice game \\n',\n",
       "  ' are we going \\n',\n",
       "  ' whoever wins the challenge \\n',\n",
       "  ' hmm \\n',\n",
       "  ' gets to choose \\n',\n",
       "  \" so even if the thing is like even if you lose the challenge you should challenge because then there is a chance that you'll get to decide what to play \\n\",\n",
       "  ' well if even if she lost the challenge it was worth the worth the chance because so you get to choose card \\n',\n",
       "  ' hmm \\n',\n",
       "  ' hmm hmm \\n',\n",
       "  \" well you thought that i man i'm just a neutral player like i just don't know \\n\",\n",
       "  ' hmm \\n',\n",
       "  ' oh okay \\n',\n",
       "  \" nay nay it's like risk reward \\n\",\n",
       "  ' see hopefully i would have challenged that \\n',\n",
       "  \" or anybody can challenge it's not just the left person okay \\n\",\n",
       "  ' anybody can \\n',\n",
       "  ' three eight \\n',\n",
       "  ' three eight \\n',\n",
       "  ' challenge \\n',\n",
       "  ' do it \\n',\n",
       "  ' ace \\n',\n",
       "  ' hmm \\n',\n",
       "  ' two ace \\n',\n",
       "  \" oh it's \\n\",\n",
       "  ' hmm \\n',\n",
       "  ' alright \\n',\n",
       "  ' one eight \\n',\n",
       "  ' one more \\n',\n",
       "  ' nice \\n',\n",
       "  ' one more \\n',\n",
       "  ' one more \\n',\n",
       "  ' challenge \\n',\n",
       "  ' case huh \\n',\n",
       "  ' nice \\n',\n",
       "  ' good one \\n',\n",
       "  ' huh \\n',\n",
       "  ' two jack \\n',\n",
       "  ' you do not \\n',\n",
       "  ' have jacks \\n',\n",
       "  ' too good \\n',\n",
       "  ' one \\n',\n",
       "  ' two more \\n',\n",
       "  ' two more \\n',\n",
       "  ' how many more cards are let me play okay challenge \\n',\n",
       "  ' finally \\n',\n",
       "  ' three kings \\n',\n",
       "  ' challenge \\n',\n",
       "  ' yoga \\n',\n",
       "  ' oh \\n',\n",
       "  ' two four \\n',\n",
       "  ' good yes i thought you had more fours \\n',\n",
       "  ' two more\\n',\n",
       "  ' three fours \\n',\n",
       "  ' two \\n',\n",
       "  ' one more \\n',\n",
       "  ' three more \\n',\n",
       "  ' one more \\n',\n",
       "  ' three more \\n',\n",
       "  ' pass \\n',\n",
       "  ' pass \\n',\n",
       "  ' four nines \\n',\n",
       "  ' four twos \\n',\n",
       "  ' you can play \\n',\n",
       "  ' double and single \\n',\n",
       "  ' ha \\n',\n",
       "  ' i will count huh what level \\n',\n",
       "  ' we will count \\n',\n",
       "  ' uh speed speed \\n',\n",
       "  ' this is not a good complication exercise \\n',\n",
       "  ' just separate your different suits \\n',\n",
       "  ' okay huh huh okay \\n',\n",
       "  \" and then we'll suits \\n\",\n",
       "  ' i have separated \\n',\n",
       "  ' mine \\n',\n",
       "  ' okay now each of us will take one suit and make two out of it \\n',\n",
       "  ' i will take and you take spades from him as well \\n',\n",
       "  ' hmm \\n',\n",
       "  ' i will \\n',\n",
       "  ' take all the clubs \\n',\n",
       "  \" i'll take all the clubs \\n\",\n",
       "  ' you take any one of the suits and just make two of them \\n',\n",
       "  ' two of them with spades you have the spade \\n',\n",
       "  ' huh \\n',\n",
       "  ' and i will start \\n',\n",
       "  ' passing aloud \\n',\n",
       "  \" he's scared \\n\",\n",
       "  ' oh maybe \\n',\n",
       "  ' three fours \\n',\n",
       "  ' one more \\n',\n",
       "  \" ma'am you \\n\",\n",
       "  ' yes \\n',\n",
       "  ' cards \\n',\n",
       "  ' what do you mean \\n',\n",
       "  ' huh \\n',\n",
       "  \" i cha i'd oh okay i challenged you \\n\",\n",
       "  ' okay david might be coming any time soon \\n',\n",
       "  ' i will get my \\n',\n",
       "  ' phone here \\n',\n",
       "  ' but if he \\n',\n",
       "  \" i can't do like like this the way you did it for your \\n\",\n",
       "  ' three two \\n',\n",
       "  ' how many \\n',\n",
       "  ' twos do i \\n',\n",
       "  ' two three \\n',\n",
       "  ' how many threes \\n',\n",
       "  ' two \\n',\n",
       "  ' two more \\n',\n",
       "  ' three more \\n',\n",
       "  ' one more \\n',\n",
       "  ' one more \\n',\n",
       "  ' one more \\n',\n",
       "  ' oh woah ah \\n',\n",
       "  ' do the \\n',\n",
       "  ' three six \\n',\n",
       "  ' since i am rich i will take more \\n',\n",
       "  ' two seven \\n',\n",
       "  ' two more \\n',\n",
       "  ' two more \\n',\n",
       "  ' one more \\n',\n",
       "  ' one more \\n',\n",
       "  ' one more \\n',\n",
       "  ' some challenge coming up d-day i was actually \\n',\n",
       "  \" but the thing is she need to know when she's bluffing cuz she will have to bluff she \\n\",\n",
       "  ' you have so many cards only three cards \\n',\n",
       "  \" i don't care \\n\",\n",
       "  \" i don't care one king \\n\",\n",
       "  ' bullshit \\n',\n",
       "  ' two aces \\n',\n",
       "  ' bullshit \\n',\n",
       "  ' good job \\n',\n",
       "  ' pick up them cards \\n',\n",
       "  ' i hate you \\n',\n",
       "  ' fuck you one two \\n',\n",
       "  ' bullshit \\n',\n",
       "  ' take my damn two shup up \\n',\n",
       "  ' four threes \\n',\n",
       "  ' four threes \\n',\n",
       "  ' four threes \\n',\n",
       "  ' hold on hold on let me just do a little math right quick i just i just wanna do a little math \\n',\n",
       "  ' four \\n',\n",
       "  \" you can't look at your cards and then tell me \\n\",\n",
       "  ' either call bullshit or not keep moving \\n',\n",
       "  \" no no you you got it you got it that's all you that's all you \\n\",\n",
       "  ' three fours \\n',\n",
       "  ' you wanna call that bullshit \\n',\n",
       "  ' yeah bullshit \\n',\n",
       "  \" damn i'm thinking four i'm thinking \\n\",\n",
       "  ' have fun \\n',\n",
       "  ' appreciate it cuz guess what um \\n',\n",
       "  ' four sixes \\n',\n",
       "  ' no that seems right \\n',\n",
       "  ' why are you sliding over like that \\n',\n",
       "  \" two sevens cuz i don't want any one of y'all to see my card \\n\",\n",
       "  ' two seven \\n',\n",
       "  ' now you sound sus \\n',\n",
       "  ' i am sus \\n',\n",
       "  ' two sevens \\n',\n",
       "  ' call that bullshit i dare you \\n',\n",
       "  \" oh i didn't realize i had that among okay \\n\",\n",
       "  ' reshuffle real quick \\n',\n",
       "  \" we'll play asian style we organize our cards \\n\",\n",
       "  ' i i really \\n',\n",
       "  ' one nine \\n',\n",
       "  ' one ten \\n',\n",
       "  \" can y'all just slow down for a second \\n\",\n",
       "  ' no \\n',\n",
       "  ' two jacks \\n',\n",
       "  ' three queens \\n',\n",
       "  \" you'll call that \\n\",\n",
       "  \" no i didn't expect put down so fucking fast \\n\",\n",
       "  ' two kings \\n',\n",
       "  ' two aces \\n',\n",
       "  ' one two \\n',\n",
       "  ' one three \\n',\n",
       "  ' bullshit \\n',\n",
       "  ' cuz i got all i got all three i got all why all the threes goofy ass \\n',\n",
       "  \" i i know i know i know it's okay \\n\",\n",
       "  \" i wasn't \\n\",\n",
       "  \" one four it's okay \\n\",\n",
       "  \" it's two fives done pick it up \\n\",\n",
       "  ' bullshit damn it \\n',\n",
       "  ' fuck cuz i got the other two fives \\n',\n",
       "  \" i don't lie \\n\",\n",
       "  ' i just play it like it is \\n',\n",
       "  \" i don't well why you slapping them over here to me \\n\",\n",
       "  ' sleep around here \\n',\n",
       "  \" don't do it \\n\",\n",
       "  \" we're recording you \\n\",\n",
       "  ' fine \\n',\n",
       "  \" so i can't even drink liquor \\n\",\n",
       "  ' ready one two one two three that was a nice catch like a clap \\n',\n",
       "  \" it's all fun and games until you got something to lose \\n\",\n",
       "  ' yes the nah the clap at the end is the most deadly \\n',\n",
       "  \" no i don't trust you cut it fucking with you \\n\",\n",
       "  \" you didn't go fast enough \\n\",\n",
       "  \" no it's the person left \\n\",\n",
       "  ' no my bad \\n',\n",
       "  ' well i started who goes first yeah \\n',\n",
       "  ' ours is just usually whoever wants to \\n',\n",
       "  ' i understand we just have a little more order in our house \\n',\n",
       "  ' sorry \\n',\n",
       "  ' i understand that \\n',\n",
       "  ' cuz we take our game serious \\n',\n",
       "  \" that's serious because you that's how that's how we catch the cheaters \\n\",\n",
       "  ' are we playing \\n',\n",
       "  \" that's funny you know i could \\n\",\n",
       "  ' that was a three \\n',\n",
       "  ' it was a two shut up \\n',\n",
       "  ' do i go first or \\n',\n",
       "  ' yes you go first \\n',\n",
       "  ' one ace \\n',\n",
       "  ' one ace \\n',\n",
       "  ' i gotta pace myself \\n',\n",
       "  \" hold on i'm looking \\n\",\n",
       "  ' look all you want \\n',\n",
       "  ' damn it wrong place okay \\n',\n",
       "  \" i know i i that's why i'm doing it like this \\n\",\n",
       "  ' two \\n',\n",
       "  ' three\\n',\n",
       "  ' one four \\n',\n",
       "  ' one five \\n',\n",
       "  ' bullshit \\n',\n",
       "  ' thank you i needed the cards anyway i need my cards back \\n',\n",
       "  ' two sixes \\n',\n",
       "  ' two sixes \\n',\n",
       "  ' call that bullshit i dare you \\n',\n",
       "  \" i don't know you got it you you definitely got it \\n\",\n",
       "  ' wait you got it \\n',\n",
       "  ' one nine \\n',\n",
       "  ' one ten \\n',\n",
       "  ' hmm no quit saying call that bullshit you really got to stop selling yourself out like that \\n',\n",
       "  ' call that bullshit please \\n',\n",
       "  \" i'm wondering when you gonna call bullshit \\n\",\n",
       "  ' then stop saying it \\n',\n",
       "  \" i just don't say anything i just play \\n\",\n",
       "  ' you like hard shut up shut up and play shut up \\n',\n",
       "  ' no i like i like myself being defensive what is that \\n',\n",
       "  ' shut up \\n',\n",
       "  ' no she put it down she \\n',\n",
       "  ' two queens \\n',\n",
       "  ' bullshit i knew it \\n',\n",
       "  \" mm-hmm mhm i'm not calling that shit you want to call that shit \\n\",\n",
       "  \" i didn't hear what he said so i had to hear one two \\n\",\n",
       "  ' hm he said threes he said three \\n',\n",
       "  ' take two of these fours \\n',\n",
       "  ' two call it if you want call it call it \\n',\n",
       "  ' two fives \\n',\n",
       "  ' how many two nah you got it \\n',\n",
       "  ' two \\n',\n",
       "  ' six \\n',\n",
       "  ' three eight \\n',\n",
       "  ' damn \\n',\n",
       "  ' three eight one nine \\n',\n",
       "  \" i'll help you by one \\n\",\n",
       "  ' are you gonna call it \\n',\n",
       "  ' two jacks \\n',\n",
       "  ' two queens \\n',\n",
       "  ' kings \\n',\n",
       "  ' two aces \\n',\n",
       "  ' i wanna really really want to call bullshit on that \\n',\n",
       "  ' call it \\n',\n",
       "  ' i can wait \\n',\n",
       "  \" now cuz she's laughing now i can't do it \\n\",\n",
       "  \" i'm just thinking of how many cards i would have \\n\",\n",
       "  ' oh bullshit \\n',\n",
       "  ' never reveal to the opponent \\n',\n",
       "  ' damn she played me \\n',\n",
       "  ' bullshit \\n',\n",
       "  ' take that shit up bro \\n',\n",
       "  ' uh \\n',\n",
       "  ' you said three oh i thought alright alright alright well guess what \\n',\n",
       "  ' three twos \\n',\n",
       "  \" y'all better not y'all better not say shit \\n\",\n",
       "  ' hold on just give me one second \\n',\n",
       "  ' order \\n',\n",
       "  \" aight man look this is all i got for y'all all i got is two threes take it or leave it alright \\n\",\n",
       "  ' one four \\n',\n",
       "  ' oh no oh no give me give me one second \\n',\n",
       "  \" or you're just \\n\",\n",
       "  \" i'm about to go \\n\",\n",
       "  ' one five \\n',\n",
       "  ' you know what \\n',\n",
       "  ' you got it \\n',\n",
       "  ' okay i was about to say what you want you wanna call it \\n',\n",
       "  ' no you gonna call this two sixes \\n',\n",
       "  ' one seven \\n',\n",
       "  ' uh bullshit \\n',\n",
       "  ' you got to take all \\n',\n",
       "  ' one eight \\n',\n",
       "  ' imma let that be \\n',\n",
       "  ' imma let that one be \\n',\n",
       "  ' uh \\n',\n",
       "  ' one ten \\n',\n",
       "  ' yeah\\n',\n",
       "  ' one jack \\n',\n",
       "  ' bullshit \\n',\n",
       "  \" thank you he has all the jacks i'm upset \\n\",\n",
       "  ' wonderful right \\n',\n",
       "  ' no \\n',\n",
       "  ' i pick up my bullshit before ten \\n',\n",
       "  ' yeah i know right \\n',\n",
       "  ' i got two \\n',\n",
       "  \" risk and reward it's just a game \\n\",\n",
       "  ' only got terrible \\n',\n",
       "  ' one king \\n',\n",
       "  ' two aces \\n',\n",
       "  ' call it or fold it \\n',\n",
       "  ' you said one king i just want to make sure \\n',\n",
       "  \" it's already passed \\n\",\n",
       "  ' i just i just wanna make sure \\n',\n",
       "  ' ah two two two twos \\n',\n",
       "  ' one three \\n',\n",
       "  ' hmm bullshit \\n',\n",
       "  ' pick it up \\n',\n",
       "  ' pick it up pick it up \\n',\n",
       "  ' bullshit \\n',\n",
       "  ' two fours \\n',\n",
       "  ' bullshit put it back damn it \\n',\n",
       "  \" alright i'll take it alright \\n\",\n",
       "  ' okay alright alright okay \\n',\n",
       "  ' okay \\n',\n",
       "  \" here's the majority of the deck i'm fucked \\n\",\n",
       "  ' two five \\n',\n",
       "  ' three sixes \\n',\n",
       "  \" hold on let's see \\n\",\n",
       "  \" hold on let's see \\n\",\n",
       "  ' ah okay \\n',\n",
       "  ' bullshit just take it just take just take it bullshit \\n',\n",
       "  \" i didn't put anything down yet \\n\",\n",
       "  \" you be that why i'm calling bullshit on you \\n\",\n",
       "  ' yes uncle serve it \\n',\n",
       "  ' yeah oh yeah oh yeah best believe \\n',\n",
       "  ' uh one one eight \\n',\n",
       "  ' one what \\n',\n",
       "  ' one nine \\n',\n",
       "  \" you're on the case \\n\",\n",
       "  \" she's out of card \\n\",\n",
       "  ' you want to know something you want to know something it aight even a nine \\n',\n",
       "  \" i wanted to call that bullshit and i was like i'm not for sure \\n\",\n",
       "  ' i want to play mahjong \\n',\n",
       "  \" you don't want to play mahjong \\n\",\n",
       "  ' i want to play mahjong \\n',\n",
       "  ' remember the the the movie \\n',\n",
       "  ' can you get that brown case for me there \\n',\n",
       "  ' are we allowed to play mahjong \\n',\n",
       "  \" we'll just look at the tiles it's fine \\n\",\n",
       "  \" you don't know what i'm talking about \\n\",\n",
       "  ' which case \\n',\n",
       "  \" the brown case down there it's heavy \\n\",\n",
       "  ' oh wonderful view \\n',\n",
       "  ' dear god i got that on camera \\n',\n",
       "  \" now it seems like it's hot hm \\n\",\n",
       "  ' i was about to fall backwards i was like \\n',\n",
       "  \" when the cribs when the cribs when the kids in the crib drop it like it's hot \\n\",\n",
       "  ' how open this \\n',\n",
       "  ' she open the mahjong case \\n',\n",
       "  ' oh \\n',\n",
       "  \" yo it's upside down jesus christ \\n\",\n",
       "  ' hold on for it \\n',\n",
       "  \" it's brand new i haven't even opened \\n\",\n",
       "  ' well there goes that \\n',\n",
       "  ' there goes that \\n',\n",
       "  ' well i now have opened it i love the feeling of this and the sound \\n',\n",
       "  ' how do we even play mahjong \\n',\n",
       "  ' fucking playing mahjong \\n',\n",
       "  \" oh wow they're big just like the the video game \\n\",\n",
       "  ' i know \\n',\n",
       "  ' we need to sit at an actual table \\n',\n",
       "  \" there's a table over there \\n\",\n",
       "  \" are you are you sure you're supposed to match these \\n\",\n",
       "  \" mhm and so you it supposes to like you're supposed to get doubles \\n\",\n",
       "  \" like five doubles and then a triple or something like that and these have their number on them so we know what numbers is what since we're not chinese \\n\",\n",
       "  \" that's the \\n\",\n",
       "  ' i loved oh \\n',\n",
       "  ' how do you feel you right now \\n',\n",
       "  ' huh \\n',\n",
       "  ' huh \\n',\n",
       "  ' no \\n',\n",
       "  ' gives me a chance to touch them \\n',\n",
       "  \" i think that they're gonna be mad if we play any other like card game \\n\",\n",
       "  ' they might be mad if we play any other card game \\n',\n",
       "  \" no thought they said they wouldn't they want to play different games \\n\",\n",
       "  ' no he said he wants us to play this game \\n',\n",
       "  ' like \\n',\n",
       "  ' text him \\n',\n",
       "  \" um i can't text him i don't have number mm no who wants us to play that game \\n\",\n",
       "  ' so we got to play that game still \\n',\n",
       "  ' four fours \\n',\n",
       "  ' yeah you got that motherfucker \\n',\n",
       "  ' that one and five \\n',\n",
       "  \" you don't have to wait \\n\",\n",
       "  \" cause all my cards are true so you don't have to wait \\n\",\n",
       "  ' how many fives is that \\n',\n",
       "  ' one five \\n',\n",
       "  ' that kinda bullshit \\n',\n",
       "  ' damn it \\n',\n",
       "  ' i thought that was bullshit \\n',\n",
       "  ' two sixes \\n',\n",
       "  ' there you go too \\n',\n",
       "  ' one seven \\n',\n",
       "  ' oh i have another fucking seven shit \\n',\n",
       "  ' one eight \\n',\n",
       "  ' have fun with that seven \\n',\n",
       "  ' four nines \\n',\n",
       "  ' four nines \\n',\n",
       "  ' believe that \\n',\n",
       "  ' i knew it was wrong \\n',\n",
       "  ' i know one ten \\n',\n",
       "  ' full bs \\n',\n",
       "  ' four queens \\n',\n",
       "  \" do i want some queens no i don't want king \\n\",\n",
       "  ' nice \\n',\n",
       "  ' rightfully called \\n',\n",
       "  ' one two \\n',\n",
       "  ' one two \\n',\n",
       "  \" bullshit pick that outwhy i know i don't wanna skip my turn \\n\",\n",
       "  ' just skip your turn \\n',\n",
       "  ' just skip your turn just skip your turn one four \\n',\n",
       "  ' one four \\n',\n",
       "  ' bullshit \\n',\n",
       "  ' rightfully called \\n',\n",
       "  ' three fives \\n',\n",
       "  ' three fives three fives i got six two sixes \\n',\n",
       "  ' how many \\n',\n",
       "  ' two sixes two six \\n',\n",
       "  ' oh oh oh i thought you said four \\n',\n",
       "  \" you how're you doing \\n\",\n",
       "  ' now savage me your \\n',\n",
       "  ' four eights \\n',\n",
       "  ' bullshit \\n',\n",
       "  ' this is bullying \\n',\n",
       "  \" i'm gonna put down those eights \\n\",\n",
       "  \" this isn't a nine \\n\",\n",
       "  ' what \\n',\n",
       "  ' what bullshit \\n',\n",
       "  \" bs yours isn't even a ten \\n\",\n",
       "  ' look at this cuz he had nine \\n',\n",
       "  ' no i had seven \\n',\n",
       "  ' eight \\n',\n",
       "  \" no he had nine bruh that's why i called bullshit i had nines so how you gonna shut up and go shut up and go \\n\",\n",
       "  ' oh yeah \\n',\n",
       "  ' either way either way no either way pick it back up \\n',\n",
       "  ' you right cause i switched the damn card trying to be slick \\n',\n",
       "  ' ten \\n',\n",
       "  ' four jacks \\n',\n",
       "  ' i just \\n',\n",
       "  ' one queen \\n',\n",
       "  ' bullshit \\n',\n",
       "  ' bullshit \\n',\n",
       "  ' playing with me \\n',\n",
       "  ' four kings shit \\n',\n",
       "  \" four twos you're not gonna call bullshit this time \\n\",\n",
       "  ' four aces \\n',\n",
       "  \" you know what i really don't want to \\n\",\n",
       "  ' man fuck these threes fours \\n',\n",
       "  ' bullshit hm bullshit three fives \\n',\n",
       "  ' one four \\n',\n",
       "  \" i really wanna call bullshit on that but you're right \\n\",\n",
       "  ' oh i got sixes \\n',\n",
       "  ' one six \\n',\n",
       "  ' bullshit pick that up \\n',\n",
       "  ' three sevens \\n',\n",
       "  ' four eights \\n',\n",
       "  ' four eights \\n',\n",
       "  ' i know \\n',\n",
       "  \" one time man fuck y'all \\n\",\n",
       "  ' two tens \\n',\n",
       "  \" she got two tens all of y'all that's cool that's cool though you got it momma \\n\",\n",
       "  ' four jacks \\n',\n",
       "  ' hey man look \\n',\n",
       "  ' i on the table \\n',\n",
       "  ' three kings out\\n',\n",
       "  ' i hope this thing is recording \\n',\n",
       "  ' alright \\n',\n",
       "  \" whoever whoever keeps messing up my rug okay let's play \\n\",\n",
       "  ' we can take \\n',\n",
       "  ' yeah \\n',\n",
       "  ' and our gloves \\n',\n",
       "  ' why is it making that sound \\n',\n",
       "  \" it's like i think it's in only on taking pictures mode is it blinking okay then i'm good \\n\",\n",
       "  ' yeah \\n',\n",
       "  \" alright let's play \\n\",\n",
       "  ' mine keeps falling down \\n',\n",
       "  \" i think we're playing bs \\n\",\n",
       "  ' yeah we are \\n',\n",
       "  \" i'll shuffle \\n\",\n",
       "  ' okay then \\n',\n",
       "  ' looking down is very difficult for me do we get to keep the deck of cards \\n',\n",
       "  ' no \\n',\n",
       "  ' damn cuz these are brand new \\n',\n",
       "  ' what \\n',\n",
       "  ' gadgets for you you gat any more gadgets for me \\n',\n",
       "  ' huh \\n',\n",
       "  ' any more gadgets for you \\n',\n",
       "  \" hello welcome to yes welcome to our game session today we're playing bs right \\n\",\n",
       "  \" you're the dealer \\n\",\n",
       "  ...],)"
      ]
     },
     "execution_count": 18,
     "metadata": {},
     "output_type": "execute_result"
    }
   ],
   "source": [
    "whisper_df_0703a_1M['gt_transcripts'].values.tolist(),"
   ]
  },
  {
   "cell_type": "code",
   "execution_count": 19,
   "id": "459fc7e2-2f46-46d2-bef5-7139c0bb9270",
   "metadata": {},
   "outputs": [],
   "source": [
    "normalized_ref = werpy.normalize(\n",
    "    whisper_df_0703a_1M['gt_transcripts'].values.tolist(),\n",
    ")"
   ]
  },
  {
   "cell_type": "code",
   "execution_count": 20,
   "id": "26044dda-21ae-46d9-b388-57021eea2971",
   "metadata": {},
   "outputs": [],
   "source": [
    "# for x in whisper_df_0703a_1M['whisper_transcripts'].values.tolist():\n",
    "#     if type(x)!=type('str'):\n",
    "#         print(x)"
   ]
  },
  {
   "cell_type": "code",
   "execution_count": 21,
   "id": "34ccd395-4420-4709-b9a1-631d65b0b9df",
   "metadata": {},
   "outputs": [],
   "source": [
    "# normalized_hypo = werpy.normalize(\n",
    "#     [str(s) for s in whisper_df_0703a_1M['whisper_transcripts'].values.tolist()],\n",
    "# )\n",
    "normalized_hypo = werpy.normalize(\n",
    "    whisper_df_0703a_1M['whisper_transcripts'].values.tolist(),\n",
    ")"
   ]
  },
  {
   "cell_type": "code",
   "execution_count": 22,
   "id": "1b5ae2a2-078e-449f-9170-921360c373e5",
   "metadata": {},
   "outputs": [
    {
     "data": {
      "text/plain": [
       "'pretty shit to be honest'"
      ]
     },
     "execution_count": 22,
     "metadata": {},
     "output_type": "execute_result"
    }
   ],
   "source": [
    "normalized_ref[1]"
   ]
  },
  {
   "cell_type": "code",
   "execution_count": 23,
   "id": "1df24cf6-966a-44ce-a46c-0c1759019d04",
   "metadata": {},
   "outputs": [
    {
     "data": {
      "text/plain": [
       "'and ship you and'"
      ]
     },
     "execution_count": 23,
     "metadata": {},
     "output_type": "execute_result"
    }
   ],
   "source": [
    "normalized_hypo[1]"
   ]
  },
  {
   "cell_type": "code",
   "execution_count": 24,
   "id": "d474a71d-b285-42a9-9434-f1c0543b34b7",
   "metadata": {},
   "outputs": [
    {
     "name": "stdout",
     "output_type": "stream",
     "text": [
      "CPU times: total: 62.5 ms\n",
      "Wall time: 133 ms\n"
     ]
    },
    {
     "data": {
      "text/html": [
       "<div>\n",
       "<style scoped>\n",
       "    .dataframe tbody tr th:only-of-type {\n",
       "        vertical-align: middle;\n",
       "    }\n",
       "\n",
       "    .dataframe tbody tr th {\n",
       "        vertical-align: top;\n",
       "    }\n",
       "\n",
       "    .dataframe thead th {\n",
       "        text-align: right;\n",
       "    }\n",
       "</style>\n",
       "<table border=\"1\" class=\"dataframe\">\n",
       "  <thead>\n",
       "    <tr style=\"text-align: right;\">\n",
       "      <th></th>\n",
       "      <th>wer</th>\n",
       "      <th>ld</th>\n",
       "      <th>m</th>\n",
       "      <th>insertions</th>\n",
       "      <th>deletions</th>\n",
       "      <th>substitutions</th>\n",
       "      <th>inserted_words</th>\n",
       "      <th>deleted_words</th>\n",
       "      <th>substituted_words</th>\n",
       "    </tr>\n",
       "  </thead>\n",
       "  <tbody>\n",
       "    <tr>\n",
       "      <th>0</th>\n",
       "      <td>0.000000</td>\n",
       "      <td>0</td>\n",
       "      <td>1</td>\n",
       "      <td>0</td>\n",
       "      <td>0</td>\n",
       "      <td>0</td>\n",
       "      <td>[]</td>\n",
       "      <td>[]</td>\n",
       "      <td>[]</td>\n",
       "    </tr>\n",
       "    <tr>\n",
       "      <th>1</th>\n",
       "      <td>1.000000</td>\n",
       "      <td>5</td>\n",
       "      <td>5</td>\n",
       "      <td>0</td>\n",
       "      <td>1</td>\n",
       "      <td>4</td>\n",
       "      <td>[]</td>\n",
       "      <td>[pretty]</td>\n",
       "      <td>[(shit, and), (to, ship), (be, you), (honest, ...</td>\n",
       "    </tr>\n",
       "    <tr>\n",
       "      <th>2</th>\n",
       "      <td>1.083333</td>\n",
       "      <td>13</td>\n",
       "      <td>12</td>\n",
       "      <td>1</td>\n",
       "      <td>0</td>\n",
       "      <td>12</td>\n",
       "      <td>[i]</td>\n",
       "      <td>[]</td>\n",
       "      <td>[(oh, want), (when, to), (you, be), (nail, abl...</td>\n",
       "    </tr>\n",
       "    <tr>\n",
       "      <th>3</th>\n",
       "      <td>1.000000</td>\n",
       "      <td>18</td>\n",
       "      <td>18</td>\n",
       "      <td>0</td>\n",
       "      <td>8</td>\n",
       "      <td>10</td>\n",
       "      <td>[]</td>\n",
       "      <td>[no, not, necessary, cuz, if, theyre, warped, ...</td>\n",
       "      <td>[(now, this), (youre, style), (going, is), (to...</td>\n",
       "    </tr>\n",
       "    <tr>\n",
       "      <th>4</th>\n",
       "      <td>1.000000</td>\n",
       "      <td>6</td>\n",
       "      <td>6</td>\n",
       "      <td>0</td>\n",
       "      <td>2</td>\n",
       "      <td>4</td>\n",
       "      <td>[]</td>\n",
       "      <td>[or, we]</td>\n",
       "      <td>[(could, the), (just, area), (use, of), (the, ...</td>\n",
       "    </tr>\n",
       "    <tr>\n",
       "      <th>...</th>\n",
       "      <td>...</td>\n",
       "      <td>...</td>\n",
       "      <td>...</td>\n",
       "      <td>...</td>\n",
       "      <td>...</td>\n",
       "      <td>...</td>\n",
       "      <td>...</td>\n",
       "      <td>...</td>\n",
       "      <td>...</td>\n",
       "    </tr>\n",
       "    <tr>\n",
       "      <th>2671</th>\n",
       "      <td>1.000000</td>\n",
       "      <td>42</td>\n",
       "      <td>42</td>\n",
       "      <td>0</td>\n",
       "      <td>34</td>\n",
       "      <td>8</td>\n",
       "      <td>[]</td>\n",
       "      <td>[face, down, in, a, pile, and, announces, the,...</td>\n",
       "      <td>[(be, thanks), (the, for), (same, having), (ra...</td>\n",
       "    </tr>\n",
       "    <tr>\n",
       "      <th>2672</th>\n",
       "      <td>0.962264</td>\n",
       "      <td>51</td>\n",
       "      <td>53</td>\n",
       "      <td>0</td>\n",
       "      <td>14</td>\n",
       "      <td>37</td>\n",
       "      <td>[]</td>\n",
       "      <td>[id, read, the, instructions, to, you, right, ...</td>\n",
       "      <td>[(now, as), (pick, well), (up, as), (it, first...</td>\n",
       "    </tr>\n",
       "    <tr>\n",
       "      <th>2673</th>\n",
       "      <td>0.944444</td>\n",
       "      <td>51</td>\n",
       "      <td>54</td>\n",
       "      <td>0</td>\n",
       "      <td>20</td>\n",
       "      <td>31</td>\n",
       "      <td>[]</td>\n",
       "      <td>[be, the, truth, or, a, lie, then, the, player...</td>\n",
       "      <td>[(places, its), (discard, tool), (pile, like),...</td>\n",
       "    </tr>\n",
       "    <tr>\n",
       "      <th>2674</th>\n",
       "      <td>1.000000</td>\n",
       "      <td>40</td>\n",
       "      <td>40</td>\n",
       "      <td>0</td>\n",
       "      <td>39</td>\n",
       "      <td>1</td>\n",
       "      <td>[]</td>\n",
       "      <td>[but, lets, go, lets, go, with, this, and, may...</td>\n",
       "      <td>[(fly, look)]</td>\n",
       "    </tr>\n",
       "    <tr>\n",
       "      <th>2675</th>\n",
       "      <td>1.000000</td>\n",
       "      <td>38</td>\n",
       "      <td>38</td>\n",
       "      <td>0</td>\n",
       "      <td>37</td>\n",
       "      <td>1</td>\n",
       "      <td>[]</td>\n",
       "      <td>[and, you, cant, plan, for, long, enough, sinc...</td>\n",
       "      <td>[(a, actual)]</td>\n",
       "    </tr>\n",
       "  </tbody>\n",
       "</table>\n",
       "<p>2676 rows × 9 columns</p>\n",
       "</div>"
      ],
      "text/plain": [
       "           wer  ld   m  insertions  deletions  substitutions inserted_words   \n",
       "0     0.000000   0   1           0          0              0             []  \\\n",
       "1     1.000000   5   5           0          1              4             []   \n",
       "2     1.083333  13  12           1          0             12            [i]   \n",
       "3     1.000000  18  18           0          8             10             []   \n",
       "4     1.000000   6   6           0          2              4             []   \n",
       "...        ...  ..  ..         ...        ...            ...            ...   \n",
       "2671  1.000000  42  42           0         34              8             []   \n",
       "2672  0.962264  51  53           0         14             37             []   \n",
       "2673  0.944444  51  54           0         20             31             []   \n",
       "2674  1.000000  40  40           0         39              1             []   \n",
       "2675  1.000000  38  38           0         37              1             []   \n",
       "\n",
       "                                          deleted_words   \n",
       "0                                                    []  \\\n",
       "1                                              [pretty]   \n",
       "2                                                    []   \n",
       "3     [no, not, necessary, cuz, if, theyre, warped, ...   \n",
       "4                                              [or, we]   \n",
       "...                                                 ...   \n",
       "2671  [face, down, in, a, pile, and, announces, the,...   \n",
       "2672  [id, read, the, instructions, to, you, right, ...   \n",
       "2673  [be, the, truth, or, a, lie, then, the, player...   \n",
       "2674  [but, lets, go, lets, go, with, this, and, may...   \n",
       "2675  [and, you, cant, plan, for, long, enough, sinc...   \n",
       "\n",
       "                                      substituted_words  \n",
       "0                                                    []  \n",
       "1     [(shit, and), (to, ship), (be, you), (honest, ...  \n",
       "2     [(oh, want), (when, to), (you, be), (nail, abl...  \n",
       "3     [(now, this), (youre, style), (going, is), (to...  \n",
       "4     [(could, the), (just, area), (use, of), (the, ...  \n",
       "...                                                 ...  \n",
       "2671  [(be, thanks), (the, for), (same, having), (ra...  \n",
       "2672  [(now, as), (pick, well), (up, as), (it, first...  \n",
       "2673  [(places, its), (discard, tool), (pile, like),...  \n",
       "2674                                      [(fly, look)]  \n",
       "2675                                      [(a, actual)]  \n",
       "\n",
       "[2676 rows x 9 columns]"
      ]
     },
     "execution_count": 24,
     "metadata": {},
     "output_type": "execute_result"
    }
   ],
   "source": [
    "%%time\n",
    "summary = werpy.summary(normalized_ref, normalized_hypo)\n",
    "summary"
   ]
  },
  {
   "cell_type": "code",
   "execution_count": 25,
   "id": "010d9b8d-9a1f-43fc-af36-586f3354f068",
   "metadata": {},
   "outputs": [],
   "source": [
    "I = summary['insertions'].sum()\n",
    "D = summary['deletions'].sum()\n",
    "S = summary['substitutions'].sum()\n",
    "M = summary['m'].sum()"
   ]
  },
  {
   "cell_type": "code",
   "execution_count": 26,
   "id": "83d31089-a471-4abe-96f3-f271b9491faf",
   "metadata": {},
   "outputs": [],
   "source": [
    "summary.to_csv(r\".\\jupyter_walkthrough\\metrics\\0703a_1M_wer_summary.csv\", index=False)"
   ]
  },
  {
   "cell_type": "code",
   "execution_count": 27,
   "id": "b2929acc-90fa-4db5-abe3-a59c91540620",
   "metadata": {},
   "outputs": [],
   "source": [
    "wer = (I + D + S) / M"
   ]
  },
  {
   "cell_type": "code",
   "execution_count": 28,
   "id": "bfcf1bc7-ad2d-4fbc-a270-4b06afb7f453",
   "metadata": {},
   "outputs": [
    {
     "data": {
      "text/plain": [
       "15562"
      ]
     },
     "execution_count": 28,
     "metadata": {},
     "output_type": "execute_result"
    }
   ],
   "source": [
    "I + D + S"
   ]
  },
  {
   "cell_type": "code",
   "execution_count": 29,
   "id": "7ab94d3c-ffe6-42ef-a154-afd75b622e5f",
   "metadata": {},
   "outputs": [
    {
     "data": {
      "text/plain": [
       "14730"
      ]
     },
     "execution_count": 29,
     "metadata": {},
     "output_type": "execute_result"
    }
   ],
   "source": [
    "M"
   ]
  },
  {
   "cell_type": "code",
   "execution_count": 30,
   "id": "65e45657-6aff-4701-9ef8-80695e4eebab",
   "metadata": {},
   "outputs": [
    {
     "data": {
      "text/plain": [
       "(1674, 6132, 7756)"
      ]
     },
     "execution_count": 30,
     "metadata": {},
     "output_type": "execute_result"
    }
   ],
   "source": [
    "I, D, S"
   ]
  },
  {
   "cell_type": "code",
   "execution_count": 31,
   "id": "8c79c497-0e6d-4144-a9e8-efc9e2d4ad21",
   "metadata": {},
   "outputs": [
    {
     "data": {
      "text/plain": [
       "1.0564833672776646"
      ]
     },
     "execution_count": 31,
     "metadata": {},
     "output_type": "execute_result"
    }
   ],
   "source": [
    "wer"
   ]
  },
  {
   "cell_type": "code",
   "execution_count": null,
   "id": "370d7770-3214-4787-ac52-71a49743e1ec",
   "metadata": {},
   "outputs": [],
   "source": []
  },
  {
   "cell_type": "code",
   "execution_count": null,
   "id": "8693a4a1-80f6-4318-bf3b-1ac27430b94c",
   "metadata": {},
   "outputs": [],
   "source": []
  },
  {
   "cell_type": "code",
   "execution_count": null,
   "id": "0a1fab14-cf9f-4340-a4ff-c065cf8d2ff0",
   "metadata": {},
   "outputs": [],
   "source": []
  },
  {
   "cell_type": "code",
   "execution_count": null,
   "id": "ca2d7aa8-163b-449f-b5e9-ed776a37bfcd",
   "metadata": {},
   "outputs": [],
   "source": []
  },
  {
   "cell_type": "code",
   "execution_count": null,
   "id": "56a057ee-14f6-4ed3-8c65-e87c2c79250c",
   "metadata": {},
   "outputs": [],
   "source": []
  },
  {
   "cell_type": "code",
   "execution_count": null,
   "id": "d88bff9c-a53a-41d9-867e-83b3596beb63",
   "metadata": {},
   "outputs": [],
   "source": []
  },
  {
   "cell_type": "code",
   "execution_count": null,
   "id": "ec89c1c1-27ba-42b3-b02c-f5e890b30b08",
   "metadata": {},
   "outputs": [],
   "source": []
  },
  {
   "cell_type": "code",
   "execution_count": null,
   "id": "132e854c-1b6a-44b4-a8cc-e143b26c5181",
   "metadata": {},
   "outputs": [],
   "source": []
  },
  {
   "cell_type": "code",
   "execution_count": null,
   "id": "7949a44e-b92a-4fcb-b409-a45126e6278e",
   "metadata": {},
   "outputs": [],
   "source": []
  },
  {
   "cell_type": "code",
   "execution_count": 53,
   "id": "859dbd91-2403-4ad4-8fd2-0c23c6cc7d05",
   "metadata": {},
   "outputs": [],
   "source": [
    "import pandas as pd\n",
    "whisper_df_0703a_1M = pd.read_csv(r\".\\jupyter_walkthrough\\metrics\\whisper_df_0703a_1M_gt.csv\")"
   ]
  },
  {
   "cell_type": "code",
   "execution_count": 54,
   "id": "db249628-0d3a-4115-9e6c-275e220105a0",
   "metadata": {},
   "outputs": [
    {
     "data": {
      "text/plain": [
       "(2772, 3)"
      ]
     },
     "execution_count": 54,
     "metadata": {},
     "output_type": "execute_result"
    }
   ],
   "source": [
    "whisper_df_0703a_1M.shape"
   ]
  },
  {
   "cell_type": "code",
   "execution_count": 55,
   "id": "11139e5a-4fc0-4b86-8aa1-a788da6f8566",
   "metadata": {
    "scrolled": true
   },
   "outputs": [
    {
     "data": {
      "text/plain": [
       "(2733, 3)"
      ]
     },
     "execution_count": 55,
     "metadata": {},
     "output_type": "execute_result"
    }
   ],
   "source": [
    "whisper_df_0703a_1M.dropna().shape"
   ]
  },
  {
   "cell_type": "code",
   "execution_count": 56,
   "id": "19a2deab-6709-4044-b4f5-f64d56dd219f",
   "metadata": {},
   "outputs": [],
   "source": [
    "whisper_df_0703a_1M = whisper_df_0703a_1M.dropna()"
   ]
  },
  {
   "cell_type": "code",
   "execution_count": 57,
   "id": "eb8590f8-e4f6-40fe-8df1-85ae5299bb4f",
   "metadata": {},
   "outputs": [],
   "source": [
    "normalized_ref = werpy.normalize(\n",
    "    whisper_df_0703a_1M['gt_transcripts'].values.tolist(),\n",
    ")"
   ]
  },
  {
   "cell_type": "code",
   "execution_count": 58,
   "id": "a26cef31-f7d4-4325-b7fe-f08bb0e90b4b",
   "metadata": {},
   "outputs": [],
   "source": [
    "normalized_hypo = werpy.normalize(\n",
    "    whisper_df_0703a_1M['whisper_transcripts'].values.tolist(),\n",
    ")"
   ]
  },
  {
   "cell_type": "code",
   "execution_count": 59,
   "id": "0aea1cca-fde5-4adc-aa37-08eb303e9106",
   "metadata": {},
   "outputs": [
    {
     "data": {
      "text/plain": [
       "'pretty shit to be honest'"
      ]
     },
     "execution_count": 59,
     "metadata": {},
     "output_type": "execute_result"
    }
   ],
   "source": [
    "normalized_ref[1]"
   ]
  },
  {
   "cell_type": "code",
   "execution_count": 60,
   "id": "f284ce0b-355e-4494-b12a-e19d1cf2f094",
   "metadata": {},
   "outputs": [
    {
     "data": {
      "text/plain": [
       "'pretty shit to be honest'"
      ]
     },
     "execution_count": 60,
     "metadata": {},
     "output_type": "execute_result"
    }
   ],
   "source": [
    "normalized_hypo[1]"
   ]
  },
  {
   "cell_type": "code",
   "execution_count": 61,
   "id": "b21a973a-b468-4fe1-8c06-94fca87ea696",
   "metadata": {},
   "outputs": [
    {
     "name": "stdout",
     "output_type": "stream",
     "text": [
      "CPU times: total: 93.8 ms\n",
      "Wall time: 188 ms\n"
     ]
    }
   ],
   "source": [
    "%%time\n",
    "summary = werpy.summary(normalized_ref, normalized_hypo)\n",
    "# summary"
   ]
  },
  {
   "cell_type": "code",
   "execution_count": 62,
   "id": "50e98a6b-a770-4a2a-9c48-0c94ea3d58b8",
   "metadata": {},
   "outputs": [],
   "source": [
    "I = summary['insertions'].sum()\n",
    "D = summary['deletions'].sum()\n",
    "S = summary['substitutions'].sum()\n",
    "M = summary['m'].sum()"
   ]
  },
  {
   "cell_type": "code",
   "execution_count": 63,
   "id": "a629c5c8-3293-461f-a8da-be9d59f396ec",
   "metadata": {},
   "outputs": [],
   "source": [
    "summary.to_csv(r\".\\jupyter_walkthrough\\metrics\\0703a_1M_wer_summary.csv\", index=False)"
   ]
  },
  {
   "cell_type": "code",
   "execution_count": 64,
   "id": "0d432e7f-4c4c-40f6-8c61-669d2048c3cf",
   "metadata": {},
   "outputs": [],
   "source": [
    "wer = (I + D + S) / M"
   ]
  },
  {
   "cell_type": "code",
   "execution_count": 65,
   "id": "f70c8ea5-30fe-41bd-ae81-99ac1d47e945",
   "metadata": {},
   "outputs": [
    {
     "data": {
      "text/plain": [
       "10461"
      ]
     },
     "execution_count": 65,
     "metadata": {},
     "output_type": "execute_result"
    }
   ],
   "source": [
    "I + D + S"
   ]
  },
  {
   "cell_type": "code",
   "execution_count": 66,
   "id": "ebbd5d26-4615-4172-b8da-7b591c04d6b8",
   "metadata": {},
   "outputs": [
    {
     "data": {
      "text/plain": [
       "14900"
      ]
     },
     "execution_count": 66,
     "metadata": {},
     "output_type": "execute_result"
    }
   ],
   "source": [
    "M"
   ]
  },
  {
   "cell_type": "code",
   "execution_count": 67,
   "id": "07724266-0874-41d5-98f7-5a5263705748",
   "metadata": {},
   "outputs": [
    {
     "data": {
      "text/plain": [
       "(2910, 2124, 5427)"
      ]
     },
     "execution_count": 67,
     "metadata": {},
     "output_type": "execute_result"
    }
   ],
   "source": [
    "I, D, S"
   ]
  },
  {
   "cell_type": "code",
   "execution_count": 68,
   "id": "bd2d5791-bd93-4ed5-acc1-64aa5331c67f",
   "metadata": {},
   "outputs": [
    {
     "data": {
      "text/plain": [
       "0.7020805369127516"
      ]
     },
     "execution_count": 68,
     "metadata": {},
     "output_type": "execute_result"
    }
   ],
   "source": [
    "wer"
   ]
  },
  {
   "cell_type": "code",
   "execution_count": null,
   "id": "af72154b-5c1b-45dc-82cf-b74cdbef1c3d",
   "metadata": {},
   "outputs": [],
   "source": []
  },
  {
   "cell_type": "code",
   "execution_count": null,
   "id": "bbbea5f3-3be2-4283-90d5-1588d12a9ba9",
   "metadata": {},
   "outputs": [],
   "source": []
  },
  {
   "cell_type": "code",
   "execution_count": null,
   "id": "066f071e-635a-43d5-8053-83f246cf60d3",
   "metadata": {},
   "outputs": [],
   "source": []
  },
  {
   "cell_type": "code",
   "execution_count": null,
   "id": "9994cc60-d0c5-4dbf-84c4-c576d4cec53f",
   "metadata": {},
   "outputs": [],
   "source": []
  },
  {
   "cell_type": "code",
   "execution_count": null,
   "id": "ec2b8cbd-b482-41a1-87bd-cfedb5fb29a8",
   "metadata": {},
   "outputs": [],
   "source": []
  },
  {
   "cell_type": "code",
   "execution_count": null,
   "id": "172fc8f9-bcc4-4ec6-a4ff-7a929f05e23c",
   "metadata": {},
   "outputs": [],
   "source": []
  },
  {
   "cell_type": "code",
   "execution_count": null,
   "id": "29eb29f3-856d-48c3-bbbb-3b58e621b376",
   "metadata": {},
   "outputs": [],
   "source": []
  },
  {
   "cell_type": "code",
   "execution_count": null,
   "id": "6521757f-ac03-4722-844d-476d0931e4c8",
   "metadata": {},
   "outputs": [],
   "source": []
  },
  {
   "cell_type": "code",
   "execution_count": 79,
   "id": "111fc0d8-85bd-4679-9e04-603f5e188fa6",
   "metadata": {},
   "outputs": [],
   "source": [
    "import pandas as pd\n",
    "whisper_df_0703a_1M = pd.read_csv(r\".\\jupyter_walkthrough\\metrics\\whisper_df_0703a_1M_gt5.csv\")"
   ]
  },
  {
   "cell_type": "code",
   "execution_count": 80,
   "id": "dfe67f40-85a4-44e7-95aa-497407da343b",
   "metadata": {},
   "outputs": [
    {
     "data": {
      "text/plain": [
       "(2715, 3)"
      ]
     },
     "execution_count": 80,
     "metadata": {},
     "output_type": "execute_result"
    }
   ],
   "source": [
    "whisper_df_0703a_1M.shape"
   ]
  },
  {
   "cell_type": "code",
   "execution_count": 81,
   "id": "6d14030e-c1b7-4390-87a2-0892b406f4ff",
   "metadata": {
    "scrolled": true
   },
   "outputs": [
    {
     "data": {
      "text/plain": [
       "(2673, 3)"
      ]
     },
     "execution_count": 81,
     "metadata": {},
     "output_type": "execute_result"
    }
   ],
   "source": [
    "whisper_df_0703a_1M.dropna().shape"
   ]
  },
  {
   "cell_type": "code",
   "execution_count": 82,
   "id": "2b88e171-ec54-4514-94c3-2fd86f8efb75",
   "metadata": {},
   "outputs": [],
   "source": [
    "whisper_df_0703a_1M = whisper_df_0703a_1M.dropna()"
   ]
  },
  {
   "cell_type": "code",
   "execution_count": 83,
   "id": "cfe5b78f-ba03-47fe-8e89-4114065c76c8",
   "metadata": {},
   "outputs": [],
   "source": [
    "normalized_ref = werpy.normalize(\n",
    "    whisper_df_0703a_1M['gt_transcripts'].values.tolist(),\n",
    ")"
   ]
  },
  {
   "cell_type": "code",
   "execution_count": 84,
   "id": "a78f982e-a824-48bf-a2a2-539192a1ed63",
   "metadata": {},
   "outputs": [],
   "source": [
    "normalized_hypo = werpy.normalize(\n",
    "    whisper_df_0703a_1M['whisper_transcripts'].values.tolist(),\n",
    ")"
   ]
  },
  {
   "cell_type": "code",
   "execution_count": 85,
   "id": "6c680d2c-67b3-451f-a003-54bea045c6d1",
   "metadata": {},
   "outputs": [
    {
     "data": {
      "text/plain": [
       "'pretty shit to be honest'"
      ]
     },
     "execution_count": 85,
     "metadata": {},
     "output_type": "execute_result"
    }
   ],
   "source": [
    "normalized_ref[1]"
   ]
  },
  {
   "cell_type": "code",
   "execution_count": 86,
   "id": "32686e58-c81b-44cd-94a5-84fbfc1a03e5",
   "metadata": {},
   "outputs": [
    {
     "data": {
      "text/plain": [
       "'pretty shit to be honest'"
      ]
     },
     "execution_count": 86,
     "metadata": {},
     "output_type": "execute_result"
    }
   ],
   "source": [
    "normalized_hypo[1]"
   ]
  },
  {
   "cell_type": "code",
   "execution_count": 87,
   "id": "9489b847-5a64-4475-a605-24ff0fd69475",
   "metadata": {},
   "outputs": [
    {
     "name": "stdout",
     "output_type": "stream",
     "text": [
      "CPU times: total: 125 ms\n",
      "Wall time: 200 ms\n"
     ]
    }
   ],
   "source": [
    "%%time\n",
    "summary = werpy.summary(normalized_ref, normalized_hypo)\n",
    "# summary"
   ]
  },
  {
   "cell_type": "code",
   "execution_count": 88,
   "id": "5cb4b4cb-d13f-4c0c-a385-26805ff01d01",
   "metadata": {},
   "outputs": [],
   "source": [
    "I = summary['insertions'].sum()\n",
    "D = summary['deletions'].sum()\n",
    "S = summary['substitutions'].sum()\n",
    "M = summary['m'].sum()"
   ]
  },
  {
   "cell_type": "code",
   "execution_count": 89,
   "id": "9e56f0d6-0358-42b9-8735-53637f06d6e4",
   "metadata": {},
   "outputs": [],
   "source": [
    "summary.to_csv(r\".\\jupyter_walkthrough\\metrics\\0703a_1M_wer_summary_v5.csv\", index=False)"
   ]
  },
  {
   "cell_type": "code",
   "execution_count": null,
   "id": "7b58a291-08ab-4678-9048-2b7988dc8afd",
   "metadata": {},
   "outputs": [],
   "source": []
  },
  {
   "cell_type": "code",
   "execution_count": 1,
   "id": "4036480a-5773-4ef9-8a95-3ad0dbf73796",
   "metadata": {},
   "outputs": [
    {
     "name": "stdout",
     "output_type": "stream",
     "text": [
      "D:\\Schoolwork\\TERM 3\\WORK\\visual_prosody\n"
     ]
    }
   ],
   "source": [
    "import pandas as pd\n",
    "%cd \"D:\\Schoolwork\\TERM 3\\WORK\\visual_prosody\""
   ]
  },
  {
   "cell_type": "code",
   "execution_count": 2,
   "id": "8ef86891-9137-4d7d-a96b-2388e9704db1",
   "metadata": {},
   "outputs": [],
   "source": [
    "summary = pd.read_csv(r\".\\jupyter_walkthrough\\metrics\\0703a_1M_wer_summary_v5.csv\")"
   ]
  },
  {
   "cell_type": "code",
   "execution_count": 4,
   "id": "1d7e108e-4f99-4b97-bca0-0f5466eb5539",
   "metadata": {},
   "outputs": [],
   "source": [
    "I = summary['insertions'].sum()\n",
    "D = summary['deletions'].sum()\n",
    "S = summary['substitutions'].sum()\n",
    "M = summary['m'].sum()"
   ]
  },
  {
   "cell_type": "code",
   "execution_count": 5,
   "id": "b753f83c-699e-47b9-9b1f-f216b87634fc",
   "metadata": {},
   "outputs": [],
   "source": [
    "wer = (I + D + S) / M"
   ]
  },
  {
   "cell_type": "code",
   "execution_count": 6,
   "id": "61a03385-ca38-47cc-8366-b195ca4f8182",
   "metadata": {},
   "outputs": [
    {
     "data": {
      "text/plain": [
       "10139"
      ]
     },
     "execution_count": 6,
     "metadata": {},
     "output_type": "execute_result"
    }
   ],
   "source": [
    "I + D + S"
   ]
  },
  {
   "cell_type": "code",
   "execution_count": 7,
   "id": "ec08b001-1eb4-45a4-9334-c42b78082482",
   "metadata": {},
   "outputs": [
    {
     "data": {
      "text/plain": [
       "14780"
      ]
     },
     "execution_count": 7,
     "metadata": {},
     "output_type": "execute_result"
    }
   ],
   "source": [
    "M"
   ]
  },
  {
   "cell_type": "code",
   "execution_count": 8,
   "id": "1a4e1d4a-79b4-4227-8909-b0f4d5b81a79",
   "metadata": {},
   "outputs": [
    {
     "data": {
      "text/plain": [
       "(3044, 2070, 5025, 14780)"
      ]
     },
     "execution_count": 8,
     "metadata": {},
     "output_type": "execute_result"
    }
   ],
   "source": [
    "I, D, S, M"
   ]
  },
  {
   "cell_type": "code",
   "execution_count": 9,
   "id": "cf80cead-8853-4d3f-a1fa-6ff07e5ef268",
   "metadata": {},
   "outputs": [
    {
     "data": {
      "text/plain": [
       "(0.20595399188092017, 0.14005412719891747, 0.3399864682002706)"
      ]
     },
     "execution_count": 9,
     "metadata": {},
     "output_type": "execute_result"
    }
   ],
   "source": [
    "I/M, D/M, S/M"
   ]
  },
  {
   "cell_type": "code",
   "execution_count": 10,
   "id": "1017f250-7e27-48ce-a19c-d8f93a70d968",
   "metadata": {},
   "outputs": [
    {
     "data": {
      "text/plain": [
       "0.6859945872801082"
      ]
     },
     "execution_count": 10,
     "metadata": {},
     "output_type": "execute_result"
    }
   ],
   "source": [
    "wer"
   ]
  },
  {
   "cell_type": "code",
   "execution_count": null,
   "id": "7059dba3-141a-4d57-bd99-4e8dc747778e",
   "metadata": {},
   "outputs": [],
   "source": []
  }
 ],
 "metadata": {
  "kernelspec": {
   "display_name": "Python 3 (ipykernel)",
   "language": "python",
   "name": "python3"
  },
  "language_info": {
   "codemirror_mode": {
    "name": "ipython",
    "version": 3
   },
   "file_extension": ".py",
   "mimetype": "text/x-python",
   "name": "python",
   "nbconvert_exporter": "python",
   "pygments_lexer": "ipython3",
   "version": "3.11.3"
  }
 },
 "nbformat": 4,
 "nbformat_minor": 5
}
