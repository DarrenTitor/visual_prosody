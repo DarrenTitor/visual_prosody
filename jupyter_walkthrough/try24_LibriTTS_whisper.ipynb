{
 "cells": [
  {
   "cell_type": "code",
   "execution_count": 2,
   "id": "f740af70-67b1-476e-8c76-2a576313e1d1",
   "metadata": {},
   "outputs": [],
   "source": [
    "from werpy_weighted import werpy\n",
    "import whisper\n",
    "from whisper.tokenizer import get_tokenizer"
   ]
  },
  {
   "cell_type": "code",
   "execution_count": 3,
   "id": "1b8dd1c8-8fb7-43ab-bc5a-b43a15257da7",
   "metadata": {},
   "outputs": [
    {
     "name": "stdout",
     "output_type": "stream",
     "text": [
      "D:\\Schoolwork\\TERM 3\\WORK\\visual_prosody\n"
     ]
    }
   ],
   "source": [
    "%cd \"D:\\Schoolwork\\TERM 3\\WORK\\visual_prosody\""
   ]
  },
  {
   "cell_type": "code",
   "execution_count": 4,
   "id": "54d6dece-1292-4cc7-82a7-6013199c6e75",
   "metadata": {},
   "outputs": [],
   "source": [
    "import os, sys, glob, shutil\n",
    "import argparse\n",
    "import json\n",
    "import yaml\n",
    "import numpy as np\n",
    "from pprint import pprint\n",
    "import logging\n",
    "import os\n",
    "import os.path as op\n",
    "\n",
    "import torch\n",
    "import torch.nn.functional as F\n",
    "import numpy as np\n",
    "import torchaudio\n",
    "import pandas as pd\n",
    "from tqdm.notebook import tqdm"
   ]
  },
  {
   "cell_type": "code",
   "execution_count": 7,
   "id": "3c228ca1-bd21-4caa-8b21-49f6af220ece",
   "metadata": {},
   "outputs": [],
   "source": [
    "tokenizer = get_tokenizer(multilingual=False)  # use multilingual=True if using multilingual model\n",
    "number_tokens = [\n",
    "    i \n",
    "    for i in range(tokenizer.eot)\n",
    "    if all(c in \"0123456789\" for c in tokenizer.decode([i]).removeprefix(\" \"))\n",
    "]"
   ]
  },
  {
   "cell_type": "code",
   "execution_count": 8,
   "id": "f4896f63-bc0d-4738-9e57-4f09c4d3864b",
   "metadata": {},
   "outputs": [],
   "source": [
    "device = torch.device(\"cuda\" if torch.cuda.is_available() else \"cpu\")\n",
    "\n",
    "whisper_model = whisper.load_model('base.en').to(device)"
   ]
  },
  {
   "cell_type": "code",
   "execution_count": 9,
   "id": "78c3cc70-d1cc-41b6-a61e-038245e0072a",
   "metadata": {},
   "outputs": [],
   "source": [
    "split_txt_val_path = r'.\\preprocessed_data\\LibriTTS\\val_ming.txt'\n",
    "val_uids = []\n",
    "gt_transcripts_dict = {}\n",
    "with open(split_txt_val_path) as file:\n",
    "    for line in file:\n",
    "        # print(line.split('|')[0])\n",
    "        val_uids.append(line.split('|')[0])\n",
    "        gt_transcripts_dict[line.split('|')[0]] = line.split('|')[-1]"
   ]
  },
  {
   "cell_type": "code",
   "execution_count": 10,
   "id": "c5cbab3f-9a52-4163-a5b6-2f8a382e1892",
   "metadata": {},
   "outputs": [],
   "source": [
    "syn_folder = r'.\\output\\0714lb\\result\\LibriTTS\\wav\\synthesized'"
   ]
  },
  {
   "cell_type": "code",
   "execution_count": 35,
   "id": "d83ba75a-c464-4309-a10f-6c12b55e83cd",
   "metadata": {},
   "outputs": [
    {
     "data": {
      "application/vnd.jupyter.widget-view+json": {
       "model_id": "2f76c61731e643c58eb06b369d2a3a19",
       "version_major": 2,
       "version_minor": 0
      },
      "text/plain": [
       "  0%|          | 0/512 [00:00<?, ?it/s]"
      ]
     },
     "metadata": {},
     "output_type": "display_data"
    },
    {
     "name": "stdout",
     "output_type": "stream",
     "text": [
      "CPU times: total: 11min 40s\n",
      "Wall time: 4min 43s\n"
     ]
    }
   ],
   "source": [
    "%%time\n",
    "uids = []\n",
    "whisper_transcripts = []\n",
    "gt_transcripts = []\n",
    "\n",
    "for uid in tqdm(val_uids):\n",
    "    uids.append(uid)\n",
    "    output = whisper_model.transcribe(\n",
    "            op.join(syn_folder, f\"{uid}.wav\"),\n",
    "            suppress_tokens=[-1] + number_tokens,\n",
    "    )\n",
    "    whisper_transcript = output[\"text\"]\n",
    "    gt_transcript = gt_transcripts_dict[uid]\n",
    "\n",
    "    whisper_transcripts.append(whisper_transcript)\n",
    "    gt_transcripts.append(gt_transcript)\n"
   ]
  },
  {
   "cell_type": "code",
   "execution_count": 36,
   "id": "0bb3a4b6-4fea-41ee-be45-5080f6a8545b",
   "metadata": {},
   "outputs": [],
   "source": [
    "whisper_df_0703a_1M8 = pd.DataFrame({\n",
    "    'uid': uids,\n",
    "    'whisper_transcripts': whisper_transcripts,\n",
    "    'gt_transcripts': gt_transcripts,\n",
    "})"
   ]
  },
  {
   "cell_type": "code",
   "execution_count": 37,
   "id": "2888218e-431b-4f34-be9b-0537a43a03dc",
   "metadata": {},
   "outputs": [
    {
     "data": {
      "text/html": [
       "<div>\n",
       "<style scoped>\n",
       "    .dataframe tbody tr th:only-of-type {\n",
       "        vertical-align: middle;\n",
       "    }\n",
       "\n",
       "    .dataframe tbody tr th {\n",
       "        vertical-align: top;\n",
       "    }\n",
       "\n",
       "    .dataframe thead th {\n",
       "        text-align: right;\n",
       "    }\n",
       "</style>\n",
       "<table border=\"1\" class=\"dataframe\">\n",
       "  <thead>\n",
       "    <tr style=\"text-align: right;\">\n",
       "      <th></th>\n",
       "      <th>uid</th>\n",
       "      <th>whisper_transcripts</th>\n",
       "      <th>gt_transcripts</th>\n",
       "    </tr>\n",
       "  </thead>\n",
       "  <tbody>\n",
       "    <tr>\n",
       "      <th>0</th>\n",
       "      <td>5400_3587_000037_000001</td>\n",
       "      <td>Even the cunning blandishments of a very attr...</td>\n",
       "      <td>even the cunning blandishments of a very attra...</td>\n",
       "    </tr>\n",
       "    <tr>\n",
       "      <th>1</th>\n",
       "      <td>8772_270777_000011_000003</td>\n",
       "      <td>The child had tried again and again to see it...</td>\n",
       "      <td>the child had tried again and again to see it ...</td>\n",
       "    </tr>\n",
       "    <tr>\n",
       "      <th>2</th>\n",
       "      <td>596_139612_000023_000003</td>\n",
       "      <td>Now, please, give me the ashes of the mortar ...</td>\n",
       "      <td>now please give me the ashes of the mortar, as...</td>\n",
       "    </tr>\n",
       "    <tr>\n",
       "      <th>3</th>\n",
       "      <td>4899_32639_000029_000000</td>\n",
       "      <td>Oh, your seat has changed, said she.</td>\n",
       "      <td>oh, your seat is changed,\" said she.\\n</td>\n",
       "    </tr>\n",
       "    <tr>\n",
       "      <th>4</th>\n",
       "      <td>5304_109507_000023_000000</td>\n",
       "      <td>It's three minutes of twelve, he said.</td>\n",
       "      <td>\"it's three minutes of twelve,\" he said.\\n</td>\n",
       "    </tr>\n",
       "  </tbody>\n",
       "</table>\n",
       "</div>"
      ],
      "text/plain": [
       "                         uid   \n",
       "0    5400_3587_000037_000001  \\\n",
       "1  8772_270777_000011_000003   \n",
       "2   596_139612_000023_000003   \n",
       "3   4899_32639_000029_000000   \n",
       "4  5304_109507_000023_000000   \n",
       "\n",
       "                                 whisper_transcripts   \n",
       "0   Even the cunning blandishments of a very attr...  \\\n",
       "1   The child had tried again and again to see it...   \n",
       "2   Now, please, give me the ashes of the mortar ...   \n",
       "3               Oh, your seat has changed, said she.   \n",
       "4             It's three minutes of twelve, he said.   \n",
       "\n",
       "                                      gt_transcripts  \n",
       "0  even the cunning blandishments of a very attra...  \n",
       "1  the child had tried again and again to see it ...  \n",
       "2  now please give me the ashes of the mortar, as...  \n",
       "3             oh, your seat is changed,\" said she.\\n  \n",
       "4         \"it's three minutes of twelve,\" he said.\\n  "
      ]
     },
     "execution_count": 37,
     "metadata": {},
     "output_type": "execute_result"
    }
   ],
   "source": [
    "whisper_df_0703a_1M8.head()"
   ]
  },
  {
   "cell_type": "code",
   "execution_count": 38,
   "id": "bb408197-fa87-4fdc-abec-268919f7cbb0",
   "metadata": {},
   "outputs": [],
   "source": [
    "whisper_df_0703a_1M8.to_csv(r\".\\jupyter_walkthrough\\metrics\\whisper_df_0703a_1M8_syn.csv\", index=False)"
   ]
  },
  {
   "cell_type": "code",
   "execution_count": null,
   "id": "e1307abe-462f-4131-a005-132bf7d0e288",
   "metadata": {},
   "outputs": [],
   "source": []
  },
  {
   "cell_type": "code",
   "execution_count": 39,
   "id": "b5cd0632-e8c7-417b-ac2e-d5acdf247b9c",
   "metadata": {},
   "outputs": [],
   "source": [
    "whisper_df_0703a_1M8 = pd.read_csv(r\".\\jupyter_walkthrough\\metrics\\whisper_df_0703a_1M8_syn.csv\")"
   ]
  },
  {
   "cell_type": "code",
   "execution_count": 40,
   "id": "db952574-9a28-4af0-acdf-6b8e380a2fa4",
   "metadata": {},
   "outputs": [],
   "source": [
    "normalized_ref = werpy.normalize(\n",
    "    whisper_df_0703a_1M8['gt_transcripts'].values.tolist(),\n",
    ")\n",
    "normalized_hypo = werpy.normalize(\n",
    "    whisper_df_0703a_1M8['whisper_transcripts'].values.tolist(),\n",
    ")"
   ]
  },
  {
   "cell_type": "code",
   "execution_count": 41,
   "id": "0d5c9cad-6522-4db0-bf2c-8e4581b0617c",
   "metadata": {},
   "outputs": [
    {
     "data": {
      "text/plain": [
       "'even the cunning blandishments of a very attractive monkey that always had entertained the children on their numerous visits failed to interest her now mamsie would be worrying she knew and besides the sight of so many birds eating their suppers out of generously full seed cups only filled her heart with remorse as she thought of poor cherry and his empty one'"
      ]
     },
     "execution_count": 41,
     "metadata": {},
     "output_type": "execute_result"
    }
   ],
   "source": [
    "normalized_ref[0]"
   ]
  },
  {
   "cell_type": "code",
   "execution_count": 42,
   "id": "4284d14a-1704-428e-beb2-ced305082f7f",
   "metadata": {},
   "outputs": [
    {
     "data": {
      "text/plain": [
       "'even the cunning blandishments of a very attractive monkey that always had entertained the children on their numerous visits failed to interest her now mamsey would be worrying she knew and besides the sight of so many birds eating their suppers out of generously full seatcaps only filled her heart with the remorse as she thought it poor cherry and his empty one'"
      ]
     },
     "execution_count": 42,
     "metadata": {},
     "output_type": "execute_result"
    }
   ],
   "source": [
    "normalized_hypo[0]"
   ]
  },
  {
   "cell_type": "code",
   "execution_count": 43,
   "id": "96166eaf-8eab-4b6a-87d4-0ec2116af23c",
   "metadata": {},
   "outputs": [
    {
     "name": "stdout",
     "output_type": "stream",
     "text": [
      "CPU times: total: 188 ms\n",
      "Wall time: 209 ms\n"
     ]
    },
    {
     "data": {
      "text/html": [
       "<div>\n",
       "<style scoped>\n",
       "    .dataframe tbody tr th:only-of-type {\n",
       "        vertical-align: middle;\n",
       "    }\n",
       "\n",
       "    .dataframe tbody tr th {\n",
       "        vertical-align: top;\n",
       "    }\n",
       "\n",
       "    .dataframe thead th {\n",
       "        text-align: right;\n",
       "    }\n",
       "</style>\n",
       "<table border=\"1\" class=\"dataframe\">\n",
       "  <thead>\n",
       "    <tr style=\"text-align: right;\">\n",
       "      <th></th>\n",
       "      <th>wer</th>\n",
       "      <th>ld</th>\n",
       "      <th>m</th>\n",
       "      <th>insertions</th>\n",
       "      <th>deletions</th>\n",
       "      <th>substitutions</th>\n",
       "      <th>inserted_words</th>\n",
       "      <th>deleted_words</th>\n",
       "      <th>substituted_words</th>\n",
       "    </tr>\n",
       "  </thead>\n",
       "  <tbody>\n",
       "    <tr>\n",
       "      <th>0</th>\n",
       "      <td>0.285714</td>\n",
       "      <td>18</td>\n",
       "      <td>63</td>\n",
       "      <td>1</td>\n",
       "      <td>1</td>\n",
       "      <td>3</td>\n",
       "      <td>[the]</td>\n",
       "      <td>[seed]</td>\n",
       "      <td>[(mamsie, mamsey), (cups, seatcaps), (of, it)]</td>\n",
       "    </tr>\n",
       "    <tr>\n",
       "      <th>1</th>\n",
       "      <td>0.000000</td>\n",
       "      <td>0</td>\n",
       "      <td>19</td>\n",
       "      <td>0</td>\n",
       "      <td>0</td>\n",
       "      <td>0</td>\n",
       "      <td>[]</td>\n",
       "      <td>[]</td>\n",
       "      <td>[]</td>\n",
       "    </tr>\n",
       "    <tr>\n",
       "      <th>2</th>\n",
       "      <td>0.000000</td>\n",
       "      <td>0</td>\n",
       "      <td>20</td>\n",
       "      <td>0</td>\n",
       "      <td>0</td>\n",
       "      <td>0</td>\n",
       "      <td>[]</td>\n",
       "      <td>[]</td>\n",
       "      <td>[]</td>\n",
       "    </tr>\n",
       "    <tr>\n",
       "      <th>3</th>\n",
       "      <td>0.571429</td>\n",
       "      <td>4</td>\n",
       "      <td>7</td>\n",
       "      <td>0</td>\n",
       "      <td>0</td>\n",
       "      <td>1</td>\n",
       "      <td>[]</td>\n",
       "      <td>[]</td>\n",
       "      <td>[(is, has)]</td>\n",
       "    </tr>\n",
       "    <tr>\n",
       "      <th>4</th>\n",
       "      <td>0.000000</td>\n",
       "      <td>0</td>\n",
       "      <td>7</td>\n",
       "      <td>0</td>\n",
       "      <td>0</td>\n",
       "      <td>0</td>\n",
       "      <td>[]</td>\n",
       "      <td>[]</td>\n",
       "      <td>[]</td>\n",
       "    </tr>\n",
       "    <tr>\n",
       "      <th>...</th>\n",
       "      <td>...</td>\n",
       "      <td>...</td>\n",
       "      <td>...</td>\n",
       "      <td>...</td>\n",
       "      <td>...</td>\n",
       "      <td>...</td>\n",
       "      <td>...</td>\n",
       "      <td>...</td>\n",
       "      <td>...</td>\n",
       "    </tr>\n",
       "    <tr>\n",
       "      <th>507</th>\n",
       "      <td>0.000000</td>\n",
       "      <td>0</td>\n",
       "      <td>7</td>\n",
       "      <td>0</td>\n",
       "      <td>0</td>\n",
       "      <td>0</td>\n",
       "      <td>[]</td>\n",
       "      <td>[]</td>\n",
       "      <td>[]</td>\n",
       "    </tr>\n",
       "    <tr>\n",
       "      <th>508</th>\n",
       "      <td>0.875000</td>\n",
       "      <td>7</td>\n",
       "      <td>8</td>\n",
       "      <td>1</td>\n",
       "      <td>0</td>\n",
       "      <td>1</td>\n",
       "      <td>[taylor]</td>\n",
       "      <td>[]</td>\n",
       "      <td>[(taylori, i)]</td>\n",
       "    </tr>\n",
       "    <tr>\n",
       "      <th>509</th>\n",
       "      <td>0.000000</td>\n",
       "      <td>0</td>\n",
       "      <td>24</td>\n",
       "      <td>0</td>\n",
       "      <td>0</td>\n",
       "      <td>0</td>\n",
       "      <td>[]</td>\n",
       "      <td>[]</td>\n",
       "      <td>[]</td>\n",
       "    </tr>\n",
       "    <tr>\n",
       "      <th>510</th>\n",
       "      <td>0.000000</td>\n",
       "      <td>0</td>\n",
       "      <td>4</td>\n",
       "      <td>0</td>\n",
       "      <td>0</td>\n",
       "      <td>0</td>\n",
       "      <td>[]</td>\n",
       "      <td>[]</td>\n",
       "      <td>[]</td>\n",
       "    </tr>\n",
       "    <tr>\n",
       "      <th>511</th>\n",
       "      <td>0.000000</td>\n",
       "      <td>0</td>\n",
       "      <td>14</td>\n",
       "      <td>0</td>\n",
       "      <td>0</td>\n",
       "      <td>0</td>\n",
       "      <td>[]</td>\n",
       "      <td>[]</td>\n",
       "      <td>[]</td>\n",
       "    </tr>\n",
       "  </tbody>\n",
       "</table>\n",
       "<p>512 rows × 9 columns</p>\n",
       "</div>"
      ],
      "text/plain": [
       "          wer  ld   m  insertions  deletions  substitutions inserted_words   \n",
       "0    0.285714  18  63           1          1              3          [the]  \\\n",
       "1    0.000000   0  19           0          0              0             []   \n",
       "2    0.000000   0  20           0          0              0             []   \n",
       "3    0.571429   4   7           0          0              1             []   \n",
       "4    0.000000   0   7           0          0              0             []   \n",
       "..        ...  ..  ..         ...        ...            ...            ...   \n",
       "507  0.000000   0   7           0          0              0             []   \n",
       "508  0.875000   7   8           1          0              1       [taylor]   \n",
       "509  0.000000   0  24           0          0              0             []   \n",
       "510  0.000000   0   4           0          0              0             []   \n",
       "511  0.000000   0  14           0          0              0             []   \n",
       "\n",
       "    deleted_words                               substituted_words  \n",
       "0          [seed]  [(mamsie, mamsey), (cups, seatcaps), (of, it)]  \n",
       "1              []                                              []  \n",
       "2              []                                              []  \n",
       "3              []                                     [(is, has)]  \n",
       "4              []                                              []  \n",
       "..            ...                                             ...  \n",
       "507            []                                              []  \n",
       "508            []                                  [(taylori, i)]  \n",
       "509            []                                              []  \n",
       "510            []                                              []  \n",
       "511            []                                              []  \n",
       "\n",
       "[512 rows x 9 columns]"
      ]
     },
     "execution_count": 43,
     "metadata": {},
     "output_type": "execute_result"
    }
   ],
   "source": [
    "%%time\n",
    "summary = werpy.summary(normalized_ref, normalized_hypo)\n",
    "summary"
   ]
  },
  {
   "cell_type": "code",
   "execution_count": 44,
   "id": "42d286e3-0070-42e0-a922-90e74951215b",
   "metadata": {},
   "outputs": [],
   "source": [
    "I = summary['insertions'].sum()\n",
    "D = summary['deletions'].sum()\n",
    "S = summary['substitutions'].sum()\n",
    "M = summary['m'].sum()"
   ]
  },
  {
   "cell_type": "code",
   "execution_count": 45,
   "id": "4ca4ccdf-e136-46fa-8a53-26337756feae",
   "metadata": {},
   "outputs": [],
   "source": [
    "summary.to_csv(r\".\\jupyter_walkthrough\\metrics\\0703a_1M8_wer_summary.csv\", index=False)"
   ]
  },
  {
   "cell_type": "code",
   "execution_count": 46,
   "id": "9e765d54-b8ff-45a1-b822-ff13fe365618",
   "metadata": {},
   "outputs": [],
   "source": [
    "wer = (I + D + S) / M"
   ]
  },
  {
   "cell_type": "code",
   "execution_count": 47,
   "id": "c55cc9a0-e7e5-4cb8-ba30-430de3b78afe",
   "metadata": {},
   "outputs": [
    {
     "data": {
      "text/plain": [
       "0.06090036563071298"
      ]
     },
     "execution_count": 47,
     "metadata": {},
     "output_type": "execute_result"
    }
   ],
   "source": [
    "wer"
   ]
  },
  {
   "cell_type": "code",
   "execution_count": 48,
   "id": "c280ebfd-6f79-49c4-b274-9345272b6cfd",
   "metadata": {},
   "outputs": [
    {
     "data": {
      "text/plain": [
       "533"
      ]
     },
     "execution_count": 48,
     "metadata": {},
     "output_type": "execute_result"
    }
   ],
   "source": [
    "I + D + S"
   ]
  },
  {
   "cell_type": "code",
   "execution_count": 49,
   "id": "052c3179-8c7e-49ab-8701-590a28e39cda",
   "metadata": {},
   "outputs": [
    {
     "data": {
      "text/plain": [
       "8752"
      ]
     },
     "execution_count": 49,
     "metadata": {},
     "output_type": "execute_result"
    }
   ],
   "source": [
    "M"
   ]
  },
  {
   "cell_type": "code",
   "execution_count": 52,
   "id": "e9b648ea-6ba2-47c9-81a9-7cee7b7f8670",
   "metadata": {},
   "outputs": [
    {
     "data": {
      "text/plain": [
       "(70, 137, 326, 8752)"
      ]
     },
     "execution_count": 52,
     "metadata": {},
     "output_type": "execute_result"
    }
   ],
   "source": [
    "I, D, S, M"
   ]
  },
  {
   "cell_type": "code",
   "execution_count": 51,
   "id": "45945ad1-2024-4776-9076-5ce8dbeb74cc",
   "metadata": {},
   "outputs": [
    {
     "data": {
      "text/plain": [
       "(0.007998171846435101, 0.015653564899451553, 0.03724862888482632)"
      ]
     },
     "execution_count": 51,
     "metadata": {},
     "output_type": "execute_result"
    }
   ],
   "source": [
    "I/M, D/M, S/M"
   ]
  },
  {
   "cell_type": "code",
   "execution_count": null,
   "id": "2341b2ad-4309-41d4-8727-3881fc07bf23",
   "metadata": {},
   "outputs": [],
   "source": []
  }
 ],
 "metadata": {
  "kernelspec": {
   "display_name": "Python 3 (ipykernel)",
   "language": "python",
   "name": "python3"
  },
  "language_info": {
   "codemirror_mode": {
    "name": "ipython",
    "version": 3
   },
   "file_extension": ".py",
   "mimetype": "text/x-python",
   "name": "python",
   "nbconvert_exporter": "python",
   "pygments_lexer": "ipython3",
   "version": "3.11.3"
  }
 },
 "nbformat": 4,
 "nbformat_minor": 5
}
